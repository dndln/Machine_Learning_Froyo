{
 "cells": [
  {
   "cell_type": "code",
   "execution_count": 20,
   "metadata": {
    "collapsed": false
   },
   "outputs": [
    {
     "name": "stdout",
     "output_type": "stream",
     "text": [
      "Populating the interactive namespace from numpy and matplotlib\n"
     ]
    },
    {
     "name": "stderr",
     "output_type": "stream",
     "text": [
      "WARNING: pylab import has clobbered these variables: ['f']\n",
      "`%matplotlib` prevents importing * from pylab and numpy\n"
     ]
    },
    {
     "data": {
      "text/plain": [
       "u'0.17.1'"
      ]
     },
     "execution_count": 20,
     "metadata": {},
     "output_type": "execute_result"
    }
   ],
   "source": [
    "%pylab inline\n",
    "import pandas as pd\n",
    "\n",
    "from os import listdir\n",
    "from os.path import isfile, join\n",
    "\n",
    "pd.__version__"
   ]
  },
  {
   "cell_type": "code",
   "execution_count": 21,
   "metadata": {
    "collapsed": false
   },
   "outputs": [],
   "source": [
    "mypath = 'IRI/Parsed stub files 2008-2011'\n",
    "onlyfiles = [f for f in listdir(mypath) if isfile(join(mypath, f))]"
   ]
  },
  {
   "cell_type": "code",
   "execution_count": 22,
   "metadata": {
    "collapsed": false
   },
   "outputs": [
    {
     "data": {
      "text/plain": [
       "['.DS_Store',\n",
       " 'prod11_beer.xlsx',\n",
       " 'prod11_blades.xlsx',\n",
       " 'prod11_carbbev.xlsx',\n",
       " 'prod11_cigets.xlsx',\n",
       " 'prod11_coffee.xlsx',\n",
       " 'prod11_coldcer.xlsx',\n",
       " 'prod11_deod.xlsx',\n",
       " 'prod11_diaper.xlsx',\n",
       " 'prod11_factiss.xlsx',\n",
       " 'prod11_fzdinent.xlsx',\n",
       " 'prod11_fzpizza.xlsx',\n",
       " 'prod11_hhclean.xlsx',\n",
       " 'prod11_hotdog.xlsx',\n",
       " 'prod11_laundet.xlsx',\n",
       " 'prod11_margbutr.xlsx',\n",
       " 'prod11_mayo.xlsx',\n",
       " 'prod11_milk.xlsx',\n",
       " 'prod11_mustketc.xlsx',\n",
       " 'prod11_paprtowls.xlsx',\n",
       " 'prod11_peanbutr.xlsx',\n",
       " 'prod11_photo.xlsx',\n",
       " 'prod11_razors.xlsx',\n",
       " 'prod11_saltsnck.xlsx',\n",
       " 'prod11_shamp.xlsx',\n",
       " 'prod11_soup.xlsx',\n",
       " 'prod11_spagsauc.xlsx',\n",
       " 'prod11_sugarsub.xlsx',\n",
       " 'prod11_toitisu.xlsx',\n",
       " 'prod11_toothbr.xlsx',\n",
       " 'prod11_toothpa.xlsx',\n",
       " 'prod11_yogurt.xlsx']"
      ]
     },
     "execution_count": 22,
     "metadata": {},
     "output_type": "execute_result"
    }
   ],
   "source": [
    "onlyfiles"
   ]
  },
  {
   "cell_type": "code",
   "execution_count": 23,
   "metadata": {
    "collapsed": false
   },
   "outputs": [
    {
     "data": {
      "text/plain": [
       "['prod11_beer.xlsx',\n",
       " 'prod11_blades.xlsx',\n",
       " 'prod11_carbbev.xlsx',\n",
       " 'prod11_cigets.xlsx',\n",
       " 'prod11_coffee.xlsx',\n",
       " 'prod11_coldcer.xlsx',\n",
       " 'prod11_deod.xlsx',\n",
       " 'prod11_diaper.xlsx',\n",
       " 'prod11_factiss.xlsx',\n",
       " 'prod11_fzdinent.xlsx',\n",
       " 'prod11_fzpizza.xlsx',\n",
       " 'prod11_hhclean.xlsx',\n",
       " 'prod11_hotdog.xlsx',\n",
       " 'prod11_laundet.xlsx',\n",
       " 'prod11_margbutr.xlsx',\n",
       " 'prod11_mayo.xlsx',\n",
       " 'prod11_milk.xlsx',\n",
       " 'prod11_mustketc.xlsx',\n",
       " 'prod11_paprtowls.xlsx',\n",
       " 'prod11_peanbutr.xlsx',\n",
       " 'prod11_photo.xlsx',\n",
       " 'prod11_razors.xlsx',\n",
       " 'prod11_saltsnck.xlsx',\n",
       " 'prod11_shamp.xlsx',\n",
       " 'prod11_soup.xlsx',\n",
       " 'prod11_spagsauc.xlsx',\n",
       " 'prod11_sugarsub.xlsx',\n",
       " 'prod11_toitisu.xlsx',\n",
       " 'prod11_toothbr.xlsx',\n",
       " 'prod11_toothpa.xlsx',\n",
       " 'prod11_yogurt.xlsx']"
      ]
     },
     "execution_count": 23,
     "metadata": {},
     "output_type": "execute_result"
    }
   ],
   "source": [
    "filteredfiles = [x for x in onlyfiles if 'xlsx' in x]\n",
    "filteredfiles"
   ]
  },
  {
   "cell_type": "code",
   "execution_count": 24,
   "metadata": {
    "collapsed": false,
    "scrolled": true
   },
   "outputs": [
    {
     "name": "stdout",
     "output_type": "stream",
     "text": [
      "prod11_beer.xlsx\n",
      "prod11_blades.xlsx\n",
      "prod11_carbbev.xlsx\n",
      "prod11_cigets.xlsx\n",
      "prod11_coffee.xlsx\n",
      "prod11_coldcer.xlsx\n",
      "prod11_deod.xlsx\n",
      "prod11_diaper.xlsx\n",
      "prod11_factiss.xlsx\n",
      "prod11_fzdinent.xlsx\n",
      "prod11_fzpizza.xlsx\n",
      "prod11_hhclean.xlsx\n",
      "prod11_hotdog.xlsx\n",
      "prod11_laundet.xlsx\n",
      "prod11_margbutr.xlsx\n",
      "prod11_mayo.xlsx\n",
      "prod11_milk.xlsx\n",
      "prod11_mustketc.xlsx\n",
      "prod11_paprtowls.xlsx\n",
      "prod11_peanbutr.xlsx\n",
      "prod11_photo.xlsx\n",
      "prod11_razors.xlsx\n",
      "prod11_saltsnck.xlsx\n",
      "prod11_shamp.xlsx\n",
      "prod11_soup.xlsx\n",
      "prod11_spagsauc.xlsx\n",
      "prod11_sugarsub.xlsx\n",
      "prod11_toitisu.xlsx\n",
      "prod11_toothbr.xlsx\n",
      "prod11_toothpa.xlsx\n",
      "prod11_yogurt.xlsx\n",
      "31\n"
     ]
    }
   ],
   "source": [
    "\n",
    "# create dataframe for each file and store in a list\n",
    "products = list()\n",
    "for f in filteredfiles:\n",
    "    print f\n",
    "    products.append(pd.read_excel(mypath + '/' + f))\n",
    "    # add column for filename\n",
    "    products[-1]['filename'] = f\n",
    "#     break\n",
    "    \n",
    "print len(products)"
   ]
  },
  {
   "cell_type": "code",
   "execution_count": 25,
   "metadata": {
    "collapsed": false
   },
   "outputs": [
    {
     "data": {
      "text/plain": [
       "{22}"
      ]
     },
     "execution_count": 25,
     "metadata": {},
     "output_type": "execute_result"
    }
   ],
   "source": [
    "set(len(h.columns.tolist()) for h in products)"
   ]
  },
  {
   "cell_type": "markdown",
   "metadata": {},
   "source": [
    "All files have the same number of columns."
   ]
  },
  {
   "cell_type": "code",
   "execution_count": 26,
   "metadata": {
    "collapsed": false
   },
   "outputs": [
    {
     "data": {
      "text/plain": [
       "{\"[u'L1', u'L2', u'L3', u'L4', u'L5', u'L9', u'Level', u'UPC', u'SY', u'GE', u'VEND', u'ITEM', u'*AG C=1+ CATEGORY                                                        00004  ', u'VOL_EQ', u'PACKAGE', u'FAT CONTENT', u'FLAVOR/SCENT', u'ORGANIC INFO', u'PROCESS', u'TYPE OF MILK', u'ADDITIVES', 'filename']\",\n",
       " \"[u'L1', u'L2', u'L3', u'L4', u'L5', u'L9', u'Level', u'UPC', u'SY', u'GE', u'VEND', u'ITEM', u'*AG C=1+ CATEGORY                                                        00004  ', u'VOL_EQ', u'PACKAGE', u'PRODUCT TYPE', u'COLOR', u'FORM', u'PROCESS', u'TYPE OF SUGAR', u'CONCENTRATION LEVEL', 'filename']\",\n",
       " \"[u'L1', u'L2', u'L3', u'L4', u'L5', u'L9', u'Level', u'UPC', u'SY', u'GE', u'VEND', u'ITEM', u'*AG C=1+ CATEGORY                                                        00004  ', u'VOL_EQ', u'PRODUCT TYPE', u'COLOR', u'SIZE', u'ADDITIVES', u'NUMBER OF PLY', u'PACKAGE', u'NUMBER OF SHEETS', 'filename']\",\n",
       " \"[u'L1', u'L2', u'L3', u'L4', u'L5', u'L9', u'Level', u'UPC', u'SY', u'GE', u'VEND', u'ITEM', u'*AG C=1+ CATEGORY                                                        00004  ', u'VOL_EQ', u'PRODUCT TYPE', u'COLOR', u'SIZE', u'ADDITIVES', u'NUMBER OF PLY', u'TYPE OF DISPENSER', u'PACKAGE', 'filename']\",\n",
       " \"[u'L1', u'L2', u'L3', u'L4', u'L5', u'L9', u'Level', u'UPC', u'SY', u'GE', u'VEND', u'ITEM', u'*AG C=1+ CATEGORY                                                        00004  ', u'VOL_EQ', u'PRODUCT TYPE', u'FLAVOR/SCENT', u'ADDITIVES', u'TYPE OF ITALIAN SCE', u'STYLE', u'CONSISTENCY', u'HEAT LEVEL', 'filename']\",\n",
       " \"[u'L1', u'L2', u'L3', u'L4', u'L5', u'L9', u'Level', u'UPC', u'SY', u'GE', u'VEND', u'ITEM', u'*AG C=1+ CATEGORY                                                        00004  ', u'VOL_EQ', u'PRODUCT TYPE', u'FLAVOR/SCENT', u'BRISTLE', u'SIZE', u'USER INFO', u'TYPE OF BRUSH', u'SHAPE', 'filename']\",\n",
       " \"[u'L1', u'L2', u'L3', u'L4', u'L5', u'L9', u'Level', u'UPC', u'SY', u'GE', u'VEND', u'ITEM', u'*AG C=1+ CATEGORY                                                        00004  ', u'VOL_EQ', u'PRODUCT TYPE', u'FLAVOR/SCENT', u'FORM', u'PACKAGE', u'BREWING METHOD', u'ORGANIC INFO', u'CAFFEINE INFO', 'filename']\",\n",
       " \"[u'L1', u'L2', u'L3', u'L4', u'L5', u'L9', u'Level', u'UPC', u'SY', u'GE', u'VEND', u'ITEM', u'*AG C=1+ CATEGORY                                                        00004  ', u'VOL_EQ', u'PRODUCT TYPE', u'FLAVOR/SCENT', u'FORM', u'SALT/SODIUM CONTENT', u'FAT CONTENT', u'TYPE OF SOUP', u'ADDITIVES', 'filename']\",\n",
       " \"[u'L1', u'L2', u'L3', u'L4', u'L5', u'L9', u'Level', u'UPC', u'SY', u'GE', u'VEND', u'ITEM', u'*AG C=1+ CATEGORY                                                        00004  ', u'VOL_EQ', u'PRODUCT TYPE', u'FLAVOR/SCENT', u'PACKAGE', u'TYPE OF CRUST', u'SIZE', u'MICROWAVEABILITY', u'ORGANIC INFO', 'filename']\",\n",
       " \"[u'L1', u'L2', u'L3', u'L4', u'L5', u'L9', u'Level', u'UPC', u'SY', u'GE', u'VEND', u'ITEM', u'*AG C=1+ CATEGORY                                                        00004  ', u'VOL_EQ', u'PRODUCT TYPE', u'FLAVOR/SCENT', u'SUGAR CONTENT', u'PACKAGE', u'FAT CONTENT', u'STYLE', u'TYPE OF SPREAD/MAYO', 'filename']\",\n",
       " \"[u'L1', u'L2', u'L3', u'L4', u'L5', u'L9', u'Level', u'UPC', u'SY', u'GE', u'VEND', u'ITEM', u'*AG C=1+ CATEGORY                                                        00004  ', u'VOL_EQ', u'PRODUCT TYPE', u'FLAVOR/SCENT', u'SUGAR CONTENT', u'PACKAGE', u'FIBER INFO', u'FORTIFICATION INFO', u'TYPE OF GRAIN', 'filename']\",\n",
       " \"[u'L1', u'L2', u'L3', u'L4', u'L5', u'L9', u'Level', u'UPC', u'SY', u'GE', u'VEND', u'ITEM', u'*AG C=1+ CATEGORY                                                        00004  ', u'VOL_EQ', u'PRODUCT TYPE', u'FLAVOR/SCENT', u'TYPE OF DINNER/ENTR', u'SIZE', u'ADDITIVES', u'FORM', u'COOKED INFO', 'filename']\",\n",
       " \"[u'L1', u'L2', u'L3', u'L4', u'L5', u'L9', u'Level', u'UPC', u'SY', u'GE', u'VEND', u'ITEM', u'*AG C=1+ CATEGORY                                                        00004  ', u'VOL_EQ', u'PRODUCT TYPE', u'FLAVOR/SCENT', u'TYPE OF FORMULA', u'FORM', u'USER INFO', u'ADDITIVES', u'PACKAGE', 'filename']\",\n",
       " \"[u'L1', u'L2', u'L3', u'L4', u'L5', u'L9', u'Level', u'UPC', u'SY', u'GE', u'VEND', u'ITEM', u'*AG C=1+ CATEGORY                                                        00004  ', u'VOL_EQ', u'PRODUCT TYPE', u'FLAVOR/SCENT', u'TYPE OF SHAMPOO', u'HAIR TYPE INFO', u'FORM', u'COLOR', u'TYPE OF HAIR CARE', 'filename']\",\n",
       " \"[u'L1', u'L2', u'L3', u'L4', u'L5', u'L9', u'Level', u'UPC', u'SY', u'GE', u'VEND', u'ITEM', u'*AG C=1+ CATEGORY                                                        00004  ', u'VOL_EQ', u'PRODUCT TYPE', u'FORM', u'PACKAGE', u'FLAVOR/SCENT', u'MECHANISM', u'SKIN TYPE', u'USER INFO', 'filename']\",\n",
       " \"[u'L1', u'L2', u'L3', u'L4', u'L5', u'L9', u'Level', u'UPC', u'SY', u'GE', u'VEND', u'ITEM', u'*AG C=1+ CATEGORY                                                        00004  ', u'VOL_EQ', u'PRODUCT TYPE', u'FORM', u'PACKAGE', u'FLAVOR/SCENT', u'MECHANISM', u'TREATMENT', u'SHAPE', 'filename']\",\n",
       " \"[u'L1', u'L2', u'L3', u'L4', u'L5', u'L9', u'Level', u'UPC', u'SY', u'GE', u'VEND', u'ITEM', u'*AG C=1+ CATEGORY                                                        00004  ', u'VOL_EQ', u'PRODUCT TYPE', u'FORM', u'PACKAGE', u'FLAVOR/SCENT', u'STRENGTH', u'ADDITIVES', u'USER INFO', 'filename']\",\n",
       " \"[u'L1', u'L2', u'L3', u'L4', u'L5', u'L9', u'Level', u'UPC', u'SY', u'GE', u'VEND', u'ITEM', u'*AG C=1+ CATEGORY                                                        00004  ', u'VOL_EQ', u'PRODUCT TYPE', u'PACKAGE', u'ABSORBENCY LEVEL', u'SIZE', u'FLAVOR/SCENT', u'COLOR/DESIGN', u'NUMBER OF PLY', 'filename']\",\n",
       " \"[u'L1', u'L2', u'L3', u'L4', u'L5', u'L9', u'Level', u'UPC', u'SY', u'GE', u'VEND', u'ITEM', u'*AG C=1+ CATEGORY                                                        00004  ', u'VOL_EQ', u'PRODUCT TYPE', u'PACKAGE', u'FLAVOR/SCENT', u'CALORIE LEVEL', u'CAFFEINE INFO', u'TYPE OF SWEETENER', u'PERCENTAGE OF JUICE', 'filename']\",\n",
       " \"[u'L1', u'L2', u'L3', u'L4', u'L5', u'L9', u'Level', u'UPC', u'SY', u'GE', u'VEND', u'ITEM', u'*AG C=1+ CATEGORY                                                        00004  ', u'VOL_EQ', u'PRODUCT TYPE', u'PACKAGE', u'FLAVOR/SCENT', u'FAT CONTENT', u'CALORIE LEVEL', u'FORM', u'TYPE OF MARGARINE', 'filename']\",\n",
       " \"[u'L1', u'L2', u'L3', u'L4', u'L5', u'L9', u'Level', u'UPC', u'SY', u'GE', u'VEND', u'ITEM', u'*AG C=1+ CATEGORY                                                        00004  ', u'VOL_EQ', u'PRODUCT TYPE', u'PACKAGE', u'FLAVOR/SCENT', u'FAT CONTENT', u'CALORIE LEVEL', u'STYLE', u'ORGANIC INFO', 'filename']\",\n",
       " \"[u'L1', u'L2', u'L3', u'L4', u'L5', u'L9', u'Level', u'UPC', u'SY', u'GE', u'VEND', u'ITEM', u'*AG C=1+ CATEGORY                                                        00004  ', u'VOL_EQ', u'PRODUCT TYPE', u'PACKAGE', u'FLAVOR/SCENT', u'FAT CONTENT', u'COOKING METHOD', u'SALT/SODIUM CONTENT', u'TYPE OF CUT', 'filename']\",\n",
       " \"[u'L1', u'L2', u'L3', u'L4', u'L5', u'L9', u'Level', u'UPC', u'SY', u'GE', u'VEND', u'ITEM', u'*AG C=1+ CATEGORY                                                        00004  ', u'VOL_EQ', u'PRODUCT TYPE', u'PACKAGE', u'FLAVOR/SCENT', u'FAT CONTENT', u'SIZE', u'MEAT SOURCE', u'PROCESS', 'filename']\",\n",
       " \"[u'L1', u'L2', u'L3', u'L4', u'L5', u'L9', u'Level', u'UPC', u'SY', u'GE', u'VEND', u'ITEM', u'*AG C=1+ CATEGORY                                                        00004  ', u'VOL_EQ', u'PRODUCT TYPE', u'PACKAGE', u'FORM', u'FLAVOR/SCENT', u'CONCENTRATION LEVEL', u'ADDITIVES', u'TYPE OF FORMULA', 'filename']\",\n",
       " \"[u'L1', u'L2', u'L3', u'L4', u'L5', u'L9', u'Level', u'UPC', u'SY', u'GE', u'VEND', u'ITEM', u'*AG C=1+ CATEGORY                                                        00004  ', u'VOL_EQ', u'PRODUCT TYPE', u'PACKAGE', u'TYPE OF FILM', u'USAGE', u'SPEED', u'EXPOSURE', u'FORM', 'filename']\",\n",
       " \"[u'L1', u'L2', u'L3', u'L4', u'L5', u'L9', u'Level', u'UPC', u'SY', u'GE', u'VEND', u'ITEM', u'*AG C=1+ CATEGORY                                                        00004  ', u'VOL_EQ', u'PRODUCT TYPE', u'STAGE/PHASE', u'FLAVOR/SCENT', u'WEIGHT OF BABY', u'COLOR', u'THICKNESS', u'USER INFO', 'filename']\",\n",
       " \"[u'L1', u'L2', u'L3', u'L4', u'L5', u'L9', u'Level', u'UPC', u'SY', u'GE', u'VEND', u'ITEM', u'*AG C=1+ CATEGORY                                                        00004  ', u'VOL_EQ', u'PRODUCT TYPE', u'SUGAR CONTENT', u'ORGANIC INFO', u'PACKAGE', u'FORM', u'TYPE OF COMBINATION', u'STYLE', 'filename']\",\n",
       " \"[u'L1', u'L2', u'L3', u'L4', u'L5', u'L9', u'Level', u'UPC', u'SY', u'GE', u'VEND', u'ITEM', u'*AG C=1+ CATEGORY                                                        00004  ', u'VOL_EQ', u'PRODUCT TYPE', u'SUGAR CONTENT', u'PROCESS', u'TEXTURE', u'FLAVOR/SCENT', u'SIZE', u'SALT/SODIUM CONTENT', 'filename']\",\n",
       " \"[u'L1', u'L2', u'L3', u'L4', u'L5', u'L9', u'Level', u'UPC', u'SY', u'GE', u'VEND', u'ITEM', u'*AG C=1+ CATEGORY                                                        00004  ', u'VOL_EQ', u'PRODUCT TYPE', u'TYPE OF BEER/ALE', u'PACKAGE', u'FLAVOR/SCENT', u'SIZE', u'CALORIE LEVEL', u'COLOR', 'filename']\",\n",
       " \"[u'L1', u'L2', u'L3', u'L4', u'L5', u'L9', u'Level', u'UPC', u'SY', u'GE', u'VEND', u'ITEM', u'*AG C=1+ CATEGORY                                                        00004  ', u'VOL_EQ', u'PRODUCT TYPE', u'TYPE OF CIGARETTE', u'SIZE', u'FLAVOR/SCENT', u'LENGTH', u'MENTHOL INFO', u'PM MANUFACTURER', 'filename']\",\n",
       " \"[u'L1', u'L2', u'L3', u'L4', u'L5', u'L9', u'Level', u'UPC', u'SY', u'GE', u'VEND', u'ITEM', u'*AG C=1+ CATEGORY                                                        00004  ', u'VOL_EQ', u'PRODUCT TYPE', u'TYPE OF CLEANER/DISF', u'FORM', u'FLAVOR/SCENT', u'STRENGTH', u'ADDITIVES', u'CONCENTRATION LEVEL', 'filename']\"}"
      ]
     },
     "execution_count": 26,
     "metadata": {},
     "output_type": "execute_result"
    }
   ],
   "source": [
    "# Check for column differences\n",
    "\n",
    "set(str(h.columns.tolist()) for h in products)"
   ]
  },
  {
   "cell_type": "markdown",
   "metadata": {},
   "source": [
    "Although the number of columns are the same for each category, the first half of the columns are standardized, but the second half are category specific.  "
   ]
  },
  {
   "cell_type": "code",
   "execution_count": 27,
   "metadata": {
    "collapsed": false
   },
   "outputs": [
    {
     "data": {
      "text/plain": [
       "{\"[u'L1', u'L2', u'L3', u'L4', u'L5', u'L9', u'Level', u'UPC', u'SY', u'GE', u'VEND', u'ITEM']\"}"
      ]
     },
     "execution_count": 27,
     "metadata": {},
     "output_type": "execute_result"
    }
   ],
   "source": [
    "# Verify standard columns\n",
    "set(str(h.columns.tolist()[:12]) for h in products)"
   ]
  },
  {
   "cell_type": "code",
   "execution_count": 28,
   "metadata": {
    "collapsed": false
   },
   "outputs": [
    {
     "data": {
      "text/plain": [
       "[u'L1',\n",
       " u'L2',\n",
       " u'L3',\n",
       " u'L4',\n",
       " u'L5',\n",
       " u'L9',\n",
       " u'Level',\n",
       " u'UPC',\n",
       " u'SY',\n",
       " u'GE',\n",
       " u'VEND',\n",
       " u'ITEM',\n",
       " 'filename']"
      ]
     },
     "execution_count": 28,
     "metadata": {},
     "output_type": "execute_result"
    }
   ],
   "source": [
    "columns =products[0].columns.tolist()[:12]\n",
    "columns.append('filename')\n",
    "columns"
   ]
  },
  {
   "cell_type": "code",
   "execution_count": 29,
   "metadata": {
    "collapsed": false
   },
   "outputs": [],
   "source": [
    "all_prod = pd.concat([x[columns] for x in products])"
   ]
  },
  {
   "cell_type": "code",
   "execution_count": 30,
   "metadata": {
    "collapsed": false
   },
   "outputs": [
    {
     "data": {
      "text/html": [
       "<div>\n",
       "<table border=\"1\" class=\"dataframe\">\n",
       "  <thead>\n",
       "    <tr style=\"text-align: right;\">\n",
       "      <th></th>\n",
       "      <th>SY</th>\n",
       "      <th>GE</th>\n",
       "      <th>VEND</th>\n",
       "      <th>ITEM</th>\n",
       "    </tr>\n",
       "  </thead>\n",
       "  <tbody>\n",
       "    <tr>\n",
       "      <th>0</th>\n",
       "      <td>8</td>\n",
       "      <td>1</td>\n",
       "      <td>94922</td>\n",
       "      <td>101</td>\n",
       "    </tr>\n",
       "    <tr>\n",
       "      <th>1</th>\n",
       "      <td>8</td>\n",
       "      <td>1</td>\n",
       "      <td>94922</td>\n",
       "      <td>103</td>\n",
       "    </tr>\n",
       "    <tr>\n",
       "      <th>2</th>\n",
       "      <td>0</td>\n",
       "      <td>1</td>\n",
       "      <td>80020</td>\n",
       "      <td>20001</td>\n",
       "    </tr>\n",
       "  </tbody>\n",
       "</table>\n",
       "</div>"
      ],
      "text/plain": [
       "   SY  GE   VEND   ITEM\n",
       "0   8   1  94922    101\n",
       "1   8   1  94922    103\n",
       "2   0   1  80020  20001"
      ]
     },
     "execution_count": 30,
     "metadata": {},
     "output_type": "execute_result"
    }
   ],
   "source": [
    "COLUPC = ['SY', 'GE', 'VEND', 'ITEM']\n",
    "all_prod[COLUPC].head(3)"
   ]
  },
  {
   "cell_type": "code",
   "execution_count": 31,
   "metadata": {
    "collapsed": false
   },
   "outputs": [
    {
     "data": {
      "text/plain": [
       "0     8194922101\n",
       "1     8194922103\n",
       "2    18002020001\n",
       "Name: COLUPC, dtype: int64"
      ]
     },
     "execution_count": 31,
     "metadata": {},
     "output_type": "execute_result"
    }
   ],
   "source": [
    "all_prod['COLUPC'] =all_prod[COLUPC].astype('str').apply(lambda x: ''.join(x), axis=1).astype('int')\n",
    "all_prod['COLUPC'].head(3)"
   ]
  },
  {
   "cell_type": "code",
   "execution_count": 32,
   "metadata": {
    "collapsed": false,
    "scrolled": true
   },
   "outputs": [
    {
     "name": "stdout",
     "output_type": "stream",
     "text": [
      "<class 'pandas.core.frame.DataFrame'>\n",
      "Int64Index: 188885 entries, 0 to 7110\n",
      "Data columns (total 14 columns):\n",
      "L1          188885 non-null object\n",
      "L2          188885 non-null object\n",
      "L3          188885 non-null object\n",
      "L4          188885 non-null object\n",
      "L5          188885 non-null object\n",
      "L9          188885 non-null object\n",
      "Level       188885 non-null int64\n",
      "UPC         188885 non-null object\n",
      "SY          188885 non-null int64\n",
      "GE          188885 non-null int64\n",
      "VEND        188885 non-null int64\n",
      "ITEM        188885 non-null int64\n",
      "filename    188885 non-null object\n",
      "COLUPC      188885 non-null int64\n",
      "dtypes: int64(6), object(8)\n",
      "memory usage: 21.6+ MB\n"
     ]
    }
   ],
   "source": [
    "all_prod.info()"
   ]
  },
  {
   "cell_type": "code",
   "execution_count": 39,
   "metadata": {
    "collapsed": false
   },
   "outputs": [],
   "source": [
    "obj = all_prod.dtypes[all_prod.dtypes == 'object'].keys().tolist()\n",
    "all_prod[obj] = all_prod[obj].astype('str')"
   ]
  },
  {
   "cell_type": "code",
   "execution_count": 40,
   "metadata": {
    "collapsed": false
   },
   "outputs": [],
   "source": [
    "all_prod.to_hdf('yogurt.h5', 'upc2008',format='t', complib='blosc', complevel=9)"
   ]
  },
  {
   "cell_type": "code",
   "execution_count": 54,
   "metadata": {
    "collapsed": false
   },
   "outputs": [
    {
     "data": {
      "text/html": [
       "<div>\n",
       "<table border=\"1\" class=\"dataframe\">\n",
       "  <thead>\n",
       "    <tr style=\"text-align: right;\">\n",
       "      <th></th>\n",
       "      <th>L1</th>\n",
       "      <th>L2</th>\n",
       "      <th>L3</th>\n",
       "      <th>L4</th>\n",
       "      <th>L5</th>\n",
       "      <th>L9</th>\n",
       "      <th>Level</th>\n",
       "      <th>UPC</th>\n",
       "      <th>SY</th>\n",
       "      <th>GE</th>\n",
       "      <th>VEND</th>\n",
       "      <th>ITEM</th>\n",
       "      <th>filename</th>\n",
       "      <th>COLUPC</th>\n",
       "    </tr>\n",
       "  </thead>\n",
       "  <tbody>\n",
       "  </tbody>\n",
       "</table>\n",
       "</div>"
      ],
      "text/plain": [
       "Empty DataFrame\n",
       "Columns: [L1, L2, L3, L4, L5, L9, Level, UPC, SY, GE, VEND, ITEM, filename, COLUPC]\n",
       "Index: []"
      ]
     },
     "execution_count": 54,
     "metadata": {},
     "output_type": "execute_result"
    }
   ],
   "source": [
    "all_prod[all_prod['COLUPC']== 13663202723]"
   ]
  },
  {
   "cell_type": "code",
   "execution_count": null,
   "metadata": {
    "collapsed": false
   },
   "outputs": [],
   "source": [
    "type(all_prod['COLUPC'][0][:1][0])"
   ]
  },
  {
   "cell_type": "code",
   "execution_count": 44,
   "metadata": {
    "collapsed": false
   },
   "outputs": [
    {
     "data": {
      "text/plain": [
       "0      8194922101\n",
       "1      8194922103\n",
       "2     18002020001\n",
       "3         1800201\n",
       "4    271155047568\n",
       "Name: COLUPC, dtype: int64"
      ]
     },
     "execution_count": 44,
     "metadata": {},
     "output_type": "execute_result"
    }
   ],
   "source": [
    "all_prod['COLUPC'].head()"
   ]
  },
  {
   "cell_type": "code",
   "execution_count": 46,
   "metadata": {
    "collapsed": false
   },
   "outputs": [
    {
     "data": {
      "text/plain": [
       "dtype('int64')"
      ]
     },
     "execution_count": 46,
     "metadata": {},
     "output_type": "execute_result"
    }
   ],
   "source": [
    "all_prod['COLUPC'].head().dtypes"
   ]
  },
  {
   "cell_type": "code",
   "execution_count": null,
   "metadata": {
    "collapsed": true
   },
   "outputs": [],
   "source": []
  }
 ],
 "metadata": {
  "kernelspec": {
   "display_name": "Python 2",
   "language": "python",
   "name": "python2"
  },
  "language_info": {
   "codemirror_mode": {
    "name": "ipython",
    "version": 2
   },
   "file_extension": ".py",
   "mimetype": "text/x-python",
   "name": "python",
   "nbconvert_exporter": "python",
   "pygments_lexer": "ipython2",
   "version": "2.7.11"
  }
 },
 "nbformat": 4,
 "nbformat_minor": 0
}
