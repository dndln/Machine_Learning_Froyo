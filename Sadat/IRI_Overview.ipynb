{
 "cells": [
  {
   "cell_type": "code",
   "execution_count": 17,
   "metadata": {
    "collapsed": false
   },
   "outputs": [
    {
     "name": "stderr",
     "output_type": "stream",
     "text": [
      ":0: FutureWarning: IPython widgets are experimental and may change in the future.\n"
     ]
    }
   ],
   "source": [
    "import h5py as h5\n",
    "import numpy as np\n",
    "import pandas as pd\n",
    "import numpy as np\n",
    "import matplotlib.pyplot as plt\n",
    "import seaborn as sns\n",
    "%matplotlib inline"
   ]
  },
  {
   "cell_type": "code",
   "execution_count": 30,
   "metadata": {
    "collapsed": true
   },
   "outputs": [],
   "source": [
    "path = '/home/sadat/Documents/DSE/Data/yogurt.h5'"
   ]
  },
  {
   "cell_type": "markdown",
   "metadata": {},
   "source": [
    "##Analyze yogurt.h5 structure"
   ]
  },
  {
   "cell_type": "code",
   "execution_count": 31,
   "metadata": {
    "collapsed": false
   },
   "outputs": [
    {
     "name": "stdout",
     "output_type": "stream",
     "text": [
      "drug\n",
      "drug/_i_table\n",
      "drug/_i_table/index\n",
      "drug/_i_table/index/abounds\n",
      "drug/_i_table/index/bounds\n",
      "drug/_i_table/index/indices\n",
      "drug/_i_table/index/indicesLR\n",
      "drug/_i_table/index/mbounds\n",
      "drug/_i_table/index/mranges\n",
      "drug/_i_table/index/ranges\n",
      "drug/_i_table/index/sorted\n",
      "drug/_i_table/index/sortedLR\n",
      "drug/_i_table/index/zbounds\n",
      "drug/table\n",
      "groc\n",
      "groc/_i_table\n",
      "groc/_i_table/index\n",
      "groc/_i_table/index/abounds\n",
      "groc/_i_table/index/bounds\n",
      "groc/_i_table/index/indices\n",
      "groc/_i_table/index/indicesLR\n",
      "groc/_i_table/index/mbounds\n",
      "groc/_i_table/index/mranges\n",
      "groc/_i_table/index/ranges\n",
      "groc/_i_table/index/sorted\n",
      "groc/_i_table/index/sortedLR\n",
      "groc/_i_table/index/zbounds\n",
      "groc/table\n",
      "panel\n",
      "panel/_i_table\n",
      "panel/_i_table/index\n",
      "panel/_i_table/index/abounds\n",
      "panel/_i_table/index/bounds\n",
      "panel/_i_table/index/indices\n",
      "panel/_i_table/index/indicesLR\n",
      "panel/_i_table/index/mbounds\n",
      "panel/_i_table/index/mranges\n",
      "panel/_i_table/index/ranges\n",
      "panel/_i_table/index/sorted\n",
      "panel/_i_table/index/sortedLR\n",
      "panel/_i_table/index/zbounds\n",
      "panel/table\n"
     ]
    }
   ],
   "source": [
    "data = h5.File(path)\n",
    "\n",
    "def printname(name):   \n",
    "    print(name)\n",
    "\n",
    "data.visit(printname)"
   ]
  },
  {
   "cell_type": "code",
   "execution_count": 32,
   "metadata": {
    "collapsed": false
   },
   "outputs": [],
   "source": [
    "data.close()"
   ]
  },
  {
   "cell_type": "markdown",
   "metadata": {},
   "source": [
    "##Panel data"
   ]
  },
  {
   "cell_type": "code",
   "execution_count": 4,
   "metadata": {
    "collapsed": false
   },
   "outputs": [],
   "source": [
    "df = pd.read_hdf(path, key='panel')"
   ]
  },
  {
   "cell_type": "code",
   "execution_count": 5,
   "metadata": {
    "collapsed": false
   },
   "outputs": [
    {
     "data": {
      "text/html": [
       "<div>\n",
       "<table border=\"1\" class=\"dataframe\">\n",
       "  <thead>\n",
       "    <tr style=\"text-align: right;\">\n",
       "      <th></th>\n",
       "      <th>COLUPC</th>\n",
       "      <th>DOLLARS</th>\n",
       "      <th>IRI_KEY</th>\n",
       "      <th>MINUTE</th>\n",
       "      <th>OUTLET</th>\n",
       "      <th>PANID</th>\n",
       "      <th>UNITS</th>\n",
       "      <th>WEEK</th>\n",
       "      <th>file</th>\n",
       "    </tr>\n",
       "  </thead>\n",
       "  <tbody>\n",
       "    <tr>\n",
       "      <th>0</th>\n",
       "      <td>17047000300</td>\n",
       "      <td>0.99</td>\n",
       "      <td>1097117</td>\n",
       "      <td>5068.0</td>\n",
       "      <td>DK</td>\n",
       "      <td>3138826</td>\n",
       "      <td>1.0</td>\n",
       "      <td>1514</td>\n",
       "      <td>yogurt_PANEL_DK_1479_1530.DAT</td>\n",
       "    </tr>\n",
       "    <tr>\n",
       "      <th>1</th>\n",
       "      <td>17047000302</td>\n",
       "      <td>0.89</td>\n",
       "      <td>1097117</td>\n",
       "      <td>2224.0</td>\n",
       "      <td>DK</td>\n",
       "      <td>3138826</td>\n",
       "      <td>1.0</td>\n",
       "      <td>1489</td>\n",
       "      <td>yogurt_PANEL_DK_1479_1530.DAT</td>\n",
       "    </tr>\n",
       "    <tr>\n",
       "      <th>2</th>\n",
       "      <td>17047000650</td>\n",
       "      <td>0.89</td>\n",
       "      <td>1097117</td>\n",
       "      <td>6551.0</td>\n",
       "      <td>DK</td>\n",
       "      <td>3138826</td>\n",
       "      <td>1.0</td>\n",
       "      <td>1488</td>\n",
       "      <td>yogurt_PANEL_DK_1479_1530.DAT</td>\n",
       "    </tr>\n",
       "    <tr>\n",
       "      <th>3</th>\n",
       "      <td>17047000650</td>\n",
       "      <td>2.97</td>\n",
       "      <td>1097117</td>\n",
       "      <td>6177.0</td>\n",
       "      <td>DK</td>\n",
       "      <td>3182048</td>\n",
       "      <td>3.0</td>\n",
       "      <td>1526</td>\n",
       "      <td>yogurt_PANEL_DK_1479_1530.DAT</td>\n",
       "    </tr>\n",
       "    <tr>\n",
       "      <th>4</th>\n",
       "      <td>17047001372</td>\n",
       "      <td>1.49</td>\n",
       "      <td>1097117</td>\n",
       "      <td>973.0</td>\n",
       "      <td>DK</td>\n",
       "      <td>3184911</td>\n",
       "      <td>1.0</td>\n",
       "      <td>1495</td>\n",
       "      <td>yogurt_PANEL_DK_1479_1530.DAT</td>\n",
       "    </tr>\n",
       "  </tbody>\n",
       "</table>\n",
       "</div>"
      ],
      "text/plain": [
       "        COLUPC  DOLLARS  IRI_KEY  MINUTE OUTLET    PANID  UNITS  WEEK  \\\n",
       "0  17047000300     0.99  1097117  5068.0    DK   3138826    1.0  1514   \n",
       "1  17047000302     0.89  1097117  2224.0    DK   3138826    1.0  1489   \n",
       "2  17047000650     0.89  1097117  6551.0    DK   3138826    1.0  1488   \n",
       "3  17047000650     2.97  1097117  6177.0    DK   3182048    3.0  1526   \n",
       "4  17047001372     1.49  1097117   973.0    DK   3184911    1.0  1495   \n",
       "\n",
       "                            file  \n",
       "0  yogurt_PANEL_DK_1479_1530.DAT  \n",
       "1  yogurt_PANEL_DK_1479_1530.DAT  \n",
       "2  yogurt_PANEL_DK_1479_1530.DAT  \n",
       "3  yogurt_PANEL_DK_1479_1530.DAT  \n",
       "4  yogurt_PANEL_DK_1479_1530.DAT  "
      ]
     },
     "execution_count": 5,
     "metadata": {},
     "output_type": "execute_result"
    }
   ],
   "source": [
    "df.head()"
   ]
  },
  {
   "cell_type": "markdown",
   "metadata": {},
   "source": [
    "####Missing data"
   ]
  },
  {
   "cell_type": "code",
   "execution_count": 6,
   "metadata": {
    "collapsed": false
   },
   "outputs": [
    {
     "name": "stdout",
     "output_type": "stream",
     "text": [
      "<class 'pandas.core.frame.DataFrame'>\n",
      "Int64Index: 1609107 entries, 0 to 15\n",
      "Data columns (total 9 columns):\n",
      "COLUPC     1609107 non-null int64\n",
      "DOLLARS    1609107 non-null float64\n",
      "IRI_KEY    1609107 non-null int64\n",
      "MINUTE     520189 non-null float64\n",
      "OUTLET     1609107 non-null object\n",
      "PANID      1609107 non-null int64\n",
      "UNITS      1609107 non-null float64\n",
      "WEEK       1609107 non-null int64\n",
      "file       1609107 non-null object\n",
      "dtypes: float64(3), int64(4), object(2)\n",
      "memory usage: 122.8+ MB\n"
     ]
    }
   ],
   "source": [
    "df.info()"
   ]
  },
  {
   "cell_type": "markdown",
   "metadata": {},
   "source": [
    "MINUTE has missing data. Let's look at the values:"
   ]
  },
  {
   "cell_type": "code",
   "execution_count": 9,
   "metadata": {
    "collapsed": false
   },
   "outputs": [
    {
     "data": {
      "text/html": [
       "<div>\n",
       "<table border=\"1\" class=\"dataframe\">\n",
       "  <thead>\n",
       "    <tr style=\"text-align: right;\">\n",
       "      <th></th>\n",
       "      <th>COLUPC</th>\n",
       "      <th>DOLLARS</th>\n",
       "      <th>IRI_KEY</th>\n",
       "      <th>MINUTE</th>\n",
       "      <th>OUTLET</th>\n",
       "      <th>PANID</th>\n",
       "      <th>UNITS</th>\n",
       "      <th>WEEK</th>\n",
       "      <th>file</th>\n",
       "    </tr>\n",
       "  </thead>\n",
       "  <tbody>\n",
       "    <tr>\n",
       "      <th>0</th>\n",
       "      <td>13663200108</td>\n",
       "      <td>0.89</td>\n",
       "      <td>651444</td>\n",
       "      <td>NaN</td>\n",
       "      <td>DR</td>\n",
       "      <td>3307876</td>\n",
       "      <td>1.0</td>\n",
       "      <td>1119</td>\n",
       "      <td>yogurt_PANEL_DR_1114_1165.dat</td>\n",
       "    </tr>\n",
       "    <tr>\n",
       "      <th>1</th>\n",
       "      <td>13663200108</td>\n",
       "      <td>0.89</td>\n",
       "      <td>651444</td>\n",
       "      <td>NaN</td>\n",
       "      <td>DR</td>\n",
       "      <td>3333500</td>\n",
       "      <td>1.0</td>\n",
       "      <td>1148</td>\n",
       "      <td>yogurt_PANEL_DR_1114_1165.dat</td>\n",
       "    </tr>\n",
       "    <tr>\n",
       "      <th>2</th>\n",
       "      <td>13663200701</td>\n",
       "      <td>1.19</td>\n",
       "      <td>651444</td>\n",
       "      <td>NaN</td>\n",
       "      <td>DR</td>\n",
       "      <td>3109355</td>\n",
       "      <td>1.0</td>\n",
       "      <td>1150</td>\n",
       "      <td>yogurt_PANEL_DR_1114_1165.dat</td>\n",
       "    </tr>\n",
       "    <tr>\n",
       "      <th>3</th>\n",
       "      <td>13663200701</td>\n",
       "      <td>1.19</td>\n",
       "      <td>651444</td>\n",
       "      <td>NaN</td>\n",
       "      <td>DR</td>\n",
       "      <td>3807982</td>\n",
       "      <td>1.0</td>\n",
       "      <td>1151</td>\n",
       "      <td>yogurt_PANEL_DR_1114_1165.dat</td>\n",
       "    </tr>\n",
       "    <tr>\n",
       "      <th>4</th>\n",
       "      <td>13663200702</td>\n",
       "      <td>1.19</td>\n",
       "      <td>651444</td>\n",
       "      <td>NaN</td>\n",
       "      <td>DR</td>\n",
       "      <td>3805705</td>\n",
       "      <td>1.0</td>\n",
       "      <td>1151</td>\n",
       "      <td>yogurt_PANEL_DR_1114_1165.dat</td>\n",
       "    </tr>\n",
       "  </tbody>\n",
       "</table>\n",
       "</div>"
      ],
      "text/plain": [
       "        COLUPC  DOLLARS  IRI_KEY  MINUTE OUTLET    PANID  UNITS  WEEK  \\\n",
       "0  13663200108     0.89   651444     NaN     DR  3307876    1.0  1119   \n",
       "1  13663200108     0.89   651444     NaN     DR  3333500    1.0  1148   \n",
       "2  13663200701     1.19   651444     NaN     DR  3109355    1.0  1150   \n",
       "3  13663200701     1.19   651444     NaN     DR  3807982    1.0  1151   \n",
       "4  13663200702     1.19   651444     NaN     DR  3805705    1.0  1151   \n",
       "\n",
       "                            file  \n",
       "0  yogurt_PANEL_DR_1114_1165.dat  \n",
       "1  yogurt_PANEL_DR_1114_1165.dat  \n",
       "2  yogurt_PANEL_DR_1114_1165.dat  \n",
       "3  yogurt_PANEL_DR_1114_1165.dat  \n",
       "4  yogurt_PANEL_DR_1114_1165.dat  "
      ]
     },
     "execution_count": 9,
     "metadata": {},
     "output_type": "execute_result"
    }
   ],
   "source": [
    "df[df['MINUTE'].isnull()].head()"
   ]
  },
  {
   "cell_type": "code",
   "execution_count": null,
   "metadata": {
    "collapsed": true
   },
   "outputs": [],
   "source": [
    "It seems that the\n",
    "\n",
    "Percentage of MINUTE NaN from each OUTLET:"
   ]
  },
  {
   "cell_type": "code",
   "execution_count": 7,
   "metadata": {
    "collapsed": false
   },
   "outputs": [
    {
     "data": {
      "text/plain": [
       "OUTLET\n",
       "DR     0.012554\n",
       "GR    67.329395\n",
       "KK     0.049841\n",
       "MA     0.280404\n",
       "Name: UNITS, dtype: float64"
      ]
     },
     "execution_count": 7,
     "metadata": {},
     "output_type": "execute_result"
    }
   ],
   "source": [
    "df[df['MINUTE'].isnull()].groupby('OUTLET').count()['UNITS']/1609107*100"
   ]
  },
  {
   "cell_type": "markdown",
   "metadata": {},
   "source": [
    "It seems GR (Groceries) have 67% of its MINUTE data missing. The other outlets have less than 1% missing."
   ]
  },
  {
   "cell_type": "markdown",
   "metadata": {
    "collapsed": true
   },
   "source": [
    "####Sales by time (MINUTE and WEEK)  .. HELP NEEDED!"
   ]
  },
  {
   "cell_type": "markdown",
   "metadata": {},
   "source": [
    "- Minute needs to be conveted to 24 hours and day of the week.\n",
    "- Week needs to be converted to start and end dates (to account for holidays).\n",
    "\n",
    "- Refer to section 3.9 here: https://github.com/mGalarnyk/Machine_Learning_Froyo/blob/master/IRI.pdf"
   ]
  },
  {
   "cell_type": "code",
   "execution_count": 28,
   "metadata": {
    "collapsed": false
   },
   "outputs": [
    {
     "data": {
      "image/png": "[encoded data removed]",
      "text/plain": [
       "<matplotlib.figure.Figure at 0x7fa373ebb950>"
      ]
     },
     "metadata": {},
     "output_type": "display_data"
    }
   ],
   "source": [
    "df.dropna().groupby('MINUTE')['DOLLARS'].sum().plot();"
   ]
  },
  {
   "cell_type": "markdown",
   "metadata": {},
   "source": [
    "Based on the spikes, we can tell that yogurt sales are higher during certain times of the day."
   ]
  },
  {
   "cell_type": "code",
   "execution_count": 37,
   "metadata": {
    "collapsed": false
   },
   "outputs": [
    {
     "data": {
      "image/png": "[encoded data removed]",
      "text/plain": [
       "<matplotlib.figure.Figure at 0x7fa374b2c210>"
      ]
     },
     "metadata": {},
     "output_type": "display_data"
    }
   ],
   "source": [
    "df.groupby('WEEK')['DOLLARS'].sum().plot();"
   ]
  },
  {
   "cell_type": "markdown",
   "metadata": {},
   "source": [
    "We can see spikes in weeks (indicating some pattern). Unless we convert them to times of the year, we cant decipher the spikes."
   ]
  },
  {
   "cell_type": "markdown",
   "metadata": {},
   "source": [
    "####Sales by OUTLET"
   ]
  },
  {
   "cell_type": "code",
   "execution_count": 36,
   "metadata": {
    "collapsed": false
   },
   "outputs": [
    {
     "data": {
      "image/png": "[encoded data removed]",
      "text/plain": [
       "<matplotlib.figure.Figure at 0x7fa3733fa290>"
      ]
     },
     "metadata": {},
     "output_type": "display_data"
    }
   ],
   "source": [
    "df.groupby('OUTLET')['DOLLARS'].sum().plot();"
   ]
  },
  {
   "cell_type": "markdown",
   "metadata": {},
   "source": [
    "GK and GR have the greatest sales."
   ]
  },
  {
   "cell_type": "code",
   "execution_count": null,
   "metadata": {
    "collapsed": true
   },
   "outputs": [],
   "source": []
  }
 ],
 "metadata": {
  "kernelspec": {
   "display_name": "Python 2",
   "language": "python",
   "name": "python2"
  },
  "language_info": {
   "codemirror_mode": {
    "name": "ipython",
    "version": 2
   },
   "file_extension": ".py",
   "mimetype": "text/x-python",
   "name": "python",
   "nbconvert_exporter": "python",
   "pygments_lexer": "ipython2",
   "version": "2.7.11"
  }
 },
 "nbformat": 4,
 "nbformat_minor": 0
}
