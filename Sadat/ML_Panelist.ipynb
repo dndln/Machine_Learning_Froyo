{
 "cells": [
  {
   "cell_type": "code",
   "execution_count": 12,
   "metadata": {
    "collapsed": false
   },
   "outputs": [],
   "source": [
    "import h5py as h5\n",
    "import numpy as np\n",
    "import pandas as pd\n",
    "import numpy as np\n",
    "import matplotlib.pyplot as plt\n",
    "from matplotlib.ticker import FuncFormatter\n",
    "from sklearn.cross_validation import train_test_split\n",
    "from sklearn.ensemble import RandomForestRegressor\n",
    "from sklearn.feature_selection import SelectFromModel, SelectKBest\n",
    "from scipy.spatial.distance import cdist, pdist\n",
    "from sklearn.cluster import KMeans\n",
    "from sklearn.pipeline import Pipeline\n",
    "from sklearn.svm import SVR, LinearSVR\n",
    "from sklearn import preprocessing\n",
    "import calendar as cal\n",
    "import seaborn as sns\n",
    "import datetime as dt\n",
    "%matplotlib inline"
   ]
  },
  {
   "cell_type": "code",
   "execution_count": 13,
   "metadata": {
    "collapsed": true
   },
   "outputs": [],
   "source": [
    "import warnings\n",
    "warnings.filterwarnings('ignore')"
   ]
  },
  {
   "cell_type": "code",
   "execution_count": 14,
   "metadata": {
    "collapsed": false
   },
   "outputs": [
    {
     "data": {
      "text/html": [
       "<div>\n",
       "<table border=\"1\" class=\"dataframe\">\n",
       "  <thead>\n",
       "    <tr style=\"text-align: right;\">\n",
       "      <th></th>\n",
       "      <th>COLUPC</th>\n",
       "      <th>DOLLARS</th>\n",
       "      <th>IRI_KEY</th>\n",
       "      <th>MINUTE</th>\n",
       "      <th>OUTLET</th>\n",
       "      <th>PANID</th>\n",
       "      <th>UNITS</th>\n",
       "      <th>WEEK</th>\n",
       "      <th>file</th>\n",
       "    </tr>\n",
       "  </thead>\n",
       "  <tbody>\n",
       "    <tr>\n",
       "      <th>0</th>\n",
       "      <td>17047000300</td>\n",
       "      <td>0.99</td>\n",
       "      <td>1097117</td>\n",
       "      <td>5068.0</td>\n",
       "      <td>DK</td>\n",
       "      <td>3138826</td>\n",
       "      <td>1.0</td>\n",
       "      <td>1514</td>\n",
       "      <td>yogurt_PANEL_DK_1479_1530.DAT</td>\n",
       "    </tr>\n",
       "    <tr>\n",
       "      <th>1</th>\n",
       "      <td>17047000302</td>\n",
       "      <td>0.89</td>\n",
       "      <td>1097117</td>\n",
       "      <td>2224.0</td>\n",
       "      <td>DK</td>\n",
       "      <td>3138826</td>\n",
       "      <td>1.0</td>\n",
       "      <td>1489</td>\n",
       "      <td>yogurt_PANEL_DK_1479_1530.DAT</td>\n",
       "    </tr>\n",
       "    <tr>\n",
       "      <th>2</th>\n",
       "      <td>17047000650</td>\n",
       "      <td>0.89</td>\n",
       "      <td>1097117</td>\n",
       "      <td>6551.0</td>\n",
       "      <td>DK</td>\n",
       "      <td>3138826</td>\n",
       "      <td>1.0</td>\n",
       "      <td>1488</td>\n",
       "      <td>yogurt_PANEL_DK_1479_1530.DAT</td>\n",
       "    </tr>\n",
       "    <tr>\n",
       "      <th>3</th>\n",
       "      <td>17047000650</td>\n",
       "      <td>2.97</td>\n",
       "      <td>1097117</td>\n",
       "      <td>6177.0</td>\n",
       "      <td>DK</td>\n",
       "      <td>3182048</td>\n",
       "      <td>3.0</td>\n",
       "      <td>1526</td>\n",
       "      <td>yogurt_PANEL_DK_1479_1530.DAT</td>\n",
       "    </tr>\n",
       "    <tr>\n",
       "      <th>4</th>\n",
       "      <td>17047001372</td>\n",
       "      <td>1.49</td>\n",
       "      <td>1097117</td>\n",
       "      <td>973.0</td>\n",
       "      <td>DK</td>\n",
       "      <td>3184911</td>\n",
       "      <td>1.0</td>\n",
       "      <td>1495</td>\n",
       "      <td>yogurt_PANEL_DK_1479_1530.DAT</td>\n",
       "    </tr>\n",
       "  </tbody>\n",
       "</table>\n",
       "</div>"
      ],
      "text/plain": [
       "        COLUPC  DOLLARS  IRI_KEY  MINUTE OUTLET    PANID  UNITS  WEEK  \\\n",
       "0  17047000300     0.99  1097117  5068.0    DK   3138826    1.0  1514   \n",
       "1  17047000302     0.89  1097117  2224.0    DK   3138826    1.0  1489   \n",
       "2  17047000650     0.89  1097117  6551.0    DK   3138826    1.0  1488   \n",
       "3  17047000650     2.97  1097117  6177.0    DK   3182048    3.0  1526   \n",
       "4  17047001372     1.49  1097117   973.0    DK   3184911    1.0  1495   \n",
       "\n",
       "                            file  \n",
       "0  yogurt_PANEL_DK_1479_1530.DAT  \n",
       "1  yogurt_PANEL_DK_1479_1530.DAT  \n",
       "2  yogurt_PANEL_DK_1479_1530.DAT  \n",
       "3  yogurt_PANEL_DK_1479_1530.DAT  \n",
       "4  yogurt_PANEL_DK_1479_1530.DAT  "
      ]
     },
     "execution_count": 14,
     "metadata": {},
     "output_type": "execute_result"
    }
   ],
   "source": [
    "path = '/home/sadat/Documents/DSE/Data/yogurt.h5'\n",
    "df = pd.read_hdf(path, key='panel')\n",
    "df.head()"
   ]
  },
  {
   "cell_type": "markdown",
   "metadata": {},
   "source": [
    "#Feature Engineering\n",
    "\n",
    "####Adjust time features"
   ]
  },
  {
   "cell_type": "markdown",
   "metadata": {},
   "source": [
    "Dropping the missing MINUTE values"
   ]
  },
  {
   "cell_type": "code",
   "execution_count": 15,
   "metadata": {
    "collapsed": false
   },
   "outputs": [
    {
     "data": {
      "text/html": [
       "<div>\n",
       "<table border=\"1\" class=\"dataframe\">\n",
       "  <thead>\n",
       "    <tr style=\"text-align: right;\">\n",
       "      <th></th>\n",
       "      <th>COLUPC</th>\n",
       "      <th>DOLLARS</th>\n",
       "      <th>IRI_KEY</th>\n",
       "      <th>MINUTE</th>\n",
       "      <th>OUTLET</th>\n",
       "      <th>PANID</th>\n",
       "      <th>UNITS</th>\n",
       "      <th>WEEK</th>\n",
       "      <th>file</th>\n",
       "    </tr>\n",
       "  </thead>\n",
       "  <tbody>\n",
       "    <tr>\n",
       "      <th>0</th>\n",
       "      <td>17047000300</td>\n",
       "      <td>0.99</td>\n",
       "      <td>1097117</td>\n",
       "      <td>5068.0</td>\n",
       "      <td>DK</td>\n",
       "      <td>3138826</td>\n",
       "      <td>1.0</td>\n",
       "      <td>1514</td>\n",
       "      <td>yogurt_PANEL_DK_1479_1530.DAT</td>\n",
       "    </tr>\n",
       "    <tr>\n",
       "      <th>1</th>\n",
       "      <td>17047000302</td>\n",
       "      <td>0.89</td>\n",
       "      <td>1097117</td>\n",
       "      <td>2224.0</td>\n",
       "      <td>DK</td>\n",
       "      <td>3138826</td>\n",
       "      <td>1.0</td>\n",
       "      <td>1489</td>\n",
       "      <td>yogurt_PANEL_DK_1479_1530.DAT</td>\n",
       "    </tr>\n",
       "    <tr>\n",
       "      <th>2</th>\n",
       "      <td>17047000650</td>\n",
       "      <td>0.89</td>\n",
       "      <td>1097117</td>\n",
       "      <td>6551.0</td>\n",
       "      <td>DK</td>\n",
       "      <td>3138826</td>\n",
       "      <td>1.0</td>\n",
       "      <td>1488</td>\n",
       "      <td>yogurt_PANEL_DK_1479_1530.DAT</td>\n",
       "    </tr>\n",
       "    <tr>\n",
       "      <th>3</th>\n",
       "      <td>17047000650</td>\n",
       "      <td>2.97</td>\n",
       "      <td>1097117</td>\n",
       "      <td>6177.0</td>\n",
       "      <td>DK</td>\n",
       "      <td>3182048</td>\n",
       "      <td>3.0</td>\n",
       "      <td>1526</td>\n",
       "      <td>yogurt_PANEL_DK_1479_1530.DAT</td>\n",
       "    </tr>\n",
       "    <tr>\n",
       "      <th>4</th>\n",
       "      <td>17047001372</td>\n",
       "      <td>1.49</td>\n",
       "      <td>1097117</td>\n",
       "      <td>973.0</td>\n",
       "      <td>DK</td>\n",
       "      <td>3184911</td>\n",
       "      <td>1.0</td>\n",
       "      <td>1495</td>\n",
       "      <td>yogurt_PANEL_DK_1479_1530.DAT</td>\n",
       "    </tr>\n",
       "  </tbody>\n",
       "</table>\n",
       "</div>"
      ],
      "text/plain": [
       "        COLUPC  DOLLARS  IRI_KEY  MINUTE OUTLET    PANID  UNITS  WEEK  \\\n",
       "0  17047000300     0.99  1097117  5068.0    DK   3138826    1.0  1514   \n",
       "1  17047000302     0.89  1097117  2224.0    DK   3138826    1.0  1489   \n",
       "2  17047000650     0.89  1097117  6551.0    DK   3138826    1.0  1488   \n",
       "3  17047000650     2.97  1097117  6177.0    DK   3182048    3.0  1526   \n",
       "4  17047001372     1.49  1097117   973.0    DK   3184911    1.0  1495   \n",
       "\n",
       "                            file  \n",
       "0  yogurt_PANEL_DK_1479_1530.DAT  \n",
       "1  yogurt_PANEL_DK_1479_1530.DAT  \n",
       "2  yogurt_PANEL_DK_1479_1530.DAT  \n",
       "3  yogurt_PANEL_DK_1479_1530.DAT  \n",
       "4  yogurt_PANEL_DK_1479_1530.DAT  "
      ]
     },
     "execution_count": 15,
     "metadata": {},
     "output_type": "execute_result"
    }
   ],
   "source": [
    "df = df.dropna(axis=0)\n",
    "df.head()"
   ]
  },
  {
   "cell_type": "markdown",
   "metadata": {},
   "source": [
    "Convert WEEK and MINUTE to DATETIME"
   ]
  },
  {
   "cell_type": "code",
   "execution_count": 16,
   "metadata": {
    "collapsed": true
   },
   "outputs": [],
   "source": [
    "def get_datetime(week, minute):\n",
    "    week, minute = int(week), int(minute)\n",
    "    # Reference orginal date is September 3, 1979\n",
    "    ref_orginal = dt.date.toordinal(dt.date(1979, 9, 3))\n",
    "    # Convert minutes to days, hours, minutes\n",
    "    days, hours, mins = (minute / 1440), ((minute % 1440) / 60), ((minute % 1440) % 60)\n",
    "    # Convert from ordinal.\n",
    "    return dt.datetime.fromordinal(ref_orginal + (week - 1) * 7 + days).replace(\n",
    "        hour=hours, minute=mins)\n",
    "\n",
    "week = df['WEEK'].values\n",
    "minute = df['MINUTE'].values\n",
    "datetime = []\n",
    "\n",
    "for w,m in zip(week,minute):\n",
    "    datetime.append(get_datetime(w,m))\n",
    "\n",
    "df = df.drop(['MINUTE','WEEK'], axis=1)\n",
    "df['DATETIME']=datetime"
   ]
  },
  {
   "cell_type": "code",
   "execution_count": 17,
   "metadata": {
    "collapsed": false
   },
   "outputs": [
    {
     "data": {
      "text/html": [
       "<div>\n",
       "<table border=\"1\" class=\"dataframe\">\n",
       "  <thead>\n",
       "    <tr style=\"text-align: right;\">\n",
       "      <th></th>\n",
       "      <th>COLUPC</th>\n",
       "      <th>DOLLARS</th>\n",
       "      <th>IRI_KEY</th>\n",
       "      <th>OUTLET</th>\n",
       "      <th>PANID</th>\n",
       "      <th>UNITS</th>\n",
       "      <th>file</th>\n",
       "      <th>DATETIME</th>\n",
       "    </tr>\n",
       "  </thead>\n",
       "  <tbody>\n",
       "    <tr>\n",
       "      <th>0</th>\n",
       "      <td>17047000300</td>\n",
       "      <td>0.99</td>\n",
       "      <td>1097117</td>\n",
       "      <td>DK</td>\n",
       "      <td>3138826</td>\n",
       "      <td>1.0</td>\n",
       "      <td>yogurt_PANEL_DK_1479_1530.DAT</td>\n",
       "      <td>2008-09-04 12:28:00</td>\n",
       "    </tr>\n",
       "    <tr>\n",
       "      <th>1</th>\n",
       "      <td>17047000302</td>\n",
       "      <td>0.89</td>\n",
       "      <td>1097117</td>\n",
       "      <td>DK</td>\n",
       "      <td>3138826</td>\n",
       "      <td>1.0</td>\n",
       "      <td>yogurt_PANEL_DK_1479_1530.DAT</td>\n",
       "      <td>2008-03-11 13:04:00</td>\n",
       "    </tr>\n",
       "    <tr>\n",
       "      <th>2</th>\n",
       "      <td>17047000650</td>\n",
       "      <td>0.89</td>\n",
       "      <td>1097117</td>\n",
       "      <td>DK</td>\n",
       "      <td>3138826</td>\n",
       "      <td>1.0</td>\n",
       "      <td>yogurt_PANEL_DK_1479_1530.DAT</td>\n",
       "      <td>2008-03-07 13:11:00</td>\n",
       "    </tr>\n",
       "    <tr>\n",
       "      <th>3</th>\n",
       "      <td>17047000650</td>\n",
       "      <td>2.97</td>\n",
       "      <td>1097117</td>\n",
       "      <td>DK</td>\n",
       "      <td>3182048</td>\n",
       "      <td>3.0</td>\n",
       "      <td>yogurt_PANEL_DK_1479_1530.DAT</td>\n",
       "      <td>2008-11-28 06:57:00</td>\n",
       "    </tr>\n",
       "    <tr>\n",
       "      <th>4</th>\n",
       "      <td>17047001372</td>\n",
       "      <td>1.49</td>\n",
       "      <td>1097117</td>\n",
       "      <td>DK</td>\n",
       "      <td>3184911</td>\n",
       "      <td>1.0</td>\n",
       "      <td>yogurt_PANEL_DK_1479_1530.DAT</td>\n",
       "      <td>2008-04-21 16:13:00</td>\n",
       "    </tr>\n",
       "  </tbody>\n",
       "</table>\n",
       "</div>"
      ],
      "text/plain": [
       "        COLUPC  DOLLARS  IRI_KEY OUTLET    PANID  UNITS  \\\n",
       "0  17047000300     0.99  1097117    DK   3138826    1.0   \n",
       "1  17047000302     0.89  1097117    DK   3138826    1.0   \n",
       "2  17047000650     0.89  1097117    DK   3138826    1.0   \n",
       "3  17047000650     2.97  1097117    DK   3182048    3.0   \n",
       "4  17047001372     1.49  1097117    DK   3184911    1.0   \n",
       "\n",
       "                            file            DATETIME  \n",
       "0  yogurt_PANEL_DK_1479_1530.DAT 2008-09-04 12:28:00  \n",
       "1  yogurt_PANEL_DK_1479_1530.DAT 2008-03-11 13:04:00  \n",
       "2  yogurt_PANEL_DK_1479_1530.DAT 2008-03-07 13:11:00  \n",
       "3  yogurt_PANEL_DK_1479_1530.DAT 2008-11-28 06:57:00  \n",
       "4  yogurt_PANEL_DK_1479_1530.DAT 2008-04-21 16:13:00  "
      ]
     },
     "execution_count": 17,
     "metadata": {},
     "output_type": "execute_result"
    }
   ],
   "source": [
    "df.head()"
   ]
  },
  {
   "cell_type": "markdown",
   "metadata": {},
   "source": [
    "Get the following data:\n",
    "\n",
    "- MONTH: Month of year\n",
    "- HOUR: Hour of day\n",
    "- DAY: Day of week"
   ]
  },
  {
   "cell_type": "code",
   "execution_count": 18,
   "metadata": {
    "collapsed": false
   },
   "outputs": [],
   "source": [
    "df['MONTH'] = df.DATETIME.dt.month\n",
    "df['HOUR'] = df.DATETIME.dt.hour\n",
    "df['DAY'] = df.DATETIME.dt.dayofweek\n",
    "df = df.drop(['DATETIME'], axis=1)"
   ]
  },
  {
   "cell_type": "code",
   "execution_count": 19,
   "metadata": {
    "collapsed": false
   },
   "outputs": [
    {
     "data": {
      "text/html": [
       "<div>\n",
       "<table border=\"1\" class=\"dataframe\">\n",
       "  <thead>\n",
       "    <tr style=\"text-align: right;\">\n",
       "      <th></th>\n",
       "      <th>COLUPC</th>\n",
       "      <th>DOLLARS</th>\n",
       "      <th>IRI_KEY</th>\n",
       "      <th>OUTLET</th>\n",
       "      <th>PANID</th>\n",
       "      <th>UNITS</th>\n",
       "      <th>file</th>\n",
       "      <th>MONTH</th>\n",
       "      <th>HOUR</th>\n",
       "      <th>DAY</th>\n",
       "    </tr>\n",
       "  </thead>\n",
       "  <tbody>\n",
       "    <tr>\n",
       "      <th>0</th>\n",
       "      <td>17047000300</td>\n",
       "      <td>0.99</td>\n",
       "      <td>1097117</td>\n",
       "      <td>DK</td>\n",
       "      <td>3138826</td>\n",
       "      <td>1.0</td>\n",
       "      <td>yogurt_PANEL_DK_1479_1530.DAT</td>\n",
       "      <td>9</td>\n",
       "      <td>12</td>\n",
       "      <td>3</td>\n",
       "    </tr>\n",
       "    <tr>\n",
       "      <th>1</th>\n",
       "      <td>17047000302</td>\n",
       "      <td>0.89</td>\n",
       "      <td>1097117</td>\n",
       "      <td>DK</td>\n",
       "      <td>3138826</td>\n",
       "      <td>1.0</td>\n",
       "      <td>yogurt_PANEL_DK_1479_1530.DAT</td>\n",
       "      <td>3</td>\n",
       "      <td>13</td>\n",
       "      <td>1</td>\n",
       "    </tr>\n",
       "    <tr>\n",
       "      <th>2</th>\n",
       "      <td>17047000650</td>\n",
       "      <td>0.89</td>\n",
       "      <td>1097117</td>\n",
       "      <td>DK</td>\n",
       "      <td>3138826</td>\n",
       "      <td>1.0</td>\n",
       "      <td>yogurt_PANEL_DK_1479_1530.DAT</td>\n",
       "      <td>3</td>\n",
       "      <td>13</td>\n",
       "      <td>4</td>\n",
       "    </tr>\n",
       "    <tr>\n",
       "      <th>3</th>\n",
       "      <td>17047000650</td>\n",
       "      <td>2.97</td>\n",
       "      <td>1097117</td>\n",
       "      <td>DK</td>\n",
       "      <td>3182048</td>\n",
       "      <td>3.0</td>\n",
       "      <td>yogurt_PANEL_DK_1479_1530.DAT</td>\n",
       "      <td>11</td>\n",
       "      <td>6</td>\n",
       "      <td>4</td>\n",
       "    </tr>\n",
       "    <tr>\n",
       "      <th>4</th>\n",
       "      <td>17047001372</td>\n",
       "      <td>1.49</td>\n",
       "      <td>1097117</td>\n",
       "      <td>DK</td>\n",
       "      <td>3184911</td>\n",
       "      <td>1.0</td>\n",
       "      <td>yogurt_PANEL_DK_1479_1530.DAT</td>\n",
       "      <td>4</td>\n",
       "      <td>16</td>\n",
       "      <td>0</td>\n",
       "    </tr>\n",
       "  </tbody>\n",
       "</table>\n",
       "</div>"
      ],
      "text/plain": [
       "        COLUPC  DOLLARS  IRI_KEY OUTLET    PANID  UNITS  \\\n",
       "0  17047000300     0.99  1097117    DK   3138826    1.0   \n",
       "1  17047000302     0.89  1097117    DK   3138826    1.0   \n",
       "2  17047000650     0.89  1097117    DK   3138826    1.0   \n",
       "3  17047000650     2.97  1097117    DK   3182048    3.0   \n",
       "4  17047001372     1.49  1097117    DK   3184911    1.0   \n",
       "\n",
       "                            file  MONTH  HOUR  DAY  \n",
       "0  yogurt_PANEL_DK_1479_1530.DAT      9    12    3  \n",
       "1  yogurt_PANEL_DK_1479_1530.DAT      3    13    1  \n",
       "2  yogurt_PANEL_DK_1479_1530.DAT      3    13    4  \n",
       "3  yogurt_PANEL_DK_1479_1530.DAT     11     6    4  \n",
       "4  yogurt_PANEL_DK_1479_1530.DAT      4    16    0  "
      ]
     },
     "execution_count": 19,
     "metadata": {},
     "output_type": "execute_result"
    }
   ],
   "source": [
    "df.head()"
   ]
  },
  {
   "cell_type": "markdown",
   "metadata": {},
   "source": [
    "####Drop redundant columns"
   ]
  },
  {
   "cell_type": "code",
   "execution_count": 20,
   "metadata": {
    "collapsed": false
   },
   "outputs": [
    {
     "data": {
      "text/html": [
       "<div>\n",
       "<table border=\"1\" class=\"dataframe\">\n",
       "  <thead>\n",
       "    <tr style=\"text-align: right;\">\n",
       "      <th></th>\n",
       "      <th>DOLLARS</th>\n",
       "      <th>OUTLET</th>\n",
       "      <th>UNITS</th>\n",
       "      <th>MONTH</th>\n",
       "      <th>HOUR</th>\n",
       "      <th>DAY</th>\n",
       "    </tr>\n",
       "  </thead>\n",
       "  <tbody>\n",
       "    <tr>\n",
       "      <th>0</th>\n",
       "      <td>0.99</td>\n",
       "      <td>DK</td>\n",
       "      <td>1.0</td>\n",
       "      <td>9</td>\n",
       "      <td>12</td>\n",
       "      <td>3</td>\n",
       "    </tr>\n",
       "    <tr>\n",
       "      <th>1</th>\n",
       "      <td>0.89</td>\n",
       "      <td>DK</td>\n",
       "      <td>1.0</td>\n",
       "      <td>3</td>\n",
       "      <td>13</td>\n",
       "      <td>1</td>\n",
       "    </tr>\n",
       "    <tr>\n",
       "      <th>2</th>\n",
       "      <td>0.89</td>\n",
       "      <td>DK</td>\n",
       "      <td>1.0</td>\n",
       "      <td>3</td>\n",
       "      <td>13</td>\n",
       "      <td>4</td>\n",
       "    </tr>\n",
       "    <tr>\n",
       "      <th>3</th>\n",
       "      <td>2.97</td>\n",
       "      <td>DK</td>\n",
       "      <td>3.0</td>\n",
       "      <td>11</td>\n",
       "      <td>6</td>\n",
       "      <td>4</td>\n",
       "    </tr>\n",
       "    <tr>\n",
       "      <th>4</th>\n",
       "      <td>1.49</td>\n",
       "      <td>DK</td>\n",
       "      <td>1.0</td>\n",
       "      <td>4</td>\n",
       "      <td>16</td>\n",
       "      <td>0</td>\n",
       "    </tr>\n",
       "  </tbody>\n",
       "</table>\n",
       "</div>"
      ],
      "text/plain": [
       "   DOLLARS OUTLET  UNITS  MONTH  HOUR  DAY\n",
       "0     0.99    DK     1.0      9    12    3\n",
       "1     0.89    DK     1.0      3    13    1\n",
       "2     0.89    DK     1.0      3    13    4\n",
       "3     2.97    DK     3.0     11     6    4\n",
       "4     1.49    DK     1.0      4    16    0"
      ]
     },
     "execution_count": 20,
     "metadata": {},
     "output_type": "execute_result"
    }
   ],
   "source": [
    "df = df.drop(['COLUPC','IRI_KEY','PANID','file'], axis=1)\n",
    "df.head()"
   ]
  },
  {
   "cell_type": "markdown",
   "metadata": {},
   "source": [
    "####Create dummies for Outlet\n",
    "\n",
    "Only picking GK only those have significant sales"
   ]
  },
  {
   "cell_type": "code",
   "execution_count": 21,
   "metadata": {
    "collapsed": false
   },
   "outputs": [
    {
     "data": {
      "text/html": [
       "<div>\n",
       "<table border=\"1\" class=\"dataframe\">\n",
       "  <thead>\n",
       "    <tr style=\"text-align: right;\">\n",
       "      <th></th>\n",
       "      <th>DOLLARS</th>\n",
       "      <th>UNITS</th>\n",
       "      <th>MONTH</th>\n",
       "      <th>HOUR</th>\n",
       "      <th>DAY</th>\n",
       "      <th>OUTLET_GK</th>\n",
       "    </tr>\n",
       "  </thead>\n",
       "  <tbody>\n",
       "    <tr>\n",
       "      <th>0</th>\n",
       "      <td>0.99</td>\n",
       "      <td>1.0</td>\n",
       "      <td>9</td>\n",
       "      <td>12</td>\n",
       "      <td>3</td>\n",
       "      <td>0.0</td>\n",
       "    </tr>\n",
       "    <tr>\n",
       "      <th>1</th>\n",
       "      <td>0.89</td>\n",
       "      <td>1.0</td>\n",
       "      <td>3</td>\n",
       "      <td>13</td>\n",
       "      <td>1</td>\n",
       "      <td>0.0</td>\n",
       "    </tr>\n",
       "    <tr>\n",
       "      <th>2</th>\n",
       "      <td>0.89</td>\n",
       "      <td>1.0</td>\n",
       "      <td>3</td>\n",
       "      <td>13</td>\n",
       "      <td>4</td>\n",
       "      <td>0.0</td>\n",
       "    </tr>\n",
       "    <tr>\n",
       "      <th>3</th>\n",
       "      <td>2.97</td>\n",
       "      <td>3.0</td>\n",
       "      <td>11</td>\n",
       "      <td>6</td>\n",
       "      <td>4</td>\n",
       "      <td>0.0</td>\n",
       "    </tr>\n",
       "    <tr>\n",
       "      <th>4</th>\n",
       "      <td>1.49</td>\n",
       "      <td>1.0</td>\n",
       "      <td>4</td>\n",
       "      <td>16</td>\n",
       "      <td>0</td>\n",
       "      <td>0.0</td>\n",
       "    </tr>\n",
       "  </tbody>\n",
       "</table>\n",
       "</div>"
      ],
      "text/plain": [
       "   DOLLARS  UNITS  MONTH  HOUR  DAY  OUTLET_GK \n",
       "0     0.99    1.0      9    12    3         0.0\n",
       "1     0.89    1.0      3    13    1         0.0\n",
       "2     0.89    1.0      3    13    4         0.0\n",
       "3     2.97    3.0     11     6    4         0.0\n",
       "4     1.49    1.0      4    16    0         0.0"
      ]
     },
     "execution_count": 21,
     "metadata": {},
     "output_type": "execute_result"
    }
   ],
   "source": [
    "dummies_Outlet = pd.get_dummies(df['OUTLET'], prefix= 'OUTLET') \n",
    "df = pd.concat([df, dummies_Outlet], axis=1)\n",
    "df = df.drop(['OUTLET', 'OUTLET_DK ','OUTLET_MK '], axis=1)\n",
    "df.head()"
   ]
  },
  {
   "cell_type": "markdown",
   "metadata": {},
   "source": [
    "#Clustering"
   ]
  },
  {
   "cell_type": "code",
   "execution_count": 22,
   "metadata": {
    "collapsed": false
   },
   "outputs": [
    {
     "data": {
      "image/png": "[encoded data removed]",
      "text/plain": [
       "<matplotlib.figure.Figure at 0x7f7ac7a03a10>"
      ]
     },
     "metadata": {},
     "output_type": "display_data"
    }
   ],
   "source": [
    "dt_trans = df.values\n",
    "\n",
    "K = range(1,8)\n",
    "KM = [KMeans(n_clusters=k, n_jobs=-1).fit(dt_trans) for k in K]\n",
    "centroids = [k.cluster_centers_ for k in KM]\n",
    "\n",
    "D_k = [cdist(dt_trans, cent, 'euclidean') for cent in centroids]\n",
    "cIdx = [np.argmin(D,axis=1) for D in D_k]\n",
    "dist = [np.min(D,axis=1) for D in D_k]\n",
    "avgWithinSS = [sum(d)/dt_trans.shape[0] for d in dist]\n",
    "\n",
    "# elbow curve\n",
    "fig = plt.figure()\n",
    "ax = fig.add_subplot(111)\n",
    "ax.plot(K, avgWithinSS, 'b*-')\n",
    "plt.grid(True)\n",
    "plt.xlabel('Number of clusters')\n",
    "plt.ylabel('Average within-cluster sum of squares')\n",
    "plt.title('Elbow for KMeans clustering');"
   ]
  },
  {
   "cell_type": "markdown",
   "metadata": {},
   "source": [
    "The elbow curve shows that 4 clusters retain enough information"
   ]
  },
  {
   "cell_type": "code",
   "execution_count": 23,
   "metadata": {
    "collapsed": false
   },
   "outputs": [],
   "source": [
    "km = KMeans(n_clusters=4, n_jobs=-1)\n",
    "km.fit(df.values)\n",
    "clusters = km.predict(df.values)\n",
    "data = km.cluster_centers_\n",
    "df_centers = pd.DataFrame(data, columns=df.columns)"
   ]
  },
  {
   "cell_type": "code",
   "execution_count": 24,
   "metadata": {
    "collapsed": false
   },
   "outputs": [
    {
     "data": {
      "text/html": [
       "<div>\n",
       "<table border=\"1\" class=\"dataframe\">\n",
       "  <thead>\n",
       "    <tr style=\"text-align: right;\">\n",
       "      <th></th>\n",
       "      <th>DOLLARS</th>\n",
       "      <th>UNITS</th>\n",
       "      <th>MONTH</th>\n",
       "      <th>HOUR</th>\n",
       "      <th>DAY</th>\n",
       "      <th>OUTLET_GK</th>\n",
       "    </tr>\n",
       "  </thead>\n",
       "  <tbody>\n",
       "    <tr>\n",
       "      <th>0</th>\n",
       "      <td>1.659495</td>\n",
       "      <td>1.955212</td>\n",
       "      <td>3.471639</td>\n",
       "      <td>17.127606</td>\n",
       "      <td>2.991819</td>\n",
       "      <td>0.999583</td>\n",
       "    </tr>\n",
       "    <tr>\n",
       "      <th>1</th>\n",
       "      <td>1.683071</td>\n",
       "      <td>1.828349</td>\n",
       "      <td>9.334357</td>\n",
       "      <td>11.464419</td>\n",
       "      <td>3.215413</td>\n",
       "      <td>0.999749</td>\n",
       "    </tr>\n",
       "    <tr>\n",
       "      <th>2</th>\n",
       "      <td>1.581442</td>\n",
       "      <td>1.885243</td>\n",
       "      <td>3.391454</td>\n",
       "      <td>11.498760</td>\n",
       "      <td>3.273418</td>\n",
       "      <td>0.999842</td>\n",
       "    </tr>\n",
       "    <tr>\n",
       "      <th>3</th>\n",
       "      <td>1.774195</td>\n",
       "      <td>1.913889</td>\n",
       "      <td>9.256443</td>\n",
       "      <td>17.165417</td>\n",
       "      <td>2.973166</td>\n",
       "      <td>0.999369</td>\n",
       "    </tr>\n",
       "  </tbody>\n",
       "</table>\n",
       "</div>"
      ],
      "text/plain": [
       "    DOLLARS     UNITS     MONTH       HOUR       DAY  OUTLET_GK \n",
       "0  1.659495  1.955212  3.471639  17.127606  2.991819    0.999583\n",
       "1  1.683071  1.828349  9.334357  11.464419  3.215413    0.999749\n",
       "2  1.581442  1.885243  3.391454  11.498760  3.273418    0.999842\n",
       "3  1.774195  1.913889  9.256443  17.165417  2.973166    0.999369"
      ]
     },
     "execution_count": 24,
     "metadata": {},
     "output_type": "execute_result"
    }
   ],
   "source": [
    "df_centers.head()"
   ]
  },
  {
   "cell_type": "markdown",
   "metadata": {},
   "source": [
    "####Descripton of each cluster:\n",
    " \n",
    "1) This cluster occurs in October around 4pm at GR. This cluster has the second highest sales.\n",
    " \n",
    "2) This cluster occur February around 4pm at GR. This cluster has the second lowest sales.\n",
    "\n",
    "3) This cluster occur between June-July at 5pm at GR. This cluster has the lowest sales.\n",
    "\n",
    "4) This cluster occur in June at 10am at GK. This cluster has the highest sales. "
   ]
  },
  {
   "cell_type": "markdown",
   "metadata": {},
   "source": [
    "#Split Data"
   ]
  },
  {
   "cell_type": "markdown",
   "metadata": {},
   "source": [
    "####Normalize Data"
   ]
  },
  {
   "cell_type": "code",
   "execution_count": 14,
   "metadata": {
    "collapsed": false
   },
   "outputs": [],
   "source": [
    "df_norm = df / (df.max() - df.min())"
   ]
  },
  {
   "cell_type": "code",
   "execution_count": 15,
   "metadata": {
    "collapsed": false
   },
   "outputs": [
    {
     "data": {
      "text/html": [
       "<div>\n",
       "<table border=\"1\" class=\"dataframe\">\n",
       "  <thead>\n",
       "    <tr style=\"text-align: right;\">\n",
       "      <th></th>\n",
       "      <th>DOLLARS</th>\n",
       "      <th>UNITS</th>\n",
       "      <th>MONTH</th>\n",
       "      <th>HOUR</th>\n",
       "      <th>WEEK</th>\n",
       "      <th>OUTLET_GK</th>\n",
       "    </tr>\n",
       "  </thead>\n",
       "  <tbody>\n",
       "    <tr>\n",
       "      <th>0</th>\n",
       "      <td>0.013842</td>\n",
       "      <td>0.020903</td>\n",
       "      <td>0.818182</td>\n",
       "      <td>0.521739</td>\n",
       "      <td>0.500000</td>\n",
       "      <td>0.0</td>\n",
       "    </tr>\n",
       "    <tr>\n",
       "      <th>1</th>\n",
       "      <td>0.012444</td>\n",
       "      <td>0.020903</td>\n",
       "      <td>0.272727</td>\n",
       "      <td>0.565217</td>\n",
       "      <td>0.166667</td>\n",
       "      <td>0.0</td>\n",
       "    </tr>\n",
       "    <tr>\n",
       "      <th>2</th>\n",
       "      <td>0.012444</td>\n",
       "      <td>0.020903</td>\n",
       "      <td>0.272727</td>\n",
       "      <td>0.565217</td>\n",
       "      <td>0.666667</td>\n",
       "      <td>0.0</td>\n",
       "    </tr>\n",
       "    <tr>\n",
       "      <th>3</th>\n",
       "      <td>0.041527</td>\n",
       "      <td>0.062709</td>\n",
       "      <td>1.000000</td>\n",
       "      <td>0.260870</td>\n",
       "      <td>0.666667</td>\n",
       "      <td>0.0</td>\n",
       "    </tr>\n",
       "    <tr>\n",
       "      <th>4</th>\n",
       "      <td>0.020833</td>\n",
       "      <td>0.020903</td>\n",
       "      <td>0.363636</td>\n",
       "      <td>0.695652</td>\n",
       "      <td>0.000000</td>\n",
       "      <td>0.0</td>\n",
       "    </tr>\n",
       "  </tbody>\n",
       "</table>\n",
       "</div>"
      ],
      "text/plain": [
       "    DOLLARS     UNITS     MONTH      HOUR      WEEK  OUTLET_GK \n",
       "0  0.013842  0.020903  0.818182  0.521739  0.500000         0.0\n",
       "1  0.012444  0.020903  0.272727  0.565217  0.166667         0.0\n",
       "2  0.012444  0.020903  0.272727  0.565217  0.666667         0.0\n",
       "3  0.041527  0.062709  1.000000  0.260870  0.666667         0.0\n",
       "4  0.020833  0.020903  0.363636  0.695652  0.000000         0.0"
      ]
     },
     "execution_count": 15,
     "metadata": {},
     "output_type": "execute_result"
    }
   ],
   "source": [
    "df_norm.head()"
   ]
  },
  {
   "cell_type": "markdown",
   "metadata": {},
   "source": [
    "####Train-Test Split"
   ]
  },
  {
   "cell_type": "code",
   "execution_count": 16,
   "metadata": {
    "collapsed": false
   },
   "outputs": [],
   "source": [
    "df_norm = df_norm.sample(n=3000)\n",
    "X = df_norm.ix[:,1:]\n",
    "y = df_norm['DOLLARS']\n",
    "X_train, X_test, y_train, y_test = train_test_split(X, y, test_size=0.33, random_state=44)"
   ]
  },
  {
   "cell_type": "markdown",
   "metadata": {},
   "source": [
    "#Regression"
   ]
  },
  {
   "cell_type": "code",
   "execution_count": 17,
   "metadata": {
    "collapsed": false
   },
   "outputs": [
    {
     "data": {
      "text/plain": [
       "0.069301016885450539"
      ]
     },
     "execution_count": 17,
     "metadata": {},
     "output_type": "execute_result"
    }
   ],
   "source": [
    "clf = RandomForestRegressor(n_jobs=-1)\n",
    "clf.fit(X_train, y_train)\n",
    "clf.score(X_test, y_test)"
   ]
  },
  {
   "cell_type": "code",
   "execution_count": 18,
   "metadata": {
    "collapsed": false
   },
   "outputs": [
    {
     "data": {
      "text/plain": [
       "-18.411516808097979"
      ]
     },
     "execution_count": 18,
     "metadata": {},
     "output_type": "execute_result"
    }
   ],
   "source": [
    "clf = SVR()\n",
    "clf.fit(X_train, y_train)\n",
    "clf.score(X_test, y_test)"
   ]
  },
  {
   "cell_type": "code",
   "execution_count": null,
   "metadata": {
    "collapsed": true
   },
   "outputs": [],
   "source": []
  }
 ],
 "metadata": {
  "kernelspec": {
   "display_name": "Python 2",
   "language": "python",
   "name": "python2"
  },
  "language_info": {
   "codemirror_mode": {
    "name": "ipython",
    "version": 2
   },
   "file_extension": ".py",
   "mimetype": "text/x-python",
   "name": "python",
   "nbconvert_exporter": "python",
   "pygments_lexer": "ipython2",
   "version": "2.7.11"
  }
 },
 "nbformat": 4,
 "nbformat_minor": 0
}
