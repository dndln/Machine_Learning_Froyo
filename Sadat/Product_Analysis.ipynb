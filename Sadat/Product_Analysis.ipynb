{
 "cells": [
  {
   "cell_type": "code",
   "execution_count": 1,
   "metadata": {
    "collapsed": false
   },
   "outputs": [
    {
     "name": "stderr",
     "output_type": "stream",
     "text": [
      ":0: FutureWarning: IPython widgets are experimental and may change in the future.\n"
     ]
    }
   ],
   "source": [
    "import h5py as h5\n",
    "import numpy as np\n",
    "import pandas as pd\n",
    "import numpy as np\n",
    "import matplotlib.pyplot as plt\n",
    "import seaborn as sns\n",
    "import datetime as dt\n",
    "%matplotlib inline"
   ]
  },
  {
   "cell_type": "code",
   "execution_count": 2,
   "metadata": {
    "collapsed": true
   },
   "outputs": [],
   "source": [
    "df = pd.read_excel('/home/sadat/Desktop/IRI Yogurt/parsed stub files 2007/prod_yogurt.xlsx')"
   ]
  },
  {
   "cell_type": "code",
   "execution_count": 3,
   "metadata": {
    "collapsed": false
   },
   "outputs": [
    {
     "data": {
      "text/html": [
       "<div>\n",
       "<table border=\"1\" class=\"dataframe\">\n",
       "  <thead>\n",
       "    <tr style=\"text-align: right;\">\n",
       "      <th></th>\n",
       "      <th>L1</th>\n",
       "      <th>L2</th>\n",
       "      <th>L3</th>\n",
       "      <th>L4</th>\n",
       "      <th>L5</th>\n",
       "      <th>L9</th>\n",
       "      <th>Level</th>\n",
       "      <th>UPC</th>\n",
       "      <th>SY</th>\n",
       "      <th>GE</th>\n",
       "      <th>...</th>\n",
       "      <th>ITEM</th>\n",
       "      <th>*STUBSPEC 1284IS                                                         00004</th>\n",
       "      <th>VOL_EQ</th>\n",
       "      <th>PRODUCT TYPE</th>\n",
       "      <th>PACKAGE</th>\n",
       "      <th>FLAVOR/SCENT</th>\n",
       "      <th>FAT CONTENT</th>\n",
       "      <th>CALORIE LEVEL</th>\n",
       "      <th>STYLE</th>\n",
       "      <th>TYPE OF YOGURT</th>\n",
       "    </tr>\n",
       "  </thead>\n",
       "  <tbody>\n",
       "    <tr>\n",
       "      <th>0</th>\n",
       "      <td>CATEGORY - YOGURT</td>\n",
       "      <td>RFG YOGURT</td>\n",
       "      <td>AGRO FARMA INC</td>\n",
       "      <td>AGRO FARMA INC</td>\n",
       "      <td>CHOBANI</td>\n",
       "      <td>+CHOBN RFG BUB YGRT N/FT 0.375PT</td>\n",
       "      <td>9</td>\n",
       "      <td>08-01-94700-01005</td>\n",
       "      <td>8</td>\n",
       "      <td>1</td>\n",
       "      <td>...</td>\n",
       "      <td>1005</td>\n",
       "      <td>+CHOBN RFG BUB YGRT N/FT 0.375PT 8 1 9...</td>\n",
       "      <td>0.375</td>\n",
       "      <td>YOGURT</td>\n",
       "      <td>PLASTIC CUP</td>\n",
       "      <td>BLUEBERRY</td>\n",
       "      <td>NONFAT</td>\n",
       "      <td>MISSING</td>\n",
       "      <td>GREEK</td>\n",
       "      <td>FRUIT ON THE BOTTOM</td>\n",
       "    </tr>\n",
       "    <tr>\n",
       "      <th>1</th>\n",
       "      <td>CATEGORY - YOGURT</td>\n",
       "      <td>RFG YOGURT</td>\n",
       "      <td>AGRO FARMA INC</td>\n",
       "      <td>AGRO FARMA INC</td>\n",
       "      <td>CHOBANI</td>\n",
       "      <td>+CHOBN RFG HNY YGRT N/FT 0.375PT</td>\n",
       "      <td>9</td>\n",
       "      <td>08-01-94700-01003</td>\n",
       "      <td>8</td>\n",
       "      <td>1</td>\n",
       "      <td>...</td>\n",
       "      <td>1003</td>\n",
       "      <td>+CHOBN RFG HNY YGRT N/FT 0.375PT 8 1 9...</td>\n",
       "      <td>0.375</td>\n",
       "      <td>YOGURT</td>\n",
       "      <td>PLASTIC CUP</td>\n",
       "      <td>HONEY</td>\n",
       "      <td>NONFAT</td>\n",
       "      <td>MISSING</td>\n",
       "      <td>GREEK</td>\n",
       "      <td>BLENDED</td>\n",
       "    </tr>\n",
       "    <tr>\n",
       "      <th>2</th>\n",
       "      <td>CATEGORY - YOGURT</td>\n",
       "      <td>RFG YOGURT</td>\n",
       "      <td>AGRO FARMA INC</td>\n",
       "      <td>AGRO FARMA INC</td>\n",
       "      <td>CHOBANI</td>\n",
       "      <td>+CHOBN RFG PCH YGRT N/FT 0.375PT</td>\n",
       "      <td>9</td>\n",
       "      <td>08-01-94700-01006</td>\n",
       "      <td>8</td>\n",
       "      <td>1</td>\n",
       "      <td>...</td>\n",
       "      <td>1006</td>\n",
       "      <td>+CHOBN RFG PCH YGRT N/FT 0.375PT 8 1 9...</td>\n",
       "      <td>0.375</td>\n",
       "      <td>YOGURT</td>\n",
       "      <td>PLASTIC CUP</td>\n",
       "      <td>PEACH</td>\n",
       "      <td>NONFAT</td>\n",
       "      <td>MISSING</td>\n",
       "      <td>GREEK</td>\n",
       "      <td>FRUIT ON THE BOTTOM</td>\n",
       "    </tr>\n",
       "    <tr>\n",
       "      <th>3</th>\n",
       "      <td>CATEGORY - YOGURT</td>\n",
       "      <td>RFG YOGURT</td>\n",
       "      <td>AGRO FARMA INC</td>\n",
       "      <td>AGRO FARMA INC</td>\n",
       "      <td>CHOBANI</td>\n",
       "      <td>+CHOBN RFG PLN YGRT L/FT REG 1PT</td>\n",
       "      <td>9</td>\n",
       "      <td>08-01-94700-01037</td>\n",
       "      <td>8</td>\n",
       "      <td>1</td>\n",
       "      <td>...</td>\n",
       "      <td>1037</td>\n",
       "      <td>+CHOBN RFG PLN YGRT L/FT REG 1PT 8 1 9...</td>\n",
       "      <td>1.000</td>\n",
       "      <td>YOGURT</td>\n",
       "      <td>PLASTIC CONTAINER</td>\n",
       "      <td>PLAIN</td>\n",
       "      <td>LOW FAT</td>\n",
       "      <td>MISSING</td>\n",
       "      <td>GREEK</td>\n",
       "      <td>REGULAR</td>\n",
       "    </tr>\n",
       "    <tr>\n",
       "      <th>4</th>\n",
       "      <td>CATEGORY - YOGURT</td>\n",
       "      <td>RFG YOGURT</td>\n",
       "      <td>AGRO FARMA INC</td>\n",
       "      <td>AGRO FARMA INC</td>\n",
       "      <td>CHOBANI</td>\n",
       "      <td>+CHOBN RFG PLN YGRT N/FT 0.375PT</td>\n",
       "      <td>9</td>\n",
       "      <td>08-01-94700-01001</td>\n",
       "      <td>8</td>\n",
       "      <td>1</td>\n",
       "      <td>...</td>\n",
       "      <td>1001</td>\n",
       "      <td>+CHOBN RFG PLN YGRT N/FT 0.375PT 8 1 9...</td>\n",
       "      <td>0.375</td>\n",
       "      <td>YOGURT</td>\n",
       "      <td>PLASTIC CUP</td>\n",
       "      <td>PLAIN</td>\n",
       "      <td>NONFAT</td>\n",
       "      <td>MISSING</td>\n",
       "      <td>GREEK</td>\n",
       "      <td>REGULAR</td>\n",
       "    </tr>\n",
       "  </tbody>\n",
       "</table>\n",
       "<p>5 rows × 21 columns</p>\n",
       "</div>"
      ],
      "text/plain": [
       "                                  L1          L2              L3  \\\n",
       "0  CATEGORY - YOGURT                  RFG YOGURT  AGRO FARMA INC   \n",
       "1  CATEGORY - YOGURT                  RFG YOGURT  AGRO FARMA INC   \n",
       "2  CATEGORY - YOGURT                  RFG YOGURT  AGRO FARMA INC   \n",
       "3  CATEGORY - YOGURT                  RFG YOGURT  AGRO FARMA INC   \n",
       "4  CATEGORY - YOGURT                  RFG YOGURT  AGRO FARMA INC   \n",
       "\n",
       "               L4       L5                                L9  Level  \\\n",
       "0  AGRO FARMA INC  CHOBANI  +CHOBN RFG BUB YGRT N/FT 0.375PT      9   \n",
       "1  AGRO FARMA INC  CHOBANI  +CHOBN RFG HNY YGRT N/FT 0.375PT      9   \n",
       "2  AGRO FARMA INC  CHOBANI  +CHOBN RFG PCH YGRT N/FT 0.375PT      9   \n",
       "3  AGRO FARMA INC  CHOBANI  +CHOBN RFG PLN YGRT L/FT REG 1PT      9   \n",
       "4  AGRO FARMA INC  CHOBANI  +CHOBN RFG PLN YGRT N/FT 0.375PT      9   \n",
       "\n",
       "                 UPC  SY  GE         ...           ITEM  \\\n",
       "0  08-01-94700-01005   8   1         ...           1005   \n",
       "1  08-01-94700-01003   8   1         ...           1003   \n",
       "2  08-01-94700-01006   8   1         ...           1006   \n",
       "3  08-01-94700-01037   8   1         ...           1037   \n",
       "4  08-01-94700-01001   8   1         ...           1001   \n",
       "\n",
       "   *STUBSPEC 1284IS                                                         00004    \\\n",
       "0          +CHOBN RFG BUB YGRT N/FT 0.375PT 8 1 9...                                  \n",
       "1          +CHOBN RFG HNY YGRT N/FT 0.375PT 8 1 9...                                  \n",
       "2          +CHOBN RFG PCH YGRT N/FT 0.375PT 8 1 9...                                  \n",
       "3          +CHOBN RFG PLN YGRT L/FT REG 1PT 8 1 9...                                  \n",
       "4          +CHOBN RFG PLN YGRT N/FT 0.375PT 8 1 9...                                  \n",
       "\n",
       "  VOL_EQ  PRODUCT TYPE            PACKAGE FLAVOR/SCENT FAT CONTENT  \\\n",
       "0  0.375        YOGURT        PLASTIC CUP    BLUEBERRY      NONFAT   \n",
       "1  0.375        YOGURT        PLASTIC CUP        HONEY      NONFAT   \n",
       "2  0.375        YOGURT        PLASTIC CUP        PEACH      NONFAT   \n",
       "3  1.000        YOGURT  PLASTIC CONTAINER        PLAIN     LOW FAT   \n",
       "4  0.375        YOGURT        PLASTIC CUP        PLAIN      NONFAT   \n",
       "\n",
       "  CALORIE LEVEL  STYLE       TYPE OF YOGURT  \n",
       "0       MISSING  GREEK  FRUIT ON THE BOTTOM  \n",
       "1       MISSING  GREEK              BLENDED  \n",
       "2       MISSING  GREEK  FRUIT ON THE BOTTOM  \n",
       "3       MISSING  GREEK              REGULAR  \n",
       "4       MISSING  GREEK              REGULAR  \n",
       "\n",
       "[5 rows x 21 columns]"
      ]
     },
     "execution_count": 3,
     "metadata": {},
     "output_type": "execute_result"
    }
   ],
   "source": [
    "df.head()"
   ]
  },
  {
   "cell_type": "code",
   "execution_count": 4,
   "metadata": {
    "collapsed": false
   },
   "outputs": [
    {
     "data": {
      "text/plain": [
       "Index([u'L1', u'L2', u'L3', u'L4', u'L5', u'L9', u'Level', u'UPC', u'SY',\n",
       "       u'GE', u'VEND', u'ITEM',\n",
       "       u'*STUBSPEC 1284IS                                                         00004  ',\n",
       "       u'VOL_EQ', u'PRODUCT TYPE', u'PACKAGE', u'FLAVOR/SCENT', u'FAT CONTENT',\n",
       "       u'CALORIE LEVEL', u'STYLE', u'TYPE OF YOGURT'],\n",
       "      dtype='object')"
      ]
     },
     "execution_count": 4,
     "metadata": {},
     "output_type": "execute_result"
    }
   ],
   "source": [
    "df.columns"
   ]
  },
  {
   "cell_type": "code",
   "execution_count": null,
   "metadata": {
    "collapsed": true
   },
   "outputs": [],
   "source": []
  }
 ],
 "metadata": {
  "kernelspec": {
   "display_name": "Python 2",
   "language": "python",
   "name": "python2"
  },
  "language_info": {
   "codemirror_mode": {
    "name": "ipython",
    "version": 2
   },
   "file_extension": ".py",
   "mimetype": "text/x-python",
   "name": "python",
   "nbconvert_exporter": "python",
   "pygments_lexer": "ipython2",
   "version": "2.7.11"
  }
 },
 "nbformat": 4,
 "nbformat_minor": 0
}
