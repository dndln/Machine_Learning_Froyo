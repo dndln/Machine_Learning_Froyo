{
 "cells": [
  {
   "cell_type": "code",
   "execution_count": 18,
   "metadata": {
    "collapsed": false
   },
   "outputs": [],
   "source": [
    "import h5py as h5\n",
    "import numpy as np\n",
    "import pandas as pd\n",
    "import numpy as np\n",
    "import matplotlib.pyplot as plt\n",
    "from matplotlib.ticker import FuncFormatter\n",
    "from sklearn.cross_validation import train_test_split\n",
    "from sklearn.ensemble import RandomForestRegressor\n",
    "from sklearn.feature_selection import SelectFromModel, SelectKBest\n",
    "from sklearn.pipeline import Pipeline\n",
    "from sklearn.svm import SVR, LinearSVR\n",
    "from sklearn import preprocessing\n",
    "import calendar as cal\n",
    "import seaborn as sns\n",
    "import datetime as dt\n",
    "%matplotlib inline"
   ]
  },
  {
   "cell_type": "code",
   "execution_count": 2,
   "metadata": {
    "collapsed": false
   },
   "outputs": [
    {
     "data": {
      "text/html": [
       "<div>\n",
       "<table border=\"1\" class=\"dataframe\">\n",
       "  <thead>\n",
       "    <tr style=\"text-align: right;\">\n",
       "      <th></th>\n",
       "      <th>COLUPC</th>\n",
       "      <th>DOLLARS</th>\n",
       "      <th>IRI_KEY</th>\n",
       "      <th>MINUTE</th>\n",
       "      <th>OUTLET</th>\n",
       "      <th>PANID</th>\n",
       "      <th>UNITS</th>\n",
       "      <th>WEEK</th>\n",
       "      <th>file</th>\n",
       "    </tr>\n",
       "  </thead>\n",
       "  <tbody>\n",
       "    <tr>\n",
       "      <th>0</th>\n",
       "      <td>17047000300</td>\n",
       "      <td>0.99</td>\n",
       "      <td>1097117</td>\n",
       "      <td>5068.0</td>\n",
       "      <td>DK</td>\n",
       "      <td>3138826</td>\n",
       "      <td>1.0</td>\n",
       "      <td>1514</td>\n",
       "      <td>yogurt_PANEL_DK_1479_1530.DAT</td>\n",
       "    </tr>\n",
       "    <tr>\n",
       "      <th>1</th>\n",
       "      <td>17047000302</td>\n",
       "      <td>0.89</td>\n",
       "      <td>1097117</td>\n",
       "      <td>2224.0</td>\n",
       "      <td>DK</td>\n",
       "      <td>3138826</td>\n",
       "      <td>1.0</td>\n",
       "      <td>1489</td>\n",
       "      <td>yogurt_PANEL_DK_1479_1530.DAT</td>\n",
       "    </tr>\n",
       "    <tr>\n",
       "      <th>2</th>\n",
       "      <td>17047000650</td>\n",
       "      <td>0.89</td>\n",
       "      <td>1097117</td>\n",
       "      <td>6551.0</td>\n",
       "      <td>DK</td>\n",
       "      <td>3138826</td>\n",
       "      <td>1.0</td>\n",
       "      <td>1488</td>\n",
       "      <td>yogurt_PANEL_DK_1479_1530.DAT</td>\n",
       "    </tr>\n",
       "    <tr>\n",
       "      <th>3</th>\n",
       "      <td>17047000650</td>\n",
       "      <td>2.97</td>\n",
       "      <td>1097117</td>\n",
       "      <td>6177.0</td>\n",
       "      <td>DK</td>\n",
       "      <td>3182048</td>\n",
       "      <td>3.0</td>\n",
       "      <td>1526</td>\n",
       "      <td>yogurt_PANEL_DK_1479_1530.DAT</td>\n",
       "    </tr>\n",
       "    <tr>\n",
       "      <th>4</th>\n",
       "      <td>17047001372</td>\n",
       "      <td>1.49</td>\n",
       "      <td>1097117</td>\n",
       "      <td>973.0</td>\n",
       "      <td>DK</td>\n",
       "      <td>3184911</td>\n",
       "      <td>1.0</td>\n",
       "      <td>1495</td>\n",
       "      <td>yogurt_PANEL_DK_1479_1530.DAT</td>\n",
       "    </tr>\n",
       "  </tbody>\n",
       "</table>\n",
       "</div>"
      ],
      "text/plain": [
       "        COLUPC  DOLLARS  IRI_KEY  MINUTE OUTLET    PANID  UNITS  WEEK  \\\n",
       "0  17047000300     0.99  1097117  5068.0    DK   3138826    1.0  1514   \n",
       "1  17047000302     0.89  1097117  2224.0    DK   3138826    1.0  1489   \n",
       "2  17047000650     0.89  1097117  6551.0    DK   3138826    1.0  1488   \n",
       "3  17047000650     2.97  1097117  6177.0    DK   3182048    3.0  1526   \n",
       "4  17047001372     1.49  1097117   973.0    DK   3184911    1.0  1495   \n",
       "\n",
       "                            file  \n",
       "0  yogurt_PANEL_DK_1479_1530.DAT  \n",
       "1  yogurt_PANEL_DK_1479_1530.DAT  \n",
       "2  yogurt_PANEL_DK_1479_1530.DAT  \n",
       "3  yogurt_PANEL_DK_1479_1530.DAT  \n",
       "4  yogurt_PANEL_DK_1479_1530.DAT  "
      ]
     },
     "execution_count": 2,
     "metadata": {},
     "output_type": "execute_result"
    }
   ],
   "source": [
    "path = '/home/sadat/Documents/DSE/Data/yogurt.h5'\n",
    "df = pd.read_hdf(path, key='panel')\n",
    "df.head()"
   ]
  },
  {
   "cell_type": "markdown",
   "metadata": {},
   "source": [
    "#Feature Engineering\n",
    "\n",
    "####Fix adjust time features"
   ]
  },
  {
   "cell_type": "code",
   "execution_count": 3,
   "metadata": {
    "collapsed": true
   },
   "outputs": [],
   "source": [
    "def get_datetime(week, minute):\n",
    "    week, minute = int(week), int(minute)\n",
    "    # Reference orginal date is September 3, 1979\n",
    "    ref_orginal = dt.date.toordinal(dt.date(1979, 9, 3))\n",
    "    # Convert minutes to days, hours, minutes\n",
    "    days, hours, mins = (minute / 1440), ((minute % 1440) / 60), ((minute % 1440) % 60)\n",
    "    # Convert from ordinal.\n",
    "    return dt.datetime.fromordinal(ref_orginal + (week - 1) * 7 + days).replace(\n",
    "        hour=hours, minute=mins)\n",
    "\n",
    "week = df['WEEK'].values\n",
    "minute = df['MINUTE'].fillna(df['MINUTE'].median()).values\n",
    "datetime = []\n",
    "\n",
    "for w,m in zip(week,minute):\n",
    "    datetime.append(get_datetime(w,m))\n",
    "\n",
    "df = df.drop(['MINUTE','WEEK'], axis=1)\n",
    "df['DATETIME']=datetime"
   ]
  },
  {
   "cell_type": "code",
   "execution_count": 4,
   "metadata": {
    "collapsed": false
   },
   "outputs": [
    {
     "data": {
      "text/html": [
       "<div>\n",
       "<table border=\"1\" class=\"dataframe\">\n",
       "  <thead>\n",
       "    <tr style=\"text-align: right;\">\n",
       "      <th></th>\n",
       "      <th>COLUPC</th>\n",
       "      <th>DOLLARS</th>\n",
       "      <th>IRI_KEY</th>\n",
       "      <th>OUTLET</th>\n",
       "      <th>PANID</th>\n",
       "      <th>UNITS</th>\n",
       "      <th>file</th>\n",
       "      <th>DATETIME</th>\n",
       "    </tr>\n",
       "  </thead>\n",
       "  <tbody>\n",
       "    <tr>\n",
       "      <th>0</th>\n",
       "      <td>17047000300</td>\n",
       "      <td>0.99</td>\n",
       "      <td>1097117</td>\n",
       "      <td>DK</td>\n",
       "      <td>3138826</td>\n",
       "      <td>1.0</td>\n",
       "      <td>yogurt_PANEL_DK_1479_1530.DAT</td>\n",
       "      <td>2008-09-04 12:28:00</td>\n",
       "    </tr>\n",
       "    <tr>\n",
       "      <th>1</th>\n",
       "      <td>17047000302</td>\n",
       "      <td>0.89</td>\n",
       "      <td>1097117</td>\n",
       "      <td>DK</td>\n",
       "      <td>3138826</td>\n",
       "      <td>1.0</td>\n",
       "      <td>yogurt_PANEL_DK_1479_1530.DAT</td>\n",
       "      <td>2008-03-11 13:04:00</td>\n",
       "    </tr>\n",
       "    <tr>\n",
       "      <th>2</th>\n",
       "      <td>17047000650</td>\n",
       "      <td>0.89</td>\n",
       "      <td>1097117</td>\n",
       "      <td>DK</td>\n",
       "      <td>3138826</td>\n",
       "      <td>1.0</td>\n",
       "      <td>yogurt_PANEL_DK_1479_1530.DAT</td>\n",
       "      <td>2008-03-07 13:11:00</td>\n",
       "    </tr>\n",
       "    <tr>\n",
       "      <th>3</th>\n",
       "      <td>17047000650</td>\n",
       "      <td>2.97</td>\n",
       "      <td>1097117</td>\n",
       "      <td>DK</td>\n",
       "      <td>3182048</td>\n",
       "      <td>3.0</td>\n",
       "      <td>yogurt_PANEL_DK_1479_1530.DAT</td>\n",
       "      <td>2008-11-28 06:57:00</td>\n",
       "    </tr>\n",
       "    <tr>\n",
       "      <th>4</th>\n",
       "      <td>17047001372</td>\n",
       "      <td>1.49</td>\n",
       "      <td>1097117</td>\n",
       "      <td>DK</td>\n",
       "      <td>3184911</td>\n",
       "      <td>1.0</td>\n",
       "      <td>yogurt_PANEL_DK_1479_1530.DAT</td>\n",
       "      <td>2008-04-21 16:13:00</td>\n",
       "    </tr>\n",
       "  </tbody>\n",
       "</table>\n",
       "</div>"
      ],
      "text/plain": [
       "        COLUPC  DOLLARS  IRI_KEY OUTLET    PANID  UNITS  \\\n",
       "0  17047000300     0.99  1097117    DK   3138826    1.0   \n",
       "1  17047000302     0.89  1097117    DK   3138826    1.0   \n",
       "2  17047000650     0.89  1097117    DK   3138826    1.0   \n",
       "3  17047000650     2.97  1097117    DK   3182048    3.0   \n",
       "4  17047001372     1.49  1097117    DK   3184911    1.0   \n",
       "\n",
       "                            file            DATETIME  \n",
       "0  yogurt_PANEL_DK_1479_1530.DAT 2008-09-04 12:28:00  \n",
       "1  yogurt_PANEL_DK_1479_1530.DAT 2008-03-11 13:04:00  \n",
       "2  yogurt_PANEL_DK_1479_1530.DAT 2008-03-07 13:11:00  \n",
       "3  yogurt_PANEL_DK_1479_1530.DAT 2008-11-28 06:57:00  \n",
       "4  yogurt_PANEL_DK_1479_1530.DAT 2008-04-21 16:13:00  "
      ]
     },
     "execution_count": 4,
     "metadata": {},
     "output_type": "execute_result"
    }
   ],
   "source": [
    "df.head()"
   ]
  },
  {
   "cell_type": "code",
   "execution_count": 5,
   "metadata": {
    "collapsed": false
   },
   "outputs": [],
   "source": [
    "df['MONTH'] = df.DATETIME.dt.month\n",
    "df['HOUR'] = df.DATETIME.dt.hour\n",
    "df['WEEK'] = df.DATETIME.dt.week\n",
    "df = df.drop(['DATETIME'], axis=1)"
   ]
  },
  {
   "cell_type": "code",
   "execution_count": 6,
   "metadata": {
    "collapsed": false
   },
   "outputs": [
    {
     "data": {
      "text/html": [
       "<div>\n",
       "<table border=\"1\" class=\"dataframe\">\n",
       "  <thead>\n",
       "    <tr style=\"text-align: right;\">\n",
       "      <th></th>\n",
       "      <th>COLUPC</th>\n",
       "      <th>DOLLARS</th>\n",
       "      <th>IRI_KEY</th>\n",
       "      <th>OUTLET</th>\n",
       "      <th>PANID</th>\n",
       "      <th>UNITS</th>\n",
       "      <th>file</th>\n",
       "      <th>MONTH</th>\n",
       "      <th>HOUR</th>\n",
       "      <th>WEEK</th>\n",
       "    </tr>\n",
       "  </thead>\n",
       "  <tbody>\n",
       "    <tr>\n",
       "      <th>0</th>\n",
       "      <td>17047000300</td>\n",
       "      <td>0.99</td>\n",
       "      <td>1097117</td>\n",
       "      <td>DK</td>\n",
       "      <td>3138826</td>\n",
       "      <td>1.0</td>\n",
       "      <td>yogurt_PANEL_DK_1479_1530.DAT</td>\n",
       "      <td>9</td>\n",
       "      <td>12</td>\n",
       "      <td>36</td>\n",
       "    </tr>\n",
       "    <tr>\n",
       "      <th>1</th>\n",
       "      <td>17047000302</td>\n",
       "      <td>0.89</td>\n",
       "      <td>1097117</td>\n",
       "      <td>DK</td>\n",
       "      <td>3138826</td>\n",
       "      <td>1.0</td>\n",
       "      <td>yogurt_PANEL_DK_1479_1530.DAT</td>\n",
       "      <td>3</td>\n",
       "      <td>13</td>\n",
       "      <td>11</td>\n",
       "    </tr>\n",
       "    <tr>\n",
       "      <th>2</th>\n",
       "      <td>17047000650</td>\n",
       "      <td>0.89</td>\n",
       "      <td>1097117</td>\n",
       "      <td>DK</td>\n",
       "      <td>3138826</td>\n",
       "      <td>1.0</td>\n",
       "      <td>yogurt_PANEL_DK_1479_1530.DAT</td>\n",
       "      <td>3</td>\n",
       "      <td>13</td>\n",
       "      <td>10</td>\n",
       "    </tr>\n",
       "    <tr>\n",
       "      <th>3</th>\n",
       "      <td>17047000650</td>\n",
       "      <td>2.97</td>\n",
       "      <td>1097117</td>\n",
       "      <td>DK</td>\n",
       "      <td>3182048</td>\n",
       "      <td>3.0</td>\n",
       "      <td>yogurt_PANEL_DK_1479_1530.DAT</td>\n",
       "      <td>11</td>\n",
       "      <td>6</td>\n",
       "      <td>48</td>\n",
       "    </tr>\n",
       "    <tr>\n",
       "      <th>4</th>\n",
       "      <td>17047001372</td>\n",
       "      <td>1.49</td>\n",
       "      <td>1097117</td>\n",
       "      <td>DK</td>\n",
       "      <td>3184911</td>\n",
       "      <td>1.0</td>\n",
       "      <td>yogurt_PANEL_DK_1479_1530.DAT</td>\n",
       "      <td>4</td>\n",
       "      <td>16</td>\n",
       "      <td>17</td>\n",
       "    </tr>\n",
       "  </tbody>\n",
       "</table>\n",
       "</div>"
      ],
      "text/plain": [
       "        COLUPC  DOLLARS  IRI_KEY OUTLET    PANID  UNITS  \\\n",
       "0  17047000300     0.99  1097117    DK   3138826    1.0   \n",
       "1  17047000302     0.89  1097117    DK   3138826    1.0   \n",
       "2  17047000650     0.89  1097117    DK   3138826    1.0   \n",
       "3  17047000650     2.97  1097117    DK   3182048    3.0   \n",
       "4  17047001372     1.49  1097117    DK   3184911    1.0   \n",
       "\n",
       "                            file  MONTH  HOUR  WEEK  \n",
       "0  yogurt_PANEL_DK_1479_1530.DAT      9    12    36  \n",
       "1  yogurt_PANEL_DK_1479_1530.DAT      3    13    11  \n",
       "2  yogurt_PANEL_DK_1479_1530.DAT      3    13    10  \n",
       "3  yogurt_PANEL_DK_1479_1530.DAT     11     6    48  \n",
       "4  yogurt_PANEL_DK_1479_1530.DAT      4    16    17  "
      ]
     },
     "execution_count": 6,
     "metadata": {},
     "output_type": "execute_result"
    }
   ],
   "source": [
    "df.head()"
   ]
  },
  {
   "cell_type": "markdown",
   "metadata": {},
   "source": [
    "####Drop redundant columns"
   ]
  },
  {
   "cell_type": "code",
   "execution_count": 7,
   "metadata": {
    "collapsed": false
   },
   "outputs": [
    {
     "data": {
      "text/html": [
       "<div>\n",
       "<table border=\"1\" class=\"dataframe\">\n",
       "  <thead>\n",
       "    <tr style=\"text-align: right;\">\n",
       "      <th></th>\n",
       "      <th>DOLLARS</th>\n",
       "      <th>OUTLET</th>\n",
       "      <th>UNITS</th>\n",
       "      <th>MONTH</th>\n",
       "      <th>HOUR</th>\n",
       "      <th>WEEK</th>\n",
       "    </tr>\n",
       "  </thead>\n",
       "  <tbody>\n",
       "    <tr>\n",
       "      <th>0</th>\n",
       "      <td>0.99</td>\n",
       "      <td>DK</td>\n",
       "      <td>1.0</td>\n",
       "      <td>9</td>\n",
       "      <td>12</td>\n",
       "      <td>36</td>\n",
       "    </tr>\n",
       "    <tr>\n",
       "      <th>1</th>\n",
       "      <td>0.89</td>\n",
       "      <td>DK</td>\n",
       "      <td>1.0</td>\n",
       "      <td>3</td>\n",
       "      <td>13</td>\n",
       "      <td>11</td>\n",
       "    </tr>\n",
       "    <tr>\n",
       "      <th>2</th>\n",
       "      <td>0.89</td>\n",
       "      <td>DK</td>\n",
       "      <td>1.0</td>\n",
       "      <td>3</td>\n",
       "      <td>13</td>\n",
       "      <td>10</td>\n",
       "    </tr>\n",
       "    <tr>\n",
       "      <th>3</th>\n",
       "      <td>2.97</td>\n",
       "      <td>DK</td>\n",
       "      <td>3.0</td>\n",
       "      <td>11</td>\n",
       "      <td>6</td>\n",
       "      <td>48</td>\n",
       "    </tr>\n",
       "    <tr>\n",
       "      <th>4</th>\n",
       "      <td>1.49</td>\n",
       "      <td>DK</td>\n",
       "      <td>1.0</td>\n",
       "      <td>4</td>\n",
       "      <td>16</td>\n",
       "      <td>17</td>\n",
       "    </tr>\n",
       "  </tbody>\n",
       "</table>\n",
       "</div>"
      ],
      "text/plain": [
       "   DOLLARS OUTLET  UNITS  MONTH  HOUR  WEEK\n",
       "0     0.99    DK     1.0      9    12    36\n",
       "1     0.89    DK     1.0      3    13    11\n",
       "2     0.89    DK     1.0      3    13    10\n",
       "3     2.97    DK     3.0     11     6    48\n",
       "4     1.49    DK     1.0      4    16    17"
      ]
     },
     "execution_count": 7,
     "metadata": {},
     "output_type": "execute_result"
    }
   ],
   "source": [
    "df = df.drop(['COLUPC','IRI_KEY','PANID','file'], axis=1)\n",
    "df.head()"
   ]
  },
  {
   "cell_type": "markdown",
   "metadata": {},
   "source": [
    "####Create dummies for Outlet"
   ]
  },
  {
   "cell_type": "code",
   "execution_count": 8,
   "metadata": {
    "collapsed": false
   },
   "outputs": [
    {
     "data": {
      "text/html": [
       "<div>\n",
       "<table border=\"1\" class=\"dataframe\">\n",
       "  <thead>\n",
       "    <tr style=\"text-align: right;\">\n",
       "      <th></th>\n",
       "      <th>DOLLARS</th>\n",
       "      <th>UNITS</th>\n",
       "      <th>MONTH</th>\n",
       "      <th>HOUR</th>\n",
       "      <th>WEEK</th>\n",
       "      <th>OUTLET_DK</th>\n",
       "      <th>OUTLET_DR</th>\n",
       "      <th>OUTLET_GK</th>\n",
       "      <th>OUTLET_GR</th>\n",
       "      <th>OUTLET_KK</th>\n",
       "      <th>OUTLET_MA</th>\n",
       "      <th>OUTLET_MK</th>\n",
       "    </tr>\n",
       "  </thead>\n",
       "  <tbody>\n",
       "    <tr>\n",
       "      <th>0</th>\n",
       "      <td>0.99</td>\n",
       "      <td>1.0</td>\n",
       "      <td>9</td>\n",
       "      <td>12</td>\n",
       "      <td>36</td>\n",
       "      <td>1.0</td>\n",
       "      <td>0.0</td>\n",
       "      <td>0.0</td>\n",
       "      <td>0.0</td>\n",
       "      <td>0.0</td>\n",
       "      <td>0.0</td>\n",
       "      <td>0.0</td>\n",
       "    </tr>\n",
       "    <tr>\n",
       "      <th>1</th>\n",
       "      <td>0.89</td>\n",
       "      <td>1.0</td>\n",
       "      <td>3</td>\n",
       "      <td>13</td>\n",
       "      <td>11</td>\n",
       "      <td>1.0</td>\n",
       "      <td>0.0</td>\n",
       "      <td>0.0</td>\n",
       "      <td>0.0</td>\n",
       "      <td>0.0</td>\n",
       "      <td>0.0</td>\n",
       "      <td>0.0</td>\n",
       "    </tr>\n",
       "    <tr>\n",
       "      <th>2</th>\n",
       "      <td>0.89</td>\n",
       "      <td>1.0</td>\n",
       "      <td>3</td>\n",
       "      <td>13</td>\n",
       "      <td>10</td>\n",
       "      <td>1.0</td>\n",
       "      <td>0.0</td>\n",
       "      <td>0.0</td>\n",
       "      <td>0.0</td>\n",
       "      <td>0.0</td>\n",
       "      <td>0.0</td>\n",
       "      <td>0.0</td>\n",
       "    </tr>\n",
       "    <tr>\n",
       "      <th>3</th>\n",
       "      <td>2.97</td>\n",
       "      <td>3.0</td>\n",
       "      <td>11</td>\n",
       "      <td>6</td>\n",
       "      <td>48</td>\n",
       "      <td>1.0</td>\n",
       "      <td>0.0</td>\n",
       "      <td>0.0</td>\n",
       "      <td>0.0</td>\n",
       "      <td>0.0</td>\n",
       "      <td>0.0</td>\n",
       "      <td>0.0</td>\n",
       "    </tr>\n",
       "    <tr>\n",
       "      <th>4</th>\n",
       "      <td>1.49</td>\n",
       "      <td>1.0</td>\n",
       "      <td>4</td>\n",
       "      <td>16</td>\n",
       "      <td>17</td>\n",
       "      <td>1.0</td>\n",
       "      <td>0.0</td>\n",
       "      <td>0.0</td>\n",
       "      <td>0.0</td>\n",
       "      <td>0.0</td>\n",
       "      <td>0.0</td>\n",
       "      <td>0.0</td>\n",
       "    </tr>\n",
       "  </tbody>\n",
       "</table>\n",
       "</div>"
      ],
      "text/plain": [
       "   DOLLARS  UNITS  MONTH  HOUR  WEEK  OUTLET_DK   OUTLET_DR  OUTLET_GK   \\\n",
       "0     0.99    1.0      9    12    36         1.0        0.0         0.0   \n",
       "1     0.89    1.0      3    13    11         1.0        0.0         0.0   \n",
       "2     0.89    1.0      3    13    10         1.0        0.0         0.0   \n",
       "3     2.97    3.0     11     6    48         1.0        0.0         0.0   \n",
       "4     1.49    1.0      4    16    17         1.0        0.0         0.0   \n",
       "\n",
       "   OUTLET_GR  OUTLET_KK  OUTLET_MA  OUTLET_MK   \n",
       "0        0.0        0.0        0.0         0.0  \n",
       "1        0.0        0.0        0.0         0.0  \n",
       "2        0.0        0.0        0.0         0.0  \n",
       "3        0.0        0.0        0.0         0.0  \n",
       "4        0.0        0.0        0.0         0.0  "
      ]
     },
     "execution_count": 8,
     "metadata": {},
     "output_type": "execute_result"
    }
   ],
   "source": [
    "dummies_Outlet = pd.get_dummies(df['OUTLET'], prefix= 'OUTLET') \n",
    "df = pd.concat([df, dummies_Outlet], axis=1)\n",
    "df = df.drop(['OUTLET'], axis=1)\n",
    "df.head()"
   ]
  },
  {
   "cell_type": "markdown",
   "metadata": {},
   "source": [
    "####Normalize Data"
   ]
  },
  {
   "cell_type": "code",
   "execution_count": 9,
   "metadata": {
    "collapsed": false
   },
   "outputs": [],
   "source": [
    "df_norm = df / (df.max() - df.min())"
   ]
  },
  {
   "cell_type": "code",
   "execution_count": 10,
   "metadata": {
    "collapsed": false
   },
   "outputs": [
    {
     "data": {
      "text/html": [
       "<div>\n",
       "<table border=\"1\" class=\"dataframe\">\n",
       "  <thead>\n",
       "    <tr style=\"text-align: right;\">\n",
       "      <th></th>\n",
       "      <th>DOLLARS</th>\n",
       "      <th>UNITS</th>\n",
       "      <th>MONTH</th>\n",
       "      <th>HOUR</th>\n",
       "      <th>WEEK</th>\n",
       "      <th>OUTLET_DK</th>\n",
       "      <th>OUTLET_DR</th>\n",
       "      <th>OUTLET_GK</th>\n",
       "      <th>OUTLET_GR</th>\n",
       "      <th>OUTLET_KK</th>\n",
       "      <th>OUTLET_MA</th>\n",
       "      <th>OUTLET_MK</th>\n",
       "    </tr>\n",
       "  </thead>\n",
       "  <tbody>\n",
       "    <tr>\n",
       "      <th>0</th>\n",
       "      <td>0.013842</td>\n",
       "      <td>0.014961</td>\n",
       "      <td>0.818182</td>\n",
       "      <td>0.521739</td>\n",
       "      <td>0.692308</td>\n",
       "      <td>1.0</td>\n",
       "      <td>0.0</td>\n",
       "      <td>0.0</td>\n",
       "      <td>0.0</td>\n",
       "      <td>0.0</td>\n",
       "      <td>0.0</td>\n",
       "      <td>0.0</td>\n",
       "    </tr>\n",
       "    <tr>\n",
       "      <th>1</th>\n",
       "      <td>0.012444</td>\n",
       "      <td>0.014961</td>\n",
       "      <td>0.272727</td>\n",
       "      <td>0.565217</td>\n",
       "      <td>0.211538</td>\n",
       "      <td>1.0</td>\n",
       "      <td>0.0</td>\n",
       "      <td>0.0</td>\n",
       "      <td>0.0</td>\n",
       "      <td>0.0</td>\n",
       "      <td>0.0</td>\n",
       "      <td>0.0</td>\n",
       "    </tr>\n",
       "    <tr>\n",
       "      <th>2</th>\n",
       "      <td>0.012444</td>\n",
       "      <td>0.014961</td>\n",
       "      <td>0.272727</td>\n",
       "      <td>0.565217</td>\n",
       "      <td>0.192308</td>\n",
       "      <td>1.0</td>\n",
       "      <td>0.0</td>\n",
       "      <td>0.0</td>\n",
       "      <td>0.0</td>\n",
       "      <td>0.0</td>\n",
       "      <td>0.0</td>\n",
       "      <td>0.0</td>\n",
       "    </tr>\n",
       "    <tr>\n",
       "      <th>3</th>\n",
       "      <td>0.041527</td>\n",
       "      <td>0.044883</td>\n",
       "      <td>1.000000</td>\n",
       "      <td>0.260870</td>\n",
       "      <td>0.923077</td>\n",
       "      <td>1.0</td>\n",
       "      <td>0.0</td>\n",
       "      <td>0.0</td>\n",
       "      <td>0.0</td>\n",
       "      <td>0.0</td>\n",
       "      <td>0.0</td>\n",
       "      <td>0.0</td>\n",
       "    </tr>\n",
       "    <tr>\n",
       "      <th>4</th>\n",
       "      <td>0.020833</td>\n",
       "      <td>0.014961</td>\n",
       "      <td>0.363636</td>\n",
       "      <td>0.695652</td>\n",
       "      <td>0.326923</td>\n",
       "      <td>1.0</td>\n",
       "      <td>0.0</td>\n",
       "      <td>0.0</td>\n",
       "      <td>0.0</td>\n",
       "      <td>0.0</td>\n",
       "      <td>0.0</td>\n",
       "      <td>0.0</td>\n",
       "    </tr>\n",
       "  </tbody>\n",
       "</table>\n",
       "</div>"
      ],
      "text/plain": [
       "    DOLLARS     UNITS     MONTH      HOUR      WEEK  OUTLET_DK   OUTLET_DR  \\\n",
       "0  0.013842  0.014961  0.818182  0.521739  0.692308         1.0        0.0   \n",
       "1  0.012444  0.014961  0.272727  0.565217  0.211538         1.0        0.0   \n",
       "2  0.012444  0.014961  0.272727  0.565217  0.192308         1.0        0.0   \n",
       "3  0.041527  0.044883  1.000000  0.260870  0.923077         1.0        0.0   \n",
       "4  0.020833  0.014961  0.363636  0.695652  0.326923         1.0        0.0   \n",
       "\n",
       "   OUTLET_GK   OUTLET_GR  OUTLET_KK  OUTLET_MA  OUTLET_MK   \n",
       "0         0.0        0.0        0.0        0.0         0.0  \n",
       "1         0.0        0.0        0.0        0.0         0.0  \n",
       "2         0.0        0.0        0.0        0.0         0.0  \n",
       "3         0.0        0.0        0.0        0.0         0.0  \n",
       "4         0.0        0.0        0.0        0.0         0.0  "
      ]
     },
     "execution_count": 10,
     "metadata": {},
     "output_type": "execute_result"
    }
   ],
   "source": [
    "df_norm.head()"
   ]
  },
  {
   "cell_type": "markdown",
   "metadata": {},
   "source": [
    "#Split Data"
   ]
  },
  {
   "cell_type": "code",
   "execution_count": 11,
   "metadata": {
    "collapsed": false
   },
   "outputs": [],
   "source": [
    "X = df.ix[:,1:]\n",
    "y = df['DOLLARS']\n",
    "X_train, X_test, y_train, y_test = train_test_split(X, y, test_size=0.33, random_state=44)"
   ]
  },
  {
   "cell_type": "markdown",
   "metadata": {},
   "source": [
    "#Feature selection and regression"
   ]
  },
  {
   "cell_type": "code",
   "execution_count": 22,
   "metadata": {
    "collapsed": false
   },
   "outputs": [
    {
     "data": {
      "text/plain": [
       "0.34196106131569942"
      ]
     },
     "execution_count": 22,
     "metadata": {},
     "output_type": "execute_result"
    }
   ],
   "source": [
    "clf = Pipeline([\n",
    "  ('feature_selection', SelectKBest(k=6)),\n",
    "  ('classification', RandomForestRegressor(n_jobs=-1))\n",
    "])\n",
    "clf.fit(X_train, y_train)\n",
    "clf.score(X_test, y_test)"
   ]
  },
  {
   "cell_type": "code",
   "execution_count": null,
   "metadata": {
    "collapsed": true
   },
   "outputs": [],
   "source": [
    "clf = Pipeline([\n",
    "  ('feature_selection', SelectKBest(k=6)),\n",
    "  ('classification', SVR())\n",
    "])\n",
    "clf.fit(X_train, y_train)\n",
    "clf.score(X_test, y_test)"
   ]
  },
  {
   "cell_type": "code",
   "execution_count": null,
   "metadata": {
    "collapsed": true
   },
   "outputs": [],
   "source": []
  }
 ],
 "metadata": {
  "kernelspec": {
   "display_name": "Python 2",
   "language": "python",
   "name": "python2"
  },
  "language_info": {
   "codemirror_mode": {
    "name": "ipython",
    "version": 2
   },
   "file_extension": ".py",
   "mimetype": "text/x-python",
   "name": "python",
   "nbconvert_exporter": "python",
   "pygments_lexer": "ipython2",
   "version": "2.7.11"
  }
 },
 "nbformat": 4,
 "nbformat_minor": 0
}
