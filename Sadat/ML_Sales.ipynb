{
 "cells": [
  {
   "cell_type": "code",
   "execution_count": 1,
   "metadata": {
    "collapsed": true
   },
   "outputs": [],
   "source": [
    "import sklearn\n",
    "import pandas as pd\n",
    "import numpy as np\n",
    "import matplotlib.pyplot as plt\n",
    "from sklearn.cross_validation import train_test_split\n",
    "%matplotlib inline"
   ]
  },
  {
   "cell_type": "code",
   "execution_count": 2,
   "metadata": {
    "collapsed": true
   },
   "outputs": [],
   "source": [
    "path = '/home/sadat/Documents/DSE/Data/yogurt.h5'"
   ]
  },
  {
   "cell_type": "code",
   "execution_count": 3,
   "metadata": {
    "collapsed": false
   },
   "outputs": [
    {
     "data": {
      "text/html": [
       "<div>\n",
       "<table border=\"1\" class=\"dataframe\">\n",
       "  <thead>\n",
       "    <tr style=\"text-align: right;\">\n",
       "      <th></th>\n",
       "      <th>IRI_KEY</th>\n",
       "      <th>WEEK</th>\n",
       "      <th>SY</th>\n",
       "      <th>GE</th>\n",
       "      <th>VEND</th>\n",
       "      <th>ITEM</th>\n",
       "      <th>UNITS</th>\n",
       "      <th>DOLLARS</th>\n",
       "      <th>F</th>\n",
       "      <th>D</th>\n",
       "      <th>PR</th>\n",
       "      <th>file</th>\n",
       "      <th>year_int</th>\n",
       "    </tr>\n",
       "  </thead>\n",
       "  <tbody>\n",
       "    <tr>\n",
       "      <th>3701704</th>\n",
       "      <td>287156</td>\n",
       "      <td>1644</td>\n",
       "      <td>0</td>\n",
       "      <td>1</td>\n",
       "      <td>70470</td>\n",
       "      <td>42398</td>\n",
       "      <td>7</td>\n",
       "      <td>38.43</td>\n",
       "      <td>NONE</td>\n",
       "      <td>0</td>\n",
       "      <td>0</td>\n",
       "      <td>yogurt_groc_1635_1686</td>\n",
       "      <td>11</td>\n",
       "    </tr>\n",
       "    <tr>\n",
       "      <th>13568916</th>\n",
       "      <td>272725</td>\n",
       "      <td>1672</td>\n",
       "      <td>0</td>\n",
       "      <td>1</td>\n",
       "      <td>70470</td>\n",
       "      <td>655</td>\n",
       "      <td>47</td>\n",
       "      <td>30.55</td>\n",
       "      <td>NONE</td>\n",
       "      <td>0</td>\n",
       "      <td>1</td>\n",
       "      <td>yogurt_groc_1635_1686</td>\n",
       "      <td>11</td>\n",
       "    </tr>\n",
       "    <tr>\n",
       "      <th>3996310</th>\n",
       "      <td>244343</td>\n",
       "      <td>1221</td>\n",
       "      <td>0</td>\n",
       "      <td>1</td>\n",
       "      <td>70470</td>\n",
       "      <td>657</td>\n",
       "      <td>6</td>\n",
       "      <td>3.78</td>\n",
       "      <td>NONE</td>\n",
       "      <td>0</td>\n",
       "      <td>0</td>\n",
       "      <td>yogurt_groc_1218_1269</td>\n",
       "      <td>3</td>\n",
       "    </tr>\n",
       "    <tr>\n",
       "      <th>7665696</th>\n",
       "      <td>237277</td>\n",
       "      <td>1437</td>\n",
       "      <td>0</td>\n",
       "      <td>1</td>\n",
       "      <td>70640</td>\n",
       "      <td>900</td>\n",
       "      <td>23</td>\n",
       "      <td>18.17</td>\n",
       "      <td>NONE</td>\n",
       "      <td>0</td>\n",
       "      <td>1</td>\n",
       "      <td>yogurt_groc_1427_1478</td>\n",
       "      <td>7</td>\n",
       "    </tr>\n",
       "    <tr>\n",
       "      <th>705533</th>\n",
       "      <td>656818</td>\n",
       "      <td>1642</td>\n",
       "      <td>0</td>\n",
       "      <td>1</td>\n",
       "      <td>36632</td>\n",
       "      <td>5590</td>\n",
       "      <td>23</td>\n",
       "      <td>52.67</td>\n",
       "      <td>NONE</td>\n",
       "      <td>0</td>\n",
       "      <td>0</td>\n",
       "      <td>yogurt_groc_1635_1686</td>\n",
       "      <td>11</td>\n",
       "    </tr>\n",
       "  </tbody>\n",
       "</table>\n",
       "</div>"
      ],
      "text/plain": [
       "          IRI_KEY  WEEK  SY  GE   VEND   ITEM  UNITS  DOLLARS     F  D  PR  \\\n",
       "3701704    287156  1644   0   1  70470  42398      7    38.43  NONE  0   0   \n",
       "13568916   272725  1672   0   1  70470    655     47    30.55  NONE  0   1   \n",
       "3996310    244343  1221   0   1  70470    657      6     3.78  NONE  0   0   \n",
       "7665696    237277  1437   0   1  70640    900     23    18.17  NONE  0   1   \n",
       "705533     656818  1642   0   1  36632   5590     23    52.67  NONE  0   0   \n",
       "\n",
       "                           file  year_int  \n",
       "3701704   yogurt_groc_1635_1686        11  \n",
       "13568916  yogurt_groc_1635_1686        11  \n",
       "3996310   yogurt_groc_1218_1269         3  \n",
       "7665696   yogurt_groc_1427_1478         7  \n",
       "705533    yogurt_groc_1635_1686        11  "
      ]
     },
     "execution_count": 3,
     "metadata": {},
     "output_type": "execute_result"
    }
   ],
   "source": [
    "store = pd.HDFStore(path)\n",
    "nrows = store.get_storer('groc').nrows\n",
    "r = np.random.randint(0,nrows,size=50000)\n",
    "df=pd.read_hdf(path,'groc',where=pd.Index(r))\n",
    "df.head()"
   ]
  },
  {
   "cell_type": "code",
   "execution_count": 4,
   "metadata": {
    "collapsed": false
   },
   "outputs": [],
   "source": [
    "df_pre07=df"
   ]
  },
  {
   "cell_type": "code",
   "execution_count": 5,
   "metadata": {
    "collapsed": false
   },
   "outputs": [],
   "source": [
    "df_pre07 = df_pre07[['UNITS','DOLLARS','D','PR']]"
   ]
  },
  {
   "cell_type": "code",
   "execution_count": 6,
   "metadata": {
    "collapsed": false
   },
   "outputs": [
    {
     "data": {
      "text/html": [
       "<div>\n",
       "<table border=\"1\" class=\"dataframe\">\n",
       "  <thead>\n",
       "    <tr style=\"text-align: right;\">\n",
       "      <th></th>\n",
       "      <th>UNITS</th>\n",
       "      <th>DOLLARS</th>\n",
       "      <th>D</th>\n",
       "      <th>PR</th>\n",
       "    </tr>\n",
       "  </thead>\n",
       "  <tbody>\n",
       "    <tr>\n",
       "      <th>3701704</th>\n",
       "      <td>7</td>\n",
       "      <td>38.43</td>\n",
       "      <td>0</td>\n",
       "      <td>0</td>\n",
       "    </tr>\n",
       "    <tr>\n",
       "      <th>13568916</th>\n",
       "      <td>47</td>\n",
       "      <td>30.55</td>\n",
       "      <td>0</td>\n",
       "      <td>1</td>\n",
       "    </tr>\n",
       "    <tr>\n",
       "      <th>3996310</th>\n",
       "      <td>6</td>\n",
       "      <td>3.78</td>\n",
       "      <td>0</td>\n",
       "      <td>0</td>\n",
       "    </tr>\n",
       "    <tr>\n",
       "      <th>7665696</th>\n",
       "      <td>23</td>\n",
       "      <td>18.17</td>\n",
       "      <td>0</td>\n",
       "      <td>1</td>\n",
       "    </tr>\n",
       "    <tr>\n",
       "      <th>705533</th>\n",
       "      <td>23</td>\n",
       "      <td>52.67</td>\n",
       "      <td>0</td>\n",
       "      <td>0</td>\n",
       "    </tr>\n",
       "  </tbody>\n",
       "</table>\n",
       "</div>"
      ],
      "text/plain": [
       "          UNITS  DOLLARS  D  PR\n",
       "3701704       7    38.43  0   0\n",
       "13568916     47    30.55  0   1\n",
       "3996310       6     3.78  0   0\n",
       "7665696      23    18.17  0   1\n",
       "705533       23    52.67  0   0"
      ]
     },
     "execution_count": 6,
     "metadata": {},
     "output_type": "execute_result"
    }
   ],
   "source": [
    "df_pre07.head()"
   ]
  },
  {
   "cell_type": "code",
   "execution_count": 7,
   "metadata": {
    "collapsed": false
   },
   "outputs": [
    {
     "name": "stderr",
     "output_type": "stream",
     "text": [
      "/home/sadat/anaconda3/envs/py2k/lib/python2.7/site-packages/IPython/kernel/__main__.py:2: SettingWithCopyWarning: \n",
      "A value is trying to be set on a copy of a slice from a DataFrame.\n",
      "Try using .loc[row_indexer,col_indexer] = value instead\n",
      "\n",
      "See the caveats in the documentation: http://pandas.pydata.org/pandas-docs/stable/indexing.html#indexing-view-versus-copy\n",
      "  from IPython.kernel.zmq import kernelapp as app\n",
      "/home/sadat/anaconda3/envs/py2k/lib/python2.7/site-packages/pandas/core/indexing.py:461: SettingWithCopyWarning: \n",
      "A value is trying to be set on a copy of a slice from a DataFrame.\n",
      "Try using .loc[row_indexer,col_indexer] = value instead\n",
      "\n",
      "See the caveats in the documentation: http://pandas.pydata.org/pandas-docs/stable/indexing.html#indexing-view-versus-copy\n",
      "  self.obj[item] = s\n"
     ]
    },
    {
     "data": {
      "text/html": [
       "<div>\n",
       "<table border=\"1\" class=\"dataframe\">\n",
       "  <thead>\n",
       "    <tr style=\"text-align: right;\">\n",
       "      <th></th>\n",
       "      <th>UNITS</th>\n",
       "      <th>DOLLARS</th>\n",
       "      <th>D</th>\n",
       "      <th>PR</th>\n",
       "    </tr>\n",
       "  </thead>\n",
       "  <tbody>\n",
       "    <tr>\n",
       "      <th>3701704</th>\n",
       "      <td>7</td>\n",
       "      <td>38.43</td>\n",
       "      <td>0</td>\n",
       "      <td>0</td>\n",
       "    </tr>\n",
       "    <tr>\n",
       "      <th>13568916</th>\n",
       "      <td>47</td>\n",
       "      <td>30.55</td>\n",
       "      <td>0</td>\n",
       "      <td>1</td>\n",
       "    </tr>\n",
       "    <tr>\n",
       "      <th>3996310</th>\n",
       "      <td>6</td>\n",
       "      <td>3.78</td>\n",
       "      <td>0</td>\n",
       "      <td>0</td>\n",
       "    </tr>\n",
       "    <tr>\n",
       "      <th>7665696</th>\n",
       "      <td>23</td>\n",
       "      <td>18.17</td>\n",
       "      <td>0</td>\n",
       "      <td>1</td>\n",
       "    </tr>\n",
       "    <tr>\n",
       "      <th>705533</th>\n",
       "      <td>23</td>\n",
       "      <td>52.67</td>\n",
       "      <td>0</td>\n",
       "      <td>0</td>\n",
       "    </tr>\n",
       "  </tbody>\n",
       "</table>\n",
       "</div>"
      ],
      "text/plain": [
       "          UNITS  DOLLARS  D  PR\n",
       "3701704       7    38.43  0   0\n",
       "13568916     47    30.55  0   1\n",
       "3996310       6     3.78  0   0\n",
       "7665696      23    18.17  0   1\n",
       "705533       23    52.67  0   0"
      ]
     },
     "execution_count": 7,
     "metadata": {},
     "output_type": "execute_result"
    }
   ],
   "source": [
    "#We dont care about the size of the display and hence setting D=2 to 1.\n",
    "df_pre07[df_pre07['D']==2] = 1\n",
    "df_pre07.head()"
   ]
  },
  {
   "cell_type": "code",
   "execution_count": 8,
   "metadata": {
    "collapsed": true
   },
   "outputs": [],
   "source": [
    "from sklearn.ensemble import RandomForestRegressor"
   ]
  },
  {
   "cell_type": "code",
   "execution_count": 9,
   "metadata": {
    "collapsed": false
   },
   "outputs": [
    {
     "data": {
      "text/plain": [
       "0.48083827089862125"
      ]
     },
     "execution_count": 9,
     "metadata": {},
     "output_type": "execute_result"
    }
   ],
   "source": [
    "X = df_pre07[['UNITS','D','PR']]\n",
    "y = df_pre07['DOLLARS']\n",
    "X_train, X_test, y_train, y_test = train_test_split(X, y, test_size=0.33, random_state=44)\n",
    "\n",
    "reg = RandomForestRegressor(n_jobs=-1)\n",
    "reg.fit(X_train, y_train)\n",
    "reg.score(X_test, y_test)"
   ]
  },
  {
   "cell_type": "code",
   "execution_count": 10,
   "metadata": {
    "collapsed": true
   },
   "outputs": [],
   "source": [
    "from sklearn.svm import SVR"
   ]
  },
  {
   "cell_type": "code",
   "execution_count": 11,
   "metadata": {
    "collapsed": false
   },
   "outputs": [
    {
     "data": {
      "text/plain": [
       "0.30808016438042851"
      ]
     },
     "execution_count": 11,
     "metadata": {},
     "output_type": "execute_result"
    }
   ],
   "source": [
    "X = df_pre07[['UNITS','D','PR']]\n",
    "y = df_pre07['DOLLARS']\n",
    "X_train, X_test, y_train, y_test = train_test_split(X, y, test_size=0.33, random_state=44)\n",
    "\n",
    "reg = SVR()\n",
    "reg.fit(X_train, y_train)\n",
    "reg.score(X_test, y_test)"
   ]
  },
  {
   "cell_type": "markdown",
   "metadata": {},
   "source": [
    "#Products (Regressor)"
   ]
  },
  {
   "cell_type": "code",
   "execution_count": 12,
   "metadata": {
    "collapsed": true
   },
   "outputs": [],
   "source": [
    "prod_path='/home/sadat/Desktop/IRI Yogurt/parsed stub files/prod_yogurt.xls'\n",
    "df = pd.read_excel(prod_path)"
   ]
  },
  {
   "cell_type": "code",
   "execution_count": 13,
   "metadata": {
    "collapsed": false
   },
   "outputs": [
    {
     "data": {
      "text/html": [
       "<div>\n",
       "<table border=\"1\" class=\"dataframe\">\n",
       "  <thead>\n",
       "    <tr style=\"text-align: right;\">\n",
       "      <th></th>\n",
       "      <th>L1</th>\n",
       "      <th>L2</th>\n",
       "      <th>L3</th>\n",
       "      <th>L4</th>\n",
       "      <th>L5</th>\n",
       "      <th>L9</th>\n",
       "      <th>Level</th>\n",
       "      <th>UPC</th>\n",
       "      <th>SY</th>\n",
       "      <th>GE</th>\n",
       "      <th>...</th>\n",
       "      <th>ITEM</th>\n",
       "      <th>*STUBSPEC 1284RC                                                         00004</th>\n",
       "      <th>VOL_EQ</th>\n",
       "      <th>PRODUCT TYPE</th>\n",
       "      <th>PACKAGE</th>\n",
       "      <th>FLAVOR/SCENT</th>\n",
       "      <th>FAT CONTENT</th>\n",
       "      <th>CALORIE LEVEL</th>\n",
       "      <th>STYLE</th>\n",
       "      <th>TYPE OF YOGURT</th>\n",
       "    </tr>\n",
       "  </thead>\n",
       "  <tbody>\n",
       "    <tr>\n",
       "      <th>0</th>\n",
       "      <td>CATEGORY - YOGURT</td>\n",
       "      <td>RFG YOGURT</td>\n",
       "      <td>AHAVA FOOD</td>\n",
       "      <td>AHAVA FOOD</td>\n",
       "      <td>AHAVA</td>\n",
       "      <td>+AHAVA RFG BUB YGRT L/FT 0.5PT</td>\n",
       "      <td>9</td>\n",
       "      <td>07-02-20742-07011</td>\n",
       "      <td>7</td>\n",
       "      <td>2</td>\n",
       "      <td>...</td>\n",
       "      <td>7011</td>\n",
       "      <td>+AHAVA RFG BUB YGRT L/FT   0.5PT 7 2 2...</td>\n",
       "      <td>0.500</td>\n",
       "      <td>YOGURT</td>\n",
       "      <td>PLASTIC CUP</td>\n",
       "      <td>BLUEBERRY</td>\n",
       "      <td>LOW FAT</td>\n",
       "      <td>MISSING</td>\n",
       "      <td>KOSHER</td>\n",
       "      <td>PRESTIRRED</td>\n",
       "    </tr>\n",
       "    <tr>\n",
       "      <th>1</th>\n",
       "      <td>CATEGORY - YOGURT</td>\n",
       "      <td>RFG YOGURT</td>\n",
       "      <td>AHAVA FOOD</td>\n",
       "      <td>AHAVA FOOD</td>\n",
       "      <td>AHAVA</td>\n",
       "      <td>+AHAVA RFG CHOC YGRT REG 0.375PT</td>\n",
       "      <td>9</td>\n",
       "      <td>00-03-70452-24101</td>\n",
       "      <td>0</td>\n",
       "      <td>3</td>\n",
       "      <td>...</td>\n",
       "      <td>24101</td>\n",
       "      <td>+AHAVA RFG CHOC YGRT REG 0.375PT 0 3 7...</td>\n",
       "      <td>0.375</td>\n",
       "      <td>YOGURT</td>\n",
       "      <td>PLASTIC CUP</td>\n",
       "      <td>CHOCOLATE</td>\n",
       "      <td>REGULAR</td>\n",
       "      <td>MISSING</td>\n",
       "      <td>KOSHER</td>\n",
       "      <td>BLENDED</td>\n",
       "    </tr>\n",
       "    <tr>\n",
       "      <th>2</th>\n",
       "      <td>CATEGORY - YOGURT</td>\n",
       "      <td>RFG YOGURT</td>\n",
       "      <td>AHAVA FOOD</td>\n",
       "      <td>AHAVA FOOD</td>\n",
       "      <td>AHAVA</td>\n",
       "      <td>+AHAVA RFG CHVNL YGRT L/FT 0.5PT</td>\n",
       "      <td>9</td>\n",
       "      <td>07-03-20742-07013</td>\n",
       "      <td>7</td>\n",
       "      <td>3</td>\n",
       "      <td>...</td>\n",
       "      <td>7013</td>\n",
       "      <td>+AHAVA RFG CHVNL YGRT L/FT 0.5PT 7 3 2...</td>\n",
       "      <td>0.500</td>\n",
       "      <td>YOGURT</td>\n",
       "      <td>PLASTIC CUP</td>\n",
       "      <td>CHERRY VANILLA</td>\n",
       "      <td>LOW FAT</td>\n",
       "      <td>MISSING</td>\n",
       "      <td>MISSING</td>\n",
       "      <td>FRUIT ON THE BOTTOM</td>\n",
       "    </tr>\n",
       "    <tr>\n",
       "      <th>3</th>\n",
       "      <td>CATEGORY - YOGURT</td>\n",
       "      <td>RFG YOGURT</td>\n",
       "      <td>AHAVA FOOD</td>\n",
       "      <td>AHAVA FOOD</td>\n",
       "      <td>AHAVA</td>\n",
       "      <td>+AHAVA RFG PLN YGRT L/FT 0.5PT</td>\n",
       "      <td>9</td>\n",
       "      <td>07-02-20742-07012</td>\n",
       "      <td>7</td>\n",
       "      <td>2</td>\n",
       "      <td>...</td>\n",
       "      <td>7012</td>\n",
       "      <td>+AHAVA RFG PLN YGRT L/FT   0.5PT 7 2 2...</td>\n",
       "      <td>0.500</td>\n",
       "      <td>YOGURT</td>\n",
       "      <td>PLASTIC CUP</td>\n",
       "      <td>PLAIN</td>\n",
       "      <td>LOW FAT</td>\n",
       "      <td>MISSING</td>\n",
       "      <td>KOSHER</td>\n",
       "      <td>REGULAR</td>\n",
       "    </tr>\n",
       "    <tr>\n",
       "      <th>4</th>\n",
       "      <td>CATEGORY - YOGURT</td>\n",
       "      <td>RFG YOGURT</td>\n",
       "      <td>AHAVA FOOD</td>\n",
       "      <td>AHAVA FOOD</td>\n",
       "      <td>AHAVA</td>\n",
       "      <td>+AHAVA RFG PLN YGRT REG 0.375PT</td>\n",
       "      <td>9</td>\n",
       "      <td>00-03-70452-24102</td>\n",
       "      <td>0</td>\n",
       "      <td>3</td>\n",
       "      <td>...</td>\n",
       "      <td>24102</td>\n",
       "      <td>+AHAVA RFG PLN YGRT REG  0.375PT 0 3 7...</td>\n",
       "      <td>0.375</td>\n",
       "      <td>YOGURT</td>\n",
       "      <td>PLASTIC CUP</td>\n",
       "      <td>PLAIN</td>\n",
       "      <td>REGULAR</td>\n",
       "      <td>120 CALORIES</td>\n",
       "      <td>ALL NATURAL</td>\n",
       "      <td>REGULAR</td>\n",
       "    </tr>\n",
       "  </tbody>\n",
       "</table>\n",
       "<p>5 rows × 21 columns</p>\n",
       "</div>"
      ],
      "text/plain": [
       "                                  L1          L2          L3          L4  \\\n",
       "0  CATEGORY - YOGURT                  RFG YOGURT  AHAVA FOOD  AHAVA FOOD   \n",
       "1  CATEGORY - YOGURT                  RFG YOGURT  AHAVA FOOD  AHAVA FOOD   \n",
       "2  CATEGORY - YOGURT                  RFG YOGURT  AHAVA FOOD  AHAVA FOOD   \n",
       "3  CATEGORY - YOGURT                  RFG YOGURT  AHAVA FOOD  AHAVA FOOD   \n",
       "4  CATEGORY - YOGURT                  RFG YOGURT  AHAVA FOOD  AHAVA FOOD   \n",
       "\n",
       "      L5                                L9  Level                UPC  SY  GE  \\\n",
       "0  AHAVA    +AHAVA RFG BUB YGRT L/FT 0.5PT      9  07-02-20742-07011   7   2   \n",
       "1  AHAVA  +AHAVA RFG CHOC YGRT REG 0.375PT      9  00-03-70452-24101   0   3   \n",
       "2  AHAVA  +AHAVA RFG CHVNL YGRT L/FT 0.5PT      9  07-03-20742-07013   7   3   \n",
       "3  AHAVA    +AHAVA RFG PLN YGRT L/FT 0.5PT      9  07-02-20742-07012   7   2   \n",
       "4  AHAVA   +AHAVA RFG PLN YGRT REG 0.375PT      9  00-03-70452-24102   0   3   \n",
       "\n",
       "          ...            ITEM  \\\n",
       "0         ...            7011   \n",
       "1         ...           24101   \n",
       "2         ...            7013   \n",
       "3         ...            7012   \n",
       "4         ...           24102   \n",
       "\n",
       "   *STUBSPEC 1284RC                                                         00004    \\\n",
       "0          +AHAVA RFG BUB YGRT L/FT   0.5PT 7 2 2...                                  \n",
       "1          +AHAVA RFG CHOC YGRT REG 0.375PT 0 3 7...                                  \n",
       "2          +AHAVA RFG CHVNL YGRT L/FT 0.5PT 7 3 2...                                  \n",
       "3          +AHAVA RFG PLN YGRT L/FT   0.5PT 7 2 2...                                  \n",
       "4          +AHAVA RFG PLN YGRT REG  0.375PT 0 3 7...                                  \n",
       "\n",
       "  VOL_EQ  PRODUCT TYPE      PACKAGE    FLAVOR/SCENT FAT CONTENT CALORIE LEVEL  \\\n",
       "0  0.500        YOGURT  PLASTIC CUP       BLUEBERRY     LOW FAT       MISSING   \n",
       "1  0.375        YOGURT  PLASTIC CUP       CHOCOLATE     REGULAR       MISSING   \n",
       "2  0.500        YOGURT  PLASTIC CUP  CHERRY VANILLA     LOW FAT       MISSING   \n",
       "3  0.500        YOGURT  PLASTIC CUP           PLAIN     LOW FAT       MISSING   \n",
       "4  0.375        YOGURT  PLASTIC CUP           PLAIN     REGULAR  120 CALORIES   \n",
       "\n",
       "         STYLE       TYPE OF YOGURT  \n",
       "0       KOSHER           PRESTIRRED  \n",
       "1       KOSHER              BLENDED  \n",
       "2      MISSING  FRUIT ON THE BOTTOM  \n",
       "3       KOSHER              REGULAR  \n",
       "4  ALL NATURAL              REGULAR  \n",
       "\n",
       "[5 rows x 21 columns]"
      ]
     },
     "execution_count": 13,
     "metadata": {},
     "output_type": "execute_result"
    }
   ],
   "source": [
    "df = df.dropna()\n",
    "df.head()"
   ]
  },
  {
   "cell_type": "code",
   "execution_count": 14,
   "metadata": {
    "collapsed": false
   },
   "outputs": [
    {
     "data": {
      "text/plain": [
       "Index([u'L1', u'L2', u'L3', u'L4', u'L5', u'L9', u'Level', u'UPC', u'SY',\n",
       "       u'GE', u'VEND', u'ITEM',\n",
       "       u'*STUBSPEC 1284RC                                                         00004  ',\n",
       "       u'VOL_EQ', u'PRODUCT TYPE', u'PACKAGE', u'FLAVOR/SCENT', u'FAT CONTENT',\n",
       "       u'CALORIE LEVEL', u'STYLE', u'TYPE OF YOGURT'],\n",
       "      dtype='object')"
      ]
     },
     "execution_count": 14,
     "metadata": {},
     "output_type": "execute_result"
    }
   ],
   "source": [
    "df.columns"
   ]
  },
  {
   "cell_type": "code",
   "execution_count": 15,
   "metadata": {
    "collapsed": false
   },
   "outputs": [
    {
     "data": {
      "text/html": [
       "<div>\n",
       "<table border=\"1\" class=\"dataframe\">\n",
       "  <thead>\n",
       "    <tr style=\"text-align: right;\">\n",
       "      <th></th>\n",
       "      <th>L1_CATEGORY - YOGURT</th>\n",
       "      <th>PROD_ACIDOPHILUS YOGURT</th>\n",
       "      <th>PROD_BUFFALO MILK YOGURT</th>\n",
       "      <th>PROD_CULTURED DAIRY DRINK</th>\n",
       "      <th>PROD_CULTURED SOY DRINK</th>\n",
       "      <th>PROD_CULTURED SOY SMOOTHI</th>\n",
       "      <th>PROD_DAIRY BLEND</th>\n",
       "      <th>PROD_DAIRY SNACK</th>\n",
       "      <th>PROD_GOATMILK YOGURT</th>\n",
       "      <th>PROD_GOATSMILK YOGRT DRNK</th>\n",
       "      <th>...</th>\n",
       "      <th>TYPE_REGULAR</th>\n",
       "      <th>TYPE_REGULAR STIR IN</th>\n",
       "      <th>TYPE_SAUCE ON THE BOTTOM</th>\n",
       "      <th>TYPE_STIR IN</th>\n",
       "      <th>TYPE_SYRUP ON THE BOTTOM</th>\n",
       "      <th>TYPE_WHIPPED</th>\n",
       "      <th>SY</th>\n",
       "      <th>GE</th>\n",
       "      <th>VEND</th>\n",
       "      <th>ITEM</th>\n",
       "    </tr>\n",
       "  </thead>\n",
       "  <tbody>\n",
       "    <tr>\n",
       "      <th>0</th>\n",
       "      <td>1.0</td>\n",
       "      <td>0.0</td>\n",
       "      <td>0.0</td>\n",
       "      <td>0.0</td>\n",
       "      <td>0.0</td>\n",
       "      <td>0.0</td>\n",
       "      <td>0.0</td>\n",
       "      <td>0.0</td>\n",
       "      <td>0.0</td>\n",
       "      <td>0.0</td>\n",
       "      <td>...</td>\n",
       "      <td>0.0</td>\n",
       "      <td>0.0</td>\n",
       "      <td>0.0</td>\n",
       "      <td>0.0</td>\n",
       "      <td>0.0</td>\n",
       "      <td>0.0</td>\n",
       "      <td>7</td>\n",
       "      <td>2</td>\n",
       "      <td>20742</td>\n",
       "      <td>7011</td>\n",
       "    </tr>\n",
       "    <tr>\n",
       "      <th>1</th>\n",
       "      <td>1.0</td>\n",
       "      <td>0.0</td>\n",
       "      <td>0.0</td>\n",
       "      <td>0.0</td>\n",
       "      <td>0.0</td>\n",
       "      <td>0.0</td>\n",
       "      <td>0.0</td>\n",
       "      <td>0.0</td>\n",
       "      <td>0.0</td>\n",
       "      <td>0.0</td>\n",
       "      <td>...</td>\n",
       "      <td>0.0</td>\n",
       "      <td>0.0</td>\n",
       "      <td>0.0</td>\n",
       "      <td>0.0</td>\n",
       "      <td>0.0</td>\n",
       "      <td>0.0</td>\n",
       "      <td>0</td>\n",
       "      <td>3</td>\n",
       "      <td>70452</td>\n",
       "      <td>24101</td>\n",
       "    </tr>\n",
       "    <tr>\n",
       "      <th>2</th>\n",
       "      <td>1.0</td>\n",
       "      <td>0.0</td>\n",
       "      <td>0.0</td>\n",
       "      <td>0.0</td>\n",
       "      <td>0.0</td>\n",
       "      <td>0.0</td>\n",
       "      <td>0.0</td>\n",
       "      <td>0.0</td>\n",
       "      <td>0.0</td>\n",
       "      <td>0.0</td>\n",
       "      <td>...</td>\n",
       "      <td>0.0</td>\n",
       "      <td>0.0</td>\n",
       "      <td>0.0</td>\n",
       "      <td>0.0</td>\n",
       "      <td>0.0</td>\n",
       "      <td>0.0</td>\n",
       "      <td>7</td>\n",
       "      <td>3</td>\n",
       "      <td>20742</td>\n",
       "      <td>7013</td>\n",
       "    </tr>\n",
       "    <tr>\n",
       "      <th>3</th>\n",
       "      <td>1.0</td>\n",
       "      <td>0.0</td>\n",
       "      <td>0.0</td>\n",
       "      <td>0.0</td>\n",
       "      <td>0.0</td>\n",
       "      <td>0.0</td>\n",
       "      <td>0.0</td>\n",
       "      <td>0.0</td>\n",
       "      <td>0.0</td>\n",
       "      <td>0.0</td>\n",
       "      <td>...</td>\n",
       "      <td>1.0</td>\n",
       "      <td>0.0</td>\n",
       "      <td>0.0</td>\n",
       "      <td>0.0</td>\n",
       "      <td>0.0</td>\n",
       "      <td>0.0</td>\n",
       "      <td>7</td>\n",
       "      <td>2</td>\n",
       "      <td>20742</td>\n",
       "      <td>7012</td>\n",
       "    </tr>\n",
       "    <tr>\n",
       "      <th>4</th>\n",
       "      <td>1.0</td>\n",
       "      <td>0.0</td>\n",
       "      <td>0.0</td>\n",
       "      <td>0.0</td>\n",
       "      <td>0.0</td>\n",
       "      <td>0.0</td>\n",
       "      <td>0.0</td>\n",
       "      <td>0.0</td>\n",
       "      <td>0.0</td>\n",
       "      <td>0.0</td>\n",
       "      <td>...</td>\n",
       "      <td>1.0</td>\n",
       "      <td>0.0</td>\n",
       "      <td>0.0</td>\n",
       "      <td>0.0</td>\n",
       "      <td>0.0</td>\n",
       "      <td>0.0</td>\n",
       "      <td>0</td>\n",
       "      <td>3</td>\n",
       "      <td>70452</td>\n",
       "      <td>24102</td>\n",
       "    </tr>\n",
       "  </tbody>\n",
       "</table>\n",
       "<p>5 rows × 517 columns</p>\n",
       "</div>"
      ],
      "text/plain": [
       "   L1_CATEGORY - YOGURT                  PROD_ACIDOPHILUS YOGURT  \\\n",
       "0                                   1.0                      0.0   \n",
       "1                                   1.0                      0.0   \n",
       "2                                   1.0                      0.0   \n",
       "3                                   1.0                      0.0   \n",
       "4                                   1.0                      0.0   \n",
       "\n",
       "   PROD_BUFFALO MILK YOGURT  PROD_CULTURED DAIRY DRINK  \\\n",
       "0                       0.0                        0.0   \n",
       "1                       0.0                        0.0   \n",
       "2                       0.0                        0.0   \n",
       "3                       0.0                        0.0   \n",
       "4                       0.0                        0.0   \n",
       "\n",
       "   PROD_CULTURED SOY DRINK  PROD_CULTURED SOY SMOOTHI  PROD_DAIRY BLEND  \\\n",
       "0                      0.0                        0.0               0.0   \n",
       "1                      0.0                        0.0               0.0   \n",
       "2                      0.0                        0.0               0.0   \n",
       "3                      0.0                        0.0               0.0   \n",
       "4                      0.0                        0.0               0.0   \n",
       "\n",
       "   PROD_DAIRY SNACK  PROD_GOATMILK YOGURT  PROD_GOATSMILK YOGRT DRNK  ...    \\\n",
       "0               0.0                   0.0                        0.0  ...     \n",
       "1               0.0                   0.0                        0.0  ...     \n",
       "2               0.0                   0.0                        0.0  ...     \n",
       "3               0.0                   0.0                        0.0  ...     \n",
       "4               0.0                   0.0                        0.0  ...     \n",
       "\n",
       "   TYPE_REGULAR  TYPE_REGULAR STIR IN  TYPE_SAUCE ON THE BOTTOM  TYPE_STIR IN  \\\n",
       "0           0.0                   0.0                       0.0           0.0   \n",
       "1           0.0                   0.0                       0.0           0.0   \n",
       "2           0.0                   0.0                       0.0           0.0   \n",
       "3           1.0                   0.0                       0.0           0.0   \n",
       "4           1.0                   0.0                       0.0           0.0   \n",
       "\n",
       "   TYPE_SYRUP ON THE BOTTOM  TYPE_WHIPPED  SY  GE   VEND   ITEM  \n",
       "0                       0.0           0.0   7   2  20742   7011  \n",
       "1                       0.0           0.0   0   3  70452  24101  \n",
       "2                       0.0           0.0   7   3  20742   7013  \n",
       "3                       0.0           0.0   7   2  20742   7012  \n",
       "4                       0.0           0.0   0   3  70452  24102  \n",
       "\n",
       "[5 rows x 517 columns]"
      ]
     },
     "execution_count": 15,
     "metadata": {},
     "output_type": "execute_result"
    }
   ],
   "source": [
    "dummies_L1=pd.get_dummies(df['L1'],prefix='L1')\n",
    "dummies_PROD=pd.get_dummies(df['PRODUCT TYPE'],prefix='PROD')\n",
    "dummies_FLAV=pd.get_dummies(df['FLAVOR/SCENT'],prefix='FLAV')\n",
    "dummies_FAT=pd.get_dummies(df['FAT CONTENT'],prefix='FAT')\n",
    "dummies_CAL=pd.get_dummies(df['CALORIE LEVEL'],prefix='CAL')\n",
    "dummies_STYLE=pd.get_dummies(df['STYLE'],prefix='STYLE')\n",
    "dummies_TYPE=pd.get_dummies(df['TYPE OF YOGURT'],prefix='TYPE')\n",
    "dummies_PACK=pd.get_dummies(df['PACKAGE'],prefix='PACK')\n",
    "prod = pd.concat([\n",
    "       dummies_L1, dummies_PROD, dummies_PACK,\n",
    "        dummies_FLAV, dummies_FAT, dummies_CAL,\n",
    "        dummies_STYLE, dummies_TYPE, df\n",
    "    ],axis=1)\n",
    "prod = prod.drop(labels=['L1','L2','L3','L4','L5','L9','VOL_EQ','PRODUCT TYPE','FLAVOR/SCENT',\n",
    "          'FAT CONTENT', 'CALORIE LEVEL', 'STYLE', 'TYPE OF YOGURT','VOL_EQ', 'PACKAGE','Level',\n",
    "          '*STUBSPEC 1284RC                                                         00004  ','UPC'\n",
    "                        ], axis=1)\n",
    "prod.head()"
   ]
  },
  {
   "cell_type": "code",
   "execution_count": 16,
   "metadata": {
    "collapsed": false
   },
   "outputs": [],
   "source": [
    "store = pd.HDFStore(path)\n",
    "nrows = store.get_storer('groc').nrows\n",
    "r = np.random.randint(0,nrows,size=10000)\n",
    "store_df=pd.read_hdf(path,'groc',where=pd.Index(r))\n",
    "store_pre07=store_df[store_df['year_int']<7]\n",
    "store_pre07 = store_pre07[['UNITS','DOLLARS','D','PR','SY','GE','VEND','ITEM']]\n",
    "\n",
    "prod_store_pre_07=prod.merge(store_pre07, how='inner')"
   ]
  },
  {
   "cell_type": "code",
   "execution_count": 17,
   "metadata": {
    "collapsed": false
   },
   "outputs": [
    {
     "data": {
      "text/html": [
       "<div>\n",
       "<table border=\"1\" class=\"dataframe\">\n",
       "  <thead>\n",
       "    <tr style=\"text-align: right;\">\n",
       "      <th></th>\n",
       "      <th>L1_CATEGORY - YOGURT</th>\n",
       "      <th>PROD_ACIDOPHILUS YOGURT</th>\n",
       "      <th>PROD_BUFFALO MILK YOGURT</th>\n",
       "      <th>PROD_CULTURED DAIRY DRINK</th>\n",
       "      <th>PROD_CULTURED SOY DRINK</th>\n",
       "      <th>PROD_CULTURED SOY SMOOTHI</th>\n",
       "      <th>PROD_DAIRY BLEND</th>\n",
       "      <th>PROD_DAIRY SNACK</th>\n",
       "      <th>PROD_GOATMILK YOGURT</th>\n",
       "      <th>PROD_GOATSMILK YOGRT DRNK</th>\n",
       "      <th>...</th>\n",
       "      <th>TYPE_SYRUP ON THE BOTTOM</th>\n",
       "      <th>TYPE_WHIPPED</th>\n",
       "      <th>SY</th>\n",
       "      <th>GE</th>\n",
       "      <th>VEND</th>\n",
       "      <th>ITEM</th>\n",
       "      <th>UNITS</th>\n",
       "      <th>DOLLARS</th>\n",
       "      <th>D</th>\n",
       "      <th>PR</th>\n",
       "    </tr>\n",
       "  </thead>\n",
       "  <tbody>\n",
       "    <tr>\n",
       "      <th>0</th>\n",
       "      <td>1.0</td>\n",
       "      <td>0.0</td>\n",
       "      <td>0.0</td>\n",
       "      <td>0.0</td>\n",
       "      <td>0.0</td>\n",
       "      <td>0.0</td>\n",
       "      <td>0.0</td>\n",
       "      <td>0.0</td>\n",
       "      <td>0.0</td>\n",
       "      <td>0.0</td>\n",
       "      <td>...</td>\n",
       "      <td>0.0</td>\n",
       "      <td>0.0</td>\n",
       "      <td>7</td>\n",
       "      <td>1</td>\n",
       "      <td>20742</td>\n",
       "      <td>7005</td>\n",
       "      <td>16</td>\n",
       "      <td>22.24</td>\n",
       "      <td>0</td>\n",
       "      <td>0</td>\n",
       "    </tr>\n",
       "    <tr>\n",
       "      <th>1</th>\n",
       "      <td>1.0</td>\n",
       "      <td>0.0</td>\n",
       "      <td>0.0</td>\n",
       "      <td>0.0</td>\n",
       "      <td>0.0</td>\n",
       "      <td>0.0</td>\n",
       "      <td>0.0</td>\n",
       "      <td>0.0</td>\n",
       "      <td>0.0</td>\n",
       "      <td>0.0</td>\n",
       "      <td>...</td>\n",
       "      <td>0.0</td>\n",
       "      <td>0.0</td>\n",
       "      <td>0</td>\n",
       "      <td>2</td>\n",
       "      <td>21000</td>\n",
       "      <td>12586</td>\n",
       "      <td>2</td>\n",
       "      <td>3.98</td>\n",
       "      <td>0</td>\n",
       "      <td>0</td>\n",
       "    </tr>\n",
       "    <tr>\n",
       "      <th>2</th>\n",
       "      <td>1.0</td>\n",
       "      <td>0.0</td>\n",
       "      <td>0.0</td>\n",
       "      <td>0.0</td>\n",
       "      <td>0.0</td>\n",
       "      <td>0.0</td>\n",
       "      <td>0.0</td>\n",
       "      <td>0.0</td>\n",
       "      <td>0.0</td>\n",
       "      <td>0.0</td>\n",
       "      <td>...</td>\n",
       "      <td>0.0</td>\n",
       "      <td>0.0</td>\n",
       "      <td>0</td>\n",
       "      <td>2</td>\n",
       "      <td>21000</td>\n",
       "      <td>935</td>\n",
       "      <td>8</td>\n",
       "      <td>16.00</td>\n",
       "      <td>0</td>\n",
       "      <td>1</td>\n",
       "    </tr>\n",
       "    <tr>\n",
       "      <th>3</th>\n",
       "      <td>1.0</td>\n",
       "      <td>0.0</td>\n",
       "      <td>0.0</td>\n",
       "      <td>0.0</td>\n",
       "      <td>0.0</td>\n",
       "      <td>0.0</td>\n",
       "      <td>0.0</td>\n",
       "      <td>0.0</td>\n",
       "      <td>0.0</td>\n",
       "      <td>0.0</td>\n",
       "      <td>...</td>\n",
       "      <td>0.0</td>\n",
       "      <td>0.0</td>\n",
       "      <td>0</td>\n",
       "      <td>2</td>\n",
       "      <td>21000</td>\n",
       "      <td>935</td>\n",
       "      <td>4</td>\n",
       "      <td>10.36</td>\n",
       "      <td>0</td>\n",
       "      <td>0</td>\n",
       "    </tr>\n",
       "    <tr>\n",
       "      <th>4</th>\n",
       "      <td>1.0</td>\n",
       "      <td>0.0</td>\n",
       "      <td>0.0</td>\n",
       "      <td>0.0</td>\n",
       "      <td>0.0</td>\n",
       "      <td>0.0</td>\n",
       "      <td>0.0</td>\n",
       "      <td>0.0</td>\n",
       "      <td>0.0</td>\n",
       "      <td>0.0</td>\n",
       "      <td>...</td>\n",
       "      <td>0.0</td>\n",
       "      <td>0.0</td>\n",
       "      <td>0</td>\n",
       "      <td>1</td>\n",
       "      <td>71043</td>\n",
       "      <td>638</td>\n",
       "      <td>35</td>\n",
       "      <td>22.75</td>\n",
       "      <td>0</td>\n",
       "      <td>0</td>\n",
       "    </tr>\n",
       "  </tbody>\n",
       "</table>\n",
       "<p>5 rows × 521 columns</p>\n",
       "</div>"
      ],
      "text/plain": [
       "   L1_CATEGORY - YOGURT                  PROD_ACIDOPHILUS YOGURT  \\\n",
       "0                                   1.0                      0.0   \n",
       "1                                   1.0                      0.0   \n",
       "2                                   1.0                      0.0   \n",
       "3                                   1.0                      0.0   \n",
       "4                                   1.0                      0.0   \n",
       "\n",
       "   PROD_BUFFALO MILK YOGURT  PROD_CULTURED DAIRY DRINK  \\\n",
       "0                       0.0                        0.0   \n",
       "1                       0.0                        0.0   \n",
       "2                       0.0                        0.0   \n",
       "3                       0.0                        0.0   \n",
       "4                       0.0                        0.0   \n",
       "\n",
       "   PROD_CULTURED SOY DRINK  PROD_CULTURED SOY SMOOTHI  PROD_DAIRY BLEND  \\\n",
       "0                      0.0                        0.0               0.0   \n",
       "1                      0.0                        0.0               0.0   \n",
       "2                      0.0                        0.0               0.0   \n",
       "3                      0.0                        0.0               0.0   \n",
       "4                      0.0                        0.0               0.0   \n",
       "\n",
       "   PROD_DAIRY SNACK  PROD_GOATMILK YOGURT  PROD_GOATSMILK YOGRT DRNK ...  \\\n",
       "0               0.0                   0.0                        0.0 ...   \n",
       "1               0.0                   0.0                        0.0 ...   \n",
       "2               0.0                   0.0                        0.0 ...   \n",
       "3               0.0                   0.0                        0.0 ...   \n",
       "4               0.0                   0.0                        0.0 ...   \n",
       "\n",
       "   TYPE_SYRUP ON THE BOTTOM  TYPE_WHIPPED  SY  GE   VEND   ITEM  UNITS  \\\n",
       "0                       0.0           0.0   7   1  20742   7005     16   \n",
       "1                       0.0           0.0   0   2  21000  12586      2   \n",
       "2                       0.0           0.0   0   2  21000    935      8   \n",
       "3                       0.0           0.0   0   2  21000    935      4   \n",
       "4                       0.0           0.0   0   1  71043    638     35   \n",
       "\n",
       "   DOLLARS  D  PR  \n",
       "0    22.24  0   0  \n",
       "1     3.98  0   0  \n",
       "2    16.00  0   1  \n",
       "3    10.36  0   0  \n",
       "4    22.75  0   0  \n",
       "\n",
       "[5 rows x 521 columns]"
      ]
     },
     "execution_count": 17,
     "metadata": {},
     "output_type": "execute_result"
    }
   ],
   "source": [
    "prod_store_pre_07.head()"
   ]
  },
  {
   "cell_type": "code",
   "execution_count": 18,
   "metadata": {
    "collapsed": false
   },
   "outputs": [],
   "source": [
    "prod_store_pre_07['UNIT_PRICE']=prod_store_pre_07['DOLLARS']/prod_store_pre_07['UNITS']\n",
    "prod_store_pre_07 = prod_store_pre_07.drop(['SY','GE','VEND','ITEM','DOLLARS'],axis=1)"
   ]
  },
  {
   "cell_type": "code",
   "execution_count": 19,
   "metadata": {
    "collapsed": false
   },
   "outputs": [
    {
     "data": {
      "text/html": [
       "<div>\n",
       "<table border=\"1\" class=\"dataframe\">\n",
       "  <thead>\n",
       "    <tr style=\"text-align: right;\">\n",
       "      <th></th>\n",
       "      <th>L1_CATEGORY - YOGURT</th>\n",
       "      <th>PROD_ACIDOPHILUS YOGURT</th>\n",
       "      <th>PROD_BUFFALO MILK YOGURT</th>\n",
       "      <th>PROD_CULTURED DAIRY DRINK</th>\n",
       "      <th>PROD_CULTURED SOY DRINK</th>\n",
       "      <th>PROD_CULTURED SOY SMOOTHI</th>\n",
       "      <th>PROD_DAIRY BLEND</th>\n",
       "      <th>PROD_DAIRY SNACK</th>\n",
       "      <th>PROD_GOATMILK YOGURT</th>\n",
       "      <th>PROD_GOATSMILK YOGRT DRNK</th>\n",
       "      <th>...</th>\n",
       "      <th>TYPE_REGULAR</th>\n",
       "      <th>TYPE_REGULAR STIR IN</th>\n",
       "      <th>TYPE_SAUCE ON THE BOTTOM</th>\n",
       "      <th>TYPE_STIR IN</th>\n",
       "      <th>TYPE_SYRUP ON THE BOTTOM</th>\n",
       "      <th>TYPE_WHIPPED</th>\n",
       "      <th>UNITS</th>\n",
       "      <th>D</th>\n",
       "      <th>PR</th>\n",
       "      <th>UNIT_PRICE</th>\n",
       "    </tr>\n",
       "  </thead>\n",
       "  <tbody>\n",
       "    <tr>\n",
       "      <th>0</th>\n",
       "      <td>1.0</td>\n",
       "      <td>0.0</td>\n",
       "      <td>0.0</td>\n",
       "      <td>0.0</td>\n",
       "      <td>0.0</td>\n",
       "      <td>0.0</td>\n",
       "      <td>0.0</td>\n",
       "      <td>0.0</td>\n",
       "      <td>0.0</td>\n",
       "      <td>0.0</td>\n",
       "      <td>...</td>\n",
       "      <td>0.0</td>\n",
       "      <td>0.0</td>\n",
       "      <td>0.0</td>\n",
       "      <td>0.0</td>\n",
       "      <td>0.0</td>\n",
       "      <td>0.0</td>\n",
       "      <td>16</td>\n",
       "      <td>0</td>\n",
       "      <td>0</td>\n",
       "      <td>1.39</td>\n",
       "    </tr>\n",
       "    <tr>\n",
       "      <th>1</th>\n",
       "      <td>1.0</td>\n",
       "      <td>0.0</td>\n",
       "      <td>0.0</td>\n",
       "      <td>0.0</td>\n",
       "      <td>0.0</td>\n",
       "      <td>0.0</td>\n",
       "      <td>0.0</td>\n",
       "      <td>0.0</td>\n",
       "      <td>0.0</td>\n",
       "      <td>0.0</td>\n",
       "      <td>...</td>\n",
       "      <td>0.0</td>\n",
       "      <td>0.0</td>\n",
       "      <td>0.0</td>\n",
       "      <td>0.0</td>\n",
       "      <td>0.0</td>\n",
       "      <td>0.0</td>\n",
       "      <td>2</td>\n",
       "      <td>0</td>\n",
       "      <td>0</td>\n",
       "      <td>1.99</td>\n",
       "    </tr>\n",
       "    <tr>\n",
       "      <th>2</th>\n",
       "      <td>1.0</td>\n",
       "      <td>0.0</td>\n",
       "      <td>0.0</td>\n",
       "      <td>0.0</td>\n",
       "      <td>0.0</td>\n",
       "      <td>0.0</td>\n",
       "      <td>0.0</td>\n",
       "      <td>0.0</td>\n",
       "      <td>0.0</td>\n",
       "      <td>0.0</td>\n",
       "      <td>...</td>\n",
       "      <td>0.0</td>\n",
       "      <td>0.0</td>\n",
       "      <td>0.0</td>\n",
       "      <td>0.0</td>\n",
       "      <td>0.0</td>\n",
       "      <td>0.0</td>\n",
       "      <td>8</td>\n",
       "      <td>0</td>\n",
       "      <td>1</td>\n",
       "      <td>2.00</td>\n",
       "    </tr>\n",
       "    <tr>\n",
       "      <th>3</th>\n",
       "      <td>1.0</td>\n",
       "      <td>0.0</td>\n",
       "      <td>0.0</td>\n",
       "      <td>0.0</td>\n",
       "      <td>0.0</td>\n",
       "      <td>0.0</td>\n",
       "      <td>0.0</td>\n",
       "      <td>0.0</td>\n",
       "      <td>0.0</td>\n",
       "      <td>0.0</td>\n",
       "      <td>...</td>\n",
       "      <td>0.0</td>\n",
       "      <td>0.0</td>\n",
       "      <td>0.0</td>\n",
       "      <td>0.0</td>\n",
       "      <td>0.0</td>\n",
       "      <td>0.0</td>\n",
       "      <td>4</td>\n",
       "      <td>0</td>\n",
       "      <td>0</td>\n",
       "      <td>2.59</td>\n",
       "    </tr>\n",
       "    <tr>\n",
       "      <th>4</th>\n",
       "      <td>1.0</td>\n",
       "      <td>0.0</td>\n",
       "      <td>0.0</td>\n",
       "      <td>0.0</td>\n",
       "      <td>0.0</td>\n",
       "      <td>0.0</td>\n",
       "      <td>0.0</td>\n",
       "      <td>0.0</td>\n",
       "      <td>0.0</td>\n",
       "      <td>0.0</td>\n",
       "      <td>...</td>\n",
       "      <td>0.0</td>\n",
       "      <td>0.0</td>\n",
       "      <td>0.0</td>\n",
       "      <td>0.0</td>\n",
       "      <td>0.0</td>\n",
       "      <td>0.0</td>\n",
       "      <td>35</td>\n",
       "      <td>0</td>\n",
       "      <td>0</td>\n",
       "      <td>0.65</td>\n",
       "    </tr>\n",
       "  </tbody>\n",
       "</table>\n",
       "<p>5 rows × 517 columns</p>\n",
       "</div>"
      ],
      "text/plain": [
       "   L1_CATEGORY - YOGURT                  PROD_ACIDOPHILUS YOGURT  \\\n",
       "0                                   1.0                      0.0   \n",
       "1                                   1.0                      0.0   \n",
       "2                                   1.0                      0.0   \n",
       "3                                   1.0                      0.0   \n",
       "4                                   1.0                      0.0   \n",
       "\n",
       "   PROD_BUFFALO MILK YOGURT  PROD_CULTURED DAIRY DRINK  \\\n",
       "0                       0.0                        0.0   \n",
       "1                       0.0                        0.0   \n",
       "2                       0.0                        0.0   \n",
       "3                       0.0                        0.0   \n",
       "4                       0.0                        0.0   \n",
       "\n",
       "   PROD_CULTURED SOY DRINK  PROD_CULTURED SOY SMOOTHI  PROD_DAIRY BLEND  \\\n",
       "0                      0.0                        0.0               0.0   \n",
       "1                      0.0                        0.0               0.0   \n",
       "2                      0.0                        0.0               0.0   \n",
       "3                      0.0                        0.0               0.0   \n",
       "4                      0.0                        0.0               0.0   \n",
       "\n",
       "   PROD_DAIRY SNACK  PROD_GOATMILK YOGURT  PROD_GOATSMILK YOGRT DRNK  \\\n",
       "0               0.0                   0.0                        0.0   \n",
       "1               0.0                   0.0                        0.0   \n",
       "2               0.0                   0.0                        0.0   \n",
       "3               0.0                   0.0                        0.0   \n",
       "4               0.0                   0.0                        0.0   \n",
       "\n",
       "      ...      TYPE_REGULAR  TYPE_REGULAR STIR IN  TYPE_SAUCE ON THE BOTTOM  \\\n",
       "0     ...               0.0                   0.0                       0.0   \n",
       "1     ...               0.0                   0.0                       0.0   \n",
       "2     ...               0.0                   0.0                       0.0   \n",
       "3     ...               0.0                   0.0                       0.0   \n",
       "4     ...               0.0                   0.0                       0.0   \n",
       "\n",
       "   TYPE_STIR IN  TYPE_SYRUP ON THE BOTTOM  TYPE_WHIPPED  UNITS  D  PR  \\\n",
       "0           0.0                       0.0           0.0     16  0   0   \n",
       "1           0.0                       0.0           0.0      2  0   0   \n",
       "2           0.0                       0.0           0.0      8  0   1   \n",
       "3           0.0                       0.0           0.0      4  0   0   \n",
       "4           0.0                       0.0           0.0     35  0   0   \n",
       "\n",
       "   UNIT_PRICE  \n",
       "0        1.39  \n",
       "1        1.99  \n",
       "2        2.00  \n",
       "3        2.59  \n",
       "4        0.65  \n",
       "\n",
       "[5 rows x 517 columns]"
      ]
     },
     "execution_count": 19,
     "metadata": {},
     "output_type": "execute_result"
    }
   ],
   "source": [
    "prod_store_pre_07.head()"
   ]
  },
  {
   "cell_type": "code",
   "execution_count": 20,
   "metadata": {
    "collapsed": false
   },
   "outputs": [],
   "source": [
    "from scipy.stats import pointbiserialr, spearmanr\n",
    "\n",
    "columns = prod_store_pre_07.columns.values"
   ]
  },
  {
   "cell_type": "code",
   "execution_count": 21,
   "metadata": {
    "collapsed": false
   },
   "outputs": [
    {
     "data": {
      "text/html": [
       "<div>\n",
       "<table border=\"1\" class=\"dataframe\">\n",
       "  <thead>\n",
       "    <tr style=\"text-align: right;\">\n",
       "      <th></th>\n",
       "      <th>abs_corr</th>\n",
       "      <th>correlation</th>\n",
       "    </tr>\n",
       "    <tr>\n",
       "      <th>parameter</th>\n",
       "      <th></th>\n",
       "      <th></th>\n",
       "    </tr>\n",
       "  </thead>\n",
       "  <tbody>\n",
       "    <tr>\n",
       "      <th>UNITS</th>\n",
       "      <td>1.000000</td>\n",
       "      <td>1.000000</td>\n",
       "    </tr>\n",
       "    <tr>\n",
       "      <th>UNIT_PRICE</th>\n",
       "      <td>0.499803</td>\n",
       "      <td>-0.499803</td>\n",
       "    </tr>\n",
       "    <tr>\n",
       "      <th>PACK_PLASTIC CUP</th>\n",
       "      <td>0.382498</td>\n",
       "      <td>0.382498</td>\n",
       "    </tr>\n",
       "    <tr>\n",
       "      <th>PR</th>\n",
       "      <td>0.257242</td>\n",
       "      <td>0.257242</td>\n",
       "    </tr>\n",
       "    <tr>\n",
       "      <th>PROD_YOGURT</th>\n",
       "      <td>0.228002</td>\n",
       "      <td>0.228002</td>\n",
       "    </tr>\n",
       "    <tr>\n",
       "      <th>CAL_MISSING</th>\n",
       "      <td>0.219348</td>\n",
       "      <td>-0.219348</td>\n",
       "    </tr>\n",
       "    <tr>\n",
       "      <th>FLAV_ASSORTED</th>\n",
       "      <td>0.197894</td>\n",
       "      <td>-0.197894</td>\n",
       "    </tr>\n",
       "    <tr>\n",
       "      <th>TYPE_MISSING</th>\n",
       "      <td>0.191128</td>\n",
       "      <td>-0.191128</td>\n",
       "    </tr>\n",
       "    <tr>\n",
       "      <th>TYPE_PRESTIRRED</th>\n",
       "      <td>0.189074</td>\n",
       "      <td>0.189074</td>\n",
       "    </tr>\n",
       "    <tr>\n",
       "      <th>STYLE_ORIGINAL</th>\n",
       "      <td>0.180351</td>\n",
       "      <td>0.180351</td>\n",
       "    </tr>\n",
       "    <tr>\n",
       "      <th>PACK_PLSTC CUP IN SLEEVE</th>\n",
       "      <td>0.174807</td>\n",
       "      <td>-0.174807</td>\n",
       "    </tr>\n",
       "    <tr>\n",
       "      <th>CAL_LIGHT</th>\n",
       "      <td>0.164144</td>\n",
       "      <td>0.164144</td>\n",
       "    </tr>\n",
       "    <tr>\n",
       "      <th>FAT_99% FAT FREE</th>\n",
       "      <td>0.147286</td>\n",
       "      <td>0.147286</td>\n",
       "    </tr>\n",
       "    <tr>\n",
       "      <th>PROD_YOGURT SMOOTHIE</th>\n",
       "      <td>0.145780</td>\n",
       "      <td>-0.145780</td>\n",
       "    </tr>\n",
       "    <tr>\n",
       "      <th>PACK_BOTTLE IN SLEEVE</th>\n",
       "      <td>0.135136</td>\n",
       "      <td>-0.135136</td>\n",
       "    </tr>\n",
       "    <tr>\n",
       "      <th>FAT_REGULAR</th>\n",
       "      <td>0.134772</td>\n",
       "      <td>-0.134772</td>\n",
       "    </tr>\n",
       "    <tr>\n",
       "      <th>STYLE_MISSING</th>\n",
       "      <td>0.133138</td>\n",
       "      <td>-0.133138</td>\n",
       "    </tr>\n",
       "    <tr>\n",
       "      <th>D</th>\n",
       "      <td>0.131425</td>\n",
       "      <td>0.131425</td>\n",
       "    </tr>\n",
       "    <tr>\n",
       "      <th>PACK_PLASTIC BOTTLE</th>\n",
       "      <td>0.126283</td>\n",
       "      <td>-0.126283</td>\n",
       "    </tr>\n",
       "    <tr>\n",
       "      <th>PROD_YOGURT DRINK</th>\n",
       "      <td>0.119607</td>\n",
       "      <td>-0.119607</td>\n",
       "    </tr>\n",
       "    <tr>\n",
       "      <th>FAT_NONFAT</th>\n",
       "      <td>0.105405</td>\n",
       "      <td>0.105405</td>\n",
       "    </tr>\n",
       "    <tr>\n",
       "      <th>PACK_SQUEEZE TUBE IN BOX</th>\n",
       "      <td>0.105147</td>\n",
       "      <td>-0.105147</td>\n",
       "    </tr>\n",
       "    <tr>\n",
       "      <th>PROD_SOY YOGURT</th>\n",
       "      <td>0.100581</td>\n",
       "      <td>-0.100581</td>\n",
       "    </tr>\n",
       "    <tr>\n",
       "      <th>PACK_PLASTIC CUP IN BOX</th>\n",
       "      <td>0.098453</td>\n",
       "      <td>-0.098453</td>\n",
       "    </tr>\n",
       "    <tr>\n",
       "      <th>PACK_PLASTIC CUP W/LID</th>\n",
       "      <td>0.091789</td>\n",
       "      <td>-0.091789</td>\n",
       "    </tr>\n",
       "    <tr>\n",
       "      <th>FLAV_MOUNTAIN BLUEBERRY</th>\n",
       "      <td>0.085865</td>\n",
       "      <td>0.085865</td>\n",
       "    </tr>\n",
       "    <tr>\n",
       "      <th>FAT_LOW FAT</th>\n",
       "      <td>0.080091</td>\n",
       "      <td>-0.080091</td>\n",
       "    </tr>\n",
       "    <tr>\n",
       "      <th>CAL_LITE</th>\n",
       "      <td>0.077998</td>\n",
       "      <td>0.077998</td>\n",
       "    </tr>\n",
       "    <tr>\n",
       "      <th>FLAV_PLAIN</th>\n",
       "      <td>0.074519</td>\n",
       "      <td>-0.074519</td>\n",
       "    </tr>\n",
       "    <tr>\n",
       "      <th>PACK_PLASTIC CONTAINER</th>\n",
       "      <td>0.074038</td>\n",
       "      <td>-0.074038</td>\n",
       "    </tr>\n",
       "    <tr>\n",
       "      <th>...</th>\n",
       "      <td>...</td>\n",
       "      <td>...</td>\n",
       "    </tr>\n",
       "    <tr>\n",
       "      <th>FLAV_STRAWBERRY</th>\n",
       "      <td>0.003851</td>\n",
       "      <td>0.003851</td>\n",
       "    </tr>\n",
       "    <tr>\n",
       "      <th>CAL_70 CALORIES</th>\n",
       "      <td>0.003784</td>\n",
       "      <td>-0.003784</td>\n",
       "    </tr>\n",
       "    <tr>\n",
       "      <th>FLAV_LIME</th>\n",
       "      <td>0.003697</td>\n",
       "      <td>0.003697</td>\n",
       "    </tr>\n",
       "    <tr>\n",
       "      <th>FLAV_BANANA SPLIT</th>\n",
       "      <td>0.003669</td>\n",
       "      <td>0.003669</td>\n",
       "    </tr>\n",
       "    <tr>\n",
       "      <th>FLAV_RASPBERRY</th>\n",
       "      <td>0.003337</td>\n",
       "      <td>-0.003337</td>\n",
       "    </tr>\n",
       "    <tr>\n",
       "      <th>FLAV_VANILLA CREAM</th>\n",
       "      <td>0.003284</td>\n",
       "      <td>-0.003284</td>\n",
       "    </tr>\n",
       "    <tr>\n",
       "      <th>FAT_98% FAT FREE</th>\n",
       "      <td>0.003250</td>\n",
       "      <td>0.003250</td>\n",
       "    </tr>\n",
       "    <tr>\n",
       "      <th>FLAV_STRAWBERRY &amp; BANANA</th>\n",
       "      <td>0.003015</td>\n",
       "      <td>0.003015</td>\n",
       "    </tr>\n",
       "    <tr>\n",
       "      <th>FLAV_RASPBERRY &amp; CREAM</th>\n",
       "      <td>0.002702</td>\n",
       "      <td>-0.002702</td>\n",
       "    </tr>\n",
       "    <tr>\n",
       "      <th>FLAV_STRAWBERRY SUPREME</th>\n",
       "      <td>0.002642</td>\n",
       "      <td>-0.002642</td>\n",
       "    </tr>\n",
       "    <tr>\n",
       "      <th>FLAV_CHERRY CHIFFON</th>\n",
       "      <td>0.002444</td>\n",
       "      <td>0.002444</td>\n",
       "    </tr>\n",
       "    <tr>\n",
       "      <th>FLAV_SPICED APPLE GRANOLA</th>\n",
       "      <td>0.002345</td>\n",
       "      <td>-0.002345</td>\n",
       "    </tr>\n",
       "    <tr>\n",
       "      <th>FLAV_ORCHARD PEACH</th>\n",
       "      <td>0.002345</td>\n",
       "      <td>-0.002345</td>\n",
       "    </tr>\n",
       "    <tr>\n",
       "      <th>CAL_240 CALORIES</th>\n",
       "      <td>0.001960</td>\n",
       "      <td>0.001960</td>\n",
       "    </tr>\n",
       "    <tr>\n",
       "      <th>FLAV_LEMON</th>\n",
       "      <td>0.001870</td>\n",
       "      <td>-0.001870</td>\n",
       "    </tr>\n",
       "    <tr>\n",
       "      <th>STYLE_NATURAL</th>\n",
       "      <td>0.001420</td>\n",
       "      <td>0.001420</td>\n",
       "    </tr>\n",
       "    <tr>\n",
       "      <th>FLAV_BLACKBERRY BURST</th>\n",
       "      <td>0.001389</td>\n",
       "      <td>-0.001389</td>\n",
       "    </tr>\n",
       "    <tr>\n",
       "      <th>STYLE_THICK AND CREAMY</th>\n",
       "      <td>0.001342</td>\n",
       "      <td>0.001342</td>\n",
       "    </tr>\n",
       "    <tr>\n",
       "      <th>FLAV_CHOCOLATE CHERRY</th>\n",
       "      <td>0.001330</td>\n",
       "      <td>0.001330</td>\n",
       "    </tr>\n",
       "    <tr>\n",
       "      <th>FLAV_ORANGE CREAM</th>\n",
       "      <td>0.001207</td>\n",
       "      <td>-0.001207</td>\n",
       "    </tr>\n",
       "    <tr>\n",
       "      <th>FLAV_MAPLE</th>\n",
       "      <td>0.001175</td>\n",
       "      <td>0.001175</td>\n",
       "    </tr>\n",
       "    <tr>\n",
       "      <th>FAT_2.5% MILKFAT</th>\n",
       "      <td>0.000898</td>\n",
       "      <td>0.000898</td>\n",
       "    </tr>\n",
       "    <tr>\n",
       "      <th>FLAV_PINEAPPLE</th>\n",
       "      <td>0.000843</td>\n",
       "      <td>-0.000843</td>\n",
       "    </tr>\n",
       "    <tr>\n",
       "      <th>FLAV_PEACHES N CREAM</th>\n",
       "      <td>0.000794</td>\n",
       "      <td>-0.000794</td>\n",
       "    </tr>\n",
       "    <tr>\n",
       "      <th>FLAV_LUSCIOUS LEMON</th>\n",
       "      <td>0.000792</td>\n",
       "      <td>-0.000792</td>\n",
       "    </tr>\n",
       "    <tr>\n",
       "      <th>FLAV_BANANA FOSTER</th>\n",
       "      <td>0.000592</td>\n",
       "      <td>-0.000592</td>\n",
       "    </tr>\n",
       "    <tr>\n",
       "      <th>FLAV_CHERRY VANILLA CRM</th>\n",
       "      <td>0.000592</td>\n",
       "      <td>-0.000592</td>\n",
       "    </tr>\n",
       "    <tr>\n",
       "      <th>PROD_ACIDOPHILUS YOGURT</th>\n",
       "      <td>0.000443</td>\n",
       "      <td>-0.000443</td>\n",
       "    </tr>\n",
       "    <tr>\n",
       "      <th>FLAV_VANILLA</th>\n",
       "      <td>0.000090</td>\n",
       "      <td>0.000090</td>\n",
       "    </tr>\n",
       "    <tr>\n",
       "      <th>FLAV_CHERRY AND VANILLA</th>\n",
       "      <td>0.000067</td>\n",
       "      <td>-0.000067</td>\n",
       "    </tr>\n",
       "  </tbody>\n",
       "</table>\n",
       "<p>287 rows × 2 columns</p>\n",
       "</div>"
      ],
      "text/plain": [
       "                           abs_corr  correlation\n",
       "parameter                                       \n",
       "UNITS                      1.000000     1.000000\n",
       "UNIT_PRICE                 0.499803    -0.499803\n",
       "PACK_PLASTIC CUP           0.382498     0.382498\n",
       "PR                         0.257242     0.257242\n",
       "PROD_YOGURT                0.228002     0.228002\n",
       "CAL_MISSING                0.219348    -0.219348\n",
       "FLAV_ASSORTED              0.197894    -0.197894\n",
       "TYPE_MISSING               0.191128    -0.191128\n",
       "TYPE_PRESTIRRED            0.189074     0.189074\n",
       "STYLE_ORIGINAL             0.180351     0.180351\n",
       "PACK_PLSTC CUP IN SLEEVE   0.174807    -0.174807\n",
       "CAL_LIGHT                  0.164144     0.164144\n",
       "FAT_99% FAT FREE           0.147286     0.147286\n",
       "PROD_YOGURT SMOOTHIE       0.145780    -0.145780\n",
       "PACK_BOTTLE IN SLEEVE      0.135136    -0.135136\n",
       "FAT_REGULAR                0.134772    -0.134772\n",
       "STYLE_MISSING              0.133138    -0.133138\n",
       "D                          0.131425     0.131425\n",
       "PACK_PLASTIC BOTTLE        0.126283    -0.126283\n",
       "PROD_YOGURT DRINK          0.119607    -0.119607\n",
       "FAT_NONFAT                 0.105405     0.105405\n",
       "PACK_SQUEEZE TUBE IN BOX   0.105147    -0.105147\n",
       "PROD_SOY YOGURT            0.100581    -0.100581\n",
       "PACK_PLASTIC CUP IN BOX    0.098453    -0.098453\n",
       "PACK_PLASTIC CUP W/LID     0.091789    -0.091789\n",
       "FLAV_MOUNTAIN BLUEBERRY    0.085865     0.085865\n",
       "FAT_LOW FAT                0.080091    -0.080091\n",
       "CAL_LITE                   0.077998     0.077998\n",
       "FLAV_PLAIN                 0.074519    -0.074519\n",
       "PACK_PLASTIC CONTAINER     0.074038    -0.074038\n",
       "...                             ...          ...\n",
       "FLAV_STRAWBERRY            0.003851     0.003851\n",
       "CAL_70 CALORIES            0.003784    -0.003784\n",
       "FLAV_LIME                  0.003697     0.003697\n",
       "FLAV_BANANA SPLIT          0.003669     0.003669\n",
       "FLAV_RASPBERRY             0.003337    -0.003337\n",
       "FLAV_VANILLA CREAM         0.003284    -0.003284\n",
       "FAT_98% FAT FREE           0.003250     0.003250\n",
       "FLAV_STRAWBERRY & BANANA   0.003015     0.003015\n",
       "FLAV_RASPBERRY & CREAM     0.002702    -0.002702\n",
       "FLAV_STRAWBERRY SUPREME    0.002642    -0.002642\n",
       "FLAV_CHERRY CHIFFON        0.002444     0.002444\n",
       "FLAV_SPICED APPLE GRANOLA  0.002345    -0.002345\n",
       "FLAV_ORCHARD PEACH         0.002345    -0.002345\n",
       "CAL_240 CALORIES           0.001960     0.001960\n",
       "FLAV_LEMON                 0.001870    -0.001870\n",
       "STYLE_NATURAL              0.001420     0.001420\n",
       "FLAV_BLACKBERRY BURST      0.001389    -0.001389\n",
       "STYLE_THICK AND CREAMY     0.001342     0.001342\n",
       "FLAV_CHOCOLATE CHERRY      0.001330     0.001330\n",
       "FLAV_ORANGE CREAM          0.001207    -0.001207\n",
       "FLAV_MAPLE                 0.001175     0.001175\n",
       "FAT_2.5% MILKFAT           0.000898     0.000898\n",
       "FLAV_PINEAPPLE             0.000843    -0.000843\n",
       "FLAV_PEACHES N CREAM       0.000794    -0.000794\n",
       "FLAV_LUSCIOUS LEMON        0.000792    -0.000792\n",
       "FLAV_BANANA FOSTER         0.000592    -0.000592\n",
       "FLAV_CHERRY VANILLA CRM    0.000592    -0.000592\n",
       "PROD_ACIDOPHILUS YOGURT    0.000443    -0.000443\n",
       "FLAV_VANILLA               0.000090     0.000090\n",
       "FLAV_CHERRY AND VANILLA    0.000067    -0.000067\n",
       "\n",
       "[287 rows x 2 columns]"
      ]
     },
     "execution_count": 21,
     "metadata": {},
     "output_type": "execute_result"
    }
   ],
   "source": [
    "param=[]\n",
    "correlation=[]\n",
    "abs_corr=[]\n",
    "\n",
    "for c in columns:\n",
    "    #Check if binary or continuous\n",
    "    corr = spearmanr(prod_store_pre_07['UNITS'].values,\n",
    "                     prod_store_pre_07[c].fillna(0).values)[0]\n",
    "    param.append(c)\n",
    "    correlation.append(corr)\n",
    "    abs_corr.append(abs(corr))\n",
    "\n",
    "#Create dataframe for visualization\n",
    "param_df=pd.DataFrame({'correlation':correlation,'parameter':param, 'abs_corr':abs_corr})\n",
    "\n",
    "#Sort by absolute correlation\n",
    "param_df=param_df.sort_values(by=['abs_corr'], ascending=False)\n",
    "\n",
    "#Drop NaN as these are caused by Speakmanr not handling too many 0's\n",
    "param_df=param_df.dropna()\n",
    "\n",
    "#Set parameter name as index\n",
    "param_df=param_df.set_index('parameter')\n",
    "\n",
    "param_df"
   ]
  },
  {
   "cell_type": "markdown",
   "metadata": {},
   "source": [
    "####Without Feature Selection"
   ]
  },
  {
   "cell_type": "code",
   "execution_count": 22,
   "metadata": {
    "collapsed": false
   },
   "outputs": [],
   "source": [
    "y = prod_store_pre_07['UNITS']\n",
    "X = prod_store_pre_07.drop('UNITS',axis=1)"
   ]
  },
  {
   "cell_type": "code",
   "execution_count": 23,
   "metadata": {
    "collapsed": false
   },
   "outputs": [],
   "source": [
    "X['UNIT_PRICE'] = X['UNIT_PRICE'].apply(lambda x:1 if x>X['UNIT_PRICE'].median() else 0)"
   ]
  },
  {
   "cell_type": "code",
   "execution_count": 24,
   "metadata": {
    "collapsed": false
   },
   "outputs": [
    {
     "name": "stdout",
     "output_type": "stream",
     "text": [
      "0.0319237813158\n",
      "-0.0695781669772\n"
     ]
    }
   ],
   "source": [
    "X_train, X_test, y_train, y_test = train_test_split(X, y, test_size=0.33, random_state=44)\n",
    "\n",
    "rfr = RandomForestRegressor(n_jobs=-1)\n",
    "rfr.fit(X_train,y_train)\n",
    "print rfr.score(X_test,y_test)\n",
    "\n",
    "svr = SVR()\n",
    "svr.fit(X_train,y_train)\n",
    "print svr.score(X_test,y_test)"
   ]
  },
  {
   "cell_type": "markdown",
   "metadata": {},
   "source": [
    "####Ridge Feature Selection"
   ]
  },
  {
   "cell_type": "code",
   "execution_count": 25,
   "metadata": {
    "collapsed": false
   },
   "outputs": [
    {
     "name": "stdout",
     "output_type": "stream",
     "text": [
      "Selected 261 features from the original 516\n"
     ]
    }
   ],
   "source": [
    "from sklearn.feature_selection import SelectFromModel\n",
    "from sklearn.linear_model import LassoCV, RidgeCV\n",
    "\n",
    "#feature selection\n",
    "lcv = RidgeCV()\n",
    "sfm = SelectFromModel(lcv, threshold=0.25)\n",
    "sfm.fit(X, y)\n",
    "X_new = sfm.transform(X)\n",
    "\n",
    "print 'Selected %d features from the original %d'%(np.shape(X_new)[1], np.shape(X)[1])"
   ]
  },
  {
   "cell_type": "code",
   "execution_count": 26,
   "metadata": {
    "collapsed": false
   },
   "outputs": [
    {
     "name": "stdout",
     "output_type": "stream",
     "text": [
      "-0.00432930609643\n",
      "-0.0379932830648\n"
     ]
    }
   ],
   "source": [
    "X_train, X_test, y_train, y_test = train_test_split(X_new, y, test_size=0.33, random_state=44)\n",
    "\n",
    "rfr = RandomForestRegressor(n_jobs=-1)\n",
    "rfr.fit(X_train,y_train)\n",
    "print rfr.score(X_test,y_test)\n",
    "\n",
    "svr = SVR()\n",
    "svr.fit(X_train,y_train)\n",
    "print svr.score(X_test,y_test)"
   ]
  },
  {
   "cell_type": "markdown",
   "metadata": {},
   "source": [
    "####Lasso Feature Selection"
   ]
  },
  {
   "cell_type": "code",
   "execution_count": 27,
   "metadata": {
    "collapsed": false
   },
   "outputs": [
    {
     "name": "stdout",
     "output_type": "stream",
     "text": [
      "Selected 16 features from the original 516\n"
     ]
    }
   ],
   "source": [
    "from sklearn.feature_selection import SelectFromModel\n",
    "from sklearn.linear_model import LassoCV, RidgeCV\n",
    "\n",
    "#feature selection\n",
    "lcv = LassoCV()\n",
    "sfm = SelectFromModel(lcv, threshold=0.25)\n",
    "sfm.fit(X, y)\n",
    "X_new = sfm.transform(X)\n",
    "\n",
    "print 'Selected %d features from the original %d'%(np.shape(X_new)[1], np.shape(X)[1])"
   ]
  },
  {
   "cell_type": "code",
   "execution_count": 28,
   "metadata": {
    "collapsed": false
   },
   "outputs": [
    {
     "name": "stdout",
     "output_type": "stream",
     "text": [
      "0.110275717542\n",
      "0.0513362758682\n"
     ]
    }
   ],
   "source": [
    "X_train, X_test, y_train, y_test = train_test_split(X_new, y, test_size=0.33, random_state=44)\n",
    "\n",
    "rfr = RandomForestRegressor(n_jobs=-1)\n",
    "rfr.fit(X_train,y_train)\n",
    "print rfr.score(X_test,y_test)\n",
    "\n",
    "svr = SVR()\n",
    "svr.fit(X_train,y_train)\n",
    "print svr.score(X_test,y_test)"
   ]
  },
  {
   "cell_type": "markdown",
   "metadata": {},
   "source": [
    "####Optimize SVR with Ridge"
   ]
  },
  {
   "cell_type": "code",
   "execution_count": 29,
   "metadata": {
    "collapsed": false
   },
   "outputs": [
    {
     "name": "stdout",
     "output_type": "stream",
     "text": [
      "Selected 261 features from the original 516\n"
     ]
    }
   ],
   "source": [
    "from sklearn.feature_selection import SelectFromModel\n",
    "from sklearn.linear_model import LassoCV, RidgeCV\n",
    "\n",
    "#feature selection\n",
    "lcv = RidgeCV()\n",
    "sfm = SelectFromModel(lcv, threshold=0.25)\n",
    "sfm.fit(X, y)\n",
    "X_new = sfm.transform(X)\n",
    "\n",
    "print 'Selected %d features from the original %d'%(np.shape(X_new)[1], np.shape(X)[1])"
   ]
  },
  {
   "cell_type": "code",
   "execution_count": 30,
   "metadata": {
    "collapsed": false
   },
   "outputs": [
    {
     "name": "stdout",
     "output_type": "stream",
     "text": [
      "0.0513362758682\n"
     ]
    }
   ],
   "source": [
    "svr = SVR()\n",
    "svr.fit(X_train,y_train)\n",
    "print svr.score(X_test,y_test)"
   ]
  },
  {
   "cell_type": "markdown",
   "metadata": {},
   "source": [
    "##Classification"
   ]
  },
  {
   "cell_type": "code",
   "execution_count": 31,
   "metadata": {
    "collapsed": true
   },
   "outputs": [],
   "source": [
    "y_new =y.apply(lambda x:1 if x>y.median() else 0)"
   ]
  },
  {
   "cell_type": "code",
   "execution_count": 32,
   "metadata": {
    "collapsed": false
   },
   "outputs": [
    {
     "name": "stdout",
     "output_type": "stream",
     "text": [
      "Selected 261 features from the original 516\n"
     ]
    }
   ],
   "source": [
    "from sklearn.feature_selection import SelectFromModel\n",
    "from sklearn.linear_model import LassoCV, RidgeCV\n",
    "\n",
    "#feature selection\n",
    "lcv = RidgeCV()\n",
    "sfm = SelectFromModel(lcv, threshold=0.25)\n",
    "sfm.fit(X, y)\n",
    "X_new = sfm.transform(X)\n",
    "\n",
    "print 'Selected %d features from the original %d'%(np.shape(X_new)[1], np.shape(X)[1])"
   ]
  },
  {
   "cell_type": "code",
   "execution_count": 33,
   "metadata": {
    "collapsed": false
   },
   "outputs": [
    {
     "name": "stdout",
     "output_type": "stream",
     "text": [
      "0.671358629131\n",
      "0.68482252142\n"
     ]
    }
   ],
   "source": [
    "from sklearn.ensemble import RandomForestClassifier\n",
    "from sklearn.svm import SVC\n",
    "\n",
    "X_train, X_test, y_train, y_test = train_test_split(X_new, y_new, test_size=0.33, random_state=44)\n",
    "\n",
    "rfr = RandomForestClassifier(n_jobs=-1)\n",
    "rfr.fit(X_train,y_train)\n",
    "print rfr.score(X_test,y_test)\n",
    "\n",
    "svr = SVC()\n",
    "svr.fit(X_train,y_train)\n",
    "print svr.score(X_test,y_test)"
   ]
  },
  {
   "cell_type": "code",
   "execution_count": 34,
   "metadata": {
    "collapsed": false
   },
   "outputs": [
    {
     "name": "stdout",
     "output_type": "stream",
     "text": [
      "Selected 16 features from the original 516\n"
     ]
    }
   ],
   "source": [
    "from sklearn.feature_selection import SelectFromModel\n",
    "from sklearn.linear_model import LassoCV, RidgeCV\n",
    "\n",
    "#feature selection\n",
    "lcv = LassoCV()\n",
    "sfm = SelectFromModel(lcv, threshold=0.25)\n",
    "sfm.fit(X, y)\n",
    "X_new = sfm.transform(X)\n",
    "\n",
    "print 'Selected %d features from the original %d'%(np.shape(X_new)[1], np.shape(X)[1])"
   ]
  },
  {
   "cell_type": "code",
   "execution_count": 35,
   "metadata": {
    "collapsed": false
   },
   "outputs": [
    {
     "name": "stdout",
     "output_type": "stream",
     "text": [
      "0.681150550796\n",
      "0.685434516524\n"
     ]
    }
   ],
   "source": [
    "from sklearn.ensemble import RandomForestClassifier\n",
    "from sklearn.svm import SVC\n",
    "\n",
    "X_train, X_test, y_train, y_test = train_test_split(X_new, y_new, test_size=0.33, random_state=44)\n",
    "\n",
    "rfr = RandomForestClassifier(n_jobs=-1)\n",
    "rfr.fit(X_train,y_train)\n",
    "print rfr.score(X_test,y_test)\n",
    "\n",
    "svr = SVC()\n",
    "svr.fit(X_train,y_train)\n",
    "print svr.score(X_test,y_test)"
   ]
  },
  {
   "cell_type": "markdown",
   "metadata": {},
   "source": [
    "##Test Different SVC"
   ]
  },
  {
   "cell_type": "markdown",
   "metadata": {},
   "source": [
    "####No Feature Selection"
   ]
  },
  {
   "cell_type": "code",
   "execution_count": 40,
   "metadata": {
    "collapsed": false
   },
   "outputs": [
    {
     "name": "stdout",
     "output_type": "stream",
     "text": [
      "rbf 0.0587515299878\n",
      "sigmoid 0.0538555691554\n",
      "poly1 0.062423500612\n",
      "poly2 0.0544675642595\n",
      "poly3 0.0538555691554\n",
      "poly4 0.0538555691554\n",
      "poly5 0.0538555691554\n"
     ]
    }
   ],
   "source": [
    "X_train, X_test, y_train, y_test = train_test_split(X_new, y, test_size=0.33, random_state=44)\n",
    "\n",
    "def clf(kernel='rbf', degree=3):\n",
    "    svr = SVC(kernel=kernel,degree=degree)\n",
    "    svr.fit(X_train,y_train)\n",
    "    return svr.score(X_test,y_test)    \n",
    "\n",
    "print 'rbf', clf()\n",
    "print 'sigmoid', clf('sigmoid')\n",
    "print 'poly1', clf('poly',1)\n",
    "print 'poly2', clf('poly',2)\n",
    "print 'poly3', clf('poly',3)\n",
    "print 'poly4', clf('poly',4)\n",
    "print 'poly5', clf('poly',5)"
   ]
  },
  {
   "cell_type": "code",
   "execution_count": 36,
   "metadata": {
    "collapsed": false
   },
   "outputs": [
    {
     "name": "stdout",
     "output_type": "stream",
     "text": [
      "Selected 16 features from the original 516\n"
     ]
    }
   ],
   "source": [
    "from sklearn.feature_selection import SelectFromModel\n",
    "from sklearn.linear_model import LassoCV, RidgeCV\n",
    "\n",
    "#feature selection\n",
    "lcv = LassoCV()\n",
    "sfm = SelectFromModel(lcv, threshold=0.25)\n",
    "sfm.fit(X, y)\n",
    "X_new = sfm.transform(X)\n",
    "\n",
    "print 'Selected %d features from the original %d'%(np.shape(X_new)[1], np.shape(X)[1])"
   ]
  },
  {
   "cell_type": "markdown",
   "metadata": {},
   "source": [
    "####Lasso"
   ]
  },
  {
   "cell_type": "code",
   "execution_count": 37,
   "metadata": {
    "collapsed": false
   },
   "outputs": [
    {
     "name": "stdout",
     "output_type": "stream",
     "text": [
      "rbf 0.685434516524\n",
      "sigmoid 0.49388004896\n",
      "poly1 0.685434516524\n",
      "poly2 0.685434516524\n",
      "poly3 0.673194614443\n",
      "poly4 0.569155446756\n",
      "poly5 0.49388004896\n"
     ]
    }
   ],
   "source": [
    "from sklearn.ensemble import RandomForestClassifier\n",
    "from sklearn.svm import SVC\n",
    "\n",
    "X_train, X_test, y_train, y_test = train_test_split(X_new, y_new, test_size=0.33, random_state=44)\n",
    "\n",
    "def clf(kernel='rbf', degree=3):\n",
    "    svr = SVC(kernel=kernel,degree=degree)\n",
    "    svr.fit(X_train,y_train)\n",
    "    return svr.score(X_test,y_test)    \n",
    "\n",
    "print 'rbf', clf()\n",
    "print 'sigmoid', clf('sigmoid')\n",
    "print 'poly1', clf('poly',1)\n",
    "print 'poly2', clf('poly',2)\n",
    "print 'poly3', clf('poly',3)\n",
    "print 'poly4', clf('poly',4)\n",
    "print 'poly5', clf('poly',5)"
   ]
  },
  {
   "cell_type": "code",
   "execution_count": 46,
   "metadata": {
    "collapsed": false
   },
   "outputs": [
    {
     "name": "stdout",
     "output_type": "stream",
     "text": [
      "l1 0.692778457772\n",
      "l2 0.69400244798\n",
      "dual 0.69400244798\n"
     ]
    }
   ],
   "source": [
    "from sklearn.svm import LinearSVC\n",
    "\n",
    "X_train, X_test, y_train, y_test = train_test_split(X, y_new, test_size=0.33, random_state=44)\n",
    "\n",
    "def clf(penalty, dual=False):\n",
    "    svr = LinearSVC(penalty=penalty, dual=dual)\n",
    "    svr.fit(X_train,y_train)\n",
    "    return svr.score(X_test,y_test)    \n",
    "\n",
    "print 'l1', clf('l1')\n",
    "print 'l2', clf('l2')\n",
    "print 'dual', clf('l2', True)"
   ]
  },
  {
   "cell_type": "code",
   "execution_count": 47,
   "metadata": {
    "collapsed": false
   },
   "outputs": [
    {
     "name": "stdout",
     "output_type": "stream",
     "text": [
      "rbf 0.573439412485\n",
      "sigmoid 0.50611995104\n",
      "poly1 0.570991432069\n",
      "poly2 0.596083231334\n",
      "poly3 0.585679314565\n",
      "poly4 0.630966952264\n",
      "poly5 0.537331701346\n"
     ]
    }
   ],
   "source": [
    "from sklearn.svm import NuSVC\n",
    "\n",
    "from sklearn.ensemble import RandomForestClassifier\n",
    "from sklearn.svm import SVC\n",
    "\n",
    "X_train, X_test, y_train, y_test = train_test_split(X_new, y_new, test_size=0.33, random_state=44)\n",
    "\n",
    "def clf(kernel='rbf', degree=3):\n",
    "    svr = NuSVC(kernel=kernel,degree=degree)\n",
    "    svr.fit(X_train,y_train)\n",
    "    return svr.score(X_test,y_test)    \n",
    "\n",
    "print 'rbf', clf()\n",
    "print 'sigmoid', clf('sigmoid')\n",
    "print 'poly1', clf('poly',1)\n",
    "print 'poly2', clf('poly',2)\n",
    "print 'poly3', clf('poly',3)\n",
    "print 'poly4', clf('poly',4)\n",
    "print 'poly5', clf('poly',5)"
   ]
  },
  {
   "cell_type": "markdown",
   "metadata": {},
   "source": [
    "##Optimize LinearSVC with L2 penalty"
   ]
  },
  {
   "cell_type": "code",
   "execution_count": 61,
   "metadata": {
    "collapsed": false
   },
   "outputs": [
    {
     "data": {
      "image/png": "[encoded data removed]",
      "text/plain": [
       "<matplotlib.figure.Figure at 0x7f3e3954d550>"
      ]
     },
     "metadata": {},
     "output_type": "display_data"
    }
   ],
   "source": [
    "X_train, X_test, y_train, y_test = train_test_split(X, y_new, test_size=0.33, random_state=44)\n",
    "\n",
    "def clf(c, penalty='l2', dual=False):\n",
    "    svr = LinearSVC(C=c,penalty=penalty, dual=dual)\n",
    "    svr.fit(X_train,y_train)\n",
    "    return svr.score(X_test,y_test)    \n",
    "\n",
    "scores = []\n",
    "for c in np.linspace(0.1,1,10):\n",
    "    scores.append(clf(c))\n",
    "plt.plot(scores);"
   ]
  },
  {
   "cell_type": "code",
   "execution_count": 62,
   "metadata": {
    "collapsed": false
   },
   "outputs": [
    {
     "data": {
      "text/plain": [
       "0.6952264381884945"
      ]
     },
     "execution_count": 62,
     "metadata": {},
     "output_type": "execute_result"
    }
   ],
   "source": [
    "clf(0.3)"
   ]
  },
  {
   "cell_type": "code",
   "execution_count": 63,
   "metadata": {
    "collapsed": false
   },
   "outputs": [
    {
     "data": {
      "text/plain": [
       "0.6940024479804161"
      ]
     },
     "execution_count": 63,
     "metadata": {},
     "output_type": "execute_result"
    }
   ],
   "source": [
    "from sklearn.ensemble import GradientBoostingClassifier\n",
    "\n",
    "clf = GradientBoostingClassifier()\n",
    "clf.fit(X_train, y_train)\n",
    "clf.score(X_test, y_test)"
   ]
  },
  {
   "cell_type": "code",
   "execution_count": null,
   "metadata": {
    "collapsed": true
   },
   "outputs": [],
   "source": []
  }
 ],
 "metadata": {
  "kernelspec": {
   "display_name": "Python 2",
   "language": "python",
   "name": "python2"
  },
  "language_info": {
   "codemirror_mode": {
    "name": "ipython",
    "version": 2
   },
   "file_extension": ".py",
   "mimetype": "text/x-python",
   "name": "python",
   "nbconvert_exporter": "python",
   "pygments_lexer": "ipython2",
   "version": "2.7.11"
  }
 },
 "nbformat": 4,
 "nbformat_minor": 0
}
