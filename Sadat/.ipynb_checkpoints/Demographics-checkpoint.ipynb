{
 "cells": [
  {
   "cell_type": "code",
   "execution_count": 17,
   "metadata": {
    "collapsed": false
   },
   "outputs": [],
   "source": [
    "import h5py as h5\n",
    "import numpy as np\n",
    "import pandas as pd\n",
    "import numpy as np\n",
    "import matplotlib.pyplot as plt\n",
    "import seaborn as sns\n",
    "import datetime as dt\n",
    "%matplotlib inline"
   ]
  },
  {
   "cell_type": "code",
   "execution_count": 18,
   "metadata": {
    "collapsed": false
   },
   "outputs": [],
   "source": [
    "#Manually changed file names to have pattern\n",
    "\n",
    "path = '~/Desktop/IRI Yogurt/demos trips external 1_11 may13/'\n",
    "\n",
    "for i in range(1,12):\n",
    "    meta_df = pd.read_csv(path+'ads demo'+str(i)+'.csv')\n",
    "    try:\n",
    "        df = pd.concat([df,meta_df])\n",
    "    except:\n",
    "        df = meta_df"
   ]
  },
  {
   "cell_type": "code",
   "execution_count": 19,
   "metadata": {
    "collapsed": false
   },
   "outputs": [
    {
     "data": {
      "text/html": [
       "<div>\n",
       "<table border=\"1\" class=\"dataframe\">\n",
       "  <thead>\n",
       "    <tr style=\"text-align: right;\">\n",
       "      <th></th>\n",
       "      <th>ALL_TVS</th>\n",
       "      <th>Age Group Applied to Female HH</th>\n",
       "      <th>Age Group Applied to Household Head</th>\n",
       "      <th>Age Group Applied to Male HH</th>\n",
       "      <th>CABL_TVS</th>\n",
       "      <th>COLUPC_x</th>\n",
       "      <th>COLUPC_y</th>\n",
       "      <th>COUNTY</th>\n",
       "      <th>Children Group Code</th>\n",
       "      <th>Combined Pre-Tax Income of HH</th>\n",
       "      <th>...</th>\n",
       "      <th>UNITS_x</th>\n",
       "      <th>UNITS_y</th>\n",
       "      <th>WEEK_x</th>\n",
       "      <th>WEEK_y</th>\n",
       "      <th>Year</th>\n",
       "      <th>ZIPCODE</th>\n",
       "      <th>device_type</th>\n",
       "      <th>file_x</th>\n",
       "      <th>file_y</th>\n",
       "      <th>market based upon zipcode</th>\n",
       "    </tr>\n",
       "  </thead>\n",
       "  <tbody>\n",
       "    <tr>\n",
       "      <th>0</th>\n",
       "      <td>NaN</td>\n",
       "      <td>6</td>\n",
       "      <td>NaN</td>\n",
       "      <td>6</td>\n",
       "      <td>NaN</td>\n",
       "      <td>NaN</td>\n",
       "      <td>NaN</td>\n",
       "      <td>NaN</td>\n",
       "      <td>8</td>\n",
       "      <td>3</td>\n",
       "      <td>...</td>\n",
       "      <td>NaN</td>\n",
       "      <td>NaN</td>\n",
       "      <td>NaN</td>\n",
       "      <td>NaN</td>\n",
       "      <td>1.0</td>\n",
       "      <td>NaN</td>\n",
       "      <td>NaN</td>\n",
       "      <td>NaN</td>\n",
       "      <td>NaN</td>\n",
       "      <td>NaN</td>\n",
       "    </tr>\n",
       "    <tr>\n",
       "      <th>1</th>\n",
       "      <td>NaN</td>\n",
       "      <td>5</td>\n",
       "      <td>NaN</td>\n",
       "      <td>7</td>\n",
       "      <td>NaN</td>\n",
       "      <td>NaN</td>\n",
       "      <td>NaN</td>\n",
       "      <td>NaN</td>\n",
       "      <td>3</td>\n",
       "      <td>5</td>\n",
       "      <td>...</td>\n",
       "      <td>NaN</td>\n",
       "      <td>NaN</td>\n",
       "      <td>NaN</td>\n",
       "      <td>NaN</td>\n",
       "      <td>1.0</td>\n",
       "      <td>NaN</td>\n",
       "      <td>NaN</td>\n",
       "      <td>NaN</td>\n",
       "      <td>NaN</td>\n",
       "      <td>NaN</td>\n",
       "    </tr>\n",
       "    <tr>\n",
       "      <th>2</th>\n",
       "      <td>NaN</td>\n",
       "      <td>6</td>\n",
       "      <td>NaN</td>\n",
       "      <td>6</td>\n",
       "      <td>NaN</td>\n",
       "      <td>NaN</td>\n",
       "      <td>NaN</td>\n",
       "      <td>NaN</td>\n",
       "      <td>8</td>\n",
       "      <td>8</td>\n",
       "      <td>...</td>\n",
       "      <td>NaN</td>\n",
       "      <td>NaN</td>\n",
       "      <td>NaN</td>\n",
       "      <td>NaN</td>\n",
       "      <td>1.0</td>\n",
       "      <td>NaN</td>\n",
       "      <td>NaN</td>\n",
       "      <td>NaN</td>\n",
       "      <td>NaN</td>\n",
       "      <td>NaN</td>\n",
       "    </tr>\n",
       "    <tr>\n",
       "      <th>3</th>\n",
       "      <td>NaN</td>\n",
       "      <td>6</td>\n",
       "      <td>NaN</td>\n",
       "      <td>6</td>\n",
       "      <td>NaN</td>\n",
       "      <td>NaN</td>\n",
       "      <td>NaN</td>\n",
       "      <td>NaN</td>\n",
       "      <td>8</td>\n",
       "      <td>7</td>\n",
       "      <td>...</td>\n",
       "      <td>NaN</td>\n",
       "      <td>NaN</td>\n",
       "      <td>NaN</td>\n",
       "      <td>NaN</td>\n",
       "      <td>1.0</td>\n",
       "      <td>NaN</td>\n",
       "      <td>NaN</td>\n",
       "      <td>NaN</td>\n",
       "      <td>NaN</td>\n",
       "      <td>NaN</td>\n",
       "    </tr>\n",
       "    <tr>\n",
       "      <th>4</th>\n",
       "      <td>NaN</td>\n",
       "      <td>6</td>\n",
       "      <td>NaN</td>\n",
       "      <td>6</td>\n",
       "      <td>NaN</td>\n",
       "      <td>NaN</td>\n",
       "      <td>NaN</td>\n",
       "      <td>NaN</td>\n",
       "      <td>8</td>\n",
       "      <td>10</td>\n",
       "      <td>...</td>\n",
       "      <td>NaN</td>\n",
       "      <td>NaN</td>\n",
       "      <td>NaN</td>\n",
       "      <td>NaN</td>\n",
       "      <td>1.0</td>\n",
       "      <td>NaN</td>\n",
       "      <td>NaN</td>\n",
       "      <td>NaN</td>\n",
       "      <td>NaN</td>\n",
       "      <td>NaN</td>\n",
       "    </tr>\n",
       "  </tbody>\n",
       "</table>\n",
       "<p>5 rows × 69 columns</p>\n",
       "</div>"
      ],
      "text/plain": [
       "  ALL_TVS  Age Group Applied to Female HH Age Group Applied to Household Head  \\\n",
       "0     NaN                               6                                 NaN   \n",
       "1     NaN                               5                                 NaN   \n",
       "2     NaN                               6                                 NaN   \n",
       "3     NaN                               6                                 NaN   \n",
       "4     NaN                               6                                 NaN   \n",
       "\n",
       "   Age Group Applied to Male HH CABL_TVS  COLUPC_x  COLUPC_y COUNTY  \\\n",
       "0                             6      NaN       NaN       NaN    NaN   \n",
       "1                             7      NaN       NaN       NaN    NaN   \n",
       "2                             6      NaN       NaN       NaN    NaN   \n",
       "3                             6      NaN       NaN       NaN    NaN   \n",
       "4                             6      NaN       NaN       NaN    NaN   \n",
       "\n",
       "   Children Group Code Combined Pre-Tax Income of HH  \\\n",
       "0                    8                             3   \n",
       "1                    3                             5   \n",
       "2                    8                             8   \n",
       "3                    8                             7   \n",
       "4                    8                            10   \n",
       "\n",
       "             ...              UNITS_x  UNITS_y  WEEK_x  WEEK_y Year  ZIPCODE  \\\n",
       "0            ...                  NaN      NaN     NaN     NaN  1.0      NaN   \n",
       "1            ...                  NaN      NaN     NaN     NaN  1.0      NaN   \n",
       "2            ...                  NaN      NaN     NaN     NaN  1.0      NaN   \n",
       "3            ...                  NaN      NaN     NaN     NaN  1.0      NaN   \n",
       "4            ...                  NaN      NaN     NaN     NaN  1.0      NaN   \n",
       "\n",
       "  device_type  file_x  file_y  market based upon zipcode  \n",
       "0         NaN     NaN     NaN                        NaN  \n",
       "1         NaN     NaN     NaN                        NaN  \n",
       "2         NaN     NaN     NaN                        NaN  \n",
       "3         NaN     NaN     NaN                        NaN  \n",
       "4         NaN     NaN     NaN                        NaN  \n",
       "\n",
       "[5 rows x 69 columns]"
      ]
     },
     "execution_count": 19,
     "metadata": {},
     "output_type": "execute_result"
    }
   ],
   "source": [
    "df.head()"
   ]
  },
  {
   "cell_type": "code",
   "execution_count": 20,
   "metadata": {
    "collapsed": false
   },
   "outputs": [
    {
     "data": {
      "text/plain": [
       "Index([u'ALL_TVS', u'Age Group Applied to Female HH',\n",
       "       u'Age Group Applied to Household Head', u'Age Group Applied to Male HH',\n",
       "       u'CABL_TVS', u'COLUPC_x', u'COLUPC_y', u'COUNTY',\n",
       "       u'Children Group Code', u'Combined Pre-Tax Income of HH', u'DOLLARS_x',\n",
       "       u'DOLLARS_y', u'EXT_FACT', u'Education Level Reached by Female HH',\n",
       "       u'Education Level Reached by Household Head',\n",
       "       u'Education Level Reached by Male HH', u'FEM_SMOKE', u'FIPSCODE',\n",
       "       u'Family Size', u'Female Working Hour Code', u'HH Head Race (RACE2)',\n",
       "       u'HH Head Race (RACE3)', u'HH_AGE', u'HH_EDU', u'HH_LANG', u'HH_OCC',\n",
       "       u'HH_RACE', u'HISP_CAT', u'HISP_FLAG', u'Hispanic Flag',\n",
       "       u'Household Head Race', u'IRI Geography Number', u'IRI_KEY_x',\n",
       "       u'IRI_KEY_y', u'Language', u'MALE_SMOKE', u'MICROWAVE', u'MINUTE_x',\n",
       "       u'MINUTE_y', u'Male Working Hour Code', u'Marital Status',\n",
       "       u'Microwave Owned by HH', u'Number of Cats', u'Number of Dogs',\n",
       "       u'Number of TVs Hooked to Cable', u'Number of TVs Used by HH',\n",
       "       u'OUTLET_x', u'OUTLET_y', u'Occupation Code of Female HH',\n",
       "       u'Occupation Code of Household Head', u'Occupation Code of Male HH',\n",
       "       u'PANID_x', u'PANID_y', u'Panelist ID', u'Panelist IDl',\n",
       "       u'Panelist Type', u'RACE2', u'RACE3', u'Type of Residential Possession',\n",
       "       u'UNITS_x', u'UNITS_y', u'WEEK_x', u'WEEK_y', u'Year', u'ZIPCODE',\n",
       "       u'device_type', u'file_x', u'file_y', u'market based upon zipcode'],\n",
       "      dtype='object')"
      ]
     },
     "execution_count": 20,
     "metadata": {},
     "output_type": "execute_result"
    }
   ],
   "source": [
    "df.columns"
   ]
  },
  {
   "cell_type": "code",
   "execution_count": 21,
   "metadata": {
    "collapsed": false
   },
   "outputs": [
    {
     "data": {
      "text/plain": [
       "array([ nan,   1.,   3.])"
      ]
     },
     "execution_count": 21,
     "metadata": {},
     "output_type": "execute_result"
    }
   ],
   "source": [
    "df['IRI Geography Number'].unique()"
   ]
  },
  {
   "cell_type": "code",
   "execution_count": 22,
   "metadata": {
    "collapsed": false
   },
   "outputs": [
    {
     "data": {
      "text/html": [
       "<div>\n",
       "<table border=\"1\" class=\"dataframe\">\n",
       "  <thead>\n",
       "    <tr style=\"text-align: right;\">\n",
       "      <th></th>\n",
       "      <th>COLUPC</th>\n",
       "      <th>DOLLARS</th>\n",
       "      <th>IRI_KEY</th>\n",
       "      <th>MINUTE</th>\n",
       "      <th>OUTLET</th>\n",
       "      <th>PANID</th>\n",
       "      <th>UNITS</th>\n",
       "      <th>WEEK</th>\n",
       "      <th>file</th>\n",
       "      <th>Panelist ID</th>\n",
       "    </tr>\n",
       "  </thead>\n",
       "  <tbody>\n",
       "    <tr>\n",
       "      <th>0</th>\n",
       "      <td>17047000300</td>\n",
       "      <td>0.99</td>\n",
       "      <td>1097117</td>\n",
       "      <td>5068.0</td>\n",
       "      <td>DK</td>\n",
       "      <td>3138826</td>\n",
       "      <td>1.0</td>\n",
       "      <td>1514</td>\n",
       "      <td>yogurt_PANEL_DK_1479_1530.DAT</td>\n",
       "      <td>3138826</td>\n",
       "    </tr>\n",
       "    <tr>\n",
       "      <th>1</th>\n",
       "      <td>17047000302</td>\n",
       "      <td>0.89</td>\n",
       "      <td>1097117</td>\n",
       "      <td>2224.0</td>\n",
       "      <td>DK</td>\n",
       "      <td>3138826</td>\n",
       "      <td>1.0</td>\n",
       "      <td>1489</td>\n",
       "      <td>yogurt_PANEL_DK_1479_1530.DAT</td>\n",
       "      <td>3138826</td>\n",
       "    </tr>\n",
       "    <tr>\n",
       "      <th>2</th>\n",
       "      <td>17047000650</td>\n",
       "      <td>0.89</td>\n",
       "      <td>1097117</td>\n",
       "      <td>6551.0</td>\n",
       "      <td>DK</td>\n",
       "      <td>3138826</td>\n",
       "      <td>1.0</td>\n",
       "      <td>1488</td>\n",
       "      <td>yogurt_PANEL_DK_1479_1530.DAT</td>\n",
       "      <td>3138826</td>\n",
       "    </tr>\n",
       "    <tr>\n",
       "      <th>3</th>\n",
       "      <td>17047000650</td>\n",
       "      <td>2.97</td>\n",
       "      <td>1097117</td>\n",
       "      <td>6177.0</td>\n",
       "      <td>DK</td>\n",
       "      <td>3182048</td>\n",
       "      <td>3.0</td>\n",
       "      <td>1526</td>\n",
       "      <td>yogurt_PANEL_DK_1479_1530.DAT</td>\n",
       "      <td>3182048</td>\n",
       "    </tr>\n",
       "    <tr>\n",
       "      <th>4</th>\n",
       "      <td>17047001372</td>\n",
       "      <td>1.49</td>\n",
       "      <td>1097117</td>\n",
       "      <td>973.0</td>\n",
       "      <td>DK</td>\n",
       "      <td>3184911</td>\n",
       "      <td>1.0</td>\n",
       "      <td>1495</td>\n",
       "      <td>yogurt_PANEL_DK_1479_1530.DAT</td>\n",
       "      <td>3184911</td>\n",
       "    </tr>\n",
       "  </tbody>\n",
       "</table>\n",
       "</div>"
      ],
      "text/plain": [
       "        COLUPC  DOLLARS  IRI_KEY  MINUTE OUTLET    PANID  UNITS  WEEK  \\\n",
       "0  17047000300     0.99  1097117  5068.0    DK   3138826    1.0  1514   \n",
       "1  17047000302     0.89  1097117  2224.0    DK   3138826    1.0  1489   \n",
       "2  17047000650     0.89  1097117  6551.0    DK   3138826    1.0  1488   \n",
       "3  17047000650     2.97  1097117  6177.0    DK   3182048    3.0  1526   \n",
       "4  17047001372     1.49  1097117   973.0    DK   3184911    1.0  1495   \n",
       "\n",
       "                            file  Panelist ID  \n",
       "0  yogurt_PANEL_DK_1479_1530.DAT      3138826  \n",
       "1  yogurt_PANEL_DK_1479_1530.DAT      3138826  \n",
       "2  yogurt_PANEL_DK_1479_1530.DAT      3138826  \n",
       "3  yogurt_PANEL_DK_1479_1530.DAT      3182048  \n",
       "4  yogurt_PANEL_DK_1479_1530.DAT      3184911  "
      ]
     },
     "execution_count": 22,
     "metadata": {},
     "output_type": "execute_result"
    }
   ],
   "source": [
    "panel_df = pd.read_hdf('/home/sadat/Documents/DSE/Data/yogurt.h5', key='panel')\n",
    "panel_df['Panelist ID']=panel_df['PANID']\n",
    "panel_df.head()"
   ]
  },
  {
   "cell_type": "code",
   "execution_count": null,
   "metadata": {
    "collapsed": false
   },
   "outputs": [],
   "source": [
    "df = df.join(panel_df, on='Panelist ID', lsuffix='l',how='inner')"
   ]
  },
  {
   "cell_type": "code",
   "execution_count": null,
   "metadata": {
    "collapsed": false
   },
   "outputs": [],
   "source": [
    "df.head()"
   ]
  },
  {
   "cell_type": "code",
   "execution_count": null,
   "metadata": {
    "collapsed": false
   },
   "outputs": [],
   "source": [
    "df.shape"
   ]
  },
  {
   "cell_type": "code",
   "execution_count": null,
   "metadata": {
    "collapsed": false
   },
   "outputs": [],
   "source": [
    "df.ix[1]"
   ]
  },
  {
   "cell_type": "code",
   "execution_count": null,
   "metadata": {
    "collapsed": true
   },
   "outputs": [],
   "source": []
  }
 ],
 "metadata": {
  "kernelspec": {
   "display_name": "Python 2",
   "language": "python",
   "name": "python2"
  },
  "language_info": {
   "codemirror_mode": {
    "name": "ipython",
    "version": 2
   },
   "file_extension": ".py",
   "mimetype": "text/x-python",
   "name": "python",
   "nbconvert_exporter": "python",
   "pygments_lexer": "ipython2",
   "version": "2.7.11"
  }
 },
 "nbformat": 4,
 "nbformat_minor": 0
}
