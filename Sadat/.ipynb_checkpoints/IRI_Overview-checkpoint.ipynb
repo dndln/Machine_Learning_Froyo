{
 "cells": [
  {
   "cell_type": "code",
   "execution_count": 1,
   "metadata": {
    "collapsed": false
   },
   "outputs": [
    {
     "name": "stderr",
     "output_type": "stream",
     "text": [
      ":0: FutureWarning: IPython widgets are experimental and may change in the future.\n"
     ]
    }
   ],
   "source": [
    "import h5py as h5\n",
    "import numpy as np\n",
    "import pandas as pd\n",
    "import numpy as np\n",
    "import matplotlib.pyplot as plt\n",
    "from matplotlib.ticker import FuncFormatter\n",
    "import calendar as cal\n",
    "import seaborn as sns\n",
    "import datetime as dt\n",
    "%matplotlib inline"
   ]
  },
  {
   "cell_type": "code",
   "execution_count": 2,
   "metadata": {
    "collapsed": true
   },
   "outputs": [],
   "source": [
    "path = '/home/sadat/Documents/DSE/Data/yogurt.h5'"
   ]
  },
  {
   "cell_type": "markdown",
   "metadata": {},
   "source": [
    "##Analyze yogurt.h5 structure"
   ]
  },
  {
   "cell_type": "code",
   "execution_count": 3,
   "metadata": {
    "collapsed": false
   },
   "outputs": [
    {
     "name": "stdout",
     "output_type": "stream",
     "text": [
      "delivery_stores\n",
      "delivery_stores/axis0\n",
      "delivery_stores/axis1\n",
      "delivery_stores/block0_items\n",
      "delivery_stores/block0_values\n",
      "delivery_stores/block1_items\n",
      "delivery_stores/block1_values\n",
      "delivery_stores/block2_items\n",
      "delivery_stores/block2_values\n",
      "demos\n",
      "demos/axis0\n",
      "demos/axis1\n",
      "demos/block0_items\n",
      "demos/block0_values\n",
      "demos/block1_items\n",
      "demos/block1_values\n",
      "demos/block2_items\n",
      "demos/block2_values\n",
      "drug\n",
      "drug/_i_table\n",
      "drug/_i_table/index\n",
      "drug/_i_table/index/abounds\n",
      "drug/_i_table/index/bounds\n",
      "drug/_i_table/index/indices\n",
      "drug/_i_table/index/indicesLR\n",
      "drug/_i_table/index/mbounds\n",
      "drug/_i_table/index/mranges\n",
      "drug/_i_table/index/ranges\n",
      "drug/_i_table/index/sorted\n",
      "drug/_i_table/index/sortedLR\n",
      "drug/_i_table/index/zbounds\n",
      "drug/table\n",
      "groc\n",
      "groc/_i_table\n",
      "groc/_i_table/index\n",
      "groc/_i_table/index/abounds\n",
      "groc/_i_table/index/bounds\n",
      "groc/_i_table/index/indices\n",
      "groc/_i_table/index/indicesLR\n",
      "groc/_i_table/index/mbounds\n",
      "groc/_i_table/index/mranges\n",
      "groc/_i_table/index/ranges\n",
      "groc/_i_table/index/sorted\n",
      "groc/_i_table/index/sortedLR\n",
      "groc/_i_table/index/zbounds\n",
      "groc/table\n",
      "panel\n",
      "panel/_i_table\n",
      "panel/_i_table/index\n",
      "panel/_i_table/index/abounds\n",
      "panel/_i_table/index/bounds\n",
      "panel/_i_table/index/indices\n",
      "panel/_i_table/index/indicesLR\n",
      "panel/_i_table/index/mbounds\n",
      "panel/_i_table/index/mranges\n",
      "panel/_i_table/index/ranges\n",
      "panel/_i_table/index/sorted\n",
      "panel/_i_table/index/sortedLR\n",
      "panel/_i_table/index/zbounds\n",
      "panel/table\n"
     ]
    }
   ],
   "source": [
    "data = h5.File(path)\n",
    "\n",
    "def printname(name):   \n",
    "    print(name)\n",
    "\n",
    "data.visit(printname)"
   ]
  },
  {
   "cell_type": "code",
   "execution_count": 4,
   "metadata": {
    "collapsed": false
   },
   "outputs": [],
   "source": [
    "data.close()"
   ]
  },
  {
   "cell_type": "markdown",
   "metadata": {},
   "source": [
    "##Panel data"
   ]
  },
  {
   "cell_type": "code",
   "execution_count": 5,
   "metadata": {
    "collapsed": false
   },
   "outputs": [],
   "source": [
    "df = pd.read_hdf(path, key='panel')"
   ]
  },
  {
   "cell_type": "code",
   "execution_count": 6,
   "metadata": {
    "collapsed": false
   },
   "outputs": [
    {
     "data": {
      "text/html": [
       "<div>\n",
       "<table border=\"1\" class=\"dataframe\">\n",
       "  <thead>\n",
       "    <tr style=\"text-align: right;\">\n",
       "      <th></th>\n",
       "      <th>COLUPC</th>\n",
       "      <th>DOLLARS</th>\n",
       "      <th>IRI_KEY</th>\n",
       "      <th>MINUTE</th>\n",
       "      <th>OUTLET</th>\n",
       "      <th>PANID</th>\n",
       "      <th>UNITS</th>\n",
       "      <th>WEEK</th>\n",
       "      <th>file</th>\n",
       "    </tr>\n",
       "  </thead>\n",
       "  <tbody>\n",
       "    <tr>\n",
       "      <th>0</th>\n",
       "      <td>17047000300</td>\n",
       "      <td>0.99</td>\n",
       "      <td>1097117</td>\n",
       "      <td>5068.0</td>\n",
       "      <td>DK</td>\n",
       "      <td>3138826</td>\n",
       "      <td>1.0</td>\n",
       "      <td>1514</td>\n",
       "      <td>yogurt_PANEL_DK_1479_1530.DAT</td>\n",
       "    </tr>\n",
       "    <tr>\n",
       "      <th>1</th>\n",
       "      <td>17047000302</td>\n",
       "      <td>0.89</td>\n",
       "      <td>1097117</td>\n",
       "      <td>2224.0</td>\n",
       "      <td>DK</td>\n",
       "      <td>3138826</td>\n",
       "      <td>1.0</td>\n",
       "      <td>1489</td>\n",
       "      <td>yogurt_PANEL_DK_1479_1530.DAT</td>\n",
       "    </tr>\n",
       "    <tr>\n",
       "      <th>2</th>\n",
       "      <td>17047000650</td>\n",
       "      <td>0.89</td>\n",
       "      <td>1097117</td>\n",
       "      <td>6551.0</td>\n",
       "      <td>DK</td>\n",
       "      <td>3138826</td>\n",
       "      <td>1.0</td>\n",
       "      <td>1488</td>\n",
       "      <td>yogurt_PANEL_DK_1479_1530.DAT</td>\n",
       "    </tr>\n",
       "    <tr>\n",
       "      <th>3</th>\n",
       "      <td>17047000650</td>\n",
       "      <td>2.97</td>\n",
       "      <td>1097117</td>\n",
       "      <td>6177.0</td>\n",
       "      <td>DK</td>\n",
       "      <td>3182048</td>\n",
       "      <td>3.0</td>\n",
       "      <td>1526</td>\n",
       "      <td>yogurt_PANEL_DK_1479_1530.DAT</td>\n",
       "    </tr>\n",
       "    <tr>\n",
       "      <th>4</th>\n",
       "      <td>17047001372</td>\n",
       "      <td>1.49</td>\n",
       "      <td>1097117</td>\n",
       "      <td>973.0</td>\n",
       "      <td>DK</td>\n",
       "      <td>3184911</td>\n",
       "      <td>1.0</td>\n",
       "      <td>1495</td>\n",
       "      <td>yogurt_PANEL_DK_1479_1530.DAT</td>\n",
       "    </tr>\n",
       "  </tbody>\n",
       "</table>\n",
       "</div>"
      ],
      "text/plain": [
       "        COLUPC  DOLLARS  IRI_KEY  MINUTE OUTLET    PANID  UNITS  WEEK  \\\n",
       "0  17047000300     0.99  1097117  5068.0    DK   3138826    1.0  1514   \n",
       "1  17047000302     0.89  1097117  2224.0    DK   3138826    1.0  1489   \n",
       "2  17047000650     0.89  1097117  6551.0    DK   3138826    1.0  1488   \n",
       "3  17047000650     2.97  1097117  6177.0    DK   3182048    3.0  1526   \n",
       "4  17047001372     1.49  1097117   973.0    DK   3184911    1.0  1495   \n",
       "\n",
       "                            file  \n",
       "0  yogurt_PANEL_DK_1479_1530.DAT  \n",
       "1  yogurt_PANEL_DK_1479_1530.DAT  \n",
       "2  yogurt_PANEL_DK_1479_1530.DAT  \n",
       "3  yogurt_PANEL_DK_1479_1530.DAT  \n",
       "4  yogurt_PANEL_DK_1479_1530.DAT  "
      ]
     },
     "execution_count": 6,
     "metadata": {},
     "output_type": "execute_result"
    }
   ],
   "source": [
    "df.head()"
   ]
  },
  {
   "cell_type": "markdown",
   "metadata": {},
   "source": [
    "####Missing data"
   ]
  },
  {
   "cell_type": "code",
   "execution_count": 7,
   "metadata": {
    "collapsed": false
   },
   "outputs": [
    {
     "name": "stdout",
     "output_type": "stream",
     "text": [
      "<class 'pandas.core.frame.DataFrame'>\n",
      "Int64Index: 1609107 entries, 0 to 15\n",
      "Data columns (total 9 columns):\n",
      "COLUPC     1609107 non-null int64\n",
      "DOLLARS    1609107 non-null float64\n",
      "IRI_KEY    1609107 non-null int64\n",
      "MINUTE     520189 non-null float64\n",
      "OUTLET     1609107 non-null object\n",
      "PANID      1609107 non-null int64\n",
      "UNITS      1609107 non-null float64\n",
      "WEEK       1609107 non-null int64\n",
      "file       1609107 non-null object\n",
      "dtypes: float64(3), int64(4), object(2)\n",
      "memory usage: 122.8+ MB\n"
     ]
    }
   ],
   "source": [
    "df.info()"
   ]
  },
  {
   "cell_type": "markdown",
   "metadata": {},
   "source": [
    "We see that MINUTE is missing. We will drop this and work with data after 2008."
   ]
  },
  {
   "cell_type": "code",
   "execution_count": 8,
   "metadata": {
    "collapsed": false
   },
   "outputs": [
    {
     "data": {
      "text/html": [
       "<div>\n",
       "<table border=\"1\" class=\"dataframe\">\n",
       "  <thead>\n",
       "    <tr style=\"text-align: right;\">\n",
       "      <th></th>\n",
       "      <th>COLUPC</th>\n",
       "      <th>DOLLARS</th>\n",
       "      <th>IRI_KEY</th>\n",
       "      <th>MINUTE</th>\n",
       "      <th>OUTLET</th>\n",
       "      <th>PANID</th>\n",
       "      <th>UNITS</th>\n",
       "      <th>WEEK</th>\n",
       "      <th>file</th>\n",
       "    </tr>\n",
       "  </thead>\n",
       "  <tbody>\n",
       "    <tr>\n",
       "      <th>0</th>\n",
       "      <td>17047000300</td>\n",
       "      <td>0.99</td>\n",
       "      <td>1097117</td>\n",
       "      <td>5068.0</td>\n",
       "      <td>DK</td>\n",
       "      <td>3138826</td>\n",
       "      <td>1.0</td>\n",
       "      <td>1514</td>\n",
       "      <td>yogurt_PANEL_DK_1479_1530.DAT</td>\n",
       "    </tr>\n",
       "    <tr>\n",
       "      <th>1</th>\n",
       "      <td>17047000302</td>\n",
       "      <td>0.89</td>\n",
       "      <td>1097117</td>\n",
       "      <td>2224.0</td>\n",
       "      <td>DK</td>\n",
       "      <td>3138826</td>\n",
       "      <td>1.0</td>\n",
       "      <td>1489</td>\n",
       "      <td>yogurt_PANEL_DK_1479_1530.DAT</td>\n",
       "    </tr>\n",
       "    <tr>\n",
       "      <th>2</th>\n",
       "      <td>17047000650</td>\n",
       "      <td>0.89</td>\n",
       "      <td>1097117</td>\n",
       "      <td>6551.0</td>\n",
       "      <td>DK</td>\n",
       "      <td>3138826</td>\n",
       "      <td>1.0</td>\n",
       "      <td>1488</td>\n",
       "      <td>yogurt_PANEL_DK_1479_1530.DAT</td>\n",
       "    </tr>\n",
       "    <tr>\n",
       "      <th>3</th>\n",
       "      <td>17047000650</td>\n",
       "      <td>2.97</td>\n",
       "      <td>1097117</td>\n",
       "      <td>6177.0</td>\n",
       "      <td>DK</td>\n",
       "      <td>3182048</td>\n",
       "      <td>3.0</td>\n",
       "      <td>1526</td>\n",
       "      <td>yogurt_PANEL_DK_1479_1530.DAT</td>\n",
       "    </tr>\n",
       "    <tr>\n",
       "      <th>4</th>\n",
       "      <td>17047001372</td>\n",
       "      <td>1.49</td>\n",
       "      <td>1097117</td>\n",
       "      <td>973.0</td>\n",
       "      <td>DK</td>\n",
       "      <td>3184911</td>\n",
       "      <td>1.0</td>\n",
       "      <td>1495</td>\n",
       "      <td>yogurt_PANEL_DK_1479_1530.DAT</td>\n",
       "    </tr>\n",
       "  </tbody>\n",
       "</table>\n",
       "</div>"
      ],
      "text/plain": [
       "        COLUPC  DOLLARS  IRI_KEY  MINUTE OUTLET    PANID  UNITS  WEEK  \\\n",
       "0  17047000300     0.99  1097117  5068.0    DK   3138826    1.0  1514   \n",
       "1  17047000302     0.89  1097117  2224.0    DK   3138826    1.0  1489   \n",
       "2  17047000650     0.89  1097117  6551.0    DK   3138826    1.0  1488   \n",
       "3  17047000650     2.97  1097117  6177.0    DK   3182048    3.0  1526   \n",
       "4  17047001372     1.49  1097117   973.0    DK   3184911    1.0  1495   \n",
       "\n",
       "                            file  \n",
       "0  yogurt_PANEL_DK_1479_1530.DAT  \n",
       "1  yogurt_PANEL_DK_1479_1530.DAT  \n",
       "2  yogurt_PANEL_DK_1479_1530.DAT  \n",
       "3  yogurt_PANEL_DK_1479_1530.DAT  \n",
       "4  yogurt_PANEL_DK_1479_1530.DAT  "
      ]
     },
     "execution_count": 8,
     "metadata": {},
     "output_type": "execute_result"
    }
   ],
   "source": [
    "df = df.dropna(axis=0)\n",
    "df.head()"
   ]
  },
  {
   "cell_type": "markdown",
   "metadata": {},
   "source": [
    "####Sales by Outlet"
   ]
  },
  {
   "cell_type": "code",
   "execution_count": 9,
   "metadata": {
    "collapsed": false
   },
   "outputs": [
    {
     "data": {
      "image/png": "[encoded data removed]",
      "text/plain": [
       "<matplotlib.figure.Figure at 0x7fe9fb3bde90>"
      ]
     },
     "metadata": {},
     "output_type": "display_data"
    }
   ],
   "source": [
    "df.groupby('OUTLET')['DOLLARS'].sum().plot(kind='bar', title='Sales by Outlet');"
   ]
  },
  {
   "cell_type": "markdown",
   "metadata": {
    "collapsed": true
   },
   "source": [
    "GK has significantly higher sales compared to other outlets."
   ]
  },
  {
   "cell_type": "markdown",
   "metadata": {
    "collapsed": true
   },
   "source": [
    "####Sales by time (MINUTE and WEEK)"
   ]
  },
  {
   "cell_type": "code",
   "execution_count": 10,
   "metadata": {
    "collapsed": false
   },
   "outputs": [],
   "source": [
    "def get_datetime(week, minute):\n",
    "    week, minute = int(week), int(minute)\n",
    "    # Reference orginal date is September 3, 1979\n",
    "    ref_orginal = dt.date.toordinal(dt.date(1979, 9, 3))\n",
    "    # Convert minutes to days, hours, minutes\n",
    "    days, hours, mins = (minute / 1440), ((minute % 1440) / 60), ((minute % 1440) % 60)\n",
    "    # Convert from ordinal.\n",
    "    return dt.datetime.fromordinal(ref_orginal + (week - 1) * 7 + days).replace(\n",
    "        hour=hours, minute=mins)\n",
    "\n",
    "df = df.dropna(axis=0)\n",
    "week = df['WEEK'].values\n",
    "minute = df['MINUTE'].values\n",
    "datetime = []\n",
    "\n",
    "for w,m in zip(week,minute):\n",
    "    datetime.append(get_datetime(w,m))\n",
    "\n",
    "df['DATETIME']=datetime"
   ]
  },
  {
   "cell_type": "code",
   "execution_count": 11,
   "metadata": {
    "collapsed": false
   },
   "outputs": [
    {
     "data": {
      "text/html": [
       "<div>\n",
       "<table border=\"1\" class=\"dataframe\">\n",
       "  <thead>\n",
       "    <tr style=\"text-align: right;\">\n",
       "      <th></th>\n",
       "      <th>COLUPC</th>\n",
       "      <th>DOLLARS</th>\n",
       "      <th>IRI_KEY</th>\n",
       "      <th>MINUTE</th>\n",
       "      <th>OUTLET</th>\n",
       "      <th>PANID</th>\n",
       "      <th>UNITS</th>\n",
       "      <th>WEEK</th>\n",
       "      <th>file</th>\n",
       "      <th>DATETIME</th>\n",
       "    </tr>\n",
       "  </thead>\n",
       "  <tbody>\n",
       "    <tr>\n",
       "      <th>0</th>\n",
       "      <td>17047000300</td>\n",
       "      <td>0.99</td>\n",
       "      <td>1097117</td>\n",
       "      <td>5068.0</td>\n",
       "      <td>DK</td>\n",
       "      <td>3138826</td>\n",
       "      <td>1.0</td>\n",
       "      <td>1514</td>\n",
       "      <td>yogurt_PANEL_DK_1479_1530.DAT</td>\n",
       "      <td>2008-09-04 12:28:00</td>\n",
       "    </tr>\n",
       "    <tr>\n",
       "      <th>1</th>\n",
       "      <td>17047000302</td>\n",
       "      <td>0.89</td>\n",
       "      <td>1097117</td>\n",
       "      <td>2224.0</td>\n",
       "      <td>DK</td>\n",
       "      <td>3138826</td>\n",
       "      <td>1.0</td>\n",
       "      <td>1489</td>\n",
       "      <td>yogurt_PANEL_DK_1479_1530.DAT</td>\n",
       "      <td>2008-03-11 13:04:00</td>\n",
       "    </tr>\n",
       "    <tr>\n",
       "      <th>2</th>\n",
       "      <td>17047000650</td>\n",
       "      <td>0.89</td>\n",
       "      <td>1097117</td>\n",
       "      <td>6551.0</td>\n",
       "      <td>DK</td>\n",
       "      <td>3138826</td>\n",
       "      <td>1.0</td>\n",
       "      <td>1488</td>\n",
       "      <td>yogurt_PANEL_DK_1479_1530.DAT</td>\n",
       "      <td>2008-03-07 13:11:00</td>\n",
       "    </tr>\n",
       "    <tr>\n",
       "      <th>3</th>\n",
       "      <td>17047000650</td>\n",
       "      <td>2.97</td>\n",
       "      <td>1097117</td>\n",
       "      <td>6177.0</td>\n",
       "      <td>DK</td>\n",
       "      <td>3182048</td>\n",
       "      <td>3.0</td>\n",
       "      <td>1526</td>\n",
       "      <td>yogurt_PANEL_DK_1479_1530.DAT</td>\n",
       "      <td>2008-11-28 06:57:00</td>\n",
       "    </tr>\n",
       "    <tr>\n",
       "      <th>4</th>\n",
       "      <td>17047001372</td>\n",
       "      <td>1.49</td>\n",
       "      <td>1097117</td>\n",
       "      <td>973.0</td>\n",
       "      <td>DK</td>\n",
       "      <td>3184911</td>\n",
       "      <td>1.0</td>\n",
       "      <td>1495</td>\n",
       "      <td>yogurt_PANEL_DK_1479_1530.DAT</td>\n",
       "      <td>2008-04-21 16:13:00</td>\n",
       "    </tr>\n",
       "  </tbody>\n",
       "</table>\n",
       "</div>"
      ],
      "text/plain": [
       "        COLUPC  DOLLARS  IRI_KEY  MINUTE OUTLET    PANID  UNITS  WEEK  \\\n",
       "0  17047000300     0.99  1097117  5068.0    DK   3138826    1.0  1514   \n",
       "1  17047000302     0.89  1097117  2224.0    DK   3138826    1.0  1489   \n",
       "2  17047000650     0.89  1097117  6551.0    DK   3138826    1.0  1488   \n",
       "3  17047000650     2.97  1097117  6177.0    DK   3182048    3.0  1526   \n",
       "4  17047001372     1.49  1097117   973.0    DK   3184911    1.0  1495   \n",
       "\n",
       "                            file            DATETIME  \n",
       "0  yogurt_PANEL_DK_1479_1530.DAT 2008-09-04 12:28:00  \n",
       "1  yogurt_PANEL_DK_1479_1530.DAT 2008-03-11 13:04:00  \n",
       "2  yogurt_PANEL_DK_1479_1530.DAT 2008-03-07 13:11:00  \n",
       "3  yogurt_PANEL_DK_1479_1530.DAT 2008-11-28 06:57:00  \n",
       "4  yogurt_PANEL_DK_1479_1530.DAT 2008-04-21 16:13:00  "
      ]
     },
     "execution_count": 11,
     "metadata": {},
     "output_type": "execute_result"
    }
   ],
   "source": [
    "df.head()"
   ]
  },
  {
   "cell_type": "markdown",
   "metadata": {},
   "source": [
    "Based on the spikes, we can tell that yogurt sales are higher during certain times of the day.\n",
    "\n",
    "Now analyzing based on Years:"
   ]
  },
  {
   "cell_type": "code",
   "execution_count": 12,
   "metadata": {
    "collapsed": false
   },
   "outputs": [
    {
     "data": {
      "image/png": "[encoded data removed]",
      "text/plain": [
       "<matplotlib.figure.Figure at 0x7fe9fc6f0f50>"
      ]
     },
     "metadata": {},
     "output_type": "display_data"
    }
   ],
   "source": [
    "plt.figure(figsize=(17,5));\n",
    "df.groupby(df.DATETIME.dt.year)['DOLLARS'].sum().plot(kind='bar',title='Sales 2007-2012');"
   ]
  },
  {
   "cell_type": "markdown",
   "metadata": {},
   "source": [
    "While there are spikes in sales of yogurt after 2008, there are no observable pattern. This might be caused by the dropping of NaNs. Hence we will drop values before 2008."
   ]
  },
  {
   "cell_type": "code",
   "execution_count": 13,
   "metadata": {
    "collapsed": false
   },
   "outputs": [
    {
     "data": {
      "image/png": "[encoded data removed]",
      "text/plain": [
       "<matplotlib.figure.Figure at 0x7fe9fb3bd1d0>"
      ]
     },
     "metadata": {},
     "output_type": "display_data"
    }
   ],
   "source": [
    "df = df[df.DATETIME.dt.year>2007]\n",
    "\n",
    "plt.figure(figsize=(17,5));\n",
    "df.groupby(df.DATETIME.dt.year)['DOLLARS'].sum().plot(kind='bar',title='Sales 2008-2012');"
   ]
  },
  {
   "cell_type": "markdown",
   "metadata": {},
   "source": [
    "Now let's look at our data by Month, Day and Hour:"
   ]
  },
  {
   "cell_type": "code",
   "execution_count": 14,
   "metadata": {
    "collapsed": false
   },
   "outputs": [
    {
     "data": {
      "image/png": "[encoded data removed]",
      "text/plain": [
       "<matplotlib.figure.Figure at 0x7fe9ee811e10>"
      ]
     },
     "metadata": {},
     "output_type": "display_data"
    }
   ],
   "source": [
    "product_panel = df\n",
    "product_panel['MINUTE'].dropna(inplace=True)\n",
    "\n",
    "# Setup figure\n",
    "gs = plt.GridSpec(2, 2, wspace=0.2)\n",
    "fig = plt.figure(figsize=(16, 10))\n",
    "\n",
    "ax1 = fig.add_subplot(gs[0, 0])\n",
    "ax2 = fig.add_subplot(gs[0, 1])\n",
    "ax3 = fig.add_subplot(gs[1, :])\n",
    "\n",
    "# Sales analysis in each month\n",
    "\n",
    "product_sales_hour = product_panel.groupby(\n",
    "    product_panel.DATETIME.dt.month)['DOLLARS'].sum()\n",
    "product_sales_hour.plot(kind='bar', title=\"Sales analysis for each month\", ax=ax1,\n",
    "    rot=0, alpha=0.5, color='brown').set(\n",
    "    ylabel=\"Total sales amount in dollars\", xlabel=\"Month\")\n",
    "\n",
    "# Set the format for xlabels\n",
    "ax1.xaxis.set_major_formatter(FuncFormatter(lambda month_num, pos : cal.month_abbr[month_num + 1]))\n",
    "\n",
    "# Sales anaysis per day of week.\n",
    "product_sales_week = product_panel.groupby(\n",
    "    product_panel.DATETIME.dt.dayofweek)['DOLLARS'].sum()\n",
    "product_sales_week.plot(kind='bar', title=\"Sales analysis for day of week\", ax=ax2,\n",
    "    alpha=0.5, color='g', rot=0).set(ylabel=\"Total sales amount in dollars\", xlabel=\"Day\")\n",
    "\n",
    "# Set the format for xlabels\n",
    "ax2.xaxis.set_major_formatter(FuncFormatter(lambda day_num, pos : cal.day_abbr[day_num]))\n",
    "\n",
    "# Sales analysis in each hour of a day.\n",
    "product_sales_hour = product_panel.groupby(\n",
    "    product_panel.DATETIME.dt.hour)['DOLLARS'].sum()\n",
    "product_sales_hour.plot(kind='bar', title=\"Sales analysis in a day\", ax=ax3,\n",
    "    rot=0, alpha=0.5, color='blue').set(xlabel=\"Hour of Day\",\n",
    "    ylabel=\"Total sales amount in dollars\");\n"
   ]
  },
  {
   "cell_type": "markdown",
   "metadata": {},
   "source": [
    "Yogurt sales seem to be higehr closer towards the weekends and is higher during the afternoons."
   ]
  },
  {
   "cell_type": "markdown",
   "metadata": {},
   "source": [
    "####Conclusion\n",
    "\n",
    "- We have a lot of NaNs in MINUTE, specifically from GR (67%) outlets. (not on code)\n",
    "- Yogurt sales before 2008 were dropped to maintain accuracy.\n",
    "- Yogurt sales seem to be higehr closer towards the weekends and is higher during the afternoons.\n",
    "- GK has the highest sales in yogurt"
   ]
  },
  {
   "cell_type": "markdown",
   "metadata": {},
   "source": [
    "#Drug Data"
   ]
  },
  {
   "cell_type": "code",
   "execution_count": 15,
   "metadata": {
    "collapsed": false
   },
   "outputs": [],
   "source": [
    "df = pd.read_hdf(path, key='drug')"
   ]
  },
  {
   "cell_type": "code",
   "execution_count": 16,
   "metadata": {
    "collapsed": false
   },
   "outputs": [
    {
     "data": {
      "text/html": [
       "<div>\n",
       "<table border=\"1\" class=\"dataframe\">\n",
       "  <thead>\n",
       "    <tr style=\"text-align: right;\">\n",
       "      <th></th>\n",
       "      <th>IRI_KEY</th>\n",
       "      <th>WEEK</th>\n",
       "      <th>SY</th>\n",
       "      <th>GE</th>\n",
       "      <th>VEND</th>\n",
       "      <th>ITEM</th>\n",
       "      <th>UNITS</th>\n",
       "      <th>DOLLARS</th>\n",
       "      <th>F</th>\n",
       "      <th>D</th>\n",
       "      <th>PR</th>\n",
       "      <th>file</th>\n",
       "      <th>year_int</th>\n",
       "    </tr>\n",
       "  </thead>\n",
       "  <tbody>\n",
       "    <tr>\n",
       "      <th>0</th>\n",
       "      <td>8042577</td>\n",
       "      <td>1133</td>\n",
       "      <td>0</td>\n",
       "      <td>1</td>\n",
       "      <td>70470</td>\n",
       "      <td>300</td>\n",
       "      <td>2</td>\n",
       "      <td>1.78</td>\n",
       "      <td>NONE</td>\n",
       "      <td>0</td>\n",
       "      <td>0</td>\n",
       "      <td>yogurt_drug_1114_1165</td>\n",
       "      <td>1</td>\n",
       "    </tr>\n",
       "    <tr>\n",
       "      <th>1</th>\n",
       "      <td>8042577</td>\n",
       "      <td>1134</td>\n",
       "      <td>0</td>\n",
       "      <td>1</td>\n",
       "      <td>70470</td>\n",
       "      <td>300</td>\n",
       "      <td>1</td>\n",
       "      <td>0.89</td>\n",
       "      <td>NONE</td>\n",
       "      <td>0</td>\n",
       "      <td>0</td>\n",
       "      <td>yogurt_drug_1114_1165</td>\n",
       "      <td>1</td>\n",
       "    </tr>\n",
       "    <tr>\n",
       "      <th>2</th>\n",
       "      <td>8042577</td>\n",
       "      <td>1135</td>\n",
       "      <td>0</td>\n",
       "      <td>1</td>\n",
       "      <td>70470</td>\n",
       "      <td>300</td>\n",
       "      <td>1</td>\n",
       "      <td>0.89</td>\n",
       "      <td>NONE</td>\n",
       "      <td>0</td>\n",
       "      <td>0</td>\n",
       "      <td>yogurt_drug_1114_1165</td>\n",
       "      <td>1</td>\n",
       "    </tr>\n",
       "    <tr>\n",
       "      <th>3</th>\n",
       "      <td>8042577</td>\n",
       "      <td>1136</td>\n",
       "      <td>0</td>\n",
       "      <td>1</td>\n",
       "      <td>70470</td>\n",
       "      <td>313</td>\n",
       "      <td>1</td>\n",
       "      <td>0.89</td>\n",
       "      <td>NONE</td>\n",
       "      <td>0</td>\n",
       "      <td>0</td>\n",
       "      <td>yogurt_drug_1114_1165</td>\n",
       "      <td>1</td>\n",
       "    </tr>\n",
       "    <tr>\n",
       "      <th>4</th>\n",
       "      <td>8042577</td>\n",
       "      <td>1137</td>\n",
       "      <td>0</td>\n",
       "      <td>1</td>\n",
       "      <td>70470</td>\n",
       "      <td>300</td>\n",
       "      <td>2</td>\n",
       "      <td>1.78</td>\n",
       "      <td>NONE</td>\n",
       "      <td>0</td>\n",
       "      <td>0</td>\n",
       "      <td>yogurt_drug_1114_1165</td>\n",
       "      <td>1</td>\n",
       "    </tr>\n",
       "  </tbody>\n",
       "</table>\n",
       "</div>"
      ],
      "text/plain": [
       "   IRI_KEY  WEEK  SY  GE   VEND  ITEM  UNITS  DOLLARS     F  D  PR  \\\n",
       "0  8042577  1133   0   1  70470   300      2     1.78  NONE  0   0   \n",
       "1  8042577  1134   0   1  70470   300      1     0.89  NONE  0   0   \n",
       "2  8042577  1135   0   1  70470   300      1     0.89  NONE  0   0   \n",
       "3  8042577  1136   0   1  70470   313      1     0.89  NONE  0   0   \n",
       "4  8042577  1137   0   1  70470   300      2     1.78  NONE  0   0   \n",
       "\n",
       "                    file  year_int  \n",
       "0  yogurt_drug_1114_1165         1  \n",
       "1  yogurt_drug_1114_1165         1  \n",
       "2  yogurt_drug_1114_1165         1  \n",
       "3  yogurt_drug_1114_1165         1  \n",
       "4  yogurt_drug_1114_1165         1  "
      ]
     },
     "execution_count": 16,
     "metadata": {},
     "output_type": "execute_result"
    }
   ],
   "source": [
    "df.head() "
   ]
  },
  {
   "cell_type": "markdown",
   "metadata": {},
   "source": [
    "####Missing values"
   ]
  },
  {
   "cell_type": "code",
   "execution_count": 17,
   "metadata": {
    "collapsed": false
   },
   "outputs": [
    {
     "name": "stdout",
     "output_type": "stream",
     "text": [
      "<class 'pandas.core.frame.DataFrame'>\n",
      "Int64Index: 357688 entries, 0 to 29438\n",
      "Data columns (total 13 columns):\n",
      "IRI_KEY     357688 non-null int64\n",
      "WEEK        357688 non-null int64\n",
      "SY          357688 non-null int64\n",
      "GE          357688 non-null int64\n",
      "VEND        357688 non-null int64\n",
      "ITEM        357688 non-null int64\n",
      "UNITS       357688 non-null int64\n",
      "DOLLARS     357688 non-null float64\n",
      "F           357688 non-null object\n",
      "D           357688 non-null int64\n",
      "PR          357688 non-null int64\n",
      "file        357688 non-null object\n",
      "year_int    357688 non-null int64\n",
      "dtypes: float64(1), int64(10), object(2)\n",
      "memory usage: 38.2+ MB\n"
     ]
    }
   ],
   "source": [
    "df.info()"
   ]
  },
  {
   "cell_type": "markdown",
   "metadata": {},
   "source": [
    "There are no NaN in the dataset"
   ]
  },
  {
   "cell_type": "markdown",
   "metadata": {},
   "source": [
    "####Features"
   ]
  },
  {
   "cell_type": "code",
   "execution_count": 18,
   "metadata": {
    "collapsed": false
   },
   "outputs": [
    {
     "data": {
      "image/png": "[encoded data removed]",
      "text/plain": [
       "<matplotlib.figure.Figure at 0x7fe9dd94c750>"
      ]
     },
     "metadata": {},
     "output_type": "display_data"
    }
   ],
   "source": [
    "df[df['F']!='NONE'].groupby('F')['DOLLARS'].mean().plot(kind='bar', title='Average Sales by Feature');"
   ]
  },
  {
   "cell_type": "markdown",
   "metadata": {},
   "source": [
    "Possible Values for Feature (F):\n",
    "\n",
    "- C – small ad, usually 1 line of text\n",
    "- B – medium size ad\n",
    "- A – large size ad\n",
    "- A+ ad – also known as “Q” or “R” – retailer coupon or rebate\n"
   ]
  },
  {
   "cell_type": "markdown",
   "metadata": {},
   "source": [
    "####Display"
   ]
  },
  {
   "cell_type": "code",
   "execution_count": 19,
   "metadata": {
    "collapsed": false
   },
   "outputs": [
    {
     "data": {
      "image/png": "[encoded data removed]",
      "text/plain": [
       "<matplotlib.figure.Figure at 0x7fe9deb1cd50>"
      ]
     },
     "metadata": {},
     "output_type": "display_data"
    }
   ],
   "source": [
    "df[df['F']!='NONE'].groupby('D')['DOLLARS'].mean().plot(kind='bar', title='Average Sales by Display');"
   ]
  },
  {
   "cell_type": "markdown",
   "metadata": {
    "collapsed": true
   },
   "source": [
    "Possible values of Display(D): \n",
    "\n",
    "- 0 – NO\n",
    "- 1 – MINOR\n",
    "- 2 – MAJOR (MAJOR includes codes 1 & 2)\n",
    "\n",
    "Based on this, larger displays contribute to greater average sales."
   ]
  },
  {
   "cell_type": "markdown",
   "metadata": {},
   "source": [
    "####Price Reduction"
   ]
  },
  {
   "cell_type": "code",
   "execution_count": 20,
   "metadata": {
    "collapsed": false
   },
   "outputs": [
    {
     "data": {
      "image/png": "[encoded data removed]",
      "text/plain": [
       "<matplotlib.figure.Figure at 0x7fe9dea58790>"
      ]
     },
     "metadata": {},
     "output_type": "display_data"
    }
   ],
   "source": [
    "df[df['F']!='NONE'].groupby('PR')['DOLLARS'].mean().plot(kind='bar', title='Average Sales by Price Reduction');"
   ]
  },
  {
   "cell_type": "markdown",
   "metadata": {},
   "source": [
    "Price Reduction flag: \n",
    "\n",
    "- 1 if TPR is 5% or greater\n",
    "- 0 otherwise\n",
    "\n",
    "Price Reduction has very little effect on sales."
   ]
  },
  {
   "cell_type": "markdown",
   "metadata": {},
   "source": [
    "####Others\n",
    "\n",
    "System, Generator, Vendor and Item UPC were ignored as we do not have any documentation on them."
   ]
  },
  {
   "cell_type": "markdown",
   "metadata": {},
   "source": [
    "####Conclusion\n",
    "\n",
    "- Small ads (1 line of text) with larger displays contributes to greater yogurt sales."
   ]
  },
  {
   "cell_type": "markdown",
   "metadata": {
    "collapsed": true
   },
   "source": [
    "##Delivery Stores"
   ]
  },
  {
   "cell_type": "code",
   "execution_count": 24,
   "metadata": {
    "collapsed": true
   },
   "outputs": [],
   "source": [
    "store = pd.read_hdf(path, key='delivery_stores')"
   ]
  },
  {
   "cell_type": "code",
   "execution_count": 25,
   "metadata": {
    "collapsed": false
   },
   "outputs": [
    {
     "data": {
      "text/html": [
       "<div>\n",
       "<table border=\"1\" class=\"dataframe\">\n",
       "  <thead>\n",
       "    <tr style=\"text-align: right;\">\n",
       "      <th></th>\n",
       "      <th>IRI_KEY</th>\n",
       "      <th>OU</th>\n",
       "      <th>EST_ACV</th>\n",
       "      <th>Market_Name</th>\n",
       "      <th>Open</th>\n",
       "      <th>Clsd</th>\n",
       "      <th>yearid</th>\n",
       "      <th>year</th>\n",
       "      <th>name</th>\n",
       "    </tr>\n",
       "  </thead>\n",
       "  <tbody>\n",
       "    <tr>\n",
       "      <th>0</th>\n",
       "      <td>200039</td>\n",
       "      <td>GR</td>\n",
       "      <td>9.602997</td>\n",
       "      <td>BUFFALO/ROCHESTER</td>\n",
       "      <td>539</td>\n",
       "      <td>1219</td>\n",
       "      <td>1</td>\n",
       "      <td>2001</td>\n",
       "      <td>107</td>\n",
       "    </tr>\n",
       "    <tr>\n",
       "      <th>1</th>\n",
       "      <td>200171</td>\n",
       "      <td>GR</td>\n",
       "      <td>28.454990</td>\n",
       "      <td>MILWAUKEE</td>\n",
       "      <td>522</td>\n",
       "      <td>9998</td>\n",
       "      <td>1</td>\n",
       "      <td>2001</td>\n",
       "      <td>118</td>\n",
       "    </tr>\n",
       "    <tr>\n",
       "      <th>2</th>\n",
       "      <td>200197</td>\n",
       "      <td>GR</td>\n",
       "      <td>11.314990</td>\n",
       "      <td>PEORIA/SPRINGFLD.</td>\n",
       "      <td>903</td>\n",
       "      <td>9998</td>\n",
       "      <td>1</td>\n",
       "      <td>2001</td>\n",
       "      <td>75</td>\n",
       "    </tr>\n",
       "    <tr>\n",
       "      <th>3</th>\n",
       "      <td>200233</td>\n",
       "      <td>GR</td>\n",
       "      <td>7.473000</td>\n",
       "      <td>OKLAHOMA CITY</td>\n",
       "      <td>1122</td>\n",
       "      <td>1150</td>\n",
       "      <td>1</td>\n",
       "      <td>2001</td>\n",
       "      <td>123</td>\n",
       "    </tr>\n",
       "    <tr>\n",
       "      <th>4</th>\n",
       "      <td>200272</td>\n",
       "      <td>GR</td>\n",
       "      <td>13.266000</td>\n",
       "      <td>LOS ANGELES</td>\n",
       "      <td>873</td>\n",
       "      <td>9998</td>\n",
       "      <td>1</td>\n",
       "      <td>2001</td>\n",
       "      <td>150</td>\n",
       "    </tr>\n",
       "  </tbody>\n",
       "</table>\n",
       "</div>"
      ],
      "text/plain": [
       "   IRI_KEY  OU    EST_ACV        Market_Name  Open  Clsd  yearid  year name\n",
       "0   200039  GR   9.602997  BUFFALO/ROCHESTER   539  1219       1  2001  107\n",
       "1   200171  GR  28.454990          MILWAUKEE   522  9998       1  2001  118\n",
       "2   200197  GR  11.314990  PEORIA/SPRINGFLD.   903  9998       1  2001   75\n",
       "3   200233  GR   7.473000      OKLAHOMA CITY  1122  1150       1  2001  123\n",
       "4   200272  GR  13.266000        LOS ANGELES   873  9998       1  2001  150"
      ]
     },
     "execution_count": 25,
     "metadata": {},
     "output_type": "execute_result"
    }
   ],
   "source": [
    "store.head()"
   ]
  },
  {
   "cell_type": "code",
   "execution_count": 26,
   "metadata": {
    "collapsed": true
   },
   "outputs": [],
   "source": [
    "panel = pd.read_hdf(path, key='panel')"
   ]
  },
  {
   "cell_type": "code",
   "execution_count": 28,
   "metadata": {
    "collapsed": false
   },
   "outputs": [
    {
     "data": {
      "text/html": [
       "<div>\n",
       "<table border=\"1\" class=\"dataframe\">\n",
       "  <thead>\n",
       "    <tr style=\"text-align: right;\">\n",
       "      <th></th>\n",
       "      <th>COLUPC</th>\n",
       "      <th>DOLLARS</th>\n",
       "      <th>IRI_KEY</th>\n",
       "      <th>MINUTE</th>\n",
       "      <th>OUTLET</th>\n",
       "      <th>PANID</th>\n",
       "      <th>UNITS</th>\n",
       "      <th>WEEK</th>\n",
       "      <th>file</th>\n",
       "    </tr>\n",
       "  </thead>\n",
       "  <tbody>\n",
       "    <tr>\n",
       "      <th>0</th>\n",
       "      <td>17047000300</td>\n",
       "      <td>0.99</td>\n",
       "      <td>1097117</td>\n",
       "      <td>5068.0</td>\n",
       "      <td>DK</td>\n",
       "      <td>3138826</td>\n",
       "      <td>1.0</td>\n",
       "      <td>1514</td>\n",
       "      <td>yogurt_PANEL_DK_1479_1530.DAT</td>\n",
       "    </tr>\n",
       "    <tr>\n",
       "      <th>1</th>\n",
       "      <td>17047000302</td>\n",
       "      <td>0.89</td>\n",
       "      <td>1097117</td>\n",
       "      <td>2224.0</td>\n",
       "      <td>DK</td>\n",
       "      <td>3138826</td>\n",
       "      <td>1.0</td>\n",
       "      <td>1489</td>\n",
       "      <td>yogurt_PANEL_DK_1479_1530.DAT</td>\n",
       "    </tr>\n",
       "    <tr>\n",
       "      <th>2</th>\n",
       "      <td>17047000650</td>\n",
       "      <td>0.89</td>\n",
       "      <td>1097117</td>\n",
       "      <td>6551.0</td>\n",
       "      <td>DK</td>\n",
       "      <td>3138826</td>\n",
       "      <td>1.0</td>\n",
       "      <td>1488</td>\n",
       "      <td>yogurt_PANEL_DK_1479_1530.DAT</td>\n",
       "    </tr>\n",
       "    <tr>\n",
       "      <th>3</th>\n",
       "      <td>17047000650</td>\n",
       "      <td>2.97</td>\n",
       "      <td>1097117</td>\n",
       "      <td>6177.0</td>\n",
       "      <td>DK</td>\n",
       "      <td>3182048</td>\n",
       "      <td>3.0</td>\n",
       "      <td>1526</td>\n",
       "      <td>yogurt_PANEL_DK_1479_1530.DAT</td>\n",
       "    </tr>\n",
       "    <tr>\n",
       "      <th>4</th>\n",
       "      <td>17047001372</td>\n",
       "      <td>1.49</td>\n",
       "      <td>1097117</td>\n",
       "      <td>973.0</td>\n",
       "      <td>DK</td>\n",
       "      <td>3184911</td>\n",
       "      <td>1.0</td>\n",
       "      <td>1495</td>\n",
       "      <td>yogurt_PANEL_DK_1479_1530.DAT</td>\n",
       "    </tr>\n",
       "  </tbody>\n",
       "</table>\n",
       "</div>"
      ],
      "text/plain": [
       "        COLUPC  DOLLARS  IRI_KEY  MINUTE OUTLET    PANID  UNITS  WEEK  \\\n",
       "0  17047000300     0.99  1097117  5068.0    DK   3138826    1.0  1514   \n",
       "1  17047000302     0.89  1097117  2224.0    DK   3138826    1.0  1489   \n",
       "2  17047000650     0.89  1097117  6551.0    DK   3138826    1.0  1488   \n",
       "3  17047000650     2.97  1097117  6177.0    DK   3182048    3.0  1526   \n",
       "4  17047001372     1.49  1097117   973.0    DK   3184911    1.0  1495   \n",
       "\n",
       "                            file  \n",
       "0  yogurt_PANEL_DK_1479_1530.DAT  \n",
       "1  yogurt_PANEL_DK_1479_1530.DAT  \n",
       "2  yogurt_PANEL_DK_1479_1530.DAT  \n",
       "3  yogurt_PANEL_DK_1479_1530.DAT  \n",
       "4  yogurt_PANEL_DK_1479_1530.DAT  "
      ]
     },
     "execution_count": 28,
     "metadata": {},
     "output_type": "execute_result"
    }
   ],
   "source": [
    "panel.head()"
   ]
  },
  {
   "cell_type": "code",
   "execution_count": 37,
   "metadata": {
    "collapsed": false
   },
   "outputs": [
    {
     "data": {
      "text/html": [
       "<div>\n",
       "<table border=\"1\" class=\"dataframe\">\n",
       "  <thead>\n",
       "    <tr style=\"text-align: right;\">\n",
       "      <th></th>\n",
       "      <th>OU</th>\n",
       "      <th>EST_ACV</th>\n",
       "      <th>Market_Name</th>\n",
       "      <th>year</th>\n",
       "      <th>IRI_KEY</th>\n",
       "      <th>DOLLARS</th>\n",
       "    </tr>\n",
       "  </thead>\n",
       "  <tbody>\n",
       "    <tr>\n",
       "      <th>0</th>\n",
       "      <td>GR</td>\n",
       "      <td>19.26599</td>\n",
       "      <td>EAU CLAIRE</td>\n",
       "      <td>2001</td>\n",
       "      <td>200564</td>\n",
       "      <td>1.58</td>\n",
       "    </tr>\n",
       "    <tr>\n",
       "      <th>1</th>\n",
       "      <td>GR</td>\n",
       "      <td>19.26599</td>\n",
       "      <td>EAU CLAIRE</td>\n",
       "      <td>2001</td>\n",
       "      <td>200564</td>\n",
       "      <td>0.79</td>\n",
       "    </tr>\n",
       "    <tr>\n",
       "      <th>2</th>\n",
       "      <td>GR</td>\n",
       "      <td>19.26599</td>\n",
       "      <td>EAU CLAIRE</td>\n",
       "      <td>2001</td>\n",
       "      <td>200564</td>\n",
       "      <td>0.79</td>\n",
       "    </tr>\n",
       "    <tr>\n",
       "      <th>3</th>\n",
       "      <td>GR</td>\n",
       "      <td>19.26599</td>\n",
       "      <td>EAU CLAIRE</td>\n",
       "      <td>2001</td>\n",
       "      <td>200564</td>\n",
       "      <td>0.78</td>\n",
       "    </tr>\n",
       "    <tr>\n",
       "      <th>4</th>\n",
       "      <td>GR</td>\n",
       "      <td>19.26599</td>\n",
       "      <td>EAU CLAIRE</td>\n",
       "      <td>2001</td>\n",
       "      <td>200564</td>\n",
       "      <td>0.59</td>\n",
       "    </tr>\n",
       "  </tbody>\n",
       "</table>\n",
       "</div>"
      ],
      "text/plain": [
       "   OU   EST_ACV Market_Name  year  IRI_KEY  DOLLARS\n",
       "0  GR  19.26599  EAU CLAIRE  2001   200564     1.58\n",
       "1  GR  19.26599  EAU CLAIRE  2001   200564     0.79\n",
       "2  GR  19.26599  EAU CLAIRE  2001   200564     0.79\n",
       "3  GR  19.26599  EAU CLAIRE  2001   200564     0.78\n",
       "4  GR  19.26599  EAU CLAIRE  2001   200564     0.59"
      ]
     },
     "execution_count": 37,
     "metadata": {},
     "output_type": "execute_result"
    }
   ],
   "source": [
    "store = store[['OU','EST_ACV','Market_Name','year','IRI_KEY']]\n",
    "panel = panel[['DOLLARS','IRI_KEY']]\n",
    "store_panel = store.merge(panel, how='inner')\n",
    "store_panel.head()"
   ]
  },
  {
   "cell_type": "code",
   "execution_count": 54,
   "metadata": {
    "collapsed": false
   },
   "outputs": [
    {
     "data": {
      "image/png": "[encoded data removed]",
      "text/plain": [
       "<matplotlib.figure.Figure at 0x7fe9b9514fd0>"
      ]
     },
     "metadata": {},
     "output_type": "display_data"
    }
   ],
   "source": [
    "store_panel.groupby('Market_Name')['DOLLARS'].sum().plot(kind='bar', title='Sales');"
   ]
  },
  {
   "cell_type": "code",
   "execution_count": 80,
   "metadata": {
    "collapsed": false
   },
   "outputs": [
    {
     "data": {
      "image/png": "[encoded data removed]",
      "text/plain": [
       "<matplotlib.figure.Figure at 0x7fe9debc1a10>"
      ]
     },
     "metadata": {},
     "output_type": "display_data"
    }
   ],
   "source": [
    "plt.figure(figsize=(10,5))\n",
    "for i in store_panel['Market_Name'].unique():\n",
    "    cond = store_panel['Market_Name']==i\n",
    "    store_panel[cond].groupby('year')['DOLLARS'].sum().plot(kind='line', title='Annual Sales')\n",
    "plt.legend(store_panel['Market_Name'].unique(), loc=0);"
   ]
  },
  {
   "cell_type": "code",
   "execution_count": 64,
   "metadata": {
    "collapsed": false
   },
   "outputs": [
    {
     "data": {
      "text/html": [
       "<div>\n",
       "<table border=\"1\" class=\"dataframe\">\n",
       "  <thead>\n",
       "    <tr style=\"text-align: right;\">\n",
       "      <th></th>\n",
       "      <th>IRI_KEY</th>\n",
       "      <th>WEEK</th>\n",
       "      <th>SY</th>\n",
       "      <th>GE</th>\n",
       "      <th>VEND</th>\n",
       "      <th>ITEM</th>\n",
       "      <th>UNITS</th>\n",
       "      <th>DOLLARS</th>\n",
       "      <th>F</th>\n",
       "      <th>D</th>\n",
       "      <th>PR</th>\n",
       "      <th>file</th>\n",
       "      <th>year_int</th>\n",
       "    </tr>\n",
       "  </thead>\n",
       "  <tbody>\n",
       "    <tr>\n",
       "      <th>0</th>\n",
       "      <td>8042577</td>\n",
       "      <td>1133</td>\n",
       "      <td>0</td>\n",
       "      <td>1</td>\n",
       "      <td>70470</td>\n",
       "      <td>300</td>\n",
       "      <td>2</td>\n",
       "      <td>1.78</td>\n",
       "      <td>NONE</td>\n",
       "      <td>0</td>\n",
       "      <td>0</td>\n",
       "      <td>yogurt_drug_1114_1165</td>\n",
       "      <td>1</td>\n",
       "    </tr>\n",
       "    <tr>\n",
       "      <th>1</th>\n",
       "      <td>8042577</td>\n",
       "      <td>1134</td>\n",
       "      <td>0</td>\n",
       "      <td>1</td>\n",
       "      <td>70470</td>\n",
       "      <td>300</td>\n",
       "      <td>1</td>\n",
       "      <td>0.89</td>\n",
       "      <td>NONE</td>\n",
       "      <td>0</td>\n",
       "      <td>0</td>\n",
       "      <td>yogurt_drug_1114_1165</td>\n",
       "      <td>1</td>\n",
       "    </tr>\n",
       "    <tr>\n",
       "      <th>2</th>\n",
       "      <td>8042577</td>\n",
       "      <td>1135</td>\n",
       "      <td>0</td>\n",
       "      <td>1</td>\n",
       "      <td>70470</td>\n",
       "      <td>300</td>\n",
       "      <td>1</td>\n",
       "      <td>0.89</td>\n",
       "      <td>NONE</td>\n",
       "      <td>0</td>\n",
       "      <td>0</td>\n",
       "      <td>yogurt_drug_1114_1165</td>\n",
       "      <td>1</td>\n",
       "    </tr>\n",
       "    <tr>\n",
       "      <th>3</th>\n",
       "      <td>8042577</td>\n",
       "      <td>1136</td>\n",
       "      <td>0</td>\n",
       "      <td>1</td>\n",
       "      <td>70470</td>\n",
       "      <td>313</td>\n",
       "      <td>1</td>\n",
       "      <td>0.89</td>\n",
       "      <td>NONE</td>\n",
       "      <td>0</td>\n",
       "      <td>0</td>\n",
       "      <td>yogurt_drug_1114_1165</td>\n",
       "      <td>1</td>\n",
       "    </tr>\n",
       "    <tr>\n",
       "      <th>4</th>\n",
       "      <td>8042577</td>\n",
       "      <td>1137</td>\n",
       "      <td>0</td>\n",
       "      <td>1</td>\n",
       "      <td>70470</td>\n",
       "      <td>300</td>\n",
       "      <td>2</td>\n",
       "      <td>1.78</td>\n",
       "      <td>NONE</td>\n",
       "      <td>0</td>\n",
       "      <td>0</td>\n",
       "      <td>yogurt_drug_1114_1165</td>\n",
       "      <td>1</td>\n",
       "    </tr>\n",
       "  </tbody>\n",
       "</table>\n",
       "</div>"
      ],
      "text/plain": [
       "   IRI_KEY  WEEK  SY  GE   VEND  ITEM  UNITS  DOLLARS     F  D  PR  \\\n",
       "0  8042577  1133   0   1  70470   300      2     1.78  NONE  0   0   \n",
       "1  8042577  1134   0   1  70470   300      1     0.89  NONE  0   0   \n",
       "2  8042577  1135   0   1  70470   300      1     0.89  NONE  0   0   \n",
       "3  8042577  1136   0   1  70470   313      1     0.89  NONE  0   0   \n",
       "4  8042577  1137   0   1  70470   300      2     1.78  NONE  0   0   \n",
       "\n",
       "                    file  year_int  \n",
       "0  yogurt_drug_1114_1165         1  \n",
       "1  yogurt_drug_1114_1165         1  \n",
       "2  yogurt_drug_1114_1165         1  \n",
       "3  yogurt_drug_1114_1165         1  \n",
       "4  yogurt_drug_1114_1165         1  "
      ]
     },
     "execution_count": 64,
     "metadata": {},
     "output_type": "execute_result"
    }
   ],
   "source": [
    "drug = pd.read_hdf(path, key='drug')\n",
    "drug.head()"
   ]
  },
  {
   "cell_type": "code",
   "execution_count": 73,
   "metadata": {
    "collapsed": false
   },
   "outputs": [
    {
     "data": {
      "text/html": [
       "<div>\n",
       "<table border=\"1\" class=\"dataframe\">\n",
       "  <thead>\n",
       "    <tr style=\"text-align: right;\">\n",
       "      <th></th>\n",
       "      <th>OU</th>\n",
       "      <th>EST_ACV</th>\n",
       "      <th>Market_Name</th>\n",
       "      <th>year</th>\n",
       "      <th>IRI_KEY</th>\n",
       "      <th>DOLLARS</th>\n",
       "      <th>F</th>\n",
       "      <th>D</th>\n",
       "      <th>PR</th>\n",
       "    </tr>\n",
       "  </thead>\n",
       "  <tbody>\n",
       "    <tr>\n",
       "      <th>0</th>\n",
       "      <td>DR</td>\n",
       "      <td>2.504</td>\n",
       "      <td>PITTSFIELD</td>\n",
       "      <td>2001</td>\n",
       "      <td>650679</td>\n",
       "      <td>0.99</td>\n",
       "      <td>NONE</td>\n",
       "      <td>0</td>\n",
       "      <td>0</td>\n",
       "    </tr>\n",
       "    <tr>\n",
       "      <th>1</th>\n",
       "      <td>DR</td>\n",
       "      <td>2.504</td>\n",
       "      <td>PITTSFIELD</td>\n",
       "      <td>2001</td>\n",
       "      <td>650679</td>\n",
       "      <td>0.99</td>\n",
       "      <td>NONE</td>\n",
       "      <td>0</td>\n",
       "      <td>0</td>\n",
       "    </tr>\n",
       "    <tr>\n",
       "      <th>2</th>\n",
       "      <td>DR</td>\n",
       "      <td>2.504</td>\n",
       "      <td>PITTSFIELD</td>\n",
       "      <td>2001</td>\n",
       "      <td>650679</td>\n",
       "      <td>0.99</td>\n",
       "      <td>NONE</td>\n",
       "      <td>0</td>\n",
       "      <td>0</td>\n",
       "    </tr>\n",
       "    <tr>\n",
       "      <th>3</th>\n",
       "      <td>DR</td>\n",
       "      <td>2.504</td>\n",
       "      <td>PITTSFIELD</td>\n",
       "      <td>2001</td>\n",
       "      <td>650679</td>\n",
       "      <td>0.99</td>\n",
       "      <td>NONE</td>\n",
       "      <td>0</td>\n",
       "      <td>0</td>\n",
       "    </tr>\n",
       "    <tr>\n",
       "      <th>4</th>\n",
       "      <td>DR</td>\n",
       "      <td>2.504</td>\n",
       "      <td>PITTSFIELD</td>\n",
       "      <td>2001</td>\n",
       "      <td>650679</td>\n",
       "      <td>0.99</td>\n",
       "      <td>NONE</td>\n",
       "      <td>0</td>\n",
       "      <td>0</td>\n",
       "    </tr>\n",
       "  </tbody>\n",
       "</table>\n",
       "</div>"
      ],
      "text/plain": [
       "   OU  EST_ACV Market_Name  year  IRI_KEY  DOLLARS     F  D  PR\n",
       "0  DR    2.504  PITTSFIELD  2001   650679     0.99  NONE  0   0\n",
       "1  DR    2.504  PITTSFIELD  2001   650679     0.99  NONE  0   0\n",
       "2  DR    2.504  PITTSFIELD  2001   650679     0.99  NONE  0   0\n",
       "3  DR    2.504  PITTSFIELD  2001   650679     0.99  NONE  0   0\n",
       "4  DR    2.504  PITTSFIELD  2001   650679     0.99  NONE  0   0"
      ]
     },
     "execution_count": 73,
     "metadata": {},
     "output_type": "execute_result"
    }
   ],
   "source": [
    "drug = drug[['IRI_KEY','F','D','PR']]\n",
    "store_drug_panel = store_panel.merge(drug, how='inner')\n",
    "store_drug_panel.head()"
   ]
  },
  {
   "cell_type": "code",
   "execution_count": 84,
   "metadata": {
    "collapsed": false
   },
   "outputs": [
    {
     "data": {
      "image/png": "[encoded data removed]",
      "text/plain": [
       "<matplotlib.figure.Figure at 0x7fe976fdf090>"
      ]
     },
     "metadata": {},
     "output_type": "display_data"
    }
   ],
   "source": [
    "plt.figure(figsize=(10,5))\n",
    "for i in store_drug_panel['Market_Name'].unique():\n",
    "    cond = store_drug_panel['Market_Name']==i\n",
    "    store_drug_panel[cond].groupby(['Market_Name','F'])['DOLLARS'].sum().plot(kind='bar', title='Annual Sales')\n",
    "plt.legend(store_panel['Market_Name'].unique(), loc=0);"
   ]
  },
  {
   "cell_type": "code",
   "execution_count": null,
   "metadata": {
    "collapsed": true
   },
   "outputs": [],
   "source": []
  }
 ],
 "metadata": {
  "kernelspec": {
   "display_name": "Python 2",
   "language": "python",
   "name": "python2"
  },
  "language_info": {
   "codemirror_mode": {
    "name": "ipython",
    "version": 2
   },
   "file_extension": ".py",
   "mimetype": "text/x-python",
   "name": "python",
   "nbconvert_exporter": "python",
   "pygments_lexer": "ipython2",
   "version": "2.7.11"
  }
 },
 "nbformat": 4,
 "nbformat_minor": 0
}
