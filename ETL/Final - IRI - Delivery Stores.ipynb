{
 "cells": [
  {
   "cell_type": "code",
   "execution_count": 1,
   "metadata": {
    "collapsed": false
   },
   "outputs": [
    {
     "name": "stdout",
     "output_type": "stream",
     "text": [
      "Populating the interactive namespace from numpy and matplotlib\n"
     ]
    }
   ],
   "source": [
    "%pylab inline\n",
    "import pandas as pd\n",
    "import os"
   ]
  },
  {
   "cell_type": "code",
   "execution_count": 2,
   "metadata": {
    "collapsed": false
   },
   "outputs": [],
   "source": [
    "path = '\"../Final/IRI/\"'\n",
    "files = !find $path -name Delivery_Stores"
   ]
  },
  {
   "cell_type": "code",
   "execution_count": 3,
   "metadata": {
    "collapsed": false
   },
   "outputs": [
    {
     "data": {
      "text/plain": [
       "['../Final/IRI/Year1/External/yogurt/Delivery_Stores',\n",
       " '../Final/IRI/Year10/External/yogurt/Delivery_Stores',\n",
       " '../Final/IRI/Year11/External/yogurt/Delivery_Stores',\n",
       " '../Final/IRI/Year2/External/yogurt/Delivery_Stores',\n",
       " '../Final/IRI/Year3/External/yogurt/Delivery_Stores',\n",
       " '../Final/IRI/Year4/External/yogurt/Delivery_Stores',\n",
       " '../Final/IRI/Year5/External/yogurt/Delivery_Stores',\n",
       " '../Final/IRI/Year6/External/yogurt/Delivery_Stores',\n",
       " '../Final/IRI/Year7/External/yogurt/Delivery_Stores',\n",
       " '../Final/IRI/Year8/External/yogurt/Delivery_Stores',\n",
       " '../Final/IRI/Year9/External/yogurt/Delivery_Stores']"
      ]
     },
     "execution_count": 3,
     "metadata": {},
     "output_type": "execute_result"
    }
   ],
   "source": [
    "files"
   ]
  },
  {
   "cell_type": "code",
   "execution_count": 4,
   "metadata": {
    "collapsed": false
   },
   "outputs": [
    {
     "name": "stdout",
     "output_type": "stream",
     "text": [
      "Rows:\t\tFilename:\t\tYear:\n",
      "2054 \t../Final/IRI/Year1/External/yogurt/Delivery_Stores \t1\n",
      "2039 \t../Final/IRI/Year10/External/yogurt/Delivery_Stores \t2\n",
      "1923 \t../Final/IRI/Year11/External/yogurt/Delivery_Stores \t3\n",
      "2165 \t../Final/IRI/Year2/External/yogurt/Delivery_Stores \t4\n",
      "2047 \t../Final/IRI/Year3/External/yogurt/Delivery_Stores \t5\n",
      "2022 \t../Final/IRI/Year4/External/yogurt/Delivery_Stores \t6\n",
      "2091 \t../Final/IRI/Year5/External/yogurt/Delivery_Stores \t7\n",
      "2057 \t../Final/IRI/Year6/External/yogurt/Delivery_Stores \t8\n",
      "2138 \t../Final/IRI/Year7/External/yogurt/Delivery_Stores \t9\n",
      "2067 \t../Final/IRI/Year8/External/yogurt/Delivery_Stores \t10\n",
      "2066 \t../Final/IRI/Year9/External/yogurt/Delivery_Stores \t11\n",
      "\n",
      "Distinct Headers found: 1 \n",
      "['IRI_KEY OU EST_ACV  Market_Name              Open Clsd MskdName']\n",
      "\n",
      "Total rows: 22658\n",
      "Total files: 11\n"
     ]
    }
   ],
   "source": [
    "#check if headers differ accross files\n",
    "listheaders = list()\n",
    "rowcounts = list()\n",
    "i = 0\n",
    "print 'Rows:\\t\\t', 'Filename:\\t\\t', 'Year:'\n",
    "for x in files:\n",
    "#     x_quoted = path[:-1]+x+'\"'\n",
    "    i += 1\n",
    "    header = !head -1 $x\n",
    "    rc = !wc -l $x\n",
    "    rowcounts.append((int(rc[0].split()[0]), x, i))\n",
    "    print rc[0].split()[0], '\\t', x, '\\t', i\n",
    "    listheaders.append(header[0].strip())\n",
    "\n",
    "headers = set(listheaders)\n",
    "print '\\nDistinct Headers found:', len(set(listheaders)), \n",
    "print '\\n', list(headers)\n",
    "print '\\nTotal rows:', sum([x[0] for x in rowcounts]) - len(rowcounts)\n",
    "print 'Total files:', len(rowcounts)"
   ]
  },
  {
   "cell_type": "markdown",
   "metadata": {},
   "source": [
    "## Load into Dataframes"
   ]
  },
  {
   "cell_type": "code",
   "execution_count": 5,
   "metadata": {
    "collapsed": false
   },
   "outputs": [],
   "source": [
    "dfs = list()\n",
    "for f in files:\n",
    "    df = pd.read_fwf(f)\n",
    "    df['yearid'] = int(f[f.find('/Year') + 5 : f.find('/External')])\n",
    "    df['year'] = df[['yearid']] + 2000\n",
    "    df['MskdName'] = df['MskdName'].apply(lambda x:  x.replace('Chain', '') if(pd.notnull(x)) else x)\n",
    "    dfs.append((int(f[f.find('/Year') + 5 : f.find('/External')]), df))\n"
   ]
  },
  {
   "cell_type": "markdown",
   "metadata": {},
   "source": [
    "### Unscramble MskdName"
   ]
  },
  {
   "cell_type": "code",
   "execution_count": 6,
   "metadata": {
    "collapsed": false
   },
   "outputs": [],
   "source": [
    "mask_path = !find $path -name masked_chain_xref1_11.csv\n",
    "\n",
    "# use index as universal key\n",
    "key = pd.read_csv(mask_path[0]).reset_index()"
   ]
  },
  {
   "cell_type": "code",
   "execution_count": 7,
   "metadata": {
    "collapsed": false
   },
   "outputs": [
    {
     "data": {
      "text/html": [
       "<div>\n",
       "<table border=\"1\" class=\"dataframe\">\n",
       "  <thead>\n",
       "    <tr style=\"text-align: right;\">\n",
       "      <th></th>\n",
       "      <th>index</th>\n",
       "      <th>Year1</th>\n",
       "      <th>Year2</th>\n",
       "      <th>Year3</th>\n",
       "      <th>Year4</th>\n",
       "      <th>Year5</th>\n",
       "      <th>Year6</th>\n",
       "      <th>Year7</th>\n",
       "      <th>Year8</th>\n",
       "      <th>Year9</th>\n",
       "      <th>Year10</th>\n",
       "      <th>Year11</th>\n",
       "    </tr>\n",
       "  </thead>\n",
       "  <tbody>\n",
       "    <tr>\n",
       "      <th>0</th>\n",
       "      <td>0</td>\n",
       "      <td>1</td>\n",
       "      <td>NaN</td>\n",
       "      <td>NaN</td>\n",
       "      <td>NaN</td>\n",
       "      <td>NaN</td>\n",
       "      <td>NaN</td>\n",
       "      <td>NaN</td>\n",
       "      <td>NaN</td>\n",
       "      <td>NaN</td>\n",
       "      <td>NaN</td>\n",
       "      <td>NaN</td>\n",
       "    </tr>\n",
       "    <tr>\n",
       "      <th>1</th>\n",
       "      <td>1</td>\n",
       "      <td>2</td>\n",
       "      <td>1</td>\n",
       "      <td>NaN</td>\n",
       "      <td>NaN</td>\n",
       "      <td>NaN</td>\n",
       "      <td>NaN</td>\n",
       "      <td>NaN</td>\n",
       "      <td>NaN</td>\n",
       "      <td>NaN</td>\n",
       "      <td>NaN</td>\n",
       "      <td>NaN</td>\n",
       "    </tr>\n",
       "    <tr>\n",
       "      <th>2</th>\n",
       "      <td>2</td>\n",
       "      <td>NaN</td>\n",
       "      <td>NaN</td>\n",
       "      <td>NaN</td>\n",
       "      <td>NaN</td>\n",
       "      <td>NaN</td>\n",
       "      <td>NaN</td>\n",
       "      <td>NaN</td>\n",
       "      <td>1</td>\n",
       "      <td>1</td>\n",
       "      <td>1</td>\n",
       "      <td>1</td>\n",
       "    </tr>\n",
       "    <tr>\n",
       "      <th>3</th>\n",
       "      <td>3</td>\n",
       "      <td>3</td>\n",
       "      <td>2</td>\n",
       "      <td>1</td>\n",
       "      <td>1</td>\n",
       "      <td>1</td>\n",
       "      <td>1</td>\n",
       "      <td>1</td>\n",
       "      <td>2</td>\n",
       "      <td>2</td>\n",
       "      <td>2</td>\n",
       "      <td>2</td>\n",
       "    </tr>\n",
       "    <tr>\n",
       "      <th>4</th>\n",
       "      <td>4</td>\n",
       "      <td>4</td>\n",
       "      <td>3</td>\n",
       "      <td>2</td>\n",
       "      <td>2</td>\n",
       "      <td>2</td>\n",
       "      <td>2</td>\n",
       "      <td>2</td>\n",
       "      <td>NaN</td>\n",
       "      <td>NaN</td>\n",
       "      <td>NaN</td>\n",
       "      <td>NaN</td>\n",
       "    </tr>\n",
       "  </tbody>\n",
       "</table>\n",
       "</div>"
      ],
      "text/plain": [
       "   index  Year1  Year2  Year3  Year4  Year5  Year6  Year7  Year8  Year9  \\\n",
       "0      0      1    NaN    NaN    NaN    NaN    NaN    NaN    NaN    NaN   \n",
       "1      1      2      1    NaN    NaN    NaN    NaN    NaN    NaN    NaN   \n",
       "2      2    NaN    NaN    NaN    NaN    NaN    NaN    NaN      1      1   \n",
       "3      3      3      2      1      1      1      1      1      2      2   \n",
       "4      4      4      3      2      2      2      2      2    NaN    NaN   \n",
       "\n",
       "   Year10  Year11  \n",
       "0     NaN     NaN  \n",
       "1     NaN     NaN  \n",
       "2       1       1  \n",
       "3       2       2  \n",
       "4     NaN     NaN  "
      ]
     },
     "execution_count": 7,
     "metadata": {},
     "output_type": "execute_result"
    }
   ],
   "source": [
    "key.head()"
   ]
  },
  {
   "cell_type": "code",
   "execution_count": 8,
   "metadata": {
    "collapsed": false,
    "scrolled": true
   },
   "outputs": [
    {
     "data": {
      "text/plain": [
       "index     object\n",
       "Year1     object\n",
       "Year2     object\n",
       "Year3     object\n",
       "Year4     object\n",
       "Year5     object\n",
       "Year6     object\n",
       "Year7     object\n",
       "Year8     object\n",
       "Year9     object\n",
       "Year10    object\n",
       "Year11    object\n",
       "dtype: object"
      ]
     },
     "execution_count": 8,
     "metadata": {},
     "output_type": "execute_result"
    }
   ],
   "source": [
    "# convert type of columns for join\n",
    "key = key.astype(str).applymap(lambda x: x.replace('.0', ''))\n",
    "key.dtypes"
   ]
  },
  {
   "cell_type": "code",
   "execution_count": 9,
   "metadata": {
    "collapsed": false,
    "scrolled": true
   },
   "outputs": [],
   "source": [
    "# create new masked name that is uniform accross all years as 'name', drop original masked name\n",
    "unmasked =[pd.merge(df, key[['index','Year' + str(y)]], \n",
    "          how='left', \n",
    "          left_on='MskdName', right_on='Year' + str(y))\\\n",
    "         .drop(['Year' + str(y), 'MskdName'],axis=1)\\\n",
    "         .rename(columns={'index':'name'})\\\n",
    "         for y, df in dfs]"
   ]
  },
  {
   "cell_type": "code",
   "execution_count": 17,
   "metadata": {
    "collapsed": false,
    "scrolled": true
   },
   "outputs": [
    {
     "name": "stdout",
     "output_type": "stream",
     "text": [
      "<class 'pandas.core.frame.DataFrame'>\n",
      "Int64Index: 22658 entries, 0 to 2064\n",
      "Data columns (total 9 columns):\n",
      "IRI_KEY        22658 non-null int64\n",
      "OU             22658 non-null object\n",
      "EST_ACV        22658 non-null float64\n",
      "Market_Name    22658 non-null object\n",
      "Open           22658 non-null int64\n",
      "Clsd           22658 non-null int64\n",
      "yearid         22658 non-null int64\n",
      "year           22658 non-null int64\n",
      "name           22536 non-null object\n",
      "dtypes: float64(1), int64(5), object(3)\n",
      "memory usage: 1.7+ MB\n"
     ]
    }
   ],
   "source": [
    "stores = pd.concat(unmasked)\n",
    "stores.info()"
   ]
  },
  {
   "cell_type": "code",
   "execution_count": 18,
   "metadata": {
    "collapsed": false,
    "scrolled": true
   },
   "outputs": [],
   "source": [
    "stores.to_hdf('../Final/yogurt.h5', 'delivery_stores', complib='blosc', complevel=9)"
   ]
  },
  {
   "cell_type": "code",
   "execution_count": 20,
   "metadata": {
    "collapsed": false
   },
   "outputs": [
    {
     "name": "stdout",
     "output_type": "stream",
     "text": [
      "<class 'pandas.core.frame.DataFrame'>\n",
      "Int64Index: 22658 entries, 0 to 2064\n",
      "Data columns (total 9 columns):\n",
      "IRI_KEY        22658 non-null int64\n",
      "OU             22658 non-null object\n",
      "EST_ACV        22658 non-null float64\n",
      "Market_Name    22658 non-null object\n",
      "Open           22658 non-null int64\n",
      "Clsd           22658 non-null int64\n",
      "yearid         22658 non-null int64\n",
      "year           22658 non-null int64\n",
      "name           22536 non-null object\n",
      "dtypes: float64(1), int64(5), object(3)\n",
      "memory usage: 1.7+ MB\n"
     ]
    }
   ],
   "source": [
    "test=pd.read_hdf('../Final/yogurt.h5', 'delivery_stores')\n",
    "test.info()"
   ]
  },
  {
   "cell_type": "code",
   "execution_count": null,
   "metadata": {
    "collapsed": true
   },
   "outputs": [],
   "source": []
  }
 ],
 "metadata": {
  "kernelspec": {
   "display_name": "Python 2",
   "language": "python",
   "name": "python2"
  },
  "language_info": {
   "codemirror_mode": {
    "name": "ipython",
    "version": 2
   },
   "file_extension": ".py",
   "mimetype": "text/x-python",
   "name": "python",
   "nbconvert_exporter": "python",
   "pygments_lexer": "ipython2",
   "version": "2.7.11"
  }
 },
 "nbformat": 4,
 "nbformat_minor": 0
}
