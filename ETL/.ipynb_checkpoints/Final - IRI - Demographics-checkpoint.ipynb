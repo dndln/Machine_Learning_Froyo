{
 "cells": [
  {
   "cell_type": "code",
   "execution_count": 1,
   "metadata": {
    "collapsed": false
   },
   "outputs": [
    {
     "name": "stdout",
     "output_type": "stream",
     "text": [
      "Populating the interactive namespace from numpy and matplotlib\n"
     ]
    }
   ],
   "source": [
    "%pylab inline\n",
    "import pandas as pd\n",
    "import os"
   ]
  },
  {
   "cell_type": "code",
   "execution_count": 2,
   "metadata": {
    "collapsed": false
   },
   "outputs": [
    {
     "data": {
      "text/plain": [
       "['ads demo1.csv',\n",
       " 'ads demo2.csv',\n",
       " 'ads demo3.csv',\n",
       " 'ads demo4.csv',\n",
       " 'ads demo5.csv',\n",
       " 'ads demo6.CSV',\n",
       " 'ads demo7.csv',\n",
       " 'ads demo8.CSV',\n",
       " 'ads demos10.CSV',\n",
       " 'ads demos11.CSV',\n",
       " 'ads demos9.CSV']"
      ]
     },
     "execution_count": 2,
     "metadata": {},
     "output_type": "execute_result"
    }
   ],
   "source": [
    "path = '\"../Final/IRI/demos trips external 1_11 may13/\"'\n",
    "files =!cd $path && ls *demo*[0-9]*\n",
    "files"
   ]
  },
  {
   "cell_type": "code",
   "execution_count": 3,
   "metadata": {
    "collapsed": false
   },
   "outputs": [
    {
     "name": "stdout",
     "output_type": "stream",
     "text": [
      "Rows:\t\tFilename:\t\tYear:\n",
      "13984 \tads demo1.csv \t1\n",
      "13888 \tads demo2.csv \t2\n",
      "6566 \tads demo3.csv \t3\n",
      "5908 \tads demo4.csv \t4\n",
      "5744 \tads demo5.csv \t5\n",
      "5567 \tads demo6.CSV \t6\n",
      "5042 \tads demo7.csv \t7\n",
      "4862 \tads demo8.CSV \t8\n",
      "4262 \tads demos10.CSV \t9\n",
      "4172 \tads demos11.CSV \t10\n",
      "4608 \tads demos9.CSV \t11\n",
      "\n",
      "Distinct Headers found: 2 \n",
      "['Panelist ID,Panelist Type,Combined Pre-Tax Income of HH,Family Size,Household Head Race,Type of Residential Possession,COUNTY,Age Group Applied to Household Head,Education Level Reached by Household Head,Occupation Code of Household Head,Age Group Applied to Male HH,Education Level Reached by Male HH,Occupation Code of Male HH,Male Working Hour Code,MALE_SMOKE,Age Group Applied to Female HH,Education Level Reached by Female HH,Occupation Code of Female HH,Female Working Hour Code,FEM_SMOKE,Number of Dogs,Number of Cats,Children Group Code,Marital Status,HH_LANG,ALL_TVS,CABL_TVS,Hispanic Flag,HISP_CAT,RACE2,RACE3,MICROWAVE,device_type,ZIPCODE,FIPSCODE,market based upon zipcode,IRI Geography Number,EXT_FACT', 'Panelist ID,Panelist Type,Combined Pre-Tax Income of HH,Family Size,HH_RACE,Type of Residential Possession,COUNTY,HH_AGE,HH_EDU,HH_OCC,Age Group Applied to Male HH,Education Level Reached by Male HH,Occupation Code of Male HH,Male Working Hour Code,MALE_SMOKE,Age Group Applied to Female HH,Education Level Reached by Female HH,Occupation Code of Female HH,Female Working Hour Code,FEM_SMOKE,Number of Dogs,Number of Cats,Children Group Code,Marital Status,Language,Number of TVs Used by HH,Number of TVs Hooked to Cable,Year,HISP_FLAG,HISP_CAT,HH Head Race (RACE2),HH Head Race (RACE3),Microwave Owned by HH,ZIPCODE,FIPSCODE,market based upon zipcode,IRI Geography Number,EXT_FACT']\n",
      "\n",
      "Total rows: 74592\n",
      "Total files: 11\n"
     ]
    }
   ],
   "source": [
    "#check if headers differ accross files\n",
    "listheaders = list()\n",
    "rowcounts = list()\n",
    "i = 0\n",
    "print 'Rows:\\t\\t', 'Filename:\\t\\t', 'Year:'\n",
    "for x in files:\n",
    "    x_quoted = path[:-1]+x+'\"'\n",
    "    i += 1\n",
    "    header = !head -1 $x_quoted\n",
    "    rc = !wc -l $x_quoted\n",
    "    rowcounts.append((int(rc[0].split()[0]), x, i))\n",
    "    print rc[0].split()[0], '\\t', x, '\\t', i\n",
    "    listheaders.append(header[0].strip())\n",
    "\n",
    "headers = set(listheaders)\n",
    "print '\\nDistinct Headers found:', len(set(listheaders)), \n",
    "print '\\n', list(headers)\n",
    "print '\\nTotal rows:', sum([x[0] for x in rowcounts]) - len(rowcounts)\n",
    "print 'Total files:', len(rowcounts)"
   ]
  },
  {
   "cell_type": "markdown",
   "metadata": {},
   "source": [
    "### Analyze differences in column alignment and names"
   ]
  },
  {
   "cell_type": "code",
   "execution_count": 112,
   "metadata": {
    "collapsed": false
   },
   "outputs": [
    {
     "name": "stdout",
     "output_type": "stream",
     "text": [
      "13\n"
     ]
    },
    {
     "data": {
      "text/plain": [
       "[('Household Head Race', 'HH_RACE'),\n",
       " ('Age Group Applied to Household Head', 'HH_AGE'),\n",
       " ('Education Level Reached by Household Head', 'HH_EDU'),\n",
       " ('Occupation Code of Household Head', 'HH_OCC'),\n",
       " ('HH_LANG', 'Language'),\n",
       " ('ALL_TVS', 'Number of TVs Used by HH'),\n",
       " ('CABL_TVS', 'Number of TVs Hooked to Cable'),\n",
       " ('Hispanic Flag', 'Year'),\n",
       " ('HISP_CAT', 'HISP_FLAG'),\n",
       " ('RACE2', 'HISP_CAT'),\n",
       " ('RACE3', 'HH Head Race (RACE2)'),\n",
       " ('MICROWAVE', 'HH Head Race (RACE3)'),\n",
       " ('device_type', 'Microwave Owned by HH')]"
      ]
     },
     "execution_count": 112,
     "metadata": {},
     "output_type": "execute_result"
    }
   ],
   "source": [
    "aligned  = zip(list(set(listheaders))[0].split(\",\"), list(set(listheaders))[1].split(\",\"))\n",
    "diffs = [x for x in aligned if x[0]!=x[1]]\n",
    "print len(diffs)\n",
    "diffs"
   ]
  },
  {
   "cell_type": "markdown",
   "metadata": {},
   "source": [
    "## Load files into Dataframes"
   ]
  },
  {
   "cell_type": "code",
   "execution_count": 71,
   "metadata": {
    "collapsed": false
   },
   "outputs": [],
   "source": [
    "# remove columns that should not be used according to documentation\n",
    "not_used = ['device_type', 'FEM_SMOKE', 'HH Head Race (RACE2)', 'RACE2', 'HISP_CAT', 'HISP_FLAG', 'Hispanic Flag', 'MALE_SMOKE', \n",
    "             'Microwave Owned by HH', 'MICROWAVE', 'Panelist Type', 'market based upon zipcode']\n",
    "\n",
    "# rename columns which have slightly different names accross years\n",
    "rename_cols = { 'Household Head Race':'HH_RACE',\n",
    "              'Age Group Applied to Household Head':'HH_AGE',\n",
    "              'Education Level Reached by Household Head':'HH_EDU',\n",
    "              'Occupation Code of Household Head':'HH_OCC',\n",
    "              'HH_LANG':'Language',\n",
    "              'Number of TVs Used by HH':'ALL_TVS',\n",
    "              'Number of TVs Hooked to Cable':'CABL_TVS',\n",
    "              'HH Head Race (RACE3)':'RACE3'}\n",
    "\n",
    "# Create list of dataframes\n",
    "dfs = [(filename,pd.read_csv(path[1:-1] + filename, sep=',',index_col=False, na_values=['.'])) for filename in files]\n",
    "\n",
    "# add additional useful metadata\n",
    "for i in xrange(len(dfs)):\n",
    "    dfs[i][1]['yearID']=int(dfs[i][0][8:-4].replace('s',''))\n",
    "    dfs[i][1]['filename']=dfs[i][0]\n",
    "    dfs[i][1]['Year']=int(dfs[i][0][8:-4].replace('s','')) + 2000\n",
    "    # drop unused columns\n",
    "    dfs[i][1].drop(not_used, axis='columns',errors='ignore', inplace=True)\n",
    "    # rename columns\n",
    "    dfs[i][1].rename(columns=rename_cols, inplace=True)"
   ]
  },
  {
   "cell_type": "markdown",
   "metadata": {},
   "source": [
    "Validate all dataframes now have same headers"
   ]
  },
  {
   "cell_type": "code",
   "execution_count": 72,
   "metadata": {
    "collapsed": false
   },
   "outputs": [
    {
     "name": "stdout",
     "output_type": "stream",
     "text": [
      "Distinct headers found: 1\n"
     ]
    }
   ],
   "source": [
    "# hash column headers to find differences\n",
    "print 'Distinct headers found:',len(set([hash(frozenset(df.columns.tolist())) for f, df in dfs]))"
   ]
  },
  {
   "cell_type": "markdown",
   "metadata": {},
   "source": [
    "Concatenate all dataframes"
   ]
  },
  {
   "cell_type": "code",
   "execution_count": 73,
   "metadata": {
    "collapsed": false
   },
   "outputs": [],
   "source": [
    "demos = pd.concat([df for f, df in dfs])"
   ]
  },
  {
   "cell_type": "code",
   "execution_count": 74,
   "metadata": {
    "collapsed": false
   },
   "outputs": [
    {
     "name": "stdout",
     "output_type": "stream",
     "text": [
      "<class 'pandas.core.frame.DataFrame'>\n",
      "Int64Index: 74592 entries, 0 to 4606\n",
      "Data columns (total 32 columns):\n",
      "ALL_TVS                                 57426 non-null float64\n",
      "Age Group Applied to Female HH          74592 non-null int64\n",
      "Age Group Applied to Male HH            74592 non-null int64\n",
      "CABL_TVS                                54537 non-null float64\n",
      "COUNTY                                  46722 non-null object\n",
      "Children Group Code                     74592 non-null int64\n",
      "Combined Pre-Tax Income of HH           74581 non-null float64\n",
      "EXT_FACT                                46722 non-null float64\n",
      "Education Level Reached by Female HH    74592 non-null int64\n",
      "Education Level Reached by Male HH      74592 non-null int64\n",
      "FIPSCODE                                46722 non-null float64\n",
      "Family Size                             74592 non-null int64\n",
      "Female Working Hour Code                74592 non-null int64\n",
      "HH_AGE                                  46627 non-null float64\n",
      "HH_EDU                                  46629 non-null float64\n",
      "HH_OCC                                  46625 non-null float64\n",
      "HH_RACE                                 74158 non-null float64\n",
      "IRI Geography Number                    46722 non-null float64\n",
      "Language                                21211 non-null float64\n",
      "Male Working Hour Code                  74592 non-null int64\n",
      "Marital Status                          74592 non-null int64\n",
      "Number of Cats                          74592 non-null int64\n",
      "Number of Dogs                          74592 non-null int64\n",
      "Occupation Code of Female HH            74592 non-null int64\n",
      "Occupation Code of Male HH              74592 non-null int64\n",
      "Panelist ID                             74592 non-null int64\n",
      "RACE3                                   46722 non-null float64\n",
      "Type of Residential Possession          74592 non-null int64\n",
      "Year                                    74592 non-null int64\n",
      "ZIPCODE                                 46722 non-null float64\n",
      "filename                                74592 non-null object\n",
      "yearID                                  74592 non-null int64\n",
      "dtypes: float64(13), int64(17), object(2)\n",
      "memory usage: 18.8+ MB\n"
     ]
    }
   ],
   "source": [
    "demos.info()"
   ]
  },
  {
   "cell_type": "code",
   "execution_count": null,
   "metadata": {
    "collapsed": true
   },
   "outputs": [],
   "source": [
    "# persist to file\n",
    "demos.to_hdf('../Final/yogurt.h5', 'demos', complib='blosc', complevel=9)\n",
    "# test file\n",
    "pd.read_hdf('../Final/yogurt.h5', 'demos').info()"
   ]
  }
 ],
 "metadata": {
  "kernelspec": {
   "display_name": "Python 2",
   "language": "python",
   "name": "python2"
  },
  "language_info": {
   "codemirror_mode": {
    "name": "ipython",
    "version": 2
   },
   "file_extension": ".py",
   "mimetype": "text/x-python",
   "name": "python",
   "nbconvert_exporter": "python",
   "pygments_lexer": "ipython2",
   "version": "2.7.11"
  }
 },
 "nbformat": 4,
 "nbformat_minor": 0
}
