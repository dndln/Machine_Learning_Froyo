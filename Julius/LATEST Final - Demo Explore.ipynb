{
 "cells": [
  {
   "cell_type": "code",
   "execution_count": 277,
   "metadata": {
    "collapsed": false
   },
   "outputs": [
    {
     "name": "stdout",
     "output_type": "stream",
     "text": [
      "Populating the interactive namespace from numpy and matplotlib\n"
     ]
    }
   ],
   "source": [
    "%pylab inline\n",
    "import pandas as pd\n",
    "import h5py as h5\n",
    "from sklearn.cluster import KMeans\n",
    "from scipy.spatial.distance import cdist, pdist\n",
    "from sklearn.ensemble import RandomForestClassifier\n",
    "from sklearn.cross_validation import StratifiedKFold,cross_val_score, train_test_split\n",
    "from sklearn.grid_search import GridSearchCV"
   ]
  },
  {
   "cell_type": "code",
   "execution_count": 201,
   "metadata": {
    "collapsed": true
   },
   "outputs": [],
   "source": [
    "import warnings\n",
    "warnings.filterwarnings('ignore')"
   ]
  },
  {
   "cell_type": "markdown",
   "metadata": {},
   "source": [
    "# Final - Exploring Demographics"
   ]
  },
  {
   "cell_type": "markdown",
   "metadata": {},
   "source": [
    "The goal is to see if any clusters exist for panelists who have purchased any yogurt."
   ]
  },
  {
   "cell_type": "code",
   "execution_count": 153,
   "metadata": {
    "collapsed": false
   },
   "outputs": [
    {
     "data": {
      "text/plain": [
       "Index([u'DateStart', u'DateEnd', u'IRI Week', u'WeekOfYear', u'Month',\n",
       "       u'Year'],\n",
       "      dtype='object')"
      ]
     },
     "execution_count": 153,
     "metadata": {},
     "output_type": "execute_result"
    }
   ],
   "source": [
    "weekMap = '../Final/IRI Week translation.csv'\n",
    "weekKey = pd.read_csv(weekMap,parse_dates={'DateStart':[1], 'DateEnd':[2]})\n",
    "weekKey.columns"
   ]
  },
  {
   "cell_type": "markdown",
   "metadata": {},
   "source": [
    "### Load Data"
   ]
  },
  {
   "cell_type": "code",
   "execution_count": 154,
   "metadata": {
    "collapsed": true
   },
   "outputs": [],
   "source": [
    "datafile = '../Final/yogurt.h5'"
   ]
  },
  {
   "cell_type": "code",
   "execution_count": 155,
   "metadata": {
    "collapsed": false
   },
   "outputs": [
    {
     "name": "stdout",
     "output_type": "stream",
     "text": [
      "[u'delivery_stores', u'demos', u'drug', u'groc', u'panel', u'upc2008']\n"
     ]
    }
   ],
   "source": [
    "with h5.File(datafile,'r') as hf:\n",
    "    print hf.keys()"
   ]
  },
  {
   "cell_type": "code",
   "execution_count": 156,
   "metadata": {
    "collapsed": true
   },
   "outputs": [],
   "source": [
    "panel = pd.read_hdf(datafile,'panel')\n",
    "demo = pd.read_hdf(datafile,'demos')"
   ]
  },
  {
   "cell_type": "code",
   "execution_count": 157,
   "metadata": {
    "collapsed": false
   },
   "outputs": [
    {
     "name": "stdout",
     "output_type": "stream",
     "text": [
      "Index([u'COLUPC', u'DOLLARS', u'IRI_KEY', u'MINUTE', u'OUTLET', u'PANID',\n",
      "       u'UNITS', u'WEEK', u'file'],\n",
      "      dtype='object') \n",
      "Index([u'ALL_TVS', u'Age Group Applied to Female HH',\n",
      "       u'Age Group Applied to Male HH', u'CABL_TVS', u'COUNTY',\n",
      "       u'Children Group Code', u'Combined Pre-Tax Income of HH', u'EXT_FACT',\n",
      "       u'Education Level Reached by Female HH',\n",
      "       u'Education Level Reached by Male HH', u'FIPSCODE', u'Family Size',\n",
      "       u'Female Working Hour Code', u'HH_AGE', u'HH_EDU', u'HH_OCC',\n",
      "       u'HH_RACE', u'IRI Geography Number', u'Language',\n",
      "       u'Male Working Hour Code', u'Marital Status', u'Number of Cats',\n",
      "       u'Number of Dogs', u'Occupation Code of Female HH',\n",
      "       u'Occupation Code of Male HH', u'Panelist ID', u'RACE3',\n",
      "       u'Type of Residential Possession', u'Year', u'ZIPCODE', u'filename',\n",
      "       u'yearID'],\n",
      "      dtype='object')\n",
      "1609107 74592\n"
     ]
    }
   ],
   "source": [
    "print panel.columns, '\\n',demo.columns\n",
    "print len(panel), len(demo)"
   ]
  },
  {
   "cell_type": "markdown",
   "metadata": {},
   "source": [
    "COLUPC is used to tie to product features data\n",
    "\n",
    "(Collapsed UPC). This is the UPC which matches the internal form (e.g. private label collapsed). The information in COLUPC is the same as in the combination of SY, GE, VEND, ITE.\n",
    "\n",
    "This is the combination of a upc’s system (2 digits), generation (1 digit), vendor (5 digits) and item (5 digits) fields. See product description section for an explanation of these fields. No leading zeroes are shown."
   ]
  },
  {
   "cell_type": "code",
   "execution_count": 158,
   "metadata": {
    "collapsed": false
   },
   "outputs": [
    {
     "data": {
      "text/plain": [
       "0    17047000300\n",
       "1    17047000302\n",
       "2    17047000650\n",
       "3    17047000650\n",
       "4    17047001372\n",
       "Name: COLUPC, dtype: int64"
      ]
     },
     "execution_count": 158,
     "metadata": {},
     "output_type": "execute_result"
    }
   ],
   "source": [
    "panel.COLUPC.head()"
   ]
  },
  {
   "cell_type": "code",
   "execution_count": 159,
   "metadata": {
    "collapsed": false
   },
   "outputs": [
    {
     "data": {
      "text/plain": [
       "11"
      ]
     },
     "execution_count": 159,
     "metadata": {},
     "output_type": "execute_result"
    }
   ],
   "source": [
    "len(str(panel.COLUPC.head()[1]))"
   ]
  },
  {
   "cell_type": "markdown",
   "metadata": {},
   "source": [
    "## Does panel data include non-yogurt purchases?"
   ]
  },
  {
   "cell_type": "markdown",
   "metadata": {},
   "source": [
    "Load product feature info and join to panel"
   ]
  },
  {
   "cell_type": "code",
   "execution_count": 160,
   "metadata": {
    "collapsed": false
   },
   "outputs": [
    {
     "name": "stdout",
     "output_type": "stream",
     "text": [
      "[u'products']\n"
     ]
    }
   ],
   "source": [
    "datafile = '../Final/yogurtType.h5'\n",
    "with h5.File(datafile,'r') as hf:\n",
    "    print hf.keys()"
   ]
  },
  {
   "cell_type": "code",
   "execution_count": 161,
   "metadata": {
    "collapsed": false
   },
   "outputs": [
    {
     "data": {
      "text/plain": [
       "Index([u'CALORIE LEVEL', u'FAT CONTENT', u'FLAVOR/SCENT', u'GE', u'ITEM',\n",
       "       u'L1', u'L2', u'L3', u'L4', u'L5', u'L9', u'Level', u'ORGANIC INFO',\n",
       "       u'PACKAGE', u'PRODUCT TYPE', u'STYLE', u'SY', u'TYPE OF YOGURT', u'UPC',\n",
       "       u'VEND', u'VOL_EQ', u'file'],\n",
       "      dtype='object')"
      ]
     },
     "execution_count": 161,
     "metadata": {},
     "output_type": "execute_result"
    }
   ],
   "source": [
    "raw_prod = pd.read_hdf(datafile,'products')\n",
    "raw_prod.columns"
   ]
  },
  {
   "cell_type": "markdown",
   "metadata": {},
   "source": [
    "There is no COLUPC column. Will need to generate COLUPC using SY, GE, VEND, ITE."
   ]
  },
  {
   "cell_type": "code",
   "execution_count": 162,
   "metadata": {
    "collapsed": false
   },
   "outputs": [
    {
     "data": {
      "text/html": [
       "<div>\n",
       "<table border=\"1\" class=\"dataframe\">\n",
       "  <thead>\n",
       "    <tr style=\"text-align: right;\">\n",
       "      <th></th>\n",
       "      <th>SY</th>\n",
       "      <th>GE</th>\n",
       "      <th>VEND</th>\n",
       "      <th>ITEM</th>\n",
       "    </tr>\n",
       "  </thead>\n",
       "  <tbody>\n",
       "    <tr>\n",
       "      <th>0</th>\n",
       "      <td>7</td>\n",
       "      <td>2</td>\n",
       "      <td>20742</td>\n",
       "      <td>7011</td>\n",
       "    </tr>\n",
       "    <tr>\n",
       "      <th>1</th>\n",
       "      <td>0</td>\n",
       "      <td>3</td>\n",
       "      <td>70452</td>\n",
       "      <td>24101</td>\n",
       "    </tr>\n",
       "    <tr>\n",
       "      <th>2</th>\n",
       "      <td>7</td>\n",
       "      <td>3</td>\n",
       "      <td>20742</td>\n",
       "      <td>7013</td>\n",
       "    </tr>\n",
       "  </tbody>\n",
       "</table>\n",
       "</div>"
      ],
      "text/plain": [
       "   SY  GE   VEND   ITEM\n",
       "0   7   2  20742   7011\n",
       "1   0   3  70452  24101\n",
       "2   7   3  20742   7013"
      ]
     },
     "execution_count": 162,
     "metadata": {},
     "output_type": "execute_result"
    }
   ],
   "source": [
    "COLUPC = ['SY', 'GE', 'VEND', 'ITEM']\n",
    "raw_prod[COLUPC].head(3)"
   ]
  },
  {
   "cell_type": "code",
   "execution_count": 163,
   "metadata": {
    "collapsed": false
   },
   "outputs": [
    {
     "data": {
      "text/plain": [
       "0    72207427011\n",
       "1    37045224101\n",
       "2    73207427013\n",
       "Name: COLUPC, dtype: int64"
      ]
     },
     "execution_count": 163,
     "metadata": {},
     "output_type": "execute_result"
    }
   ],
   "source": [
    "prod = raw_prod.copy(True)\n",
    "prod['COLUPC'] =prod[COLUPC].astype('str').apply(lambda x: ''.join(x), axis=1).astype('int')\n",
    "prod['COLUPC'].head(3)"
   ]
  },
  {
   "cell_type": "code",
   "execution_count": 164,
   "metadata": {
    "collapsed": false
   },
   "outputs": [
    {
     "data": {
      "text/plain": [
       "10661"
      ]
     },
     "execution_count": 164,
     "metadata": {},
     "output_type": "execute_result"
    }
   ],
   "source": [
    "prod.COLUPC.drop_duplicates().count()"
   ]
  },
  {
   "cell_type": "markdown",
   "metadata": {},
   "source": [
    "### Handle Duplicate Products"
   ]
  },
  {
   "cell_type": "code",
   "execution_count": 165,
   "metadata": {
    "collapsed": false
   },
   "outputs": [
    {
     "data": {
      "text/html": [
       "<div>\n",
       "<table border=\"1\" class=\"dataframe\">\n",
       "  <thead>\n",
       "    <tr style=\"text-align: right;\">\n",
       "      <th></th>\n",
       "      <th>COLUPC</th>\n",
       "      <th>file</th>\n",
       "    </tr>\n",
       "  </thead>\n",
       "  <tbody>\n",
       "    <tr>\n",
       "      <th>1497</th>\n",
       "      <td>1350493</td>\n",
       "      <td>parsed stub files</td>\n",
       "    </tr>\n",
       "    <tr>\n",
       "      <th>1485</th>\n",
       "      <td>1350493</td>\n",
       "      <td>parsed stub files 2007</td>\n",
       "    </tr>\n",
       "    <tr>\n",
       "      <th>2232</th>\n",
       "      <td>1350493</td>\n",
       "      <td>parsed stub files 2008-2011</td>\n",
       "    </tr>\n",
       "    <tr>\n",
       "      <th>1494</th>\n",
       "      <td>1350494</td>\n",
       "      <td>parsed stub files</td>\n",
       "    </tr>\n",
       "    <tr>\n",
       "      <th>1482</th>\n",
       "      <td>1350494</td>\n",
       "      <td>parsed stub files 2007</td>\n",
       "    </tr>\n",
       "    <tr>\n",
       "      <th>1969</th>\n",
       "      <td>1350494</td>\n",
       "      <td>parsed stub files 2008-2011</td>\n",
       "    </tr>\n",
       "    <tr>\n",
       "      <th>1812</th>\n",
       "      <td>1521591</td>\n",
       "      <td>parsed stub files</td>\n",
       "    </tr>\n",
       "    <tr>\n",
       "      <th>1790</th>\n",
       "      <td>1521591</td>\n",
       "      <td>parsed stub files 2007</td>\n",
       "    </tr>\n",
       "    <tr>\n",
       "      <th>2367</th>\n",
       "      <td>1521591</td>\n",
       "      <td>parsed stub files 2008-2011</td>\n",
       "    </tr>\n",
       "    <tr>\n",
       "      <th>1810</th>\n",
       "      <td>1521596</td>\n",
       "      <td>parsed stub files</td>\n",
       "    </tr>\n",
       "  </tbody>\n",
       "</table>\n",
       "</div>"
      ],
      "text/plain": [
       "       COLUPC                         file\n",
       "1497  1350493            parsed stub files\n",
       "1485  1350493       parsed stub files 2007\n",
       "2232  1350493  parsed stub files 2008-2011\n",
       "1494  1350494            parsed stub files\n",
       "1482  1350494       parsed stub files 2007\n",
       "1969  1350494  parsed stub files 2008-2011\n",
       "1812  1521591            parsed stub files\n",
       "1790  1521591       parsed stub files 2007\n",
       "2367  1521591  parsed stub files 2008-2011\n",
       "1810  1521596            parsed stub files"
      ]
     },
     "execution_count": 165,
     "metadata": {},
     "output_type": "execute_result"
    }
   ],
   "source": [
    "prod[['COLUPC','file']].sort_values(['COLUPC','file']).head(10)"
   ]
  },
  {
   "cell_type": "code",
   "execution_count": 166,
   "metadata": {
    "collapsed": false
   },
   "outputs": [
    {
     "data": {
      "text/html": [
       "<div>\n",
       "<table border=\"1\" class=\"dataframe\">\n",
       "  <thead>\n",
       "    <tr style=\"text-align: right;\">\n",
       "      <th></th>\n",
       "      <th>CALORIE LEVEL</th>\n",
       "      <th>FAT CONTENT</th>\n",
       "      <th>FLAVOR/SCENT</th>\n",
       "      <th>GE</th>\n",
       "      <th>ITEM</th>\n",
       "      <th>L1</th>\n",
       "      <th>L2</th>\n",
       "      <th>L3</th>\n",
       "      <th>L4</th>\n",
       "      <th>L5</th>\n",
       "      <th>...</th>\n",
       "      <th>PACKAGE</th>\n",
       "      <th>PRODUCT TYPE</th>\n",
       "      <th>STYLE</th>\n",
       "      <th>SY</th>\n",
       "      <th>TYPE OF YOGURT</th>\n",
       "      <th>UPC</th>\n",
       "      <th>VEND</th>\n",
       "      <th>VOL_EQ</th>\n",
       "      <th>file</th>\n",
       "      <th>COLUPC</th>\n",
       "    </tr>\n",
       "  </thead>\n",
       "  <tbody>\n",
       "    <tr>\n",
       "      <th>1497</th>\n",
       "      <td>LITE</td>\n",
       "      <td>NONFAT</td>\n",
       "      <td>VANILLA</td>\n",
       "      <td>1</td>\n",
       "      <td>50493</td>\n",
       "      <td>CATEGORY - YOGURT</td>\n",
       "      <td>RFG YOGURT</td>\n",
       "      <td>GROUPE DANONE S A</td>\n",
       "      <td>DANNON CO</td>\n",
       "      <td>DANNON</td>\n",
       "      <td>...</td>\n",
       "      <td>PLASTIC CUP IN BOX</td>\n",
       "      <td>YOGURT</td>\n",
       "      <td>GRADE A</td>\n",
       "      <td>0</td>\n",
       "      <td>REGULAR</td>\n",
       "      <td>00-01-00003-50493</td>\n",
       "      <td>3</td>\n",
       "      <td>4.5</td>\n",
       "      <td>parsed stub files</td>\n",
       "      <td>1350493</td>\n",
       "    </tr>\n",
       "    <tr>\n",
       "      <th>1485</th>\n",
       "      <td>LITE</td>\n",
       "      <td>NONFAT</td>\n",
       "      <td>VANILLA</td>\n",
       "      <td>1</td>\n",
       "      <td>50493</td>\n",
       "      <td>CATEGORY - YOGURT</td>\n",
       "      <td>RFG YOGURT</td>\n",
       "      <td>GROUPE DANONE S A</td>\n",
       "      <td>DANNON CO</td>\n",
       "      <td>DANNON</td>\n",
       "      <td>...</td>\n",
       "      <td>PLASTIC CUP IN BOX</td>\n",
       "      <td>YOGURT</td>\n",
       "      <td>GRADE A</td>\n",
       "      <td>0</td>\n",
       "      <td>REGULAR</td>\n",
       "      <td>00-01-00003-50493</td>\n",
       "      <td>3</td>\n",
       "      <td>4.5</td>\n",
       "      <td>parsed stub files 2007</td>\n",
       "      <td>1350493</td>\n",
       "    </tr>\n",
       "    <tr>\n",
       "      <th>2232</th>\n",
       "      <td>LIGHT</td>\n",
       "      <td>NONFAT</td>\n",
       "      <td>VANILLA</td>\n",
       "      <td>1</td>\n",
       "      <td>50493</td>\n",
       "      <td>CATEGORY - YOGURT</td>\n",
       "      <td>RFG YOGURT</td>\n",
       "      <td>GROUPE DANONE S A</td>\n",
       "      <td>DANNON CO</td>\n",
       "      <td>DANNON LIGHT N FIT</td>\n",
       "      <td>...</td>\n",
       "      <td>PLASTIC CUP IN BOX</td>\n",
       "      <td>YOGURT</td>\n",
       "      <td>GRADE A</td>\n",
       "      <td>0</td>\n",
       "      <td>NaN</td>\n",
       "      <td>00-01-00003-50493</td>\n",
       "      <td>3</td>\n",
       "      <td>4.5</td>\n",
       "      <td>parsed stub files 2008-2011</td>\n",
       "      <td>1350493</td>\n",
       "    </tr>\n",
       "  </tbody>\n",
       "</table>\n",
       "<p>3 rows × 23 columns</p>\n",
       "</div>"
      ],
      "text/plain": [
       "     CALORIE LEVEL FAT CONTENT FLAVOR/SCENT  GE   ITEM  \\\n",
       "1497          LITE      NONFAT      VANILLA   1  50493   \n",
       "1485          LITE      NONFAT      VANILLA   1  50493   \n",
       "2232         LIGHT      NONFAT      VANILLA   1  50493   \n",
       "\n",
       "                                     L1          L2                 L3  \\\n",
       "1497  CATEGORY - YOGURT                  RFG YOGURT  GROUPE DANONE S A   \n",
       "1485  CATEGORY - YOGURT                  RFG YOGURT  GROUPE DANONE S A   \n",
       "2232  CATEGORY - YOGURT                  RFG YOGURT  GROUPE DANONE S A   \n",
       "\n",
       "             L4                  L5   ...                PACKAGE  \\\n",
       "1497  DANNON CO              DANNON   ...     PLASTIC CUP IN BOX   \n",
       "1485  DANNON CO              DANNON   ...     PLASTIC CUP IN BOX   \n",
       "2232  DANNON CO  DANNON LIGHT N FIT   ...     PLASTIC CUP IN BOX   \n",
       "\n",
       "      PRODUCT TYPE    STYLE SY TYPE OF YOGURT                UPC  VEND VOL_EQ  \\\n",
       "1497        YOGURT  GRADE A  0        REGULAR  00-01-00003-50493     3    4.5   \n",
       "1485        YOGURT  GRADE A  0        REGULAR  00-01-00003-50493     3    4.5   \n",
       "2232        YOGURT  GRADE A  0            NaN  00-01-00003-50493     3    4.5   \n",
       "\n",
       "                             file   COLUPC  \n",
       "1497            parsed stub files  1350493  \n",
       "1485       parsed stub files 2007  1350493  \n",
       "2232  parsed stub files 2008-2011  1350493  \n",
       "\n",
       "[3 rows x 23 columns]"
      ]
     },
     "execution_count": 166,
     "metadata": {},
     "output_type": "execute_result"
    }
   ],
   "source": [
    "prod[prod.COLUPC ==1350493].drop_duplicates()"
   ]
  },
  {
   "cell_type": "code",
   "execution_count": 167,
   "metadata": {
    "collapsed": false
   },
   "outputs": [
    {
     "data": {
      "text/plain": [
       "file\n",
       "parsed stub files              4081\n",
       "parsed stub files 2007         5283\n",
       "parsed stub files 2008-2011    7111\n",
       "Name: COLUPC, dtype: int64"
      ]
     },
     "execution_count": 167,
     "metadata": {},
     "output_type": "execute_result"
    }
   ],
   "source": [
    "prod.groupby('file')['COLUPC'].count()"
   ]
  },
  {
   "cell_type": "markdown",
   "metadata": {},
   "source": [
    "### Filter by the most recent file since it contains the most data."
   ]
  },
  {
   "cell_type": "code",
   "execution_count": 168,
   "metadata": {
    "collapsed": false
   },
   "outputs": [],
   "source": [
    "prod = prod[prod['file']=='parsed stub files 2008-2011']"
   ]
  },
  {
   "cell_type": "markdown",
   "metadata": {},
   "source": [
    "### Join product features to panel data"
   ]
  },
  {
   "cell_type": "code",
   "execution_count": 169,
   "metadata": {
    "collapsed": false
   },
   "outputs": [
    {
     "name": "stdout",
     "output_type": "stream",
     "text": [
      "Record count panel transactions: 1609107 products: 7111\n"
     ]
    }
   ],
   "source": [
    "print 'Record count panel transactions:',len(panel), 'products:', len(prod)"
   ]
  },
  {
   "cell_type": "markdown",
   "metadata": {},
   "source": [
    "Add 'IsYogurtPurchase' column to indicate transactions where yogurt was purchased."
   ]
  },
  {
   "cell_type": "code",
   "execution_count": 170,
   "metadata": {
    "collapsed": true
   },
   "outputs": [],
   "source": [
    "prod['IsYogurtPurchase'] = True"
   ]
  },
  {
   "cell_type": "code",
   "execution_count": 171,
   "metadata": {
    "collapsed": false
   },
   "outputs": [],
   "source": [
    "sales = pd.merge(pd.merge(panel, prod[['COLUPC','IsYogurtPurchase']], how='left', on='COLUPC'),\n",
    "                 weekKey,how='inner', left_on='WEEK', right_on='IRI Week')"
   ]
  },
  {
   "cell_type": "markdown",
   "metadata": {},
   "source": [
    "### Verify data assumptions"
   ]
  },
  {
   "cell_type": "markdown",
   "metadata": {},
   "source": [
    "Ensure that all the panelist data for yogurt includes yogurt purchases.\n"
   ]
  },
  {
   "cell_type": "code",
   "execution_count": 172,
   "metadata": {
    "collapsed": false
   },
   "outputs": [
    {
     "name": "stdout",
     "output_type": "stream",
     "text": [
      "Percent of panelists who never purchased yogurt 30%\n"
     ]
    }
   ],
   "source": [
    "# were there any panelists that never purchased yogurt?\n",
    "panelist_count = sales[['PANID']].drop_duplicates().count().values[0]\n",
    "\n",
    "bad = sales[panel.columns.tolist() + ['IsYogurtPurchase']]\\\n",
    "    .groupby(['PANID'])[['IsYogurtPurchase']].count().reset_index()\\\n",
    "    .groupby(['IsYogurtPurchase'])[['PANID']].count().reset_index().loc[0,:]['PANID']\n",
    "\n",
    "print 'Percent of panelists who never purchased yogurt', \"{0:.0f}%\".format(bad/float(panelist_count) * 100)"
   ]
  },
  {
   "cell_type": "markdown",
   "metadata": {},
   "source": [
    "30% of the panelists have never purchased yogurt.  The documentation doesn't specify the criteria for grouping these panelist as part of the yogurt data.  We will assume that these panelists are representative of those who do not purchase yogurt."
   ]
  },
  {
   "cell_type": "code",
   "execution_count": 173,
   "metadata": {
    "collapsed": false
   },
   "outputs": [
    {
     "data": {
      "text/plain": [
       "<bound method DataFrame.hist_frame of        IsYogurtPurchase\n",
       "8860                 89\n",
       "3610                 80\n",
       "5965                 77\n",
       "3005                 75\n",
       "9424                 72\n",
       "9462                 64\n",
       "9714                 63\n",
       "10507                62\n",
       "6650                 59\n",
       "1323                 55\n",
       "9611                 55\n",
       "2287                 55\n",
       "991                  55\n",
       "1117                 54\n",
       "6897                 54\n",
       "6089                 53\n",
       "10824                53\n",
       "3797                 52\n",
       "6773                 51\n",
       "7402                 51\n",
       "3254                 51\n",
       "23606                50\n",
       "10488                49\n",
       "1081                 49\n",
       "8910                 48\n",
       "3762                 48\n",
       "7794                 47\n",
       "24229                47\n",
       "905                  47\n",
       "131                  46\n",
       "...                 ...\n",
       "14524                 1\n",
       "14525                 1\n",
       "14527                 1\n",
       "14487                 1\n",
       "14485                 1\n",
       "14434                 1\n",
       "14459                 1\n",
       "14436                 1\n",
       "14443                 1\n",
       "14445                 1\n",
       "14447                 1\n",
       "14448                 1\n",
       "14450                 1\n",
       "14453                 1\n",
       "14454                 1\n",
       "14457                 1\n",
       "14458                 1\n",
       "14460                 1\n",
       "14481                 1\n",
       "14462                 1\n",
       "14463                 1\n",
       "14466                 1\n",
       "14467                 1\n",
       "14471                 1\n",
       "14473                 1\n",
       "14474                 1\n",
       "14476                 1\n",
       "14477                 1\n",
       "14479                 1\n",
       "25914                 1\n",
       "\n",
       "[25915 rows x 1 columns]>"
      ]
     },
     "execution_count": 173,
     "metadata": {},
     "output_type": "execute_result"
    }
   ],
   "source": [
    "sales[['PANID','IRI_KEY', 'WEEK','MINUTE','file'] + ['IsYogurtPurchase']][sales['IsYogurtPurchase']==True]    .drop_duplicates().groupby(['file','PANID'])[['IsYogurtPurchase']].count().reset_index()    .sort_values('IsYogurtPurchase',ascending=False)[['IsYogurtPurchase']].hist"
   ]
  },
  {
   "cell_type": "code",
   "execution_count": 174,
   "metadata": {
    "collapsed": false
   },
   "outputs": [
    {
     "name": "stdout",
     "output_type": "stream",
     "text": [
      "(7432, 2) (3111, 2)\n"
     ]
    }
   ],
   "source": [
    "yes_yogurt = sales[sales['IsYogurtPurchase']==True][['PANID', 'IsYogurtPurchase']].drop_duplicates()\n",
    "no_yogurt = sales[~sales['PANID'].isin(yes_yogurt['PANID'])][['PANID', 'IsYogurtPurchase']].drop_duplicates().fillna(value=False)\n",
    "print yes_yogurt.shape, no_yogurt.shape"
   ]
  },
  {
   "cell_type": "code",
   "execution_count": 175,
   "metadata": {
    "collapsed": false
   },
   "outputs": [
    {
     "name": "stdout",
     "output_type": "stream",
     "text": [
      "(10543, 2)\n"
     ]
    }
   ],
   "source": [
    "panel_map = pd.concat([yes_yogurt,no_yogurt]).rename(columns={'IsYogurtPurchase':'Yogurt'})\n",
    "panel_map['Yogurt'] = panel_map['Yogurt'].apply(lambda x: 1 if x == True else 0)\n",
    "print panel_map.shape"
   ]
  },
  {
   "cell_type": "markdown",
   "metadata": {},
   "source": [
    "## Demographic Data"
   ]
  },
  {
   "cell_type": "code",
   "execution_count": 176,
   "metadata": {
    "collapsed": false
   },
   "outputs": [
    {
     "name": "stdout",
     "output_type": "stream",
     "text": [
      "<class 'pandas.core.frame.DataFrame'>\n",
      "Int64Index: 74592 entries, 0 to 4606\n",
      "Data columns (total 32 columns):\n",
      "ALL_TVS                                 57426 non-null float64\n",
      "Age Group Applied to Female HH          74592 non-null int64\n",
      "Age Group Applied to Male HH            74592 non-null int64\n",
      "CABL_TVS                                54537 non-null float64\n",
      "COUNTY                                  46722 non-null object\n",
      "Children Group Code                     74592 non-null int64\n",
      "Combined Pre-Tax Income of HH           74581 non-null float64\n",
      "EXT_FACT                                46722 non-null float64\n",
      "Education Level Reached by Female HH    74592 non-null int64\n",
      "Education Level Reached by Male HH      74592 non-null int64\n",
      "FIPSCODE                                46722 non-null float64\n",
      "Family Size                             74592 non-null int64\n",
      "Female Working Hour Code                74592 non-null int64\n",
      "HH_AGE                                  46627 non-null float64\n",
      "HH_EDU                                  46629 non-null float64\n",
      "HH_OCC                                  46625 non-null float64\n",
      "HH_RACE                                 74158 non-null float64\n",
      "IRI Geography Number                    46722 non-null float64\n",
      "Language                                21211 non-null float64\n",
      "Male Working Hour Code                  74592 non-null int64\n",
      "Marital Status                          74592 non-null int64\n",
      "Number of Cats                          74592 non-null int64\n",
      "Number of Dogs                          74592 non-null int64\n",
      "Occupation Code of Female HH            74592 non-null int64\n",
      "Occupation Code of Male HH              74592 non-null int64\n",
      "Panelist ID                             74592 non-null int64\n",
      "RACE3                                   46722 non-null float64\n",
      "Type of Residential Possession          74592 non-null int64\n",
      "Year                                    74592 non-null int64\n",
      "ZIPCODE                                 46722 non-null float64\n",
      "filename                                74592 non-null object\n",
      "yearID                                  74592 non-null int64\n",
      "dtypes: float64(13), int64(17), object(2)\n",
      "memory usage: 18.8+ MB\n"
     ]
    }
   ],
   "source": [
    "demo.info()"
   ]
  },
  {
   "cell_type": "code",
   "execution_count": null,
   "metadata": {
    "collapsed": true
   },
   "outputs": [],
   "source": []
  },
  {
   "cell_type": "code",
   "execution_count": null,
   "metadata": {
    "collapsed": true
   },
   "outputs": [],
   "source": []
  },
  {
   "cell_type": "markdown",
   "metadata": {},
   "source": [
    "In this step, we clean the data and remove unwanted columns. Nominal data is binarized and numerical data is normalized."
   ]
  },
  {
   "cell_type": "code",
   "execution_count": 177,
   "metadata": {
    "collapsed": false
   },
   "outputs": [],
   "source": [
    "# get only panelists who have purchased yogurt\n",
    "# data = pd.merge(panel[['PANID']].drop_duplicates(), demo, how='right', left_on='PANID', right_on='Panelist ID')[demo.columns]"
   ]
  },
  {
   "cell_type": "code",
   "execution_count": 178,
   "metadata": {
    "collapsed": false
   },
   "outputs": [
    {
     "data": {
      "text/plain": [
       "Language                0.28\n",
       "EXT_FACT                0.63\n",
       "FIPSCODE                0.63\n",
       "HH_AGE                  0.63\n",
       "HH_EDU                  0.63\n",
       "HH_OCC                  0.63\n",
       "IRI Geography Number    0.63\n",
       "RACE3                   0.63\n",
       "ZIPCODE                 0.63\n",
       "CABL_TVS                0.73\n",
       "ALL_TVS                 0.77\n",
       "HH_RACE                 0.99\n",
       "Name: count, dtype: float64"
      ]
     },
     "execution_count": 178,
     "metadata": {},
     "output_type": "execute_result"
    }
   ],
   "source": [
    "counts = (demo.describe().iloc[0,:]/float(demo.shape[0])).round(2)\n",
    "\n",
    "# find features with missing data\n",
    "counts[counts < 1].sort_values()"
   ]
  },
  {
   "cell_type": "code",
   "execution_count": 179,
   "metadata": {
    "collapsed": false
   },
   "outputs": [
    {
     "data": {
      "text/html": [
       "<div>\n",
       "<table border=\"1\" class=\"dataframe\">\n",
       "  <thead>\n",
       "    <tr style=\"text-align: right;\">\n",
       "      <th></th>\n",
       "      <th>ALL_TVS</th>\n",
       "      <th>CABL_TVS</th>\n",
       "      <th>EXT_FACT</th>\n",
       "      <th>FIPSCODE</th>\n",
       "      <th>HH_AGE</th>\n",
       "      <th>HH_EDU</th>\n",
       "      <th>HH_OCC</th>\n",
       "      <th>HH_RACE</th>\n",
       "      <th>IRI Geography Number</th>\n",
       "      <th>Language</th>\n",
       "      <th>RACE3</th>\n",
       "      <th>ZIPCODE</th>\n",
       "    </tr>\n",
       "    <tr>\n",
       "      <th>yearID</th>\n",
       "      <th></th>\n",
       "      <th></th>\n",
       "      <th></th>\n",
       "      <th></th>\n",
       "      <th></th>\n",
       "      <th></th>\n",
       "      <th></th>\n",
       "      <th></th>\n",
       "      <th></th>\n",
       "      <th></th>\n",
       "      <th></th>\n",
       "      <th></th>\n",
       "    </tr>\n",
       "  </thead>\n",
       "  <tbody>\n",
       "    <tr>\n",
       "      <th>1</th>\n",
       "      <td>5609</td>\n",
       "      <td>5442</td>\n",
       "      <td>0</td>\n",
       "      <td>0</td>\n",
       "      <td>0</td>\n",
       "      <td>0</td>\n",
       "      <td>0</td>\n",
       "      <td>13983</td>\n",
       "      <td>0</td>\n",
       "      <td>0</td>\n",
       "      <td>0</td>\n",
       "      <td>0</td>\n",
       "    </tr>\n",
       "    <tr>\n",
       "      <th>2</th>\n",
       "      <td>5575</td>\n",
       "      <td>5402</td>\n",
       "      <td>0</td>\n",
       "      <td>0</td>\n",
       "      <td>0</td>\n",
       "      <td>0</td>\n",
       "      <td>0</td>\n",
       "      <td>13887</td>\n",
       "      <td>0</td>\n",
       "      <td>0</td>\n",
       "      <td>0</td>\n",
       "      <td>0</td>\n",
       "    </tr>\n",
       "    <tr>\n",
       "      <th>3</th>\n",
       "      <td>6434</td>\n",
       "      <td>6406</td>\n",
       "      <td>6565</td>\n",
       "      <td>6565</td>\n",
       "      <td>6565</td>\n",
       "      <td>6565</td>\n",
       "      <td>6565</td>\n",
       "      <td>6423</td>\n",
       "      <td>6565</td>\n",
       "      <td>729</td>\n",
       "      <td>6565</td>\n",
       "      <td>6565</td>\n",
       "    </tr>\n",
       "    <tr>\n",
       "      <th>4</th>\n",
       "      <td>5816</td>\n",
       "      <td>5769</td>\n",
       "      <td>5907</td>\n",
       "      <td>5907</td>\n",
       "      <td>5907</td>\n",
       "      <td>5907</td>\n",
       "      <td>5907</td>\n",
       "      <td>5807</td>\n",
       "      <td>5907</td>\n",
       "      <td>676</td>\n",
       "      <td>5907</td>\n",
       "      <td>5907</td>\n",
       "    </tr>\n",
       "    <tr>\n",
       "      <th>5</th>\n",
       "      <td>5673</td>\n",
       "      <td>5608</td>\n",
       "      <td>5743</td>\n",
       "      <td>5743</td>\n",
       "      <td>5743</td>\n",
       "      <td>5743</td>\n",
       "      <td>5743</td>\n",
       "      <td>5665</td>\n",
       "      <td>5743</td>\n",
       "      <td>653</td>\n",
       "      <td>5743</td>\n",
       "      <td>5743</td>\n",
       "    </tr>\n",
       "    <tr>\n",
       "      <th>6</th>\n",
       "      <td>5507</td>\n",
       "      <td>5395</td>\n",
       "      <td>5566</td>\n",
       "      <td>5566</td>\n",
       "      <td>5566</td>\n",
       "      <td>5566</td>\n",
       "      <td>5566</td>\n",
       "      <td>5500</td>\n",
       "      <td>5566</td>\n",
       "      <td>637</td>\n",
       "      <td>5566</td>\n",
       "      <td>5566</td>\n",
       "    </tr>\n",
       "    <tr>\n",
       "      <th>7</th>\n",
       "      <td>4998</td>\n",
       "      <td>4908</td>\n",
       "      <td>5041</td>\n",
       "      <td>5041</td>\n",
       "      <td>5041</td>\n",
       "      <td>5041</td>\n",
       "      <td>5041</td>\n",
       "      <td>4993</td>\n",
       "      <td>5041</td>\n",
       "      <td>616</td>\n",
       "      <td>5041</td>\n",
       "      <td>5041</td>\n",
       "    </tr>\n",
       "    <tr>\n",
       "      <th>8</th>\n",
       "      <td>4830</td>\n",
       "      <td>4327</td>\n",
       "      <td>4861</td>\n",
       "      <td>4861</td>\n",
       "      <td>4827</td>\n",
       "      <td>4828</td>\n",
       "      <td>4827</td>\n",
       "      <td>4861</td>\n",
       "      <td>4861</td>\n",
       "      <td>4861</td>\n",
       "      <td>4861</td>\n",
       "      <td>4861</td>\n",
       "    </tr>\n",
       "    <tr>\n",
       "      <th>9</th>\n",
       "      <td>4586</td>\n",
       "      <td>4071</td>\n",
       "      <td>4607</td>\n",
       "      <td>4607</td>\n",
       "      <td>4585</td>\n",
       "      <td>4586</td>\n",
       "      <td>4585</td>\n",
       "      <td>4607</td>\n",
       "      <td>4607</td>\n",
       "      <td>4607</td>\n",
       "      <td>4607</td>\n",
       "      <td>4607</td>\n",
       "    </tr>\n",
       "    <tr>\n",
       "      <th>10</th>\n",
       "      <td>4243</td>\n",
       "      <td>3696</td>\n",
       "      <td>4261</td>\n",
       "      <td>4261</td>\n",
       "      <td>4240</td>\n",
       "      <td>4240</td>\n",
       "      <td>4239</td>\n",
       "      <td>4261</td>\n",
       "      <td>4261</td>\n",
       "      <td>4261</td>\n",
       "      <td>4261</td>\n",
       "      <td>4261</td>\n",
       "    </tr>\n",
       "    <tr>\n",
       "      <th>11</th>\n",
       "      <td>4155</td>\n",
       "      <td>3513</td>\n",
       "      <td>4171</td>\n",
       "      <td>4171</td>\n",
       "      <td>4153</td>\n",
       "      <td>4153</td>\n",
       "      <td>4152</td>\n",
       "      <td>4171</td>\n",
       "      <td>4171</td>\n",
       "      <td>4171</td>\n",
       "      <td>4171</td>\n",
       "      <td>4171</td>\n",
       "    </tr>\n",
       "  </tbody>\n",
       "</table>\n",
       "</div>"
      ],
      "text/plain": [
       "        ALL_TVS  CABL_TVS  EXT_FACT  FIPSCODE  HH_AGE  HH_EDU  HH_OCC  \\\n",
       "yearID                                                                  \n",
       "1          5609      5442         0         0       0       0       0   \n",
       "2          5575      5402         0         0       0       0       0   \n",
       "3          6434      6406      6565      6565    6565    6565    6565   \n",
       "4          5816      5769      5907      5907    5907    5907    5907   \n",
       "5          5673      5608      5743      5743    5743    5743    5743   \n",
       "6          5507      5395      5566      5566    5566    5566    5566   \n",
       "7          4998      4908      5041      5041    5041    5041    5041   \n",
       "8          4830      4327      4861      4861    4827    4828    4827   \n",
       "9          4586      4071      4607      4607    4585    4586    4585   \n",
       "10         4243      3696      4261      4261    4240    4240    4239   \n",
       "11         4155      3513      4171      4171    4153    4153    4152   \n",
       "\n",
       "        HH_RACE  IRI Geography Number  Language  RACE3  ZIPCODE  \n",
       "yearID                                                           \n",
       "1         13983                     0         0      0        0  \n",
       "2         13887                     0         0      0        0  \n",
       "3          6423                  6565       729   6565     6565  \n",
       "4          5807                  5907       676   5907     5907  \n",
       "5          5665                  5743       653   5743     5743  \n",
       "6          5500                  5566       637   5566     5566  \n",
       "7          4993                  5041       616   5041     5041  \n",
       "8          4861                  4861      4861   4861     4861  \n",
       "9          4607                  4607      4607   4607     4607  \n",
       "10         4261                  4261      4261   4261     4261  \n",
       "11         4171                  4171      4171   4171     4171  "
      ]
     },
     "execution_count": 179,
     "metadata": {},
     "output_type": "execute_result"
    }
   ],
   "source": [
    "# show counts by year of data available for missing columns\n",
    "missing_counts = demo.groupby('yearID')[counts[counts < 1].keys().tolist()].count()\n",
    "missing_counts"
   ]
  },
  {
   "cell_type": "code",
   "execution_count": 180,
   "metadata": {
    "collapsed": false
   },
   "outputs": [
    {
     "data": {
      "text/plain": [
       "yearID\n",
       "1     13983\n",
       "2     13887\n",
       "3      6565\n",
       "4      5907\n",
       "5      5743\n",
       "6      5566\n",
       "7      5041\n",
       "8      4861\n",
       "9      4607\n",
       "10     4261\n",
       "11     4171\n",
       "Name: yearID, dtype: int64"
      ]
     },
     "execution_count": 180,
     "metadata": {},
     "output_type": "execute_result"
    }
   ],
   "source": [
    "# get total rows for each year\n",
    "year_counts = demo.groupby('yearID')['yearID'].count()\n",
    "year_counts"
   ]
  },
  {
   "cell_type": "code",
   "execution_count": 181,
   "metadata": {
    "collapsed": false
   },
   "outputs": [
    {
     "data": {
      "text/html": [
       "<div>\n",
       "<table border=\"1\" class=\"dataframe\">\n",
       "  <thead>\n",
       "    <tr style=\"text-align: right;\">\n",
       "      <th></th>\n",
       "      <th>ALL_TVS</th>\n",
       "      <th>CABL_TVS</th>\n",
       "      <th>EXT_FACT</th>\n",
       "      <th>FIPSCODE</th>\n",
       "      <th>HH_AGE</th>\n",
       "      <th>HH_EDU</th>\n",
       "      <th>HH_OCC</th>\n",
       "      <th>HH_RACE</th>\n",
       "      <th>IRI Geography Number</th>\n",
       "      <th>Language</th>\n",
       "      <th>RACE3</th>\n",
       "      <th>ZIPCODE</th>\n",
       "    </tr>\n",
       "    <tr>\n",
       "      <th>yearID</th>\n",
       "      <th></th>\n",
       "      <th></th>\n",
       "      <th></th>\n",
       "      <th></th>\n",
       "      <th></th>\n",
       "      <th></th>\n",
       "      <th></th>\n",
       "      <th></th>\n",
       "      <th></th>\n",
       "      <th></th>\n",
       "      <th></th>\n",
       "      <th></th>\n",
       "    </tr>\n",
       "  </thead>\n",
       "  <tbody>\n",
       "    <tr>\n",
       "      <th>1</th>\n",
       "      <td>0.40</td>\n",
       "      <td>0.39</td>\n",
       "      <td>0</td>\n",
       "      <td>0</td>\n",
       "      <td>0.00</td>\n",
       "      <td>0.00</td>\n",
       "      <td>0.00</td>\n",
       "      <td>1.00</td>\n",
       "      <td>0</td>\n",
       "      <td>0.00</td>\n",
       "      <td>0</td>\n",
       "      <td>0</td>\n",
       "    </tr>\n",
       "    <tr>\n",
       "      <th>2</th>\n",
       "      <td>0.40</td>\n",
       "      <td>0.39</td>\n",
       "      <td>0</td>\n",
       "      <td>0</td>\n",
       "      <td>0.00</td>\n",
       "      <td>0.00</td>\n",
       "      <td>0.00</td>\n",
       "      <td>1.00</td>\n",
       "      <td>0</td>\n",
       "      <td>0.00</td>\n",
       "      <td>0</td>\n",
       "      <td>0</td>\n",
       "    </tr>\n",
       "    <tr>\n",
       "      <th>3</th>\n",
       "      <td>0.98</td>\n",
       "      <td>0.98</td>\n",
       "      <td>1</td>\n",
       "      <td>1</td>\n",
       "      <td>1.00</td>\n",
       "      <td>1.00</td>\n",
       "      <td>1.00</td>\n",
       "      <td>0.98</td>\n",
       "      <td>1</td>\n",
       "      <td>0.11</td>\n",
       "      <td>1</td>\n",
       "      <td>1</td>\n",
       "    </tr>\n",
       "    <tr>\n",
       "      <th>4</th>\n",
       "      <td>0.98</td>\n",
       "      <td>0.98</td>\n",
       "      <td>1</td>\n",
       "      <td>1</td>\n",
       "      <td>1.00</td>\n",
       "      <td>1.00</td>\n",
       "      <td>1.00</td>\n",
       "      <td>0.98</td>\n",
       "      <td>1</td>\n",
       "      <td>0.11</td>\n",
       "      <td>1</td>\n",
       "      <td>1</td>\n",
       "    </tr>\n",
       "    <tr>\n",
       "      <th>5</th>\n",
       "      <td>0.99</td>\n",
       "      <td>0.98</td>\n",
       "      <td>1</td>\n",
       "      <td>1</td>\n",
       "      <td>1.00</td>\n",
       "      <td>1.00</td>\n",
       "      <td>1.00</td>\n",
       "      <td>0.99</td>\n",
       "      <td>1</td>\n",
       "      <td>0.11</td>\n",
       "      <td>1</td>\n",
       "      <td>1</td>\n",
       "    </tr>\n",
       "    <tr>\n",
       "      <th>6</th>\n",
       "      <td>0.99</td>\n",
       "      <td>0.97</td>\n",
       "      <td>1</td>\n",
       "      <td>1</td>\n",
       "      <td>1.00</td>\n",
       "      <td>1.00</td>\n",
       "      <td>1.00</td>\n",
       "      <td>0.99</td>\n",
       "      <td>1</td>\n",
       "      <td>0.11</td>\n",
       "      <td>1</td>\n",
       "      <td>1</td>\n",
       "    </tr>\n",
       "    <tr>\n",
       "      <th>7</th>\n",
       "      <td>0.99</td>\n",
       "      <td>0.97</td>\n",
       "      <td>1</td>\n",
       "      <td>1</td>\n",
       "      <td>1.00</td>\n",
       "      <td>1.00</td>\n",
       "      <td>1.00</td>\n",
       "      <td>0.99</td>\n",
       "      <td>1</td>\n",
       "      <td>0.12</td>\n",
       "      <td>1</td>\n",
       "      <td>1</td>\n",
       "    </tr>\n",
       "    <tr>\n",
       "      <th>8</th>\n",
       "      <td>0.99</td>\n",
       "      <td>0.89</td>\n",
       "      <td>1</td>\n",
       "      <td>1</td>\n",
       "      <td>0.99</td>\n",
       "      <td>0.99</td>\n",
       "      <td>0.99</td>\n",
       "      <td>1.00</td>\n",
       "      <td>1</td>\n",
       "      <td>1.00</td>\n",
       "      <td>1</td>\n",
       "      <td>1</td>\n",
       "    </tr>\n",
       "    <tr>\n",
       "      <th>9</th>\n",
       "      <td>1.00</td>\n",
       "      <td>0.88</td>\n",
       "      <td>1</td>\n",
       "      <td>1</td>\n",
       "      <td>1.00</td>\n",
       "      <td>1.00</td>\n",
       "      <td>1.00</td>\n",
       "      <td>1.00</td>\n",
       "      <td>1</td>\n",
       "      <td>1.00</td>\n",
       "      <td>1</td>\n",
       "      <td>1</td>\n",
       "    </tr>\n",
       "    <tr>\n",
       "      <th>10</th>\n",
       "      <td>1.00</td>\n",
       "      <td>0.87</td>\n",
       "      <td>1</td>\n",
       "      <td>1</td>\n",
       "      <td>1.00</td>\n",
       "      <td>1.00</td>\n",
       "      <td>0.99</td>\n",
       "      <td>1.00</td>\n",
       "      <td>1</td>\n",
       "      <td>1.00</td>\n",
       "      <td>1</td>\n",
       "      <td>1</td>\n",
       "    </tr>\n",
       "    <tr>\n",
       "      <th>11</th>\n",
       "      <td>1.00</td>\n",
       "      <td>0.84</td>\n",
       "      <td>1</td>\n",
       "      <td>1</td>\n",
       "      <td>1.00</td>\n",
       "      <td>1.00</td>\n",
       "      <td>1.00</td>\n",
       "      <td>1.00</td>\n",
       "      <td>1</td>\n",
       "      <td>1.00</td>\n",
       "      <td>1</td>\n",
       "      <td>1</td>\n",
       "    </tr>\n",
       "  </tbody>\n",
       "</table>\n",
       "</div>"
      ],
      "text/plain": [
       "        ALL_TVS  CABL_TVS  EXT_FACT  FIPSCODE  HH_AGE  HH_EDU  HH_OCC  \\\n",
       "yearID                                                                  \n",
       "1          0.40      0.39         0         0    0.00    0.00    0.00   \n",
       "2          0.40      0.39         0         0    0.00    0.00    0.00   \n",
       "3          0.98      0.98         1         1    1.00    1.00    1.00   \n",
       "4          0.98      0.98         1         1    1.00    1.00    1.00   \n",
       "5          0.99      0.98         1         1    1.00    1.00    1.00   \n",
       "6          0.99      0.97         1         1    1.00    1.00    1.00   \n",
       "7          0.99      0.97         1         1    1.00    1.00    1.00   \n",
       "8          0.99      0.89         1         1    0.99    0.99    0.99   \n",
       "9          1.00      0.88         1         1    1.00    1.00    1.00   \n",
       "10         1.00      0.87         1         1    1.00    1.00    0.99   \n",
       "11         1.00      0.84         1         1    1.00    1.00    1.00   \n",
       "\n",
       "        HH_RACE  IRI Geography Number  Language  RACE3  ZIPCODE  \n",
       "yearID                                                           \n",
       "1          1.00                     0      0.00      0        0  \n",
       "2          1.00                     0      0.00      0        0  \n",
       "3          0.98                     1      0.11      1        1  \n",
       "4          0.98                     1      0.11      1        1  \n",
       "5          0.99                     1      0.11      1        1  \n",
       "6          0.99                     1      0.11      1        1  \n",
       "7          0.99                     1      0.12      1        1  \n",
       "8          1.00                     1      1.00      1        1  \n",
       "9          1.00                     1      1.00      1        1  \n",
       "10         1.00                     1      1.00      1        1  \n",
       "11         1.00                     1      1.00      1        1  "
      ]
     },
     "execution_count": 181,
     "metadata": {},
     "output_type": "execute_result"
    }
   ],
   "source": [
    "# find out how much of the data is missing by year\n",
    "missing_counts.apply(lambda x: x.divide(year_counts)).round(2)"
   ]
  },
  {
   "cell_type": "code",
   "execution_count": 182,
   "metadata": {
    "collapsed": false
   },
   "outputs": [
    {
     "data": {
      "text/plain": [
       "Index([u'ALL_TVS', u'Age Group Applied to Female HH',\n",
       "       u'Age Group Applied to Male HH', u'CABL_TVS', u'Children Group Code',\n",
       "       u'Combined Pre-Tax Income of HH',\n",
       "       u'Education Level Reached by Female HH',\n",
       "       u'Education Level Reached by Male HH', u'Family Size',\n",
       "       u'Female Working Hour Code', u'Male Working Hour Code',\n",
       "       u'Marital Status', u'Number of Cats', u'Number of Dogs', u'Panelist ID',\n",
       "       u'RACE3', u'Type of Residential Possession'],\n",
       "      dtype='object')"
      ]
     },
     "execution_count": 182,
     "metadata": {},
     "output_type": "execute_result"
    }
   ],
   "source": [
    "# drop uninteresting columns, exclude year 1 and 2 due to missing demo, drop rows with NaN\n",
    "drop_columns = ['ZIPCODE',\n",
    "                'FIPSCODE',\n",
    "                'COUNTY',\n",
    "                'IRI Geography Number', \n",
    "                'Language',\n",
    "                'EXT_FACT',\n",
    "                'Occupation Code of Male HH',\n",
    "                'Occupation Code of Female HH',\n",
    "                'HH_OCC',\n",
    "                'HH_EDU',\n",
    "                'HH_RACE',\n",
    "                'HH_AGE',\n",
    "                'yearID',\n",
    "                'filename',\n",
    "                'Year']\n",
    "\n",
    "demo = demo[demo.yearID >2].dropna().drop(drop_columns, axis='columns', errors='ignore')\n",
    "\n",
    "demo.columns"
   ]
  },
  {
   "cell_type": "code",
   "execution_count": 183,
   "metadata": {
    "collapsed": false
   },
   "outputs": [
    {
     "name": "stdout",
     "output_type": "stream",
     "text": [
      "<class 'pandas.core.frame.DataFrame'>\n",
      "Int64Index: 18857 entries, 23 to 4606\n",
      "Data columns (total 17 columns):\n",
      "ALL_TVS                                 18857 non-null float64\n",
      "Age Group Applied to Female HH          18857 non-null int64\n",
      "Age Group Applied to Male HH            18857 non-null int64\n",
      "CABL_TVS                                18857 non-null float64\n",
      "Children Group Code                     18857 non-null int64\n",
      "Combined Pre-Tax Income of HH           18857 non-null float64\n",
      "Education Level Reached by Female HH    18857 non-null int64\n",
      "Education Level Reached by Male HH      18857 non-null int64\n",
      "Family Size                             18857 non-null int64\n",
      "Female Working Hour Code                18857 non-null int64\n",
      "Male Working Hour Code                  18857 non-null int64\n",
      "Marital Status                          18857 non-null int64\n",
      "Number of Cats                          18857 non-null int64\n",
      "Number of Dogs                          18857 non-null int64\n",
      "Panelist ID                             18857 non-null int64\n",
      "RACE3                                   18857 non-null float64\n",
      "Type of Residential Possession          18857 non-null int64\n",
      "dtypes: float64(4), int64(13)\n",
      "memory usage: 2.6 MB\n"
     ]
    }
   ],
   "source": [
    "cleaned = demo.copy()\n",
    "cleaned.info()"
   ]
  },
  {
   "cell_type": "code",
   "execution_count": 184,
   "metadata": {
    "collapsed": false
   },
   "outputs": [],
   "source": [
    "# mappings for standardized nominal data\n",
    "age_dict = {0: 'N/A', \n",
    "                  1: '18-24',\n",
    "                  2: '25-34',\n",
    "                  3: '35-44',\n",
    "                  4: '45-54',\n",
    "                  5: '55-64',\n",
    "                  6: '65 +',\n",
    "                  7: 'No such person'}\n",
    "\n",
    "edu_dict = {0: 'N/A', \n",
    "            1: 'Some grade school or less',\n",
    "            2: 'Completed grade school',\n",
    "            3: 'Some high school',\n",
    "            4: 'Graduated high school',\n",
    "            5: 'Technical school',\n",
    "            6: 'Some college',\n",
    "            7: 'Graduated from college',\n",
    "            8: 'Post graduate work',\n",
    "            9: 'No such head of household'}\n",
    "\n",
    "pre_tax_income_dict = {0: 'N/A',\n",
    "                  1: '$00,000 to $ 9,999 per yr',\n",
    "                  2: '$10,000 to $11,999 per yr',\n",
    "                  3: '$12,000 to $14,999 per yr',\n",
    "                  4: '$15,000 to $19,999 per yr',\n",
    "                  5: '$20,000 to $24,999 per yr',\n",
    "                  6: '$25,000 to $34,999 per yr',\n",
    "                  7: '$35,000 to $44,999 per yr',\n",
    "                  8: '$45,000 to $54,999 per yr',\n",
    "                  9: '$55,000 to $64,999 per yr',\n",
    "                  10: '$65,000 to $74,999 per yr', \n",
    "                  11: '$75,000 to $99,999 per yr', \n",
    "                  12: '$100,000 and greater per year'}\n",
    "\n",
    "working_hour_dict = {0: 'N/A', \n",
    "                     1: 'Not employed',\n",
    "                     2: 'Part time, < 35 hrs./wk.',\n",
    "                     3: 'Full time, > 35 hrs./wk.',\n",
    "                     4: 'Retired',\n",
    "                     5: 'Homemaker',\n",
    "                     6: 'Some college',\n",
    "                     7: 'N/A'}\n",
    "\n",
    "marital_status_dict = {0: 'N/A',\n",
    "                       1: 'Single',\n",
    "                       2: 'Married',\n",
    "                       3: 'Divorced',\n",
    "                       4: 'Widowed',\n",
    "                       5: 'Separated'}\n",
    "\n",
    "child_group_dict = {0: 'N/A',\n",
    "                    1: 'Child in [0-5)',\n",
    "                    2: 'Child in [6-11)',\n",
    "                    3: 'Child in [12-17)',\n",
    "                    4: 'Children in [0-5) & [6-11)',\n",
    "                    5: 'Children in [0-5) & [12-17)', \n",
    "                    6: 'Children in [6-11) & [1217)',\n",
    "                    7: 'Children in [0-5),[6-11) & [12-17)',\n",
    "                    8: 'Family size>0 yet no children'}\n",
    "\n",
    "residental_possession_dict = {0: 'N/A',\n",
    "                              1: 'Renter',\n",
    "                              2: 'Owner'}\n",
    "\n",
    "race_dict = {0: 'N/A',\n",
    "             1: 'White',\n",
    "             2: 'Black-African American',\n",
    "             3: 'Hispanic',\n",
    "             4: 'Asian',\n",
    "             5: 'Other',\n",
    "             6: 'American Indian-Alaska Native',\n",
    "             7: 'Native Hawaiian-Pacific Islands'}\n",
    "\n"
   ]
  },
  {
   "cell_type": "code",
   "execution_count": 185,
   "metadata": {
    "collapsed": true
   },
   "outputs": [],
   "source": [
    "def getValue(dictionary,key):\n",
    "    # function to deal with nans and unidenified dictionary keys\n",
    "    try:\n",
    "        value = dictionary[key]\n",
    "    except: \n",
    "        value = dictionary[0]\n",
    "    return value"
   ]
  },
  {
   "cell_type": "code",
   "execution_count": 186,
   "metadata": {
    "collapsed": false
   },
   "outputs": [],
   "source": [
    "# apply mappings to standardized nominal data\n",
    "cleaned['Age Group Applied to Female HH']= cleaned['Age Group Applied to Female HH'].apply(lambda x: age_dict[x] )\n",
    "cleaned['Age Group Applied to Male HH']= cleaned['Age Group Applied to Male HH'].apply(lambda x: age_dict[x] )\n",
    "cleaned['Education Level Reached by Female HH']= cleaned['Education Level Reached by Female HH'].apply(lambda x: getValue(edu_dict,x))\n",
    "cleaned['Education Level Reached by Male HH']= cleaned['Education Level Reached by Male HH'].apply(lambda x: getValue(edu_dict,x))\n",
    "cleaned['Combined Pre-Tax Income of HH']= cleaned['Combined Pre-Tax Income of HH'].apply(lambda x: getValue(pre_tax_income_dict,x))\n",
    "cleaned['Male Working Hour Code']= cleaned['Male Working Hour Code'].apply(lambda x: getValue(working_hour_dict,x))\n",
    "cleaned['Female Working Hour Code']= cleaned['Female Working Hour Code'].apply(lambda x: getValue(working_hour_dict,x))\n",
    "cleaned['Marital Status']= cleaned['Marital Status'].apply(lambda x: getValue(marital_status_dict,x))\n",
    "cleaned['Children Group Code']= cleaned['Children Group Code'].apply(lambda x: getValue(child_group_dict,x))\n",
    "cleaned['Type of Residential Possession']= cleaned['Type of Residential Possession'].apply(lambda x: getValue(residental_possession_dict,x))\n",
    "cleaned['RACE3'] = cleaned['RACE3'].apply(lambda x: getValue(race_dict,x))\n"
   ]
  },
  {
   "cell_type": "code",
   "execution_count": 187,
   "metadata": {
    "collapsed": false
   },
   "outputs": [],
   "source": [
    "classify = pd.merge(cleaned, panel_map, how='inner', left_on='Panelist ID', right_on='PANID').drop('Panelist ID',axis='columns')"
   ]
  },
  {
   "cell_type": "code",
   "execution_count": 188,
   "metadata": {
    "collapsed": false
   },
   "outputs": [
    {
     "data": {
      "text/plain": [
       "(18405, 18)"
      ]
     },
     "execution_count": 188,
     "metadata": {},
     "output_type": "execute_result"
    }
   ],
   "source": [
    "classify.shape"
   ]
  },
  {
   "cell_type": "code",
   "execution_count": 189,
   "metadata": {
    "collapsed": false
   },
   "outputs": [
    {
     "data": {
      "text/plain": [
       "Yogurt\n",
       "0     1597\n",
       "1    16808\n",
       "Name: PANID, dtype: int64"
      ]
     },
     "execution_count": 189,
     "metadata": {},
     "output_type": "execute_result"
    }
   ],
   "source": [
    "classify.groupby('Yogurt').PANID.count()"
   ]
  },
  {
   "cell_type": "code",
   "execution_count": 190,
   "metadata": {
    "collapsed": false
   },
   "outputs": [
    {
     "data": {
      "text/plain": [
       "Yogurt\n",
       "0    1597\n",
       "1    1597\n",
       "Name: PANID, dtype: int64"
      ]
     },
     "execution_count": 190,
     "metadata": {},
     "output_type": "execute_result"
    }
   ],
   "source": [
    "sample_T = classify[classify['Yogurt']==1].sample(n=len(classify[classify['Yogurt']==0]), random_state=314)\n",
    "\n",
    "balanced = pd.concat([sample_T,classify[classify['Yogurt']==0]])\n",
    "\n",
    "balanced.groupby('Yogurt').PANID.count()"
   ]
  },
  {
   "cell_type": "code",
   "execution_count": 191,
   "metadata": {
    "collapsed": false
   },
   "outputs": [
    {
     "data": {
      "text/plain": [
       "Index([u'ALL_TVS', u'Age Group Applied to Female HH',\n",
       "       u'Age Group Applied to Male HH', u'CABL_TVS', u'Children Group Code',\n",
       "       u'Combined Pre-Tax Income of HH',\n",
       "       u'Education Level Reached by Female HH',\n",
       "       u'Education Level Reached by Male HH', u'Family Size',\n",
       "       u'Female Working Hour Code', u'Male Working Hour Code',\n",
       "       u'Marital Status', u'Number of Cats', u'Number of Dogs', u'RACE3',\n",
       "       u'Type of Residential Possession', u'PANID', u'Yogurt'],\n",
       "      dtype='object')"
      ]
     },
     "execution_count": 191,
     "metadata": {},
     "output_type": "execute_result"
    }
   ],
   "source": [
    "balanced.columns"
   ]
  },
  {
   "cell_type": "code",
   "execution_count": 192,
   "metadata": {
    "collapsed": false
   },
   "outputs": [
    {
     "data": {
      "text/plain": [
       "ALL_TVS                                 float64\n",
       "Age Group Applied to Female HH           object\n",
       "Age Group Applied to Male HH             object\n",
       "CABL_TVS                                float64\n",
       "Children Group Code                      object\n",
       "Combined Pre-Tax Income of HH            object\n",
       "Education Level Reached by Female HH     object\n",
       "Education Level Reached by Male HH       object\n",
       "Family Size                               int64\n",
       "Female Working Hour Code                 object\n",
       "Male Working Hour Code                   object\n",
       "Marital Status                           object\n",
       "Number of Cats                            int64\n",
       "Number of Dogs                            int64\n",
       "RACE3                                    object\n",
       "Type of Residential Possession           object\n",
       "PANID                                     int64\n",
       "Yogurt                                    int64\n",
       "dtype: object"
      ]
     },
     "execution_count": 192,
     "metadata": {},
     "output_type": "execute_result"
    }
   ],
   "source": [
    "balanced.dtypes"
   ]
  },
  {
   "cell_type": "code",
   "execution_count": 193,
   "metadata": {
    "collapsed": false
   },
   "outputs": [
    {
     "data": {
      "text/plain": [
       "Index([u'ALL_TVS', u'CABL_TVS', u'Family Size', u'Number of Cats',\n",
       "       u'Number of Dogs', u'Age Group Applied to Female HH_18-24',\n",
       "       u'Age Group Applied to Female HH_25-34',\n",
       "       u'Age Group Applied to Female HH_35-44',\n",
       "       u'Age Group Applied to Female HH_45-54',\n",
       "       u'Age Group Applied to Female HH_55-64',\n",
       "       u'Age Group Applied to Female HH_65 +',\n",
       "       u'Age Group Applied to Female HH_No such person',\n",
       "       u'Age Group Applied to Male HH_18-24',\n",
       "       u'Age Group Applied to Male HH_25-34',\n",
       "       u'Age Group Applied to Male HH_35-44',\n",
       "       u'Age Group Applied to Male HH_45-54',\n",
       "       u'Age Group Applied to Male HH_55-64',\n",
       "       u'Age Group Applied to Male HH_65 +',\n",
       "       u'Age Group Applied to Male HH_N/A',\n",
       "       u'Age Group Applied to Male HH_No such person',\n",
       "       u'Children Group Code_Child in [0-5)',\n",
       "       u'Children Group Code_Child in [12-17)',\n",
       "       u'Children Group Code_Child in [6-11)',\n",
       "       u'Children Group Code_Children in [0-5) & [12-17)',\n",
       "       u'Children Group Code_Children in [0-5) & [6-11)',\n",
       "       u'Children Group Code_Children in [0-5),[6-11) & [12-17)',\n",
       "       u'Children Group Code_Children in [6-11) & [1217)',\n",
       "       u'Children Group Code_Family size>0 yet no children',\n",
       "       u'Combined Pre-Tax Income of HH_$00,000 to $ 9,999 per yr',\n",
       "       u'Combined Pre-Tax Income of HH_$10,000 to $11,999 per yr',\n",
       "       u'Combined Pre-Tax Income of HH_$100,000 and greater per year',\n",
       "       u'Combined Pre-Tax Income of HH_$12,000 to $14,999 per yr',\n",
       "       u'Combined Pre-Tax Income of HH_$15,000 to $19,999 per yr',\n",
       "       u'Combined Pre-Tax Income of HH_$20,000 to $24,999 per yr',\n",
       "       u'Combined Pre-Tax Income of HH_$25,000 to $34,999 per yr',\n",
       "       u'Combined Pre-Tax Income of HH_$35,000 to $44,999 per yr',\n",
       "       u'Combined Pre-Tax Income of HH_$45,000 to $54,999 per yr',\n",
       "       u'Combined Pre-Tax Income of HH_$55,000 to $64,999 per yr',\n",
       "       u'Combined Pre-Tax Income of HH_$65,000 to $74,999 per yr',\n",
       "       u'Combined Pre-Tax Income of HH_$75,000 to $99,999 per yr',\n",
       "       u'Combined Pre-Tax Income of HH_N/A',\n",
       "       u'Education Level Reached by Female HH_Completed grade school',\n",
       "       u'Education Level Reached by Female HH_Graduated from college',\n",
       "       u'Education Level Reached by Female HH_Graduated high school',\n",
       "       u'Education Level Reached by Female HH_N/A',\n",
       "       u'Education Level Reached by Female HH_No such head of household',\n",
       "       u'Education Level Reached by Female HH_Post graduate work',\n",
       "       u'Education Level Reached by Female HH_Some college',\n",
       "       u'Education Level Reached by Female HH_Some grade school or less',\n",
       "       u'Education Level Reached by Female HH_Some high school',\n",
       "       u'Education Level Reached by Female HH_Technical school',\n",
       "       u'Education Level Reached by Male HH_Completed grade school',\n",
       "       u'Education Level Reached by Male HH_Graduated from college',\n",
       "       u'Education Level Reached by Male HH_Graduated high school',\n",
       "       u'Education Level Reached by Male HH_N/A',\n",
       "       u'Education Level Reached by Male HH_No such head of household',\n",
       "       u'Education Level Reached by Male HH_Post graduate work',\n",
       "       u'Education Level Reached by Male HH_Some college',\n",
       "       u'Education Level Reached by Male HH_Some grade school or less',\n",
       "       u'Education Level Reached by Male HH_Some high school',\n",
       "       u'Education Level Reached by Male HH_Technical school',\n",
       "       u'Female Working Hour Code_Full time, > 35 hrs./wk.',\n",
       "       u'Female Working Hour Code_Homemaker', u'Female Working Hour Code_N/A',\n",
       "       u'Female Working Hour Code_Not employed',\n",
       "       u'Female Working Hour Code_Part time, < 35 hrs./wk.',\n",
       "       u'Female Working Hour Code_Retired',\n",
       "       u'Female Working Hour Code_Some college',\n",
       "       u'Male Working Hour Code_Full time, > 35 hrs./wk.',\n",
       "       u'Male Working Hour Code_Homemaker', u'Male Working Hour Code_N/A',\n",
       "       u'Male Working Hour Code_Not employed',\n",
       "       u'Male Working Hour Code_Part time, < 35 hrs./wk.',\n",
       "       u'Male Working Hour Code_Retired', u'Marital Status_Divorced',\n",
       "       u'Marital Status_Married', u'Marital Status_N/A',\n",
       "       u'Marital Status_Separated', u'Marital Status_Single',\n",
       "       u'Marital Status_Widowed', u'RACE3_American Indian-Alaska Native',\n",
       "       u'RACE3_Asian', u'RACE3_Black-African American', u'RACE3_Hispanic',\n",
       "       u'RACE3_N/A', u'RACE3_Other', u'RACE3_White',\n",
       "       u'Type of Residential Possession_N/A',\n",
       "       u'Type of Residential Possession_Owner',\n",
       "       u'Type of Residential Possession_Renter'],\n",
       "      dtype='object')"
      ]
     },
     "execution_count": 193,
     "metadata": {},
     "output_type": "execute_result"
    }
   ],
   "source": [
    "# binarize nominal data\n",
    "binarized_X = pd.get_dummies(balanced[[c for c in balanced.columns.tolist() if c not in ['PANID', 'Yogurt']]])\n",
    "binarized_y = balanced[['Yogurt']]\n",
    "binarized_X.columns"
   ]
  },
  {
   "cell_type": "markdown",
   "metadata": {},
   "source": [
    "## Random Forest"
   ]
  },
  {
   "cell_type": "code",
   "execution_count": 286,
   "metadata": {
    "collapsed": false
   },
   "outputs": [],
   "source": [
    "rfc = RandomForestClassifier(n_jobs=-1)\n",
    "y = binarized_y\n",
    "X = binarized_X\n",
    "X_train, X_, y_train, y_ = train_test_split(X, y,stratify=y, test_size=0.50, random_state=None)\n",
    "X_test, X_validate, y_test, y_validate = train_test_split(X_, y_,stratify=y_, test_size=0.50, random_state=314)"
   ]
  },
  {
   "cell_type": "code",
   "execution_count": 287,
   "metadata": {
    "collapsed": false
   },
   "outputs": [
    {
     "data": {
      "text/html": [
       "<div>\n",
       "<table border=\"1\" class=\"dataframe\">\n",
       "  <thead>\n",
       "    <tr style=\"text-align: right;\">\n",
       "      <th></th>\n",
       "      <th>Yogurt</th>\n",
       "    </tr>\n",
       "  </thead>\n",
       "  <tbody>\n",
       "    <tr>\n",
       "      <th>count</th>\n",
       "      <td>798.000000</td>\n",
       "    </tr>\n",
       "    <tr>\n",
       "      <th>mean</th>\n",
       "      <td>0.500000</td>\n",
       "    </tr>\n",
       "    <tr>\n",
       "      <th>std</th>\n",
       "      <td>0.500314</td>\n",
       "    </tr>\n",
       "    <tr>\n",
       "      <th>min</th>\n",
       "      <td>0.000000</td>\n",
       "    </tr>\n",
       "    <tr>\n",
       "      <th>25%</th>\n",
       "      <td>0.000000</td>\n",
       "    </tr>\n",
       "    <tr>\n",
       "      <th>50%</th>\n",
       "      <td>0.500000</td>\n",
       "    </tr>\n",
       "    <tr>\n",
       "      <th>75%</th>\n",
       "      <td>1.000000</td>\n",
       "    </tr>\n",
       "    <tr>\n",
       "      <th>max</th>\n",
       "      <td>1.000000</td>\n",
       "    </tr>\n",
       "  </tbody>\n",
       "</table>\n",
       "</div>"
      ],
      "text/plain": [
       "           Yogurt\n",
       "count  798.000000\n",
       "mean     0.500000\n",
       "std      0.500314\n",
       "min      0.000000\n",
       "25%      0.000000\n",
       "50%      0.500000\n",
       "75%      1.000000\n",
       "max      1.000000"
      ]
     },
     "execution_count": 287,
     "metadata": {},
     "output_type": "execute_result"
    }
   ],
   "source": [
    "y_test.describe()"
   ]
  },
  {
   "cell_type": "code",
   "execution_count": 288,
   "metadata": {
    "collapsed": false
   },
   "outputs": [
    {
     "name": "stdout",
     "output_type": "stream",
     "text": [
      "0.734335839599\n"
     ]
    }
   ],
   "source": [
    "rfc.fit(X_train, y_train)\n",
    "score = rfc.score(X_test,y_test)\n",
    "print score"
   ]
  },
  {
   "cell_type": "code",
   "execution_count": 283,
   "metadata": {
    "collapsed": false
   },
   "outputs": [
    {
     "name": "stdout",
     "output_type": "stream",
     "text": [
      "{'max_features': 'auto', 'n_estimators': 210, 'criterion': 'gini'}\n"
     ]
    }
   ],
   "source": [
    "# rfc = RandomForestClassifier(n_jobs=-1,max_features= 'sqrt' ,n_estimators=50, oob_score = True) \n",
    "\n",
    "param_grid = { \n",
    "    'n_estimators': range(10, 500, 100),\n",
    "    'max_features': ['auto', 'sqrt', 'log2'],\n",
    "    'criterion': ['gini', 'entropy']\n",
    "}\n",
    "\n",
    "CV_rfc = GridSearchCV(estimator=rfc, param_grid=param_grid, cv= 5, n_jobs=-1)\n",
    "CV_rfc.fit(X_validate, y_validate['Yogurt'].as_matrix())\n",
    "print CV_rfc.best_params_"
   ]
  },
  {
   "cell_type": "code",
   "execution_count": 290,
   "metadata": {
    "collapsed": false
   },
   "outputs": [
    {
     "name": "stdout",
     "output_type": "stream",
     "text": [
      "0.75313283208\n"
     ]
    }
   ],
   "source": [
    "CV_rfc.best_estimator_.fit(X_train,y_train)\n",
    "best_score = CV_rfc.best_estimator_.score(X_test,y_test)\n",
    "print best_score"
   ]
  },
  {
   "cell_type": "code",
   "execution_count": 291,
   "metadata": {
    "collapsed": false
   },
   "outputs": [
    {
     "data": {
      "text/plain": [
       "[('ALL_TVS', 0.057266909496007205),\n",
       " ('CABL_TVS', 0.05364124104430728),\n",
       " ('Family Size', 0.04462171105259242),\n",
       " ('Number of Dogs', 0.028103212437407103),\n",
       " ('Number of Cats', 0.02765960246692521),\n",
       " ('Combined Pre-Tax Income of HH_$25,000 to $34,999 per yr',\n",
       "  0.026717754686462737),\n",
       " ('Education Level Reached by Female HH_Some high school',\n",
       "  0.026181756998910476),\n",
       " ('Education Level Reached by Female HH_Graduated high school',\n",
       "  0.02545415055017671),\n",
       " ('Combined Pre-Tax Income of HH_$55,000 to $64,999 per yr',\n",
       "  0.02121184139959722),\n",
       " ('Age Group Applied to Female HH_65 +', 0.020261691254809176),\n",
       " ('Combined Pre-Tax Income of HH_$35,000 to $44,999 per yr',\n",
       "  0.01989990221268738),\n",
       " ('Female Working Hour Code_Full time, > 35 hrs./wk.', 0.019672635578323668),\n",
       " ('Education Level Reached by Female HH_Technical school',\n",
       "  0.019436590608864088),\n",
       " ('Education Level Reached by Male HH_Graduated high school',\n",
       "  0.019214332476458883),\n",
       " ('Combined Pre-Tax Income of HH_$20,000 to $24,999 per yr',\n",
       "  0.018651100542961273),\n",
       " ('Female Working Hour Code_Not employed', 0.01863362722624224),\n",
       " ('Male Working Hour Code_Part time, < 35 hrs./wk.', 0.018549213122606528),\n",
       " ('Type of Residential Possession_Owner', 0.018534346574399636),\n",
       " ('Type of Residential Possession_Renter', 0.018398409305321033),\n",
       " ('Education Level Reached by Male HH_Some high school', 0.018005895684901674)]"
      ]
     },
     "execution_count": 291,
     "metadata": {},
     "output_type": "execute_result"
    }
   ],
   "source": [
    "features = sorted(zip(X_test.columns.tolist(), CV_rfc.best_estimator_.feature_importances_.tolist()),key=lambda x:-x[1])\n",
    "features[:20]"
   ]
  },
  {
   "cell_type": "code",
   "execution_count": 292,
   "metadata": {
    "collapsed": false
   },
   "outputs": [
    {
     "data": {
      "image/png": "[encoded data removed]",
      "text/plain": [
       "<matplotlib.figure.Figure at 0x7f628dd6f710>"
      ]
     },
     "metadata": {},
     "output_type": "display_data"
    }
   ],
   "source": [
    "px, py = zip(*features)\n",
    "\n",
    "fig = plt.figure(figsize=(20,10))\n",
    "ax = fig.add_subplot(111)\n",
    "ax.plot(range(len(px)), np.cumsum(py));"
   ]
  },
  {
   "cell_type": "code",
   "execution_count": 296,
   "metadata": {
    "collapsed": false
   },
   "outputs": [
    {
     "name": "stdout",
     "output_type": "stream",
     "text": [
      "[ 0.6375      0.58125     0.63125     0.58125     0.55        0.534375\n",
      "  0.58125     0.54402516  0.56603774  0.54716981]\n"
     ]
    },
    {
     "data": {
      "image/png": "[encoded data removed]",
      "text/plain": [
       "<matplotlib.figure.Figure at 0x7f62a3f4e790>"
      ]
     },
     "metadata": {},
     "output_type": "display_data"
    }
   ],
   "source": [
    "cv = StratifiedKFold(binarized_y['Yogurt'].as_matrix(),n_folds=10)\n",
    "scores = cross_val_score(CV_rfc.best_estimator_, binarized_X, y=binarized_y, cv=cv, n_jobs=-1)\n",
    "print scores\n",
    "\n",
    "fig = plt.figure(figsize=(20,10))\n",
    "ax = fig.add_subplot(111)\n",
    "ax.plot( range(len(scores)), scores);"
   ]
  },
  {
   "cell_type": "code",
   "execution_count": 297,
   "metadata": {
    "collapsed": false
   },
   "outputs": [
    {
     "name": "stdout",
     "output_type": "stream",
     "text": [
      "Accuracy: 0.58 (+/- 0.07)\n"
     ]
    }
   ],
   "source": [
    "print(\"Accuracy: %0.2f (+/- %0.2f)\" % (scores.mean(), scores.std() * 2))\n"
   ]
  },
  {
   "cell_type": "code",
   "execution_count": 299,
   "metadata": {
    "collapsed": false
   },
   "outputs": [
    {
     "data": {
      "text/plain": [
       "False"
      ]
     },
     "execution_count": 299,
     "metadata": {},
     "output_type": "execute_result"
    }
   ],
   "source": [
    "rfc.oob_score"
   ]
  },
  {
   "cell_type": "code",
   "execution_count": null,
   "metadata": {
    "collapsed": true
   },
   "outputs": [],
   "source": []
  }
 ],
 "metadata": {
  "kernelspec": {
   "display_name": "Python 2",
   "language": "python",
   "name": "python2"
  },
  "language_info": {
   "codemirror_mode": {
    "name": "ipython",
    "version": 2
   },
   "file_extension": ".py",
   "mimetype": "text/x-python",
   "name": "python",
   "nbconvert_exporter": "python",
   "pygments_lexer": "ipython2",
   "version": "2.7.11"
  }
 },
 "nbformat": 4,
 "nbformat_minor": 0
}
